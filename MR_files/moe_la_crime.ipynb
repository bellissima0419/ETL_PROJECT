{
 "cells": [
  {
   "cell_type": "markdown",
   "metadata": {},
   "source": [
    "## ETL PROCESS REPORT\n",
    "--------------------------------------------\n",
    "### Source Data:\n",
    "\n",
    "[data.gov](https://catalog.data.gov/dataset/crime-data-from-2010-to-present)\n",
    "\n",
    "[yelp developers](https://www.yelp.com/developers/documentation/v3)\n",
    "\n",
    "--------------------------------------------\n",
    "\n",
    "### E: PULLING additional DATA from  YELP'S API and data.gov(census):\n",
    "\n",
    "* Step 1: Get an API KEY  from yelp\n",
    "* Investigate what kind of data to retrieve. In our case: General business profiles in the City of LA California\n",
    "* The API returns only 50 results max per call\n",
    "* Perform a test pull to look at the result and it's json structure to design the data frame\n",
    "\n",
    "### T: PREPROCESSING THE JSON RESPONSE FROM THE API's:\n",
    "--------------------------------------------\n",
    "\n",
    "* Declare/Initialize the variables/columns that will hold the downloaded data\n",
    "* We build a dataset of 1000 resutls by making multiple calls dynamically and saving data into a dataframe on the fly\n",
    "* Data processing consisted in extracting data from the json response and formatting it to create tabular data for the df\n",
    "* The Transforming process included string manipulation regex and python scripting.\n",
    "\n",
    "### L: LOADING TO SQL AND MONGODB:\n",
    "--------------------------------------------\n",
    "* This was the most straightforward step accomplished with no issues\n",
    "* We simplify this proces by using sqlite instead of mysql or postgress\n",
    "* We also saved csv files of the data before we loaded it into the database systems.\n"
   ]
  },
  {
   "cell_type": "code",
   "execution_count": 2,
   "metadata": {},
   "outputs": [],
   "source": [
    "import pandas as pd\n",
    "import numpy as np\n",
    "import re\n",
    "\n",
    "import diffs_latlong\n",
    "from diffs_latlong import computeNearestZip\n",
    "import time\n",
    "import matplotlib.pyplot as plt\n",
    "csv_file = \"Resources/Crime_Data_from_2010_to_Present.csv\"\n"
   ]
  },
  {
   "cell_type": "markdown",
   "metadata": {},
   "source": [
    "### Dataset for this Notebook:\n",
    "[LA CRIME SOURCE DATA](https://catalog.data.gov/dataset/crime-data-from-2010-to-present)\n"
   ]
  },
  {
   "cell_type": "code",
   "execution_count": 3,
   "metadata": {},
   "outputs": [],
   "source": [
    "crime_df = pd.read_csv(csv_file)"
   ]
  },
  {
   "cell_type": "code",
   "execution_count": 7,
   "metadata": {},
   "outputs": [
    {
     "data": {
      "text/html": [
       "<div>\n",
       "<style scoped>\n",
       "    .dataframe tbody tr th:only-of-type {\n",
       "        vertical-align: middle;\n",
       "    }\n",
       "\n",
       "    .dataframe tbody tr th {\n",
       "        vertical-align: top;\n",
       "    }\n",
       "\n",
       "    .dataframe thead th {\n",
       "        text-align: right;\n",
       "    }\n",
       "</style>\n",
       "<table border=\"1\" class=\"dataframe\">\n",
       "  <thead>\n",
       "    <tr style=\"text-align: right;\">\n",
       "      <th></th>\n",
       "      <th>DR Number</th>\n",
       "      <th>Date Reported</th>\n",
       "      <th>Date Occurred</th>\n",
       "      <th>Time Occurred</th>\n",
       "      <th>Area ID</th>\n",
       "      <th>Area Name</th>\n",
       "      <th>Reporting District</th>\n",
       "      <th>Crime Code</th>\n",
       "      <th>Crime Code Description</th>\n",
       "      <th>MO Codes</th>\n",
       "      <th>...</th>\n",
       "      <th>Weapon Description</th>\n",
       "      <th>Status Code</th>\n",
       "      <th>Status Description</th>\n",
       "      <th>Crime Code 1</th>\n",
       "      <th>Crime Code 2</th>\n",
       "      <th>Crime Code 3</th>\n",
       "      <th>Crime Code 4</th>\n",
       "      <th>Address</th>\n",
       "      <th>Cross Street</th>\n",
       "      <th>Location</th>\n",
       "    </tr>\n",
       "  </thead>\n",
       "  <tbody>\n",
       "    <tr>\n",
       "      <th>1967974</th>\n",
       "      <td>191005089</td>\n",
       "      <td>01/26/2019</td>\n",
       "      <td>01/01/2010</td>\n",
       "      <td>1000</td>\n",
       "      <td>10</td>\n",
       "      <td>West Valley</td>\n",
       "      <td>1029</td>\n",
       "      <td>354</td>\n",
       "      <td>THEFT OF IDENTITY</td>\n",
       "      <td>1822 0377</td>\n",
       "      <td>...</td>\n",
       "      <td>NaN</td>\n",
       "      <td>IC</td>\n",
       "      <td>Invest Cont</td>\n",
       "      <td>354.0</td>\n",
       "      <td>NaN</td>\n",
       "      <td>NaN</td>\n",
       "      <td>NaN</td>\n",
       "      <td>7000    WOODLEY                      AV</td>\n",
       "      <td>NaN</td>\n",
       "      <td>(34.1976, -118.4837)</td>\n",
       "    </tr>\n",
       "    <tr>\n",
       "      <th>1967975</th>\n",
       "      <td>191505220</td>\n",
       "      <td>01/24/2019</td>\n",
       "      <td>01/05/2010</td>\n",
       "      <td>700</td>\n",
       "      <td>15</td>\n",
       "      <td>N Hollywood</td>\n",
       "      <td>1555</td>\n",
       "      <td>341</td>\n",
       "      <td>THEFT-GRAND ($950.01 &amp; OVER)EXCPT,GUNS,FOWL,LI...</td>\n",
       "      <td>1202 0701</td>\n",
       "      <td>...</td>\n",
       "      <td>NaN</td>\n",
       "      <td>IC</td>\n",
       "      <td>Invest Cont</td>\n",
       "      <td>341.0</td>\n",
       "      <td>NaN</td>\n",
       "      <td>NaN</td>\n",
       "      <td>NaN</td>\n",
       "      <td>5000    LANKERSHIM                   BL</td>\n",
       "      <td>NaN</td>\n",
       "      <td>(34.1611, -118.3723)</td>\n",
       "    </tr>\n",
       "  </tbody>\n",
       "</table>\n",
       "<p>2 rows × 26 columns</p>\n",
       "</div>"
      ],
      "text/plain": [
       "         DR Number Date Reported Date Occurred  Time Occurred  Area ID  \\\n",
       "1967974  191005089    01/26/2019    01/01/2010           1000       10   \n",
       "1967975  191505220    01/24/2019    01/05/2010            700       15   \n",
       "\n",
       "           Area Name  Reporting District  Crime Code  \\\n",
       "1967974  West Valley                1029         354   \n",
       "1967975  N Hollywood                1555         341   \n",
       "\n",
       "                                    Crime Code Description   MO Codes  ...  \\\n",
       "1967974                                  THEFT OF IDENTITY  1822 0377  ...   \n",
       "1967975  THEFT-GRAND ($950.01 & OVER)EXCPT,GUNS,FOWL,LI...  1202 0701  ...   \n",
       "\n",
       "         Weapon Description Status Code Status Description  Crime Code 1  \\\n",
       "1967974                 NaN          IC        Invest Cont         354.0   \n",
       "1967975                 NaN          IC        Invest Cont         341.0   \n",
       "\n",
       "        Crime Code 2  Crime Code 3 Crime Code 4  \\\n",
       "1967974          NaN           NaN          NaN   \n",
       "1967975          NaN           NaN          NaN   \n",
       "\n",
       "                                         Address Cross Street  \\\n",
       "1967974  7000    WOODLEY                      AV          NaN   \n",
       "1967975  5000    LANKERSHIM                   BL          NaN   \n",
       "\n",
       "                    Location   \n",
       "1967974  (34.1976, -118.4837)  \n",
       "1967975  (34.1611, -118.3723)  \n",
       "\n",
       "[2 rows x 26 columns]"
      ]
     },
     "execution_count": 7,
     "metadata": {},
     "output_type": "execute_result"
    }
   ],
   "source": [
    "crime_df.tail(2)"
   ]
  },
  {
   "cell_type": "code",
   "execution_count": 8,
   "metadata": {},
   "outputs": [
    {
     "data": {
      "text/plain": [
       "Index(['DR Number', 'Date Reported', 'Date Occurred', 'Time Occurred',\n",
       "       'Area ID', 'Area Name', 'Reporting District', 'Crime Code',\n",
       "       'Crime Code Description', 'MO Codes', 'Victim Age', 'Victim Sex',\n",
       "       'Victim Descent', 'Premise Code', 'Premise Description',\n",
       "       'Weapon Used Code', 'Weapon Description', 'Status Code',\n",
       "       'Status Description', 'Crime Code 1', 'Crime Code 2', 'Crime Code 3',\n",
       "       'Crime Code 4', 'Address', 'Cross Street', 'Location '],\n",
       "      dtype='object')"
      ]
     },
     "execution_count": 8,
     "metadata": {},
     "output_type": "execute_result"
    }
   ],
   "source": [
    "# The 'Location ' column has a blank space at the end\n",
    "crime_df.columns"
   ]
  },
  {
   "cell_type": "code",
   "execution_count": 9,
   "metadata": {},
   "outputs": [],
   "source": [
    "crime_df = crime_df.rename(columns={\"Location \": \"location\"})"
   ]
  },
  {
   "cell_type": "code",
   "execution_count": 11,
   "metadata": {},
   "outputs": [
    {
     "data": {
      "text/plain": [
       "'location'"
      ]
     },
     "execution_count": 11,
     "metadata": {},
     "output_type": "execute_result"
    }
   ],
   "source": [
    "# Inspect the new location column\n",
    "crime_df.columns[-1]"
   ]
  },
  {
   "cell_type": "code",
   "execution_count": 12,
   "metadata": {},
   "outputs": [
    {
     "name": "stdout",
     "output_type": "stream",
     "text": [
      "<class 'pandas.core.frame.DataFrame'>\n",
      "RangeIndex: 1967976 entries, 0 to 1967975\n",
      "Data columns (total 26 columns):\n",
      "DR Number                 int64\n",
      "Date Reported             object\n",
      "Date Occurred             object\n",
      "Time Occurred             int64\n",
      "Area ID                   int64\n",
      "Area Name                 object\n",
      "Reporting District        int64\n",
      "Crime Code                int64\n",
      "Crime Code Description    object\n",
      "MO Codes                  object\n",
      "Victim Age                int64\n",
      "Victim Sex                object\n",
      "Victim Descent            object\n",
      "Premise Code              float64\n",
      "Premise Description       object\n",
      "Weapon Used Code          float64\n",
      "Weapon Description        object\n",
      "Status Code               object\n",
      "Status Description        object\n",
      "Crime Code 1              float64\n",
      "Crime Code 2              float64\n",
      "Crime Code 3              float64\n",
      "Crime Code 4              float64\n",
      "Address                   object\n",
      "Cross Street              object\n",
      "location                  object\n",
      "dtypes: float64(6), int64(6), object(14)\n",
      "memory usage: 390.4+ MB\n"
     ]
    }
   ],
   "source": [
    "crime_df.info()"
   ]
  },
  {
   "cell_type": "code",
   "execution_count": 13,
   "metadata": {},
   "outputs": [],
   "source": [
    "# Regex to extract lat and long out of the location column\n",
    "# and make 2 new columns from the values.\n",
    "crime_df[['lat', 'long']] = crime_df['location'].replace\\\n",
    "    (to_replace=[\"\\)\",\"\\(\"], value=\"\", regex=True).str.split(\",\", expand = True)"
   ]
  },
  {
   "cell_type": "code",
   "execution_count": 14,
   "metadata": {},
   "outputs": [
    {
     "data": {
      "text/html": [
       "<div>\n",
       "<style scoped>\n",
       "    .dataframe tbody tr th:only-of-type {\n",
       "        vertical-align: middle;\n",
       "    }\n",
       "\n",
       "    .dataframe tbody tr th {\n",
       "        vertical-align: top;\n",
       "    }\n",
       "\n",
       "    .dataframe thead th {\n",
       "        text-align: right;\n",
       "    }\n",
       "</style>\n",
       "<table border=\"1\" class=\"dataframe\">\n",
       "  <thead>\n",
       "    <tr style=\"text-align: right;\">\n",
       "      <th></th>\n",
       "      <th>DR Number</th>\n",
       "      <th>Date Reported</th>\n",
       "      <th>Date Occurred</th>\n",
       "      <th>Time Occurred</th>\n",
       "      <th>Area ID</th>\n",
       "      <th>Area Name</th>\n",
       "      <th>Reporting District</th>\n",
       "      <th>Crime Code</th>\n",
       "      <th>Crime Code Description</th>\n",
       "      <th>MO Codes</th>\n",
       "      <th>...</th>\n",
       "      <th>Status Description</th>\n",
       "      <th>Crime Code 1</th>\n",
       "      <th>Crime Code 2</th>\n",
       "      <th>Crime Code 3</th>\n",
       "      <th>Crime Code 4</th>\n",
       "      <th>Address</th>\n",
       "      <th>Cross Street</th>\n",
       "      <th>location</th>\n",
       "      <th>lat</th>\n",
       "      <th>long</th>\n",
       "    </tr>\n",
       "  </thead>\n",
       "  <tbody>\n",
       "    <tr>\n",
       "      <th>0</th>\n",
       "      <td>11401303</td>\n",
       "      <td>09/13/2010</td>\n",
       "      <td>09/12/2010</td>\n",
       "      <td>45</td>\n",
       "      <td>14</td>\n",
       "      <td>Pacific</td>\n",
       "      <td>1485</td>\n",
       "      <td>740</td>\n",
       "      <td>VANDALISM - FELONY ($400 &amp; OVER, ALL CHURCH VA...</td>\n",
       "      <td>0329</td>\n",
       "      <td>...</td>\n",
       "      <td>Invest Cont</td>\n",
       "      <td>740.0</td>\n",
       "      <td>NaN</td>\n",
       "      <td>NaN</td>\n",
       "      <td>NaN</td>\n",
       "      <td>SEPULVEDA                    BL</td>\n",
       "      <td>MANCHESTER                   AV</td>\n",
       "      <td>(33.9599, -118.3962)</td>\n",
       "      <td>33.9599</td>\n",
       "      <td>-118.3962</td>\n",
       "    </tr>\n",
       "    <tr>\n",
       "      <th>1</th>\n",
       "      <td>70309629</td>\n",
       "      <td>08/09/2010</td>\n",
       "      <td>08/09/2010</td>\n",
       "      <td>1515</td>\n",
       "      <td>13</td>\n",
       "      <td>Newton</td>\n",
       "      <td>1324</td>\n",
       "      <td>946</td>\n",
       "      <td>OTHER MISCELLANEOUS CRIME</td>\n",
       "      <td>0344</td>\n",
       "      <td>...</td>\n",
       "      <td>Invest Cont</td>\n",
       "      <td>946.0</td>\n",
       "      <td>NaN</td>\n",
       "      <td>NaN</td>\n",
       "      <td>NaN</td>\n",
       "      <td>1300 E  21ST                         ST</td>\n",
       "      <td>NaN</td>\n",
       "      <td>(34.0224, -118.2524)</td>\n",
       "      <td>34.0224</td>\n",
       "      <td>-118.2524</td>\n",
       "    </tr>\n",
       "  </tbody>\n",
       "</table>\n",
       "<p>2 rows × 28 columns</p>\n",
       "</div>"
      ],
      "text/plain": [
       "   DR Number Date Reported Date Occurred  Time Occurred  Area ID Area Name  \\\n",
       "0   11401303    09/13/2010    09/12/2010             45       14   Pacific   \n",
       "1   70309629    08/09/2010    08/09/2010           1515       13    Newton   \n",
       "\n",
       "   Reporting District  Crime Code  \\\n",
       "0                1485         740   \n",
       "1                1324         946   \n",
       "\n",
       "                              Crime Code Description MO Codes  ...  \\\n",
       "0  VANDALISM - FELONY ($400 & OVER, ALL CHURCH VA...     0329  ...   \n",
       "1                          OTHER MISCELLANEOUS CRIME     0344  ...   \n",
       "\n",
       "   Status Description Crime Code 1 Crime Code 2  Crime Code 3 Crime Code 4  \\\n",
       "0         Invest Cont        740.0          NaN           NaN          NaN   \n",
       "1         Invest Cont        946.0          NaN           NaN          NaN   \n",
       "\n",
       "                                   Address                     Cross Street  \\\n",
       "0          SEPULVEDA                    BL  MANCHESTER                   AV   \n",
       "1  1300 E  21ST                         ST                              NaN   \n",
       "\n",
       "               location      lat        long  \n",
       "0  (33.9599, -118.3962)  33.9599   -118.3962  \n",
       "1  (34.0224, -118.2524)  34.0224   -118.2524  \n",
       "\n",
       "[2 rows x 28 columns]"
      ]
     },
     "execution_count": 14,
     "metadata": {},
     "output_type": "execute_result"
    }
   ],
   "source": [
    "crime_df.head(2)"
   ]
  },
  {
   "cell_type": "code",
   "execution_count": 15,
   "metadata": {},
   "outputs": [],
   "source": [
    "# Convert lat and longs to numeric values: \n",
    "# Needed for the computeNearestZip function(Extract zip from lat long)\n",
    "crime_df['lat'] = pd.to_numeric(crime_df['lat'])\n",
    "crime_df['long'] = pd.to_numeric(crime_df['long'])"
   ]
  },
  {
   "cell_type": "code",
   "execution_count": 16,
   "metadata": {},
   "outputs": [
    {
     "data": {
      "text/plain": [
       "(numpy.float64, numpy.float64)"
      ]
     },
     "execution_count": 16,
     "metadata": {},
     "output_type": "execute_result"
    }
   ],
   "source": [
    "type(crime_df['lat'][0]), type(crime_df['long'][0])"
   ]
  },
  {
   "cell_type": "markdown",
   "metadata": {},
   "source": [
    "### Examining the structure of the dataframe"
   ]
  },
  {
   "cell_type": "code",
   "execution_count": 17,
   "metadata": {},
   "outputs": [
    {
     "data": {
      "text/plain": [
       "28"
      ]
     },
     "execution_count": 17,
     "metadata": {},
     "output_type": "execute_result"
    }
   ],
   "source": [
    "len(crime_df.columns)"
   ]
  },
  {
   "cell_type": "code",
   "execution_count": 18,
   "metadata": {},
   "outputs": [
    {
     "data": {
      "text/plain": [
       "(1967976, 28)"
      ]
     },
     "execution_count": 18,
     "metadata": {},
     "output_type": "execute_result"
    }
   ],
   "source": [
    "crime_df.shape"
   ]
  },
  {
   "cell_type": "code",
   "execution_count": 19,
   "metadata": {},
   "outputs": [
    {
     "data": {
      "text/plain": [
       "(1967976, 15)"
      ]
     },
     "execution_count": 19,
     "metadata": {},
     "output_type": "execute_result"
    }
   ],
   "source": [
    "# 15 columns that have no missing values at all\n",
    "crime_df.dropna(axis=1).shape"
   ]
  },
  {
   "cell_type": "code",
   "execution_count": 22,
   "metadata": {},
   "outputs": [
    {
     "data": {
      "text/plain": [
       "(19, 28)"
      ]
     },
     "execution_count": 22,
     "metadata": {},
     "output_type": "execute_result"
    }
   ],
   "source": [
    "# only 19 rows out of 1967976 are without missing values\n",
    "crime_df.dropna(axis=0).shape"
   ]
  },
  {
   "cell_type": "code",
   "execution_count": 24,
   "metadata": {},
   "outputs": [
    {
     "name": "stdout",
     "output_type": "stream",
     "text": [
      "Total entries in age column: 1967976\n",
      "Total entries with age == 0: 358005\n",
      "Rows with age == 0: 18.19 %\n"
     ]
    }
   ],
   "source": [
    "print(f\"Total entries in age column: {crime_df['Victim Age'].count()}\")\n",
    "print(f\"Total entries with age == 0: {crime_df[crime_df['Victim Age']==0]['Victim Age'].count()}\")\n",
    "print(f\"Rows with age == 0:{round(float(crime_df[crime_df['Victim Age']==0]['Victim Age'].count()/crime_df['Victim Age'].count()*100),2)} %\")\n"
   ]
  },
  {
   "cell_type": "code",
   "execution_count": 34,
   "metadata": {},
   "outputs": [
    {
     "data": {
      "image/png": "[encoded data removed]",
      "text/plain": [
       "<Figure size 1296x360 with 1 Axes>"
      ]
     },
     "metadata": {
      "needs_background": "light"
     },
     "output_type": "display_data"
    }
   ],
   "source": [
    "# Quick visual inspection of the 'Victim Age' column for the above reasons ☝🏾\n",
    "data = crime_df['Victim Age'].value_counts()\n",
    "names = list(data.index)\n",
    "fig, axs = plt.subplots(figsize=(18, 5))\n",
    "axs.bar(names, data)\n",
    "\n",
    "plt.show()"
   ]
  },
  {
   "cell_type": "code",
   "execution_count": 36,
   "metadata": {},
   "outputs": [
    {
     "data": {
      "text/plain": [
       "Victim Age\n",
       "-9      2\n",
       "-8      1\n",
       "-7      4\n",
       "-6     10\n",
       "-5     17\n",
       "-4     23\n",
       "-3     51\n",
       "-2    102\n",
       "-1    221\n",
       "Name: Victim Age, dtype: int64"
      ]
     },
     "execution_count": 36,
     "metadata": {},
     "output_type": "execute_result"
    }
   ],
   "source": [
    "# Ages with negative numbers exactly 9 😰\n",
    "# it probalby refers to an unborn victim (pregnancy stage of victim's mother)?\n",
    "crime_df[crime_df['Victim Age'] < 0].groupby('Victim Age')['Victim Age'].count()\n"
   ]
  },
  {
   "cell_type": "code",
   "execution_count": 59,
   "metadata": {},
   "outputs": [
    {
     "data": {
      "text/plain": [
       "(False, 0)"
      ]
     },
     "execution_count": 59,
     "metadata": {},
     "output_type": "execute_result"
    }
   ],
   "source": [
    "# The huge amount of zeros in dataset coud be that in data entry process the person \n",
    "# preparing the report could not leave the field blank: This could reflect unknown ages\n",
    "# of victims perhaps because incomplete or unfinished reports that victims abandon or \n",
    "# Unknown ages of these victims? \n",
    " #No missing values in this column\n",
    "crime_df['Victim Age'].isnull().values.any(), crime_df['Victim Age'].isnull().values.sum()\n"
   ]
  },
  {
   "cell_type": "code",
   "execution_count": 200,
   "metadata": {},
   "outputs": [
    {
     "name": "stdout",
     "output_type": "stream",
     "text": [
      "Total columns in dataset: 28\n",
      "Number of Columns with no missing values: 15\n"
     ]
    }
   ],
   "source": [
    "print(f\"Total columns in dataset: {len(crime_df.columns)}\")\n",
    "print(f\"Number of Columns with no missing values: {len(crime_df.dropna(axis=1).columns)}\")"
   ]
  },
  {
   "cell_type": "code",
   "execution_count": 199,
   "metadata": {},
   "outputs": [
    {
     "name": "stdout",
     "output_type": "stream",
     "text": [
      " Only 19 Rows with no missing values out of 1967976 total Rows\n"
     ]
    }
   ],
   "source": [
    "print(f\" Only {len(crime_df.dropna(axis=0))}\\\n",
    " Rows with no missing values out of {len(crime_df)} total Rows\")\n"
   ]
  },
  {
   "cell_type": "markdown",
   "metadata": {},
   "source": [
    "# Mapping lat long to a zip code with helper funcion imported from diffs_latlong.py"
   ]
  },
  {
   "cell_type": "code",
   "execution_count": 51,
   "metadata": {},
   "outputs": [],
   "source": [
    "# Wrapper function needed to execute the computeNearestZip script. It wont work otherwise\n",
    "def zipWrapper(myDf):\n",
    "    lat = myDf['lat']\n",
    "    long = myDf['long']\n",
    "    return computeNearestZip(lat, long)\n"
   ]
  },
  {
   "cell_type": "code",
   "execution_count": 202,
   "metadata": {},
   "outputs": [
    {
     "data": {
      "text/plain": [
       "('30339', str)"
      ]
     },
     "execution_count": 202,
     "metadata": {},
     "output_type": "execute_result"
    }
   ],
   "source": [
    "# Testing computeNearestZip: it maps a pair of lat/long to its zip code\n",
    "zipTester = computeNearestZip(33.8677, -84.4645)\n",
    "zipTester, type(zipTester)\n"
   ]
  },
  {
   "cell_type": "code",
   "execution_count": 94,
   "metadata": {},
   "outputs": [
    {
     "data": {
      "text/html": [
       "<div>\n",
       "<style scoped>\n",
       "    .dataframe tbody tr th:only-of-type {\n",
       "        vertical-align: middle;\n",
       "    }\n",
       "\n",
       "    .dataframe tbody tr th {\n",
       "        vertical-align: top;\n",
       "    }\n",
       "\n",
       "    .dataframe thead th {\n",
       "        text-align: right;\n",
       "    }\n",
       "</style>\n",
       "<table border=\"1\" class=\"dataframe\">\n",
       "  <thead>\n",
       "    <tr style=\"text-align: right;\">\n",
       "      <th></th>\n",
       "      <th>lat</th>\n",
       "      <th>long</th>\n",
       "    </tr>\n",
       "  </thead>\n",
       "  <tbody>\n",
       "    <tr>\n",
       "      <th>998</th>\n",
       "      <td>34.0376</td>\n",
       "      <td>-118.2594</td>\n",
       "    </tr>\n",
       "    <tr>\n",
       "      <th>999</th>\n",
       "      <td>34.0516</td>\n",
       "      <td>-118.2561</td>\n",
       "    </tr>\n",
       "  </tbody>\n",
       "</table>\n",
       "</div>"
      ],
      "text/plain": [
       "         lat      long\n",
       "998  34.0376 -118.2594\n",
       "999  34.0516 -118.2561"
      ]
     },
     "execution_count": 94,
     "metadata": {},
     "output_type": "execute_result"
    }
   ],
   "source": [
    "# Our computeNearestZip algorithm is heavy on computer resources.\n",
    "# It would probably take several weeks to run on 1.9 million rows\n",
    "# Created a smaller df to test its functionality\n",
    "latlong1k_df = crime_df[['lat','long']][:1000]\n",
    "latlong1k_df.tail(2)\n"
   ]
  },
  {
   "cell_type": "code",
   "execution_count": 95,
   "metadata": {},
   "outputs": [],
   "source": [
    "# Function to test the time it takes for our computeNearestzip function to run\n",
    "def timer():\n",
    "    begining = time.time()\n",
    "    latlong1k_df['zip'] = latlong1k_df.apply(func=zipWrapper, axis=1)\n",
    "    end = time.time()\n",
    "    total = end-begining\n",
    "    print(f\"It took {total} seconds to process {len(latlong1k_df['zip'])} Rows\")\n",
    "          "
   ]
  },
  {
   "cell_type": "code",
   "execution_count": 96,
   "metadata": {},
   "outputs": [
    {
     "name": "stdout",
     "output_type": "stream",
     "text": [
      "It took 69.20011687278748 seconds to process 1000 Rows\n"
     ]
    }
   ],
   "source": [
    "timer()"
   ]
  },
  {
   "cell_type": "code",
   "execution_count": 103,
   "metadata": {},
   "outputs": [
    {
     "data": {
      "text/html": [
       "<div>\n",
       "<style scoped>\n",
       "    .dataframe tbody tr th:only-of-type {\n",
       "        vertical-align: middle;\n",
       "    }\n",
       "\n",
       "    .dataframe tbody tr th {\n",
       "        vertical-align: top;\n",
       "    }\n",
       "\n",
       "    .dataframe thead th {\n",
       "        text-align: right;\n",
       "    }\n",
       "</style>\n",
       "<table border=\"1\" class=\"dataframe\">\n",
       "  <thead>\n",
       "    <tr style=\"text-align: right;\">\n",
       "      <th></th>\n",
       "      <th>DR Number</th>\n",
       "      <th>Date Reported</th>\n",
       "      <th>Date Occurred</th>\n",
       "      <th>Time Occurred</th>\n",
       "      <th>Area ID</th>\n",
       "      <th>Area Name</th>\n",
       "      <th>Reporting District</th>\n",
       "      <th>Crime Code</th>\n",
       "      <th>Crime Code Description</th>\n",
       "      <th>MO Codes</th>\n",
       "      <th>...</th>\n",
       "      <th>Status Description</th>\n",
       "      <th>Crime Code 1</th>\n",
       "      <th>Crime Code 2</th>\n",
       "      <th>Crime Code 3</th>\n",
       "      <th>Crime Code 4</th>\n",
       "      <th>Address</th>\n",
       "      <th>Cross Street</th>\n",
       "      <th>location</th>\n",
       "      <th>lat</th>\n",
       "      <th>long</th>\n",
       "    </tr>\n",
       "  </thead>\n",
       "  <tbody>\n",
       "    <tr>\n",
       "      <th>998</th>\n",
       "      <td>100112825</td>\n",
       "      <td>06/22/2010</td>\n",
       "      <td>06/21/2010</td>\n",
       "      <td>1600</td>\n",
       "      <td>1</td>\n",
       "      <td>Central</td>\n",
       "      <td>185</td>\n",
       "      <td>341</td>\n",
       "      <td>THEFT-GRAND ($950.01 &amp; OVER)EXCPT,GUNS,FOWL,LI...</td>\n",
       "      <td>0104 0344 0601</td>\n",
       "      <td>...</td>\n",
       "      <td>Invest Cont</td>\n",
       "      <td>341.0</td>\n",
       "      <td>NaN</td>\n",
       "      <td>NaN</td>\n",
       "      <td>NaN</td>\n",
       "      <td>100 E  12TH                         ST</td>\n",
       "      <td>NaN</td>\n",
       "      <td>(34.0376, -118.2594)</td>\n",
       "      <td>34.0376</td>\n",
       "      <td>-118.2594</td>\n",
       "    </tr>\n",
       "    <tr>\n",
       "      <th>999</th>\n",
       "      <td>100112827</td>\n",
       "      <td>06/22/2010</td>\n",
       "      <td>06/22/2010</td>\n",
       "      <td>745</td>\n",
       "      <td>1</td>\n",
       "      <td>Central</td>\n",
       "      <td>152</td>\n",
       "      <td>341</td>\n",
       "      <td>THEFT-GRAND ($950.01 &amp; OVER)EXCPT,GUNS,FOWL,LI...</td>\n",
       "      <td>0344</td>\n",
       "      <td>...</td>\n",
       "      <td>Invest Cont</td>\n",
       "      <td>341.0</td>\n",
       "      <td>NaN</td>\n",
       "      <td>NaN</td>\n",
       "      <td>NaN</td>\n",
       "      <td>500 S  FLOWER                       ST</td>\n",
       "      <td>NaN</td>\n",
       "      <td>(34.0516, -118.2561)</td>\n",
       "      <td>34.0516</td>\n",
       "      <td>-118.2561</td>\n",
       "    </tr>\n",
       "  </tbody>\n",
       "</table>\n",
       "<p>2 rows × 28 columns</p>\n",
       "</div>"
      ],
      "text/plain": [
       "     DR Number Date Reported Date Occurred  Time Occurred  Area ID Area Name  \\\n",
       "998  100112825    06/22/2010    06/21/2010           1600        1   Central   \n",
       "999  100112827    06/22/2010    06/22/2010            745        1   Central   \n",
       "\n",
       "     Reporting District  Crime Code  \\\n",
       "998                 185         341   \n",
       "999                 152         341   \n",
       "\n",
       "                                Crime Code Description        MO Codes  ...  \\\n",
       "998  THEFT-GRAND ($950.01 & OVER)EXCPT,GUNS,FOWL,LI...  0104 0344 0601  ...   \n",
       "999  THEFT-GRAND ($950.01 & OVER)EXCPT,GUNS,FOWL,LI...            0344  ...   \n",
       "\n",
       "     Status Description Crime Code 1 Crime Code 2  Crime Code 3 Crime Code 4  \\\n",
       "998         Invest Cont        341.0          NaN           NaN          NaN   \n",
       "999         Invest Cont        341.0          NaN           NaN          NaN   \n",
       "\n",
       "                                    Address Cross Street  \\\n",
       "998  100 E  12TH                         ST          NaN   \n",
       "999  500 S  FLOWER                       ST          NaN   \n",
       "\n",
       "                 location      lat      long  \n",
       "998  (34.0376, -118.2594)  34.0376 -118.2594  \n",
       "999  (34.0516, -118.2561)  34.0516 -118.2561  \n",
       "\n",
       "[2 rows x 28 columns]"
      ]
     },
     "execution_count": 103,
     "metadata": {},
     "output_type": "execute_result"
    }
   ],
   "source": [
    "# Create a slice of the original dataframe to use in the project\n",
    "_1k_crime_df = crime_df[:1000].copy()\n",
    "_1k_crime_df.tail(2)\n"
   ]
  },
  {
   "cell_type": "code",
   "execution_count": 104,
   "metadata": {},
   "outputs": [],
   "source": [
    "# Create the zip column by  applying the computeNearestzip function to it\n",
    "_1k_crime_df['zip'] = _1k_crime_df.apply(func=zipWrapper, axis=1)\n"
   ]
  },
  {
   "cell_type": "code",
   "execution_count": 106,
   "metadata": {},
   "outputs": [
    {
     "data": {
      "text/html": [
       "<div>\n",
       "<style scoped>\n",
       "    .dataframe tbody tr th:only-of-type {\n",
       "        vertical-align: middle;\n",
       "    }\n",
       "\n",
       "    .dataframe tbody tr th {\n",
       "        vertical-align: top;\n",
       "    }\n",
       "\n",
       "    .dataframe thead th {\n",
       "        text-align: right;\n",
       "    }\n",
       "</style>\n",
       "<table border=\"1\" class=\"dataframe\">\n",
       "  <thead>\n",
       "    <tr style=\"text-align: right;\">\n",
       "      <th></th>\n",
       "      <th>location</th>\n",
       "      <th>lat</th>\n",
       "      <th>long</th>\n",
       "      <th>zip</th>\n",
       "    </tr>\n",
       "  </thead>\n",
       "  <tbody>\n",
       "    <tr>\n",
       "      <th>998</th>\n",
       "      <td>(34.0376, -118.2594)</td>\n",
       "      <td>34.0376</td>\n",
       "      <td>-118.2594</td>\n",
       "      <td>90015</td>\n",
       "    </tr>\n",
       "    <tr>\n",
       "      <th>999</th>\n",
       "      <td>(34.0516, -118.2561)</td>\n",
       "      <td>34.0516</td>\n",
       "      <td>-118.2561</td>\n",
       "      <td>90071</td>\n",
       "    </tr>\n",
       "  </tbody>\n",
       "</table>\n",
       "</div>"
      ],
      "text/plain": [
       "                 location      lat      long    zip\n",
       "998  (34.0376, -118.2594)  34.0376 -118.2594  90015\n",
       "999  (34.0516, -118.2561)  34.0516 -118.2561  90071"
      ]
     },
     "execution_count": 106,
     "metadata": {},
     "output_type": "execute_result"
    }
   ],
   "source": [
    "# Inspect the new zip column\n",
    "_1k_crime_df.iloc[-2:, -4:]"
   ]
  },
  {
   "cell_type": "markdown",
   "metadata": {},
   "source": [
    "# Load  (Mongo and SQL)"
   ]
  },
  {
   "cell_type": "code",
   "execution_count": 115,
   "metadata": {},
   "outputs": [],
   "source": [
    "# Save the _1k_crime_df to a csv file\n",
    "#added the amount of rows to the name of the file for easy finding\n",
    "_1k_crime_df.to_csv(f\"Resources/crime{_1k_crime_df['zip'].count()}.csv\", index=False)\n"
   ]
  },
  {
   "cell_type": "markdown",
   "metadata": {},
   "source": [
    "# mongodb"
   ]
  },
  {
   "cell_type": "code",
   "execution_count": 116,
   "metadata": {},
   "outputs": [],
   "source": [
    "import pymongo"
   ]
  },
  {
   "cell_type": "code",
   "execution_count": 117,
   "metadata": {},
   "outputs": [],
   "source": [
    "# Setup connection to mongodb\n",
    "conn = \"mongodb://localhost:27017\"\n",
    "client = pymongo.MongoClient(conn)\n",
    "\n",
    "# Select database and collection to use\n",
    "db = client.moe_la_crime\n",
    "crime_reports = db.crime_reports"
   ]
  },
  {
   "cell_type": "code",
   "execution_count": 120,
   "metadata": {},
   "outputs": [],
   "source": [
    "# Convert the dataframe to dictionary format for mongo\n",
    "crimeData = _1k_crime_df.to_dict(orient='records')"
   ]
  },
  {
   "cell_type": "code",
   "execution_count": 121,
   "metadata": {},
   "outputs": [
    {
     "data": {
      "text/plain": [
       "{'DR Number': 11401303,\n",
       " 'Date Reported': '09/13/2010',\n",
       " 'Date Occurred': '09/12/2010',\n",
       " 'Time Occurred': 45,\n",
       " 'Area ID': 14,\n",
       " 'Area Name': 'Pacific',\n",
       " 'Reporting District': 1485,\n",
       " 'Crime Code': 740,\n",
       " 'Crime Code Description': 'VANDALISM - FELONY ($400 & OVER, ALL CHURCH VANDALISMS)',\n",
       " 'MO Codes': '0329',\n",
       " 'Victim Age': 0,\n",
       " 'Victim Sex': 'M',\n",
       " 'Victim Descent': 'W',\n",
       " 'Premise Code': 101.0,\n",
       " 'Premise Description': 'STREET',\n",
       " 'Weapon Used Code': nan,\n",
       " 'Weapon Description': nan,\n",
       " 'Status Code': 'IC',\n",
       " 'Status Description': 'Invest Cont',\n",
       " 'Crime Code 1': 740.0,\n",
       " 'Crime Code 2': nan,\n",
       " 'Crime Code 3': nan,\n",
       " 'Crime Code 4': nan,\n",
       " 'Address': 'SEPULVEDA                    BL',\n",
       " 'Cross Street': 'MANCHESTER                   AV',\n",
       " 'location': '(33.9599, -118.3962)',\n",
       " 'lat': 33.9599,\n",
       " 'long': -118.3962,\n",
       " 'zip': '90045'}"
      ]
     },
     "execution_count": 121,
     "metadata": {},
     "output_type": "execute_result"
    }
   ],
   "source": [
    "# inspect the dictionary \n",
    "crimeData[0]"
   ]
  },
  {
   "cell_type": "code",
   "execution_count": 122,
   "metadata": {},
   "outputs": [
    {
     "data": {
      "text/plain": [
       "<pymongo.results.InsertManyResult at 0x1540ef488>"
      ]
     },
     "execution_count": 122,
     "metadata": {},
     "output_type": "execute_result"
    }
   ],
   "source": [
    "crime_reports.insert_many(crimeData)"
   ]
  },
  {
   "cell_type": "code",
   "execution_count": 128,
   "metadata": {},
   "outputs": [
    {
     "name": "stdout",
     "output_type": "stream",
     "text": [
      "{'_id': ObjectId('5ce41f22be1a77b335fc0108'), 'DR Number': 11401303, 'Date Reported': '09/13/2010', 'Date Occurred': '09/12/2010', 'Time Occurred': 45, 'Area ID': 14, 'Area Name': 'Pacific', 'Reporting District': 1485, 'Crime Code': 740, 'Crime Code Description': 'VANDALISM - FELONY ($400 & OVER, ALL CHURCH VANDALISMS)', 'MO Codes': '0329', 'Victim Age': 0, 'Victim Sex': 'M', 'Victim Descent': 'W', 'Premise Code': 101.0, 'Premise Description': 'STREET', 'Weapon Used Code': nan, 'Weapon Description': nan, 'Status Code': 'IC', 'Status Description': 'Invest Cont', 'Crime Code 1': 740.0, 'Crime Code 2': nan, 'Crime Code 3': nan, 'Crime Code 4': nan, 'Address': 'SEPULVEDA                    BL', 'Cross Street': 'MANCHESTER                   AV', 'location': '(33.9599, -118.3962)', 'lat': 33.9599, 'long': -118.3962, 'zip': '90045'} \n",
      "\n",
      "{'_id': ObjectId('5ce41f22be1a77b335fc0109'), 'DR Number': 70309629, 'Date Reported': '08/09/2010', 'Date Occurred': '08/09/2010', 'Time Occurred': 1515, 'Area ID': 13, 'Area Name': 'Newton', 'Reporting District': 1324, 'Crime Code': 946, 'Crime Code Description': 'OTHER MISCELLANEOUS CRIME', 'MO Codes': '0344', 'Victim Age': 0, 'Victim Sex': 'M', 'Victim Descent': 'H', 'Premise Code': 103.0, 'Premise Description': 'ALLEY', 'Weapon Used Code': nan, 'Weapon Description': nan, 'Status Code': 'IC', 'Status Description': 'Invest Cont', 'Crime Code 1': 946.0, 'Crime Code 2': nan, 'Crime Code 3': nan, 'Crime Code 4': nan, 'Address': '1300 E  21ST                         ST', 'Cross Street': nan, 'location': '(34.0224, -118.2524)', 'lat': 34.0224, 'long': -118.2524, 'zip': '90021'} \n",
      "\n"
     ]
    }
   ],
   "source": [
    "# Test query the mongo db\n",
    "results = crime_reports.find()\n",
    "for result in results[:2]:\n",
    "    print(result, '\\n')"
   ]
  },
  {
   "cell_type": "markdown",
   "metadata": {},
   "source": [
    "## Create a second collection (census zips):"
   ]
  },
  {
   "cell_type": "code",
   "execution_count": 133,
   "metadata": {},
   "outputs": [
    {
     "data": {
      "text/html": [
       "<div>\n",
       "<style scoped>\n",
       "    .dataframe tbody tr th:only-of-type {\n",
       "        vertical-align: middle;\n",
       "    }\n",
       "\n",
       "    .dataframe tbody tr th {\n",
       "        vertical-align: top;\n",
       "    }\n",
       "\n",
       "    .dataframe thead th {\n",
       "        text-align: right;\n",
       "    }\n",
       "</style>\n",
       "<table border=\"1\" class=\"dataframe\">\n",
       "  <thead>\n",
       "    <tr style=\"text-align: right;\">\n",
       "      <th></th>\n",
       "      <th>Zipcode</th>\n",
       "      <th>Population</th>\n",
       "      <th>Unemployment Count</th>\n",
       "      <th>Unemployment Rate</th>\n",
       "    </tr>\n",
       "  </thead>\n",
       "  <tbody>\n",
       "    <tr>\n",
       "      <th>0</th>\n",
       "      <td>601</td>\n",
       "      <td>17599.0</td>\n",
       "      <td>2454.0</td>\n",
       "      <td>13.943974</td>\n",
       "    </tr>\n",
       "    <tr>\n",
       "      <th>1</th>\n",
       "      <td>602</td>\n",
       "      <td>39209.0</td>\n",
       "      <td>2538.0</td>\n",
       "      <td>6.473004</td>\n",
       "    </tr>\n",
       "  </tbody>\n",
       "</table>\n",
       "</div>"
      ],
      "text/plain": [
       "   Zipcode  Population  Unemployment Count  Unemployment Rate\n",
       "0      601     17599.0              2454.0          13.943974\n",
       "1      602     39209.0              2538.0           6.473004"
      ]
     },
     "execution_count": 133,
     "metadata": {},
     "output_type": "execute_result"
    }
   ],
   "source": [
    "# Read in from census zips csv file\n",
    "census_df = pd.read_csv('Resources/censusZips2017.csv')\n",
    "census_df[:2]"
   ]
  },
  {
   "cell_type": "code",
   "execution_count": 134,
   "metadata": {},
   "outputs": [],
   "source": [
    "# Save df to dictionary for mongo uploading\n",
    "censusData = census_df.to_dict(orient = 'records')"
   ]
  },
  {
   "cell_type": "code",
   "execution_count": 135,
   "metadata": {},
   "outputs": [],
   "source": [
    "### Create the  collection to hold census data\n",
    "censusZips = db.censusZips"
   ]
  },
  {
   "cell_type": "code",
   "execution_count": 136,
   "metadata": {},
   "outputs": [
    {
     "data": {
      "text/plain": [
       "<pymongo.results.InsertManyResult at 0x11c4b7788>"
      ]
     },
     "execution_count": 136,
     "metadata": {},
     "output_type": "execute_result"
    }
   ],
   "source": [
    "censusZips.insert_many(censusData)"
   ]
  },
  {
   "cell_type": "code",
   "execution_count": 137,
   "metadata": {},
   "outputs": [],
   "source": [
    "## Test query the mongodb new collection\n",
    "censusResults = censusZips.find()"
   ]
  },
  {
   "cell_type": "code",
   "execution_count": 138,
   "metadata": {},
   "outputs": [
    {
     "name": "stdout",
     "output_type": "stream",
     "text": [
      "{'_id': ObjectId('5ce42261be1a77b335fc04f0'), 'Zipcode': 601, 'Population': 17599.0, 'Unemployment Count': 2454.0, 'Unemployment Rate': 13.943974089436901} \n",
      "\n",
      "{'_id': ObjectId('5ce42261be1a77b335fc04f1'), 'Zipcode': 602, 'Population': 39209.0, 'Unemployment Count': 2538.0, 'Unemployment Rate': 6.473003647121835} \n",
      "\n"
     ]
    }
   ],
   "source": [
    "for result in censusResults[:2]:\n",
    "    print(result, '\\n')"
   ]
  },
  {
   "cell_type": "markdown",
   "metadata": {},
   "source": [
    "#  SQL"
   ]
  },
  {
   "cell_type": "code",
   "execution_count": 140,
   "metadata": {},
   "outputs": [],
   "source": [
    "from sqlalchemy import create_engine"
   ]
  },
  {
   "cell_type": "code",
   "execution_count": 141,
   "metadata": {},
   "outputs": [],
   "source": [
    "database_path = \"Resources/moe_crime.sqlite\""
   ]
  },
  {
   "cell_type": "code",
   "execution_count": 142,
   "metadata": {},
   "outputs": [],
   "source": [
    "engine = create_engine(f\"sqlite:///{database_path}\")"
   ]
  },
  {
   "cell_type": "code",
   "execution_count": 143,
   "metadata": {},
   "outputs": [
    {
     "data": {
      "text/plain": [
       "[]"
      ]
     },
     "execution_count": 143,
     "metadata": {},
     "output_type": "execute_result"
    }
   ],
   "source": [
    "engine.table_names()"
   ]
  },
  {
   "cell_type": "code",
   "execution_count": 144,
   "metadata": {},
   "outputs": [],
   "source": [
    "_1k_crime_df.to_sql(name='LaCrime', con=engine, if_exists='append', index=False)\n"
   ]
  },
  {
   "cell_type": "code",
   "execution_count": 145,
   "metadata": {},
   "outputs": [
    {
     "data": {
      "text/plain": [
       "['LaCrime']"
      ]
     },
     "execution_count": 145,
     "metadata": {},
     "output_type": "execute_result"
    }
   ],
   "source": [
    "engine.table_names()"
   ]
  },
  {
   "cell_type": "code",
   "execution_count": 163,
   "metadata": {},
   "outputs": [
    {
     "data": {
      "text/html": [
       "<div>\n",
       "<style scoped>\n",
       "    .dataframe tbody tr th:only-of-type {\n",
       "        vertical-align: middle;\n",
       "    }\n",
       "\n",
       "    .dataframe tbody tr th {\n",
       "        vertical-align: top;\n",
       "    }\n",
       "\n",
       "    .dataframe thead th {\n",
       "        text-align: right;\n",
       "    }\n",
       "</style>\n",
       "<table border=\"1\" class=\"dataframe\">\n",
       "  <thead>\n",
       "    <tr style=\"text-align: right;\">\n",
       "      <th></th>\n",
       "      <th>DR Number</th>\n",
       "      <th>Date Reported</th>\n",
       "      <th>Date Occurred</th>\n",
       "      <th>Time Occurred</th>\n",
       "      <th>Area ID</th>\n",
       "      <th>Area Name</th>\n",
       "      <th>Reporting District</th>\n",
       "      <th>Crime Code</th>\n",
       "      <th>Crime Code Description</th>\n",
       "      <th>MO Codes</th>\n",
       "      <th>...</th>\n",
       "      <th>Crime Code 1</th>\n",
       "      <th>Crime Code 2</th>\n",
       "      <th>Crime Code 3</th>\n",
       "      <th>Crime Code 4</th>\n",
       "      <th>Address</th>\n",
       "      <th>Cross Street</th>\n",
       "      <th>location</th>\n",
       "      <th>lat</th>\n",
       "      <th>long</th>\n",
       "      <th>zip</th>\n",
       "    </tr>\n",
       "  </thead>\n",
       "  <tbody>\n",
       "    <tr>\n",
       "      <th>995</th>\n",
       "      <td>100112811</td>\n",
       "      <td>06/22/2010</td>\n",
       "      <td>06/20/2010</td>\n",
       "      <td>100</td>\n",
       "      <td>1</td>\n",
       "      <td>Central</td>\n",
       "      <td>171</td>\n",
       "      <td>341</td>\n",
       "      <td>THEFT-GRAND ($950.01 &amp; OVER)EXCPT,GUNS,FOWL,LI...</td>\n",
       "      <td>0344 1251</td>\n",
       "      <td>...</td>\n",
       "      <td>341.0</td>\n",
       "      <td>NaN</td>\n",
       "      <td>NaN</td>\n",
       "      <td>None</td>\n",
       "      <td>900 S  FIGUEROA                     ST</td>\n",
       "      <td>None</td>\n",
       "      <td>(34.0462, -118.2628)</td>\n",
       "      <td>34.0462</td>\n",
       "      <td>-118.2628</td>\n",
       "      <td>90017</td>\n",
       "    </tr>\n",
       "    <tr>\n",
       "      <th>996</th>\n",
       "      <td>100112818</td>\n",
       "      <td>06/22/2010</td>\n",
       "      <td>05/05/2010</td>\n",
       "      <td>1330</td>\n",
       "      <td>1</td>\n",
       "      <td>Central</td>\n",
       "      <td>119</td>\n",
       "      <td>341</td>\n",
       "      <td>THEFT-GRAND ($950.01 &amp; OVER)EXCPT,GUNS,FOWL,LI...</td>\n",
       "      <td>0344</td>\n",
       "      <td>...</td>\n",
       "      <td>341.0</td>\n",
       "      <td>NaN</td>\n",
       "      <td>NaN</td>\n",
       "      <td>None</td>\n",
       "      <td>800 N  ALAMEDA                      ST</td>\n",
       "      <td>None</td>\n",
       "      <td>(34.0563, -118.2374)</td>\n",
       "      <td>34.0563</td>\n",
       "      <td>-118.2374</td>\n",
       "      <td>90012</td>\n",
       "    </tr>\n",
       "    <tr>\n",
       "      <th>997</th>\n",
       "      <td>100112821</td>\n",
       "      <td>06/22/2010</td>\n",
       "      <td>06/17/2010</td>\n",
       "      <td>1630</td>\n",
       "      <td>1</td>\n",
       "      <td>Central</td>\n",
       "      <td>192</td>\n",
       "      <td>740</td>\n",
       "      <td>VANDALISM - FELONY ($400 &amp; OVER, ALL CHURCH VA...</td>\n",
       "      <td>0329 0601</td>\n",
       "      <td>...</td>\n",
       "      <td>740.0</td>\n",
       "      <td>NaN</td>\n",
       "      <td>NaN</td>\n",
       "      <td>None</td>\n",
       "      <td>1300 S  FLOWER                       ST</td>\n",
       "      <td>None</td>\n",
       "      <td>(34.0401, -118.2668)</td>\n",
       "      <td>34.0401</td>\n",
       "      <td>-118.2668</td>\n",
       "      <td>90015</td>\n",
       "    </tr>\n",
       "    <tr>\n",
       "      <th>998</th>\n",
       "      <td>100112825</td>\n",
       "      <td>06/22/2010</td>\n",
       "      <td>06/21/2010</td>\n",
       "      <td>1600</td>\n",
       "      <td>1</td>\n",
       "      <td>Central</td>\n",
       "      <td>185</td>\n",
       "      <td>341</td>\n",
       "      <td>THEFT-GRAND ($950.01 &amp; OVER)EXCPT,GUNS,FOWL,LI...</td>\n",
       "      <td>0104 0344 0601</td>\n",
       "      <td>...</td>\n",
       "      <td>341.0</td>\n",
       "      <td>NaN</td>\n",
       "      <td>NaN</td>\n",
       "      <td>None</td>\n",
       "      <td>100 E  12TH                         ST</td>\n",
       "      <td>None</td>\n",
       "      <td>(34.0376, -118.2594)</td>\n",
       "      <td>34.0376</td>\n",
       "      <td>-118.2594</td>\n",
       "      <td>90015</td>\n",
       "    </tr>\n",
       "    <tr>\n",
       "      <th>999</th>\n",
       "      <td>100112827</td>\n",
       "      <td>06/22/2010</td>\n",
       "      <td>06/22/2010</td>\n",
       "      <td>745</td>\n",
       "      <td>1</td>\n",
       "      <td>Central</td>\n",
       "      <td>152</td>\n",
       "      <td>341</td>\n",
       "      <td>THEFT-GRAND ($950.01 &amp; OVER)EXCPT,GUNS,FOWL,LI...</td>\n",
       "      <td>0344</td>\n",
       "      <td>...</td>\n",
       "      <td>341.0</td>\n",
       "      <td>NaN</td>\n",
       "      <td>NaN</td>\n",
       "      <td>None</td>\n",
       "      <td>500 S  FLOWER                       ST</td>\n",
       "      <td>None</td>\n",
       "      <td>(34.0516, -118.2561)</td>\n",
       "      <td>34.0516</td>\n",
       "      <td>-118.2561</td>\n",
       "      <td>90071</td>\n",
       "    </tr>\n",
       "  </tbody>\n",
       "</table>\n",
       "<p>5 rows × 29 columns</p>\n",
       "</div>"
      ],
      "text/plain": [
       "     DR Number Date Reported Date Occurred  Time Occurred  Area ID Area Name  \\\n",
       "995  100112811    06/22/2010    06/20/2010            100        1   Central   \n",
       "996  100112818    06/22/2010    05/05/2010           1330        1   Central   \n",
       "997  100112821    06/22/2010    06/17/2010           1630        1   Central   \n",
       "998  100112825    06/22/2010    06/21/2010           1600        1   Central   \n",
       "999  100112827    06/22/2010    06/22/2010            745        1   Central   \n",
       "\n",
       "     Reporting District  Crime Code  \\\n",
       "995                 171         341   \n",
       "996                 119         341   \n",
       "997                 192         740   \n",
       "998                 185         341   \n",
       "999                 152         341   \n",
       "\n",
       "                                Crime Code Description        MO Codes  ...  \\\n",
       "995  THEFT-GRAND ($950.01 & OVER)EXCPT,GUNS,FOWL,LI...       0344 1251  ...   \n",
       "996  THEFT-GRAND ($950.01 & OVER)EXCPT,GUNS,FOWL,LI...            0344  ...   \n",
       "997  VANDALISM - FELONY ($400 & OVER, ALL CHURCH VA...       0329 0601  ...   \n",
       "998  THEFT-GRAND ($950.01 & OVER)EXCPT,GUNS,FOWL,LI...  0104 0344 0601  ...   \n",
       "999  THEFT-GRAND ($950.01 & OVER)EXCPT,GUNS,FOWL,LI...            0344  ...   \n",
       "\n",
       "     Crime Code 1 Crime Code 2 Crime Code 3  Crime Code 4  \\\n",
       "995         341.0          NaN          NaN          None   \n",
       "996         341.0          NaN          NaN          None   \n",
       "997         740.0          NaN          NaN          None   \n",
       "998         341.0          NaN          NaN          None   \n",
       "999         341.0          NaN          NaN          None   \n",
       "\n",
       "                                     Address  Cross Street  \\\n",
       "995   900 S  FIGUEROA                     ST          None   \n",
       "996   800 N  ALAMEDA                      ST          None   \n",
       "997  1300 S  FLOWER                       ST          None   \n",
       "998   100 E  12TH                         ST          None   \n",
       "999   500 S  FLOWER                       ST          None   \n",
       "\n",
       "                 location      lat      long    zip  \n",
       "995  (34.0462, -118.2628)  34.0462 -118.2628  90017  \n",
       "996  (34.0563, -118.2374)  34.0563 -118.2374  90012  \n",
       "997  (34.0401, -118.2668)  34.0401 -118.2668  90015  \n",
       "998  (34.0376, -118.2594)  34.0376 -118.2594  90015  \n",
       "999  (34.0516, -118.2561)  34.0516 -118.2561  90071  \n",
       "\n",
       "[5 rows x 29 columns]"
      ]
     },
     "execution_count": 163,
     "metadata": {},
     "output_type": "execute_result"
    }
   ],
   "source": [
    "# Test Query the LaCrime table\n",
    "pd.read_sql_query('select * from LaCrime', con=engine).tail()\n"
   ]
  },
  {
   "cell_type": "markdown",
   "metadata": {},
   "source": [
    "## Create a second Table (census zips):"
   ]
  },
  {
   "cell_type": "code",
   "execution_count": 154,
   "metadata": {},
   "outputs": [],
   "source": [
    "# Import data for the census table\n",
    "censusData = pd.read_csv('Resources/censusZips2017.csv')\n"
   ]
  },
  {
   "cell_type": "code",
   "execution_count": 160,
   "metadata": {},
   "outputs": [
    {
     "data": {
      "text/html": [
       "<div>\n",
       "<style scoped>\n",
       "    .dataframe tbody tr th:only-of-type {\n",
       "        vertical-align: middle;\n",
       "    }\n",
       "\n",
       "    .dataframe tbody tr th {\n",
       "        vertical-align: top;\n",
       "    }\n",
       "\n",
       "    .dataframe thead th {\n",
       "        text-align: right;\n",
       "    }\n",
       "</style>\n",
       "<table border=\"1\" class=\"dataframe\">\n",
       "  <thead>\n",
       "    <tr style=\"text-align: right;\">\n",
       "      <th></th>\n",
       "      <th>Zipcode</th>\n",
       "      <th>Population</th>\n",
       "      <th>Unemployment Count</th>\n",
       "      <th>Unemployment Rate</th>\n",
       "    </tr>\n",
       "  </thead>\n",
       "  <tbody>\n",
       "    <tr>\n",
       "      <th>0</th>\n",
       "      <td>601</td>\n",
       "      <td>17599.0</td>\n",
       "      <td>2454.0</td>\n",
       "      <td>13.943974</td>\n",
       "    </tr>\n",
       "    <tr>\n",
       "      <th>1</th>\n",
       "      <td>602</td>\n",
       "      <td>39209.0</td>\n",
       "      <td>2538.0</td>\n",
       "      <td>6.473004</td>\n",
       "    </tr>\n",
       "  </tbody>\n",
       "</table>\n",
       "</div>"
      ],
      "text/plain": [
       "   Zipcode  Population  Unemployment Count  Unemployment Rate\n",
       "0      601     17599.0              2454.0          13.943974\n",
       "1      602     39209.0              2538.0           6.473004"
      ]
     },
     "execution_count": 160,
     "metadata": {},
     "output_type": "execute_result"
    }
   ],
   "source": [
    "censusData[:2]\n"
   ]
  },
  {
   "cell_type": "code",
   "execution_count": 157,
   "metadata": {},
   "outputs": [
    {
     "data": {
      "text/plain": [
       "['LaCrime']"
      ]
     },
     "execution_count": 157,
     "metadata": {},
     "output_type": "execute_result"
    }
   ],
   "source": [
    "# check tables\n",
    "engine.table_names()\n"
   ]
  },
  {
   "cell_type": "code",
   "execution_count": 158,
   "metadata": {},
   "outputs": [],
   "source": [
    "# Create the new CensusZips table \n",
    "censusData.to_sql(name='CensusZips', con=engine, if_exists='append', index=False)\n"
   ]
  },
  {
   "cell_type": "code",
   "execution_count": 164,
   "metadata": {},
   "outputs": [
    {
     "data": {
      "text/plain": [
       "['CensusZips', 'LaCrime']"
      ]
     },
     "execution_count": 164,
     "metadata": {},
     "output_type": "execute_result"
    }
   ],
   "source": [
    "engine.table_names()\n"
   ]
  },
  {
   "cell_type": "markdown",
   "metadata": {},
   "source": [
    "### Test Query the CensusZips table"
   ]
  },
  {
   "cell_type": "code",
   "execution_count": 165,
   "metadata": {},
   "outputs": [
    {
     "data": {
      "text/html": [
       "<div>\n",
       "<style scoped>\n",
       "    .dataframe tbody tr th:only-of-type {\n",
       "        vertical-align: middle;\n",
       "    }\n",
       "\n",
       "    .dataframe tbody tr th {\n",
       "        vertical-align: top;\n",
       "    }\n",
       "\n",
       "    .dataframe thead th {\n",
       "        text-align: right;\n",
       "    }\n",
       "</style>\n",
       "<table border=\"1\" class=\"dataframe\">\n",
       "  <thead>\n",
       "    <tr style=\"text-align: right;\">\n",
       "      <th></th>\n",
       "      <th>Zipcode</th>\n",
       "      <th>Population</th>\n",
       "      <th>Unemployment Count</th>\n",
       "      <th>Unemployment Rate</th>\n",
       "    </tr>\n",
       "  </thead>\n",
       "  <tbody>\n",
       "    <tr>\n",
       "      <th>33115</th>\n",
       "      <td>99923</td>\n",
       "      <td>0.0</td>\n",
       "      <td>0.0</td>\n",
       "      <td>NaN</td>\n",
       "    </tr>\n",
       "    <tr>\n",
       "      <th>33116</th>\n",
       "      <td>99925</td>\n",
       "      <td>901.0</td>\n",
       "      <td>124.0</td>\n",
       "      <td>13.762486</td>\n",
       "    </tr>\n",
       "    <tr>\n",
       "      <th>33117</th>\n",
       "      <td>99926</td>\n",
       "      <td>1684.0</td>\n",
       "      <td>132.0</td>\n",
       "      <td>7.838480</td>\n",
       "    </tr>\n",
       "    <tr>\n",
       "      <th>33118</th>\n",
       "      <td>99927</td>\n",
       "      <td>59.0</td>\n",
       "      <td>0.0</td>\n",
       "      <td>0.000000</td>\n",
       "    </tr>\n",
       "    <tr>\n",
       "      <th>33119</th>\n",
       "      <td>99929</td>\n",
       "      <td>2455.0</td>\n",
       "      <td>83.0</td>\n",
       "      <td>3.380855</td>\n",
       "    </tr>\n",
       "  </tbody>\n",
       "</table>\n",
       "</div>"
      ],
      "text/plain": [
       "       Zipcode  Population  Unemployment Count  Unemployment Rate\n",
       "33115    99923         0.0                 0.0                NaN\n",
       "33116    99925       901.0               124.0          13.762486\n",
       "33117    99926      1684.0               132.0           7.838480\n",
       "33118    99927        59.0                 0.0           0.000000\n",
       "33119    99929      2455.0                83.0           3.380855"
      ]
     },
     "execution_count": 165,
     "metadata": {},
     "output_type": "execute_result"
    }
   ],
   "source": [
    "pd.read_sql_query('select * from CensusZips', con=engine).tail()\n"
   ]
  },
  {
   "cell_type": "markdown",
   "metadata": {},
   "source": [
    "# Test Query both tables  performing a join on the zip code"
   ]
  },
  {
   "cell_type": "code",
   "execution_count": 211,
   "metadata": {},
   "outputs": [],
   "source": [
    "query1 = '''\n",
    "SELECT `Crime Code Description` as crime,\n",
    "`Unemployment Rate` FROM LaCrime\n",
    "JOIN CensusZips on CensusZips.Zipcode = LaCrime.zip\n",
    "GROUP by crime ORDER by `Unemployment Rate` DESC\n",
    "'''\n",
    "query2 = '''\n",
    "SELECT `Crime Code Description` as crime,  CensusZips.Zipcode as census_zip, \n",
    "LaCrime.zip as la_zip, `Unemployment Rate` FROM LaCrime\n",
    "JOIN CensusZips on census_zip = la_zip\n",
    "GROUP by `crime`\n",
    "ORDER by `Unemployment Rate` DESC ;\n",
    "'''\n"
   ]
  },
  {
   "cell_type": "code",
   "execution_count": 212,
   "metadata": {},
   "outputs": [
    {
     "data": {
      "text/html": [
       "<div>\n",
       "<style scoped>\n",
       "    .dataframe tbody tr th:only-of-type {\n",
       "        vertical-align: middle;\n",
       "    }\n",
       "\n",
       "    .dataframe tbody tr th {\n",
       "        vertical-align: top;\n",
       "    }\n",
       "\n",
       "    .dataframe thead th {\n",
       "        text-align: right;\n",
       "    }\n",
       "</style>\n",
       "<table border=\"1\" class=\"dataframe\">\n",
       "  <thead>\n",
       "    <tr style=\"text-align: right;\">\n",
       "      <th></th>\n",
       "      <th>crime</th>\n",
       "      <th>Unemployment Rate</th>\n",
       "    </tr>\n",
       "  </thead>\n",
       "  <tbody>\n",
       "    <tr>\n",
       "      <th>0</th>\n",
       "      <td>ARSON</td>\n",
       "      <td>6.832818</td>\n",
       "    </tr>\n",
       "    <tr>\n",
       "      <th>1</th>\n",
       "      <td>ASSAULT WITH DEADLY WEAPON ON POLICE OFFICER</td>\n",
       "      <td>6.832818</td>\n",
       "    </tr>\n",
       "    <tr>\n",
       "      <th>2</th>\n",
       "      <td>ASSAULT WITH DEADLY WEAPON, AGGRAVATED ASSAULT</td>\n",
       "      <td>6.832818</td>\n",
       "    </tr>\n",
       "    <tr>\n",
       "      <th>3</th>\n",
       "      <td>BATTERY WITH SEXUAL CONTACT</td>\n",
       "      <td>6.832818</td>\n",
       "    </tr>\n",
       "    <tr>\n",
       "      <th>4</th>\n",
       "      <td>BRANDISH WEAPON</td>\n",
       "      <td>6.832818</td>\n",
       "    </tr>\n",
       "    <tr>\n",
       "      <th>5</th>\n",
       "      <td>COUNTERFEIT</td>\n",
       "      <td>6.832818</td>\n",
       "    </tr>\n",
       "    <tr>\n",
       "      <th>6</th>\n",
       "      <td>CRM AGNST CHLD (13 OR UNDER) (14-15 &amp; SUSP 10 ...</td>\n",
       "      <td>6.832818</td>\n",
       "    </tr>\n",
       "    <tr>\n",
       "      <th>7</th>\n",
       "      <td>INTIMATE PARTNER - AGGRAVATED ASSAULT</td>\n",
       "      <td>6.832818</td>\n",
       "    </tr>\n",
       "    <tr>\n",
       "      <th>8</th>\n",
       "      <td>LETTERS, LEWD  -  TELEPHONE CALLS, LEWD</td>\n",
       "      <td>6.832818</td>\n",
       "    </tr>\n",
       "    <tr>\n",
       "      <th>9</th>\n",
       "      <td>RAPE, FORCIBLE</td>\n",
       "      <td>6.832818</td>\n",
       "    </tr>\n",
       "    <tr>\n",
       "      <th>10</th>\n",
       "      <td>ROBBERY</td>\n",
       "      <td>6.832818</td>\n",
       "    </tr>\n",
       "    <tr>\n",
       "      <th>11</th>\n",
       "      <td>SEXUAL PENETRATION W/FOREIGN OBJECT</td>\n",
       "      <td>6.832818</td>\n",
       "    </tr>\n",
       "    <tr>\n",
       "      <th>12</th>\n",
       "      <td>SODOMY/SEXUAL CONTACT B/W PENIS OF ONE PERS TO...</td>\n",
       "      <td>6.832818</td>\n",
       "    </tr>\n",
       "    <tr>\n",
       "      <th>13</th>\n",
       "      <td>THEFT FROM MOTOR VEHICLE - GRAND ($400 AND OVER)</td>\n",
       "      <td>6.832818</td>\n",
       "    </tr>\n",
       "    <tr>\n",
       "      <th>14</th>\n",
       "      <td>VANDALISM - MISDEAMEANOR ($399 OR UNDER)</td>\n",
       "      <td>6.832818</td>\n",
       "    </tr>\n",
       "  </tbody>\n",
       "</table>\n",
       "</div>"
      ],
      "text/plain": [
       "                                                crime  Unemployment Rate\n",
       "0                                               ARSON           6.832818\n",
       "1        ASSAULT WITH DEADLY WEAPON ON POLICE OFFICER           6.832818\n",
       "2      ASSAULT WITH DEADLY WEAPON, AGGRAVATED ASSAULT           6.832818\n",
       "3                         BATTERY WITH SEXUAL CONTACT           6.832818\n",
       "4                                     BRANDISH WEAPON           6.832818\n",
       "5                                         COUNTERFEIT           6.832818\n",
       "6   CRM AGNST CHLD (13 OR UNDER) (14-15 & SUSP 10 ...           6.832818\n",
       "7               INTIMATE PARTNER - AGGRAVATED ASSAULT           6.832818\n",
       "8             LETTERS, LEWD  -  TELEPHONE CALLS, LEWD           6.832818\n",
       "9                                      RAPE, FORCIBLE           6.832818\n",
       "10                                            ROBBERY           6.832818\n",
       "11                SEXUAL PENETRATION W/FOREIGN OBJECT           6.832818\n",
       "12  SODOMY/SEXUAL CONTACT B/W PENIS OF ONE PERS TO...           6.832818\n",
       "13   THEFT FROM MOTOR VEHICLE - GRAND ($400 AND OVER)           6.832818\n",
       "14           VANDALISM - MISDEAMEANOR ($399 OR UNDER)           6.832818"
      ]
     },
     "execution_count": 212,
     "metadata": {},
     "output_type": "execute_result"
    }
   ],
   "source": [
    "pd.read_sql_query(query1, con=engine)[:15]\n"
   ]
  },
  {
   "cell_type": "code",
   "execution_count": null,
   "metadata": {},
   "outputs": [],
   "source": []
  },
  {
   "cell_type": "code",
   "execution_count": 213,
   "metadata": {},
   "outputs": [
    {
     "data": {
      "text/html": [
       "<div>\n",
       "<style scoped>\n",
       "    .dataframe tbody tr th:only-of-type {\n",
       "        vertical-align: middle;\n",
       "    }\n",
       "\n",
       "    .dataframe tbody tr th {\n",
       "        vertical-align: top;\n",
       "    }\n",
       "\n",
       "    .dataframe thead th {\n",
       "        text-align: right;\n",
       "    }\n",
       "</style>\n",
       "<table border=\"1\" class=\"dataframe\">\n",
       "  <thead>\n",
       "    <tr style=\"text-align: right;\">\n",
       "      <th></th>\n",
       "      <th>crime</th>\n",
       "      <th>census_zip</th>\n",
       "      <th>la_zip</th>\n",
       "      <th>Unemployment Rate</th>\n",
       "    </tr>\n",
       "  </thead>\n",
       "  <tbody>\n",
       "    <tr>\n",
       "      <th>0</th>\n",
       "      <td>ARSON</td>\n",
       "      <td>90013</td>\n",
       "      <td>90013</td>\n",
       "      <td>6.832818</td>\n",
       "    </tr>\n",
       "    <tr>\n",
       "      <th>1</th>\n",
       "      <td>ASSAULT WITH DEADLY WEAPON ON POLICE OFFICER</td>\n",
       "      <td>90013</td>\n",
       "      <td>90013</td>\n",
       "      <td>6.832818</td>\n",
       "    </tr>\n",
       "    <tr>\n",
       "      <th>2</th>\n",
       "      <td>ASSAULT WITH DEADLY WEAPON, AGGRAVATED ASSAULT</td>\n",
       "      <td>90013</td>\n",
       "      <td>90013</td>\n",
       "      <td>6.832818</td>\n",
       "    </tr>\n",
       "    <tr>\n",
       "      <th>3</th>\n",
       "      <td>BATTERY WITH SEXUAL CONTACT</td>\n",
       "      <td>90013</td>\n",
       "      <td>90013</td>\n",
       "      <td>6.832818</td>\n",
       "    </tr>\n",
       "    <tr>\n",
       "      <th>4</th>\n",
       "      <td>BRANDISH WEAPON</td>\n",
       "      <td>90013</td>\n",
       "      <td>90013</td>\n",
       "      <td>6.832818</td>\n",
       "    </tr>\n",
       "    <tr>\n",
       "      <th>5</th>\n",
       "      <td>COUNTERFEIT</td>\n",
       "      <td>90013</td>\n",
       "      <td>90013</td>\n",
       "      <td>6.832818</td>\n",
       "    </tr>\n",
       "    <tr>\n",
       "      <th>6</th>\n",
       "      <td>CRM AGNST CHLD (13 OR UNDER) (14-15 &amp; SUSP 10 ...</td>\n",
       "      <td>90013</td>\n",
       "      <td>90013</td>\n",
       "      <td>6.832818</td>\n",
       "    </tr>\n",
       "    <tr>\n",
       "      <th>7</th>\n",
       "      <td>INTIMATE PARTNER - AGGRAVATED ASSAULT</td>\n",
       "      <td>90013</td>\n",
       "      <td>90013</td>\n",
       "      <td>6.832818</td>\n",
       "    </tr>\n",
       "    <tr>\n",
       "      <th>8</th>\n",
       "      <td>LETTERS, LEWD  -  TELEPHONE CALLS, LEWD</td>\n",
       "      <td>90013</td>\n",
       "      <td>90013</td>\n",
       "      <td>6.832818</td>\n",
       "    </tr>\n",
       "    <tr>\n",
       "      <th>9</th>\n",
       "      <td>RAPE, FORCIBLE</td>\n",
       "      <td>90013</td>\n",
       "      <td>90013</td>\n",
       "      <td>6.832818</td>\n",
       "    </tr>\n",
       "    <tr>\n",
       "      <th>10</th>\n",
       "      <td>ROBBERY</td>\n",
       "      <td>90013</td>\n",
       "      <td>90013</td>\n",
       "      <td>6.832818</td>\n",
       "    </tr>\n",
       "    <tr>\n",
       "      <th>11</th>\n",
       "      <td>SEXUAL PENETRATION W/FOREIGN OBJECT</td>\n",
       "      <td>90013</td>\n",
       "      <td>90013</td>\n",
       "      <td>6.832818</td>\n",
       "    </tr>\n",
       "    <tr>\n",
       "      <th>12</th>\n",
       "      <td>SODOMY/SEXUAL CONTACT B/W PENIS OF ONE PERS TO...</td>\n",
       "      <td>90013</td>\n",
       "      <td>90013</td>\n",
       "      <td>6.832818</td>\n",
       "    </tr>\n",
       "    <tr>\n",
       "      <th>13</th>\n",
       "      <td>THEFT FROM MOTOR VEHICLE - GRAND ($400 AND OVER)</td>\n",
       "      <td>90013</td>\n",
       "      <td>90013</td>\n",
       "      <td>6.832818</td>\n",
       "    </tr>\n",
       "    <tr>\n",
       "      <th>14</th>\n",
       "      <td>VANDALISM - MISDEAMEANOR ($399 OR UNDER)</td>\n",
       "      <td>90013</td>\n",
       "      <td>90013</td>\n",
       "      <td>6.832818</td>\n",
       "    </tr>\n",
       "  </tbody>\n",
       "</table>\n",
       "</div>"
      ],
      "text/plain": [
       "                                                crime  census_zip la_zip  \\\n",
       "0                                               ARSON       90013  90013   \n",
       "1        ASSAULT WITH DEADLY WEAPON ON POLICE OFFICER       90013  90013   \n",
       "2      ASSAULT WITH DEADLY WEAPON, AGGRAVATED ASSAULT       90013  90013   \n",
       "3                         BATTERY WITH SEXUAL CONTACT       90013  90013   \n",
       "4                                     BRANDISH WEAPON       90013  90013   \n",
       "5                                         COUNTERFEIT       90013  90013   \n",
       "6   CRM AGNST CHLD (13 OR UNDER) (14-15 & SUSP 10 ...       90013  90013   \n",
       "7               INTIMATE PARTNER - AGGRAVATED ASSAULT       90013  90013   \n",
       "8             LETTERS, LEWD  -  TELEPHONE CALLS, LEWD       90013  90013   \n",
       "9                                      RAPE, FORCIBLE       90013  90013   \n",
       "10                                            ROBBERY       90013  90013   \n",
       "11                SEXUAL PENETRATION W/FOREIGN OBJECT       90013  90013   \n",
       "12  SODOMY/SEXUAL CONTACT B/W PENIS OF ONE PERS TO...       90013  90013   \n",
       "13   THEFT FROM MOTOR VEHICLE - GRAND ($400 AND OVER)       90013  90013   \n",
       "14           VANDALISM - MISDEAMEANOR ($399 OR UNDER)       90013  90013   \n",
       "\n",
       "    Unemployment Rate  \n",
       "0            6.832818  \n",
       "1            6.832818  \n",
       "2            6.832818  \n",
       "3            6.832818  \n",
       "4            6.832818  \n",
       "5            6.832818  \n",
       "6            6.832818  \n",
       "7            6.832818  \n",
       "8            6.832818  \n",
       "9            6.832818  \n",
       "10           6.832818  \n",
       "11           6.832818  \n",
       "12           6.832818  \n",
       "13           6.832818  \n",
       "14           6.832818  "
      ]
     },
     "execution_count": 213,
     "metadata": {},
     "output_type": "execute_result"
    }
   ],
   "source": [
    "pd.read_sql_query(query2, con=engine)[:15]\n"
   ]
  },
  {
   "cell_type": "code",
   "execution_count": null,
   "metadata": {},
   "outputs": [],
   "source": []
  },
  {
   "cell_type": "code",
   "execution_count": null,
   "metadata": {},
   "outputs": [],
   "source": []
  },
  {
   "cell_type": "code",
   "execution_count": null,
   "metadata": {},
   "outputs": [],
   "source": []
  },
  {
   "cell_type": "code",
   "execution_count": null,
   "metadata": {},
   "outputs": [],
   "source": []
  },
  {
   "cell_type": "markdown",
   "metadata": {},
   "source": [
    "## TESTING LINES 👇🏾"
   ]
  },
  {
   "cell_type": "markdown",
   "metadata": {},
   "source": [
    "#### FALIED TEST TO THE ZIP EXTRACTION FUNCTION @ BOTTOM"
   ]
  },
  {
   "cell_type": "code",
   "execution_count": 194,
   "metadata": {},
   "outputs": [
    {
     "data": {
      "text/plain": [
       "3420"
      ]
     },
     "execution_count": 194,
     "metadata": {},
     "output_type": "execute_result"
    }
   ],
   "source": [
    "crime_df[crime_df.columns[1]].value_counts().count()"
   ]
  },
  {
   "cell_type": "code",
   "execution_count": 195,
   "metadata": {},
   "outputs": [
    {
     "data": {
      "text/plain": [
       "575.4315789473684"
      ]
     },
     "execution_count": 195,
     "metadata": {},
     "output_type": "execute_result"
    }
   ],
   "source": [
    "crime_df['Date Reported'].count()/crime_df['Date Reported'].value_counts().count()"
   ]
  },
  {
   "cell_type": "code",
   "execution_count": 196,
   "metadata": {},
   "outputs": [
    {
     "data": {
      "text/plain": [
       "H    670251\n",
       "W    472918\n",
       "B    309864\n",
       "O    187504\n",
       "X     64807\n",
       "A     46805\n",
       "K      8504\n",
       "F      2280\n",
       "I       846\n",
       "C       824\n",
       "J       322\n",
       "P       320\n",
       "U       174\n",
       "V       139\n",
       "Z        92\n",
       "G        77\n",
       "S        30\n",
       "D        20\n",
       "L        14\n",
       "-         3\n",
       "Name: Victim Descent, dtype: int64"
      ]
     },
     "execution_count": 196,
     "metadata": {},
     "output_type": "execute_result"
    }
   ],
   "source": [
    "crime_df['Victim Descent'].value_counts()"
   ]
  },
  {
   "cell_type": "code",
   "execution_count": 197,
   "metadata": {},
   "outputs": [
    {
     "data": {
      "text/plain": [
       "array(['W', 'H', 'O', 'B', 'A', 'X', nan, 'K', 'V', 'J', 'F', 'P', 'C',\n",
       "       'I', 'U', 'D', 'G', 'Z', 'L', 'S', '-'], dtype=object)"
      ]
     },
     "execution_count": 197,
     "metadata": {},
     "output_type": "execute_result"
    }
   ],
   "source": [
    "crime_df['Victim Descent'].unique()"
   ]
  },
  {
   "cell_type": "code",
   "execution_count": 113,
   "metadata": {},
   "outputs": [
    {
     "ename": "TypeError",
     "evalue": "cannot convert the series to <class 'float'>",
     "output_type": "error",
     "traceback": [
      "\u001b[0;31m---------------------------------------------------------------------------\u001b[0m",
      "\u001b[0;31mTypeError\u001b[0m                                 Traceback (most recent call last)",
      "\u001b[0;32m<ipython-input-113-551b35f52710>\u001b[0m in \u001b[0;36m<module>\u001b[0;34m\u001b[0m\n\u001b[1;32m      3\u001b[0m \u001b[0msmall_df\u001b[0m\u001b[0;34m\u001b[0m\u001b[0;34m\u001b[0m\u001b[0m\n\u001b[1;32m      4\u001b[0m \u001b[0;34m\u001b[0m\u001b[0m\n\u001b[0;32m----> 5\u001b[0;31m \u001b[0msmall_df\u001b[0m\u001b[0;34m[\u001b[0m\u001b[0;34m'zip'\u001b[0m\u001b[0;34m]\u001b[0m \u001b[0;34m=\u001b[0m \u001b[0msmall_df\u001b[0m\u001b[0;34m.\u001b[0m\u001b[0mapply\u001b[0m\u001b[0;34m(\u001b[0m\u001b[0mcomputeNearestZip\u001b[0m\u001b[0;34m(\u001b[0m\u001b[0msmall_df\u001b[0m\u001b[0;34m[\u001b[0m\u001b[0;34m'lat'\u001b[0m\u001b[0;34m]\u001b[0m\u001b[0;34m,\u001b[0m\u001b[0msmall_df\u001b[0m\u001b[0;34m[\u001b[0m\u001b[0;34m'long'\u001b[0m\u001b[0;34m]\u001b[0m\u001b[0;34m)\u001b[0m\u001b[0;34m,\u001b[0m \u001b[0maxis\u001b[0m\u001b[0;34m=\u001b[0m\u001b[0;36m1\u001b[0m\u001b[0;34m)\u001b[0m\u001b[0;34m\u001b[0m\u001b[0;34m\u001b[0m\u001b[0m\n\u001b[0m",
      "\u001b[0;32m~/Desktop/MyGTdata/MyHW/ETL_PROJECT/MR_FILES/diffs_latlong.py\u001b[0m in \u001b[0;36mcomputeNearestZip\u001b[0;34m(latitude, longitude)\u001b[0m\n\u001b[1;32m     30\u001b[0m                 \u001b[0mlat1\u001b[0m \u001b[0;34m=\u001b[0m \u001b[0mdistancedata\u001b[0m\u001b[0;34m[\u001b[0m\u001b[0;34m\"latitude\"\u001b[0m\u001b[0;34m]\u001b[0m\u001b[0;34m\u001b[0m\u001b[0;34m\u001b[0m\u001b[0m\n\u001b[1;32m     31\u001b[0m                 \u001b[0mlong1\u001b[0m \u001b[0;34m=\u001b[0m \u001b[0mdistancedata\u001b[0m\u001b[0;34m[\u001b[0m\u001b[0;34m\"longitude\"\u001b[0m\u001b[0;34m]\u001b[0m\u001b[0;34m\u001b[0m\u001b[0;34m\u001b[0m\u001b[0m\n\u001b[0;32m---> 32\u001b[0;31m                 \u001b[0mdistance\u001b[0m \u001b[0;34m=\u001b[0m \u001b[0mdistanceV\u001b[0m\u001b[0;34m(\u001b[0m\u001b[0mlatitude\u001b[0m\u001b[0;34m,\u001b[0m\u001b[0mlongitude\u001b[0m\u001b[0;34m,\u001b[0m \u001b[0mlat1\u001b[0m\u001b[0;34m,\u001b[0m\u001b[0mlong1\u001b[0m\u001b[0;34m)\u001b[0m\u001b[0;34m\u001b[0m\u001b[0;34m\u001b[0m\u001b[0m\n\u001b[0m\u001b[1;32m     33\u001b[0m \u001b[0;34m\u001b[0m\u001b[0m\n\u001b[1;32m     34\u001b[0m                 \u001b[0;32mif\u001b[0m\u001b[0;34m(\u001b[0m\u001b[0mdistance\u001b[0m \u001b[0;34m<\u001b[0m\u001b[0msmallestDistance\u001b[0m\u001b[0;34m)\u001b[0m\u001b[0;34m:\u001b[0m\u001b[0;34m\u001b[0m\u001b[0;34m\u001b[0m\u001b[0m\n",
      "\u001b[0;32m~/Desktop/MyGTdata/MyHW/ETL_PROJECT/MR_FILES/diffs_latlong.py\u001b[0m in \u001b[0;36mdistanceV\u001b[0;34m(lat1, lon1, lat2, lon2)\u001b[0m\n\u001b[1;32m     11\u001b[0m     \u001b[0mradius\u001b[0m \u001b[0;34m=\u001b[0m \u001b[0;36m6371\u001b[0m \u001b[0;31m# km\u001b[0m\u001b[0;34m\u001b[0m\u001b[0;34m\u001b[0m\u001b[0m\n\u001b[1;32m     12\u001b[0m \u001b[0;34m\u001b[0m\u001b[0m\n\u001b[0;32m---> 13\u001b[0;31m     \u001b[0mdlat\u001b[0m \u001b[0;34m=\u001b[0m \u001b[0mmath\u001b[0m\u001b[0;34m.\u001b[0m\u001b[0mradians\u001b[0m\u001b[0;34m(\u001b[0m\u001b[0mlat2\u001b[0m\u001b[0;34m-\u001b[0m\u001b[0mlat1\u001b[0m\u001b[0;34m)\u001b[0m\u001b[0;34m\u001b[0m\u001b[0;34m\u001b[0m\u001b[0m\n\u001b[0m\u001b[1;32m     14\u001b[0m     \u001b[0mdlon\u001b[0m \u001b[0;34m=\u001b[0m \u001b[0mmath\u001b[0m\u001b[0;34m.\u001b[0m\u001b[0mradians\u001b[0m\u001b[0;34m(\u001b[0m\u001b[0mlon2\u001b[0m\u001b[0;34m-\u001b[0m\u001b[0mlon1\u001b[0m\u001b[0;34m)\u001b[0m\u001b[0;34m\u001b[0m\u001b[0;34m\u001b[0m\u001b[0m\n\u001b[1;32m     15\u001b[0m     \u001b[0ma\u001b[0m \u001b[0;34m=\u001b[0m \u001b[0mmath\u001b[0m\u001b[0;34m.\u001b[0m\u001b[0msin\u001b[0m\u001b[0;34m(\u001b[0m\u001b[0mdlat\u001b[0m\u001b[0;34m/\u001b[0m\u001b[0;36m2\u001b[0m\u001b[0;34m)\u001b[0m \u001b[0;34m*\u001b[0m \u001b[0mmath\u001b[0m\u001b[0;34m.\u001b[0m\u001b[0msin\u001b[0m\u001b[0;34m(\u001b[0m\u001b[0mdlat\u001b[0m\u001b[0;34m/\u001b[0m\u001b[0;36m2\u001b[0m\u001b[0;34m)\u001b[0m \u001b[0;34m+\u001b[0m \u001b[0mmath\u001b[0m\u001b[0;34m.\u001b[0m\u001b[0mcos\u001b[0m\u001b[0;34m(\u001b[0m\u001b[0mmath\u001b[0m\u001b[0;34m.\u001b[0m\u001b[0mradians\u001b[0m\u001b[0;34m(\u001b[0m\u001b[0mlat1\u001b[0m\u001b[0;34m)\u001b[0m\u001b[0;34m)\u001b[0m\u001b[0;31m \u001b[0m\u001b[0;31m\\\u001b[0m\u001b[0;34m\u001b[0m\u001b[0;34m\u001b[0m\u001b[0m\n",
      "\u001b[0;32m/anaconda3/lib/python3.7/site-packages/pandas/core/series.py\u001b[0m in \u001b[0;36mwrapper\u001b[0;34m(self)\u001b[0m\n\u001b[1;32m     91\u001b[0m             \u001b[0;32mreturn\u001b[0m \u001b[0mconverter\u001b[0m\u001b[0;34m(\u001b[0m\u001b[0mself\u001b[0m\u001b[0;34m.\u001b[0m\u001b[0miloc\u001b[0m\u001b[0;34m[\u001b[0m\u001b[0;36m0\u001b[0m\u001b[0;34m]\u001b[0m\u001b[0;34m)\u001b[0m\u001b[0;34m\u001b[0m\u001b[0;34m\u001b[0m\u001b[0m\n\u001b[1;32m     92\u001b[0m         raise TypeError(\"cannot convert the series to \"\n\u001b[0;32m---> 93\u001b[0;31m                         \"{0}\".format(str(converter)))\n\u001b[0m\u001b[1;32m     94\u001b[0m \u001b[0;34m\u001b[0m\u001b[0m\n\u001b[1;32m     95\u001b[0m     \u001b[0mwrapper\u001b[0m\u001b[0;34m.\u001b[0m\u001b[0m__name__\u001b[0m \u001b[0;34m=\u001b[0m \u001b[0;34m\"__{name}__\"\u001b[0m\u001b[0;34m.\u001b[0m\u001b[0mformat\u001b[0m\u001b[0;34m(\u001b[0m\u001b[0mname\u001b[0m\u001b[0;34m=\u001b[0m\u001b[0mconverter\u001b[0m\u001b[0;34m.\u001b[0m\u001b[0m__name__\u001b[0m\u001b[0;34m)\u001b[0m\u001b[0;34m\u001b[0m\u001b[0;34m\u001b[0m\u001b[0m\n",
      "\u001b[0;31mTypeError\u001b[0m: cannot convert the series to <class 'float'>"
     ]
    }
   ],
   "source": [
    "# 😾\n",
    "small_df = crime_df[:10]\n",
    "small_df\n",
    "\n",
    "small_df['zip'] = small_df.apply(computeNearestZip(small_df['lat'],small_df['long']), axis=1)\n"
   ]
  },
  {
   "cell_type": "code",
   "execution_count": null,
   "metadata": {},
   "outputs": [],
   "source": []
  }
 ],
 "metadata": {
  "kernelspec": {
   "display_name": "Python 3",
   "language": "python",
   "name": "python3"
  },
  "language_info": {
   "codemirror_mode": {
    "name": "ipython",
    "version": 3
   },
   "file_extension": ".py",
   "mimetype": "text/x-python",
   "name": "python",
   "nbconvert_exporter": "python",
   "pygments_lexer": "ipython3",
   "version": "3.7.3"
  }
 },
 "nbformat": 4,
 "nbformat_minor": 2
}
