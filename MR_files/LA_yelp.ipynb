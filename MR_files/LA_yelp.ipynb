{
 "cells": [
  {
   "cell_type": "markdown",
   "metadata": {},
   "source": [
    "# YELP API Data on businesses: City of Los Angeles CA\n",
    "--------------------------------------------"
   ]
  },
  {
   "cell_type": "markdown",
   "metadata": {},
   "source": [
    "## ETL PROCES REPORT\n",
    "--------------------------------------------\n",
    "### E: PULLING DATA FROM YELP'S API:\n",
    "\n",
    "* Step 1: Get an API KEY  from yelp\n",
    "* Investigate what kind of data to retrieve. In our case: General business profiles in the City of LA California\n",
    "* The API returns only 50 results max per call\n",
    "* Perform a test pull to look at the result and it's json structure to design the data frame\n",
    "\n",
    "### T: PREPROCESSING THE JSON RESPONSE FROM THE API:\n",
    "--------------------------------------------\n",
    "\n",
    "* Declare/Initialize the variables/columns that will hold the downloaded data\n",
    "* We build a dataset of 1000 resutls by making multiple calls dynamically and saving data into a dataframe on the fly\n",
    "* Data processing consisted in extracting data from the json response and formatting it to create tabular data for the df\n",
    "* The Transforming process included string manipulation regex and python scripting.\n",
    "\n",
    "### L: LOADING TO SQL AND MONGODB:\n",
    "--------------------------------------------\n",
    "* This was the most straightforward step accomplished with no issues\n",
    "* We simplify this proces by using sqlite instead of mysql or postgress\n",
    "* We also saved csv files of the data before we loaded it into the database systems.\n"
   ]
  },
  {
   "cell_type": "code",
   "execution_count": 7,
   "metadata": {},
   "outputs": [
    {
     "data": {
      "text/plain": [
       "'Tue, May 21 2019 11:36:23'"
      ]
     },
     "execution_count": 7,
     "metadata": {},
     "output_type": "execute_result"
    }
   ],
   "source": [
    "import requests\n",
    "import json\n",
    "import pandas as pd\n",
    "from credentials import APIKey\n",
    "import time\n",
    "from datetime import date, datetime\n",
    "from time import gmtime, strftime\n",
    "\n",
    "# strftime(\"%a, %d %b %Y %H:%M:%S +0000\", gmtime())\n",
    "# strftime(\"%a, %d %b %Y %H:%M:%S +0000\")\n",
    "strftime(\"%a, %b %d %Y %H:%M:%S\")"
   ]
  },
  {
   "cell_type": "code",
   "execution_count": 8,
   "metadata": {},
   "outputs": [],
   "source": [
    "MY_API_KEY = APIKey\n",
    "HEADERS = {'Authorization': 'bearer %s' % MY_API_KEY}\n"
   ]
  },
  {
   "cell_type": "code",
   "execution_count": 9,
   "metadata": {},
   "outputs": [],
   "source": [
    "base_url = \"https://api.yelp.com/v3/businesses/search\""
   ]
  },
  {
   "cell_type": "code",
   "execution_count": 10,
   "metadata": {},
   "outputs": [],
   "source": [
    "search_location = 'los angeles ca united states'"
   ]
  },
  {
   "cell_type": "code",
   "execution_count": 11,
   "metadata": {},
   "outputs": [],
   "source": [
    "PARAMETERS = {'location': search_location,\n",
    "                  'limit': 50,\n",
    "                  'radius': 40000,\n",
    "                 }"
   ]
  },
  {
   "cell_type": "code",
   "execution_count": 27,
   "metadata": {},
   "outputs": [
    {
     "name": "stdout",
     "output_type": "stream",
     "text": [
      "Yelp API hit at: Mon, 20 May 2019 15:52:07\n"
     ]
    }
   ],
   "source": [
    "response = requests.get(url = base_url,\n",
    "                        params = PARAMETERS,\n",
    "                        headers = HEADERS)\n",
    "\n",
    "print(f\"Yelp API hit at: {strftime('%a, %d %b %Y %H:%M:%S')}\")"
   ]
  },
  {
   "cell_type": "code",
   "execution_count": 319,
   "metadata": {},
   "outputs": [
    {
     "name": "stdout",
     "output_type": "stream",
     "text": [
      "200\n",
      "Response succesfull 🥳\n"
     ]
    }
   ],
   "source": [
    "### Check if response was succesful: response code 200 🕺🏽\n",
    "print(response.status_code)\n",
    "if response.status_code == 200:\n",
    "    print(f\"Response succesfull 🥳\")"
   ]
  },
  {
   "cell_type": "code",
   "execution_count": null,
   "metadata": {},
   "outputs": [],
   "source": [
    "response.text"
   ]
  },
  {
   "cell_type": "code",
   "execution_count": 41,
   "metadata": {},
   "outputs": [],
   "source": [
    "# Save a pickle to local machine of the first 50 results\n",
    "with open('Pickles/yelp_first50_text_pickle', 'wb') as datafile :\n",
    "    pickle.dump(response.text, datafile )\n"
   ]
  },
  {
   "cell_type": "code",
   "execution_count": null,
   "metadata": {},
   "outputs": [],
   "source": [
    "#Inspect the pickle file\n",
    "with open('Pickles/yelp_first50_text_pickle','rb') as pickleText:\n",
    "    yelp_pickle_50 = pickle.load(pickleText)\n",
    "    "
   ]
  },
  {
   "cell_type": "code",
   "execution_count": null,
   "metadata": {},
   "outputs": [],
   "source": [
    "# yelp_pickle_50\n",
    "yelp_pickle_50"
   ]
  },
  {
   "cell_type": "code",
   "execution_count": 322,
   "metadata": {},
   "outputs": [],
   "source": [
    "responseDict = {}"
   ]
  },
  {
   "cell_type": "code",
   "execution_count": null,
   "metadata": {},
   "outputs": [],
   "source": [
    "response.text"
   ]
  },
  {
   "cell_type": "code",
   "execution_count": 324,
   "metadata": {},
   "outputs": [
    {
     "name": "stdout",
     "output_type": "stream",
     "text": [
      "https://api.yelp.com/v3/businesses/search?location=los+angeles+ca+united+states&limit=50&radius=40000\n",
      "type(response_url): <class 'str'>\n"
     ]
    }
   ],
   "source": [
    "response_url = response.url\n",
    "print(f\"{response_url}\")\n",
    "print(f\"type(response_url): {type(response_url)}\")"
   ]
  },
  {
   "cell_type": "code",
   "execution_count": 325,
   "metadata": {},
   "outputs": [],
   "source": [
    "json_response = response.json()"
   ]
  },
  {
   "cell_type": "code",
   "execution_count": 326,
   "metadata": {},
   "outputs": [
    {
     "data": {
      "text/plain": [
       "{'id': 'TkFEKhsCixPWlShULKvMdQ',\n",
       " 'alias': 'bottega-louie-los-angeles',\n",
       " 'name': 'Bottega Louie',\n",
       " 'image_url': 'https://s3-media1.fl.yelpcdn.com/bphoto/rAImnKvUNcNY8i6qEDWrZA/o.jpg',\n",
       " 'is_closed': False,\n",
       " 'url': 'https://www.yelp.com/biz/bottega-louie-los-angeles?adjust_creative=rCpoZ5I2XhS-AiKMOroCkg&utm_campaign=yelp_api_v3&utm_medium=api_v3_business_search&utm_source=rCpoZ5I2XhS-AiKMOroCkg',\n",
       " 'review_count': 16248,\n",
       " 'categories': [{'alias': 'italian', 'title': 'Italian'},\n",
       "  {'alias': 'bakeries', 'title': 'Bakeries'},\n",
       "  {'alias': 'breakfast_brunch', 'title': 'Breakfast & Brunch'}],\n",
       " 'rating': 4.0,\n",
       " 'coordinates': {'latitude': 34.0469300995766, 'longitude': -118.256601457672},\n",
       " 'transactions': [],\n",
       " 'price': '$$',\n",
       " 'location': {'address1': '700 S Grand Ave',\n",
       "  'address2': None,\n",
       "  'address3': '',\n",
       "  'city': 'Los Angeles',\n",
       "  'zip_code': '90017',\n",
       "  'country': 'US',\n",
       "  'state': 'CA',\n",
       "  'display_address': ['700 S Grand Ave', 'Los Angeles, CA 90017']},\n",
       " 'phone': '+12138021470',\n",
       " 'display_phone': '(213) 802-1470',\n",
       " 'distance': 6186.4405384986385}"
      ]
     },
     "execution_count": 326,
     "metadata": {},
     "output_type": "execute_result"
    }
   ],
   "source": [
    "# inspect the json file\n",
    "json_response['businesses'][0]"
   ]
  },
  {
   "cell_type": "code",
   "execution_count": 330,
   "metadata": {},
   "outputs": [],
   "source": [
    "# Save the body of the first API call(FIRST 50 RESULTS)\n",
    "responseDict[response_url] = response.text"
   ]
  },
  {
   "cell_type": "raw",
   "metadata": {},
   "source": [
    "responseDict"
   ]
  },
  {
   "cell_type": "code",
   "execution_count": 331,
   "metadata": {},
   "outputs": [
    {
     "name": "stdout",
     "output_type": "stream",
     "text": [
      "First API call results:\n",
      "for the city of los angeles ca united states\n",
      "---------------------------------------------\n",
      "Yelp found 11000 businesses in the area\n",
      "Resutls returned in the response object: 50 \n",
      "Keys in the response object: dict_keys(['businesses', 'total', 'region'])\n"
     ]
    }
   ],
   "source": [
    "print(f\"First API call results:\")\n",
    "print(f\"for the city of {search_location}\")\n",
    "print(f\"-\"*45)\n",
    "print(f\"Yelp found {json_response['total']} businesses in the area\")\n",
    "print(f\"Resutls returned in the response object: {len(json_response['businesses'])} \")\n",
    "print(f\"Keys in the response object: {json_response.keys()}\")\n"
   ]
  },
  {
   "cell_type": "code",
   "execution_count": 332,
   "metadata": {},
   "outputs": [
    {
     "data": {
      "text/plain": [
       "11000"
      ]
     },
     "execution_count": 332,
     "metadata": {},
     "output_type": "execute_result"
    }
   ],
   "source": [
    "biz_count = json_response['total']\n",
    "biz_count"
   ]
  },
  {
   "cell_type": "code",
   "execution_count": 333,
   "metadata": {},
   "outputs": [
    {
     "data": {
      "text/plain": [
       "'Italian, Bakeries, Breakfast & Brunch'"
      ]
     },
     "execution_count": 333,
     "metadata": {},
     "output_type": "execute_result"
    }
   ],
   "source": [
    "# test joining business categories  from the response object into one string\n",
    "', '.join([val['title'] for val in json_response['businesses'][0]['categories']])"
   ]
  },
  {
   "cell_type": "code",
   "execution_count": 334,
   "metadata": {},
   "outputs": [],
   "source": [
    "# The API will only privide 1000 results max.\n",
    "# if there are more than 1000 results:\n",
    "# Set the variable to a max of 1000 to build the urls accordingly\n",
    "if biz_count > 1000:\n",
    "    biz_count = 1000"
   ]
  },
  {
   "cell_type": "code",
   "execution_count": 335,
   "metadata": {},
   "outputs": [
    {
     "name": "stdout",
     "output_type": "stream",
     "text": [
      "1000\n"
     ]
    },
    {
     "data": {
      "text/plain": [
       "'https://api.yelp.com/v3/businesses/search?location=los+angeles+ca+united+states&limit=50&radius=40000'"
      ]
     },
     "execution_count": 335,
     "metadata": {},
     "output_type": "execute_result"
    }
   ],
   "source": [
    "# variables to use in second loop. bins to dynamically divide the calls into chunks\n",
    "print(biz_count)\n",
    "bins = [chunk for chunk in range(50, biz_count, 50)]\n",
    "temp_urls = []\n",
    "response_url"
   ]
  },
  {
   "cell_type": "code",
   "execution_count": 336,
   "metadata": {},
   "outputs": [],
   "source": [
    "# loop to build the amount of urls according to the amount of results from the response object\n",
    "for i in range(len(bins)):\n",
    "    temp_urls.append(response_url + \"&offset=\" + f\"{str(bins[i])}\")\n",
    "    "
   ]
  },
  {
   "cell_type": "code",
   "execution_count": 337,
   "metadata": {},
   "outputs": [
    {
     "name": "stdout",
     "output_type": "stream",
     "text": [
      "https://api.yelp.com/v3/businesses/search?location=los+angeles+ca+united+states&limit=50&radius=40000&offset=50 \n",
      " https://api.yelp.com/v3/businesses/search?location=los+angeles+ca+united+states&limit=50&radius=40000&offset=950\n"
     ]
    }
   ],
   "source": [
    "# inspect the first and last url to test the chunks\n",
    "print(temp_urls[0],'\\n', temp_urls[-1])"
   ]
  },
  {
   "cell_type": "code",
   "execution_count": 338,
   "metadata": {},
   "outputs": [],
   "source": [
    "# Initialize an empty dataframe\n",
    "biz_df = pd.DataFrame()"
   ]
  },
  {
   "cell_type": "code",
   "execution_count": 346,
   "metadata": {},
   "outputs": [
    {
     "data": {
      "text/html": [
       "<div>\n",
       "<style scoped>\n",
       "    .dataframe tbody tr th:only-of-type {\n",
       "        vertical-align: middle;\n",
       "    }\n",
       "\n",
       "    .dataframe tbody tr th {\n",
       "        vertical-align: top;\n",
       "    }\n",
       "\n",
       "    .dataframe thead th {\n",
       "        text-align: right;\n",
       "    }\n",
       "</style>\n",
       "<table border=\"1\" class=\"dataframe\">\n",
       "  <thead>\n",
       "    <tr style=\"text-align: right;\">\n",
       "      <th></th>\n",
       "      <th>id</th>\n",
       "      <th>alias</th>\n",
       "      <th>name</th>\n",
       "      <th>categories</th>\n",
       "      <th>review_count</th>\n",
       "      <th>rating</th>\n",
       "      <th>lat</th>\n",
       "      <th>long</th>\n",
       "      <th>address</th>\n",
       "      <th>city</th>\n",
       "      <th>zip_code</th>\n",
       "      <th>country</th>\n",
       "      <th>state</th>\n",
       "      <th>phone</th>\n",
       "      <th>timestamp</th>\n",
       "      <th>pulled_on</th>\n",
       "    </tr>\n",
       "  </thead>\n",
       "  <tbody>\n",
       "  </tbody>\n",
       "</table>\n",
       "</div>"
      ],
      "text/plain": [
       "Empty DataFrame\n",
       "Columns: [id, alias, name, categories, review_count, rating, lat, long, address, city, zip_code, country, state, phone, timestamp, pulled_on]\n",
       "Index: []"
      ]
     },
     "execution_count": 346,
     "metadata": {},
     "output_type": "execute_result"
    }
   ],
   "source": [
    "# Initialize columns for the dataframe\n",
    "biz_df['id'] = ''\n",
    "biz_df['alias'] = ''\n",
    "biz_df['name'] = ''\n",
    "biz_df['categories'] = ''\n",
    "biz_df['review_count'] = ''\n",
    "biz_df['rating'] = ''\n",
    "biz_df['lat'] = ''\n",
    "biz_df['long'] = ''\n",
    "# biz_df['transactions'] = ''\n",
    "biz_df['address'] = ''\n",
    "biz_df['city'] = ''\n",
    "biz_df['zip_code'] = ''\n",
    "biz_df['country'] = ''\n",
    "biz_df['state'] = ''\n",
    "biz_df['phone'] = ''\n",
    "biz_df['pulled_on'] = ''\n",
    "\n",
    "# Inspect columns\n",
    "biz_df"
   ]
  },
  {
   "cell_type": "code",
   "execution_count": null,
   "metadata": {},
   "outputs": [],
   "source": []
  },
  {
   "cell_type": "code",
   "execution_count": 347,
   "metadata": {},
   "outputs": [
    {
     "data": {
      "text/plain": [
       "{'id': 'sYn3SNQP-j2t2XSwjlCbRg',\n",
       " 'alias': 'montys-good-burger-los-angeles',\n",
       " 'name': \"Monty's Good Burger\",\n",
       " 'image_url': 'https://s3-media2.fl.yelpcdn.com/bphoto/qoVy9kU9SLr8dsJNuIweWA/o.jpg',\n",
       " 'is_closed': False,\n",
       " 'url': 'https://www.yelp.com/biz/montys-good-burger-los-angeles?adjust_creative=rCpoZ5I2XhS-AiKMOroCkg&utm_campaign=yelp_api_v3&utm_medium=api_v3_business_search&utm_source=rCpoZ5I2XhS-AiKMOroCkg',\n",
       " 'review_count': 1210,\n",
       " 'categories': [{'alias': 'burgers', 'title': 'Burgers'},\n",
       "  {'alias': 'vegan', 'title': 'Vegan'}],\n",
       " 'rating': 4.5,\n",
       " 'coordinates': {'latitude': 34.06469, 'longitude': -118.30876},\n",
       " 'transactions': ['pickup', 'delivery'],\n",
       " 'price': '$$',\n",
       " 'location': {'address1': '516 S Western Ave',\n",
       "  'address2': '',\n",
       "  'address3': None,\n",
       "  'city': 'Los Angeles',\n",
       "  'zip_code': '90020',\n",
       "  'country': 'US',\n",
       "  'state': 'CA',\n",
       "  'display_address': ['516 S Western Ave', 'Los Angeles, CA 90020']},\n",
       " 'phone': '+12139150257',\n",
       " 'display_phone': '(213) 915-0257',\n",
       " 'distance': 1206.4348071176648}"
      ]
     },
     "execution_count": 347,
     "metadata": {},
     "output_type": "execute_result"
    }
   ],
   "source": [
    "# Inspect the last result\n",
    "json_response['businesses'][-1]"
   ]
  },
  {
   "cell_type": "code",
   "execution_count": 348,
   "metadata": {},
   "outputs": [
    {
     "name": "stdout",
     "output_type": "stream",
     "text": [
      "The second loop will make 19 calls to the following 19 different urls\n",
      "\n",
      "https://api.yelp.com/v3/businesses/search?location=los+angeles+ca+united+states&limit=50&radius=40000&offset=50\n",
      "https://api.yelp.com/v3/businesses/search?location=los+angeles+ca+united+states&limit=50&radius=40000&offset=100\n",
      "https://api.yelp.com/v3/businesses/search?location=los+angeles+ca+united+states&limit=50&radius=40000&offset=150\n",
      "https://api.yelp.com/v3/businesses/search?location=los+angeles+ca+united+states&limit=50&radius=40000&offset=200\n",
      "https://api.yelp.com/v3/businesses/search?location=los+angeles+ca+united+states&limit=50&radius=40000&offset=250\n",
      "https://api.yelp.com/v3/businesses/search?location=los+angeles+ca+united+states&limit=50&radius=40000&offset=300\n",
      "https://api.yelp.com/v3/businesses/search?location=los+angeles+ca+united+states&limit=50&radius=40000&offset=350\n",
      "https://api.yelp.com/v3/businesses/search?location=los+angeles+ca+united+states&limit=50&radius=40000&offset=400\n",
      "https://api.yelp.com/v3/businesses/search?location=los+angeles+ca+united+states&limit=50&radius=40000&offset=450\n",
      "https://api.yelp.com/v3/businesses/search?location=los+angeles+ca+united+states&limit=50&radius=40000&offset=500\n",
      "https://api.yelp.com/v3/businesses/search?location=los+angeles+ca+united+states&limit=50&radius=40000&offset=550\n",
      "https://api.yelp.com/v3/businesses/search?location=los+angeles+ca+united+states&limit=50&radius=40000&offset=600\n",
      "https://api.yelp.com/v3/businesses/search?location=los+angeles+ca+united+states&limit=50&radius=40000&offset=650\n",
      "https://api.yelp.com/v3/businesses/search?location=los+angeles+ca+united+states&limit=50&radius=40000&offset=700\n",
      "https://api.yelp.com/v3/businesses/search?location=los+angeles+ca+united+states&limit=50&radius=40000&offset=750\n",
      "https://api.yelp.com/v3/businesses/search?location=los+angeles+ca+united+states&limit=50&radius=40000&offset=800\n",
      "https://api.yelp.com/v3/businesses/search?location=los+angeles+ca+united+states&limit=50&radius=40000&offset=850\n",
      "https://api.yelp.com/v3/businesses/search?location=los+angeles+ca+united+states&limit=50&radius=40000&offset=900\n",
      "https://api.yelp.com/v3/businesses/search?location=los+angeles+ca+united+states&limit=50&radius=40000&offset=950\n"
     ]
    }
   ],
   "source": [
    "# Inspect the urls to be used in dynamic api calls to get results from 51 to 1000. Each one will return 50 results\n",
    "print(f\"The second loop will make {len(temp_urls)} calls to the following {len(temp_urls)} different urls\\n\")\n",
    "for i in range(len(temp_urls)):\n",
    "    print(temp_urls[i])"
   ]
  },
  {
   "cell_type": "code",
   "execution_count": 349,
   "metadata": {},
   "outputs": [],
   "source": [
    "#Outside variable that will count results and serve as an index as df is built\n",
    "# THIS WILL keep track of the results in both loops: first 50 results and the rest:\n",
    "# in this case it is 1000\n",
    "index_ = 0\n"
   ]
  },
  {
   "cell_type": "markdown",
   "metadata": {},
   "source": [
    "## First Loop: Inject data from first API CALL performed earlier to dataframe\n"
   ]
  },
  {
   "cell_type": "code",
   "execution_count": null,
   "metadata": {},
   "outputs": [],
   "source": [
    "\n",
    "try:\n",
    "    for j in range(len(json_response['businesses'])):\n",
    "        print(\"=======================================================\")\n",
    "        print(f\"Injecting DataFrame with first set of 50 results\")\n",
    "        print(f\"biz index: {index_}: {json_response['businesses'][j]['name']}\")\n",
    "        print(\"=======================================================\")\n",
    "        \n",
    "#         detail = temp_response_json['businesses'][j]\n",
    "        \n",
    "        biz_df.set_value(index_, \"id\", json_response['businesses'][j]['id'])\n",
    "        biz_df.set_value(index_, \"alias\", json_response['businesses'][j]['alias'])\n",
    "\n",
    "        biz_df.set_value(index_, \"name\", json_response['businesses'][j]['name'])\n",
    "        biz_df.set_value(index_, \"categories\", ', '.join([val['title'] for val in json_response['businesses'][j]['categories']]) )        \n",
    "\n",
    "        biz_df.set_value(index_, \"review_count\", json_response['businesses'][j]['review_count'])\n",
    "        biz_df.set_value(index_, \"rating\", json_response['businesses'][j]['rating'])\n",
    "\n",
    "        biz_df.set_value(index_, \"lat\", json_response['businesses'][j]['coordinates']['latitude'])\n",
    "        biz_df.set_value(index_, \"long\", json_response['businesses'][j]['coordinates']['longitude'])\n",
    "\n",
    "        biz_df.set_value(index_, \"address\", ' '.join(json_response['businesses'][j]['location']['display_address']))\n",
    "        biz_df.set_value(index_, \"city\", json_response['businesses'][j]['location']['city'])\n",
    "\n",
    "        biz_df.set_value(index_, \"zip_code\", json_response['businesses'][j]['location']['zip_code'])\n",
    "        biz_df.set_value(index_, \"country\", json_response['businesses'][j]['location']['country'])\n",
    "\n",
    "        biz_df.set_value(index_, \"state\", json_response['businesses'][j]['location']['state'])\n",
    "        biz_df.set_value(index_, \"phone\", json_response['businesses'][j]['phone'])\n",
    "        biz_df.set_value(index_, \"pulled_on\", datetime.now())\n",
    "\n",
    "        index_ += 1\n",
    "except:\n",
    "    print(\"Something went WRONG 😫😓\")            \n",
    "              "
   ]
  },
  {
   "cell_type": "code",
   "execution_count": null,
   "metadata": {},
   "outputs": [],
   "source": []
  },
  {
   "cell_type": "markdown",
   "metadata": {},
   "source": [
    "## Second loop: making multiple calls simultanuslly to Yelp's API"
   ]
  },
  {
   "cell_type": "code",
   "execution_count": null,
   "metadata": {},
   "outputs": [],
   "source": [
    "i = 0\n",
    "j = 0\n",
    "\n",
    "try:\n",
    "    for i in range(len(temp_urls)):\n",
    "        temp_response = requests.get(url = temp_urls[i], headers = HEADERS)\n",
    "        \n",
    "        print(\"=======================================================\")\n",
    "        print(f\"temp_response code: {temp_response}\")\n",
    "        if temp_response.status_code == 200:\n",
    "            print(f\"Response succesfull 🥳\")\n",
    "        else:\n",
    "            print(f\"Something went wrong 😰\")\n",
    "        \n",
    "        temp_response_json = temp_response.json()\n",
    "        \n",
    "        temp_response_string = temp_response.text\n",
    "        \n",
    "        responseDict[temp_response.url] = temp_response_string\n",
    "        \n",
    "        print(\"=======================================================\")\n",
    "        print(f\"Downloading results from: URL: {temp_response.url}\" )\n",
    "\n",
    "        for j in range(len(temp_response_json['businesses'])):\n",
    "                  \n",
    "            biz_df.set_value(index_, \"id\", json_response['businesses'][j]['id'])\n",
    "            biz_df.set_value(index_, \"alias\", json_response['businesses'][j]['alias'])\n",
    "\n",
    "            biz_df.set_value(index_, \"name\", json_response['businesses'][j]['name'])\n",
    "            biz_df.set_value(index_, \"categories\", ', '.join([val['title'] for val in json_response['businesses'][j]['categories']]) )        \n",
    "\n",
    "            biz_df.set_value(index_, \"review_count\", json_response['businesses'][j]['review_count'])\n",
    "            biz_df.set_value(index_, \"rating\", json_response['businesses'][j]['rating'])\n",
    "\n",
    "            biz_df.set_value(index_, \"lat\", json_response['businesses'][j]['coordinates']['latitude'])\n",
    "            biz_df.set_value(index_, \"long\", json_response['businesses'][j]['coordinates']['longitude'])\n",
    "\n",
    "            biz_df.set_value(index_, \"address\", ' '.join(json_response['businesses'][j]['location']['display_address']))\n",
    "            biz_df.set_value(index_, \"city\", json_response['businesses'][j]['location']['city'])\n",
    "\n",
    "            biz_df.set_value(index_, \"zip_code\", json_response['businesses'][j]['location']['zip_code'])\n",
    "            biz_df.set_value(index_, \"country\", json_response['businesses'][j]['location']['country'])\n",
    "\n",
    "            biz_df.set_value(index_, \"state\", json_response['businesses'][j]['location']['state'])\n",
    "            biz_df.set_value(index_, \"phone\", json_response['businesses'][j]['phone'])\n",
    "            biz_df.set_value(index_, \"pulled_on\", datetime.now())\n",
    "            \n",
    "\n",
    "            index_ += 1\n",
    "              \n",
    "        time.sleep(3)\n",
    "\n",
    "except:\n",
    "    print(\"Something went WRONG 😰\")\n",
    "\n",
    "print(f\"\\n\\nDatabase ready: records entered:{index_}\")"
   ]
  },
  {
   "cell_type": "code",
   "execution_count": 426,
   "metadata": {},
   "outputs": [
    {
     "data": {
      "text/html": [
       "<div>\n",
       "<style scoped>\n",
       "    .dataframe tbody tr th:only-of-type {\n",
       "        vertical-align: middle;\n",
       "    }\n",
       "\n",
       "    .dataframe tbody tr th {\n",
       "        vertical-align: top;\n",
       "    }\n",
       "\n",
       "    .dataframe thead th {\n",
       "        text-align: right;\n",
       "    }\n",
       "</style>\n",
       "<table border=\"1\" class=\"dataframe\">\n",
       "  <thead>\n",
       "    <tr style=\"text-align: right;\">\n",
       "      <th></th>\n",
       "      <th>id</th>\n",
       "      <th>alias</th>\n",
       "      <th>name</th>\n",
       "      <th>categories</th>\n",
       "      <th>review_count</th>\n",
       "      <th>rating</th>\n",
       "      <th>lat</th>\n",
       "      <th>long</th>\n",
       "      <th>address</th>\n",
       "      <th>city</th>\n",
       "      <th>zip_code</th>\n",
       "      <th>country</th>\n",
       "      <th>state</th>\n",
       "      <th>phone</th>\n",
       "      <th>pulled_on</th>\n",
       "    </tr>\n",
       "  </thead>\n",
       "  <tbody>\n",
       "    <tr>\n",
       "      <th>998</th>\n",
       "      <td>YA3bV7kd3RpWPvrarIgpWQ</td>\n",
       "      <td>milk-jar-cookies-los-angeles</td>\n",
       "      <td>Milk Jar Cookies</td>\n",
       "      <td>Desserts, Bakeries, Coffee &amp; Tea</td>\n",
       "      <td>1445</td>\n",
       "      <td>4.5</td>\n",
       "      <td>34.0621</td>\n",
       "      <td>-118.348</td>\n",
       "      <td>5466 Wilshire Blvd Los Angeles, CA 90036</td>\n",
       "      <td>Los Angeles</td>\n",
       "      <td>90036</td>\n",
       "      <td>US</td>\n",
       "      <td>CA</td>\n",
       "      <td>+13236349800</td>\n",
       "      <td>2019-05-20 22:18:50.470209</td>\n",
       "    </tr>\n",
       "    <tr>\n",
       "      <th>999</th>\n",
       "      <td>sYn3SNQP-j2t2XSwjlCbRg</td>\n",
       "      <td>montys-good-burger-los-angeles</td>\n",
       "      <td>Monty's Good Burger</td>\n",
       "      <td>Burgers, Vegan</td>\n",
       "      <td>1210</td>\n",
       "      <td>4.5</td>\n",
       "      <td>34.0647</td>\n",
       "      <td>-118.309</td>\n",
       "      <td>516 S Western Ave Los Angeles, CA 90020</td>\n",
       "      <td>Los Angeles</td>\n",
       "      <td>90020</td>\n",
       "      <td>US</td>\n",
       "      <td>CA</td>\n",
       "      <td>+12139150257</td>\n",
       "      <td>2019-05-20 22:18:50.471351</td>\n",
       "    </tr>\n",
       "  </tbody>\n",
       "</table>\n",
       "</div>"
      ],
      "text/plain": [
       "                         id                           alias  \\\n",
       "998  YA3bV7kd3RpWPvrarIgpWQ    milk-jar-cookies-los-angeles   \n",
       "999  sYn3SNQP-j2t2XSwjlCbRg  montys-good-burger-los-angeles   \n",
       "\n",
       "                    name                        categories review_count  \\\n",
       "998     Milk Jar Cookies  Desserts, Bakeries, Coffee & Tea         1445   \n",
       "999  Monty's Good Burger                    Burgers, Vegan         1210   \n",
       "\n",
       "    rating      lat     long                                   address  \\\n",
       "998    4.5  34.0621 -118.348  5466 Wilshire Blvd Los Angeles, CA 90036   \n",
       "999    4.5  34.0647 -118.309   516 S Western Ave Los Angeles, CA 90020   \n",
       "\n",
       "            city zip_code country state         phone  \\\n",
       "998  Los Angeles    90036      US    CA  +13236349800   \n",
       "999  Los Angeles    90020      US    CA  +12139150257   \n",
       "\n",
       "                      pulled_on  \n",
       "998  2019-05-20 22:18:50.470209  \n",
       "999  2019-05-20 22:18:50.471351  "
      ]
     },
     "execution_count": 426,
     "metadata": {},
     "output_type": "execute_result"
    }
   ],
   "source": [
    "biz_df.tail(2)"
   ]
  },
  {
   "cell_type": "code",
   "execution_count": 164,
   "metadata": {},
   "outputs": [],
   "source": [
    "# responseDict"
   ]
  },
  {
   "cell_type": "code",
   "execution_count": 369,
   "metadata": {},
   "outputs": [],
   "source": [
    "# Save a pickle to local machine of the first and second loop data combined \n",
    "#Dictionary of 1000 businesses\n",
    "tstamp = time.time()\n",
    "path = f\"Pickles/responseDict_pickle_{tstamp}\"\n",
    "\n",
    "with open(path, 'wb') as datafile :\n",
    "    pickle.dump(responseDict, datafile)\n"
   ]
  },
  {
   "cell_type": "code",
   "execution_count": 370,
   "metadata": {},
   "outputs": [],
   "source": [
    "#Inspect the pickle file d\n",
    "with open(path,'rb') as datafile:\n",
    "    responseDictUnpickled = pickle.load(datafile)\n",
    "    "
   ]
  },
  {
   "cell_type": "code",
   "execution_count": 371,
   "metadata": {},
   "outputs": [
    {
     "name": "stdout",
     "output_type": "stream",
     "text": [
      "<class 'dict'>\n"
     ]
    }
   ],
   "source": [
    "print(type(responseDictUnpickled))"
   ]
  },
  {
   "cell_type": "code",
   "execution_count": null,
   "metadata": {},
   "outputs": [],
   "source": []
  },
  {
   "cell_type": "markdown",
   "metadata": {},
   "source": [
    "# L:  load\n",
    "-----------------------------------------------\n",
    "* Save df to csv format"
   ]
  },
  {
   "cell_type": "code",
   "execution_count": 373,
   "metadata": {},
   "outputs": [],
   "source": [
    "biz_df.to_csv(f\"Resources/la_yelp_{biz_df['id'].count()}.csv\", index=False)"
   ]
  },
  {
   "cell_type": "code",
   "execution_count": 388,
   "metadata": {},
   "outputs": [],
   "source": [
    "biz_df.drop(columns=['timestamp'], inplace=True)"
   ]
  },
  {
   "cell_type": "code",
   "execution_count": 390,
   "metadata": {},
   "outputs": [],
   "source": [
    "# mongodb didn't like my timestamp object\n",
    "biz_df['pulled_on'] = biz_df['pulled_on'].astype(str)"
   ]
  },
  {
   "cell_type": "code",
   "execution_count": null,
   "metadata": {},
   "outputs": [],
   "source": []
  },
  {
   "cell_type": "code",
   "execution_count": 401,
   "metadata": {},
   "outputs": [
    {
     "data": {
      "text/plain": [
       "str"
      ]
     },
     "execution_count": 401,
     "metadata": {},
     "output_type": "execute_result"
    }
   ],
   "source": [
    "type(biz_df['pulled_on'][0])"
   ]
  },
  {
   "cell_type": "markdown",
   "metadata": {},
   "source": [
    "* load dataframe into mongo"
   ]
  },
  {
   "cell_type": "code",
   "execution_count": 402,
   "metadata": {},
   "outputs": [],
   "source": [
    "import pymongo"
   ]
  },
  {
   "cell_type": "code",
   "execution_count": 403,
   "metadata": {},
   "outputs": [],
   "source": [
    "# Setup connection to mongodb\n",
    "conn = \"mongodb://localhost:27017\"\n",
    "client = pymongo.MongoClient(conn)"
   ]
  },
  {
   "cell_type": "code",
   "execution_count": 405,
   "metadata": {},
   "outputs": [],
   "source": [
    "# Select database and collection to use\n",
    "db = client.yelp\n",
    "bizProfile = db.bizProfile\n",
    "census_zips = db.census_zips"
   ]
  },
  {
   "cell_type": "code",
   "execution_count": 406,
   "metadata": {},
   "outputs": [],
   "source": [
    "yelpData = biz_df.to_dict(orient='records')"
   ]
  },
  {
   "cell_type": "code",
   "execution_count": 407,
   "metadata": {},
   "outputs": [
    {
     "data": {
      "text/plain": [
       "{'id': 'TkFEKhsCixPWlShULKvMdQ',\n",
       " 'alias': 'bottega-louie-los-angeles',\n",
       " 'name': 'Bottega Louie',\n",
       " 'categories': 'Italian, Bakeries, Breakfast & Brunch',\n",
       " 'review_count': 16248,\n",
       " 'rating': 4.0,\n",
       " 'lat': 34.0469300995766,\n",
       " 'long': -118.256601457672,\n",
       " 'address': '700 S Grand Ave Los Angeles, CA 90017',\n",
       " 'city': 'Los Angeles',\n",
       " 'zip_code': '90017',\n",
       " 'country': 'US',\n",
       " 'state': 'CA',\n",
       " 'phone': '+12138021470',\n",
       " 'pulled_on': '2019-05-20 22:15:30.692854'}"
      ]
     },
     "execution_count": 407,
     "metadata": {},
     "output_type": "execute_result"
    }
   ],
   "source": [
    "yelpData[0]\n"
   ]
  },
  {
   "cell_type": "code",
   "execution_count": null,
   "metadata": {},
   "outputs": [],
   "source": []
  },
  {
   "cell_type": "code",
   "execution_count": 408,
   "metadata": {},
   "outputs": [
    {
     "data": {
      "text/plain": [
       "<pymongo.results.InsertManyResult at 0x11d64c108>"
      ]
     },
     "execution_count": 408,
     "metadata": {},
     "output_type": "execute_result"
    }
   ],
   "source": [
    "bizProfile.insert_many(yelpData)"
   ]
  },
  {
   "cell_type": "markdown",
   "metadata": {},
   "source": [
    "## test query database"
   ]
  },
  {
   "cell_type": "code",
   "execution_count": 409,
   "metadata": {},
   "outputs": [],
   "source": [
    "results = bizProfile.find()"
   ]
  },
  {
   "cell_type": "code",
   "execution_count": 410,
   "metadata": {},
   "outputs": [
    {
     "data": {
      "text/plain": [
       "pymongo.cursor.Cursor"
      ]
     },
     "execution_count": 410,
     "metadata": {},
     "output_type": "execute_result"
    }
   ],
   "source": [
    "type(results)"
   ]
  },
  {
   "cell_type": "code",
   "execution_count": 411,
   "metadata": {},
   "outputs": [
    {
     "name": "stdout",
     "output_type": "stream",
     "text": [
      "\n",
      "{'_id': ObjectId('5ce3660abe1a7794394fce81'), 'id': 'TkFEKhsCixPWlShULKvMdQ', 'alias': 'bottega-louie-los-angeles', 'name': 'Bottega Louie', 'categories': 'Italian, Bakeries, Breakfast & Brunch', 'review_count': 16248, 'rating': 4.0, 'lat': 34.0469300995766, 'long': -118.256601457672, 'address': '700 S Grand Ave Los Angeles, CA 90017', 'city': 'Los Angeles', 'zip_code': '90017', 'country': 'US', 'state': 'CA', 'phone': '+12138021470', 'pulled_on': '2019-05-20 22:15:30.692854'}\n",
      "\n",
      "{'_id': ObjectId('5ce3660abe1a7794394fce82'), 'id': '7O1ORGY36A-2aIENyaJWPg', 'alias': 'howlin-rays-los-angeles-3', 'name': \"Howlin' Ray's\", 'categories': 'Southern, Chicken Shop, American (Traditional)', 'review_count': 5060, 'rating': 4.5, 'lat': 34.0614861063899, 'long': -118.239554800093, 'address': '727 N Broadway Ste 128 Los Angeles, CA 90012', 'city': 'Los Angeles', 'zip_code': '90012', 'country': 'US', 'state': 'CA', 'phone': '+12139358399', 'pulled_on': '2019-05-20 22:15:30.694905'}\n"
     ]
    }
   ],
   "source": [
    "for result in results[0:2]:\n",
    "    print()\n",
    "    print(result)\n"
   ]
  },
  {
   "cell_type": "markdown",
   "metadata": {},
   "source": [
    "* First document in the collection"
   ]
  },
  {
   "cell_type": "code",
   "execution_count": 427,
   "metadata": {},
   "outputs": [
    {
     "name": "stdout",
     "output_type": "stream",
     "text": [
      "700 S Grand Ave Los Angeles, CA 90017 | Review Count:  16248\n",
      "700 S Grand Ave Los Angeles, CA 90017 | Review Count:  16248\n",
      "700 S Grand Ave Los Angeles, CA 90017 | Review Count:  16248\n",
      "700 S Grand Ave Los Angeles, CA 90017 | Review Count:  16248\n",
      "700 S Grand Ave Los Angeles, CA 90017 | Review Count:  16248\n",
      "700 S Grand Ave Los Angeles, CA 90017 | Review Count:  16248\n",
      "700 S Grand Ave Los Angeles, CA 90017 | Review Count:  16248\n",
      "700 S Grand Ave Los Angeles, CA 90017 | Review Count:  16248\n",
      "700 S Grand Ave Los Angeles, CA 90017 | Review Count:  16248\n",
      "700 S Grand Ave Los Angeles, CA 90017 | Review Count:  16248\n",
      "700 S Grand Ave Los Angeles, CA 90017 | Review Count:  16248\n",
      "700 S Grand Ave Los Angeles, CA 90017 | Review Count:  16248\n",
      "700 S Grand Ave Los Angeles, CA 90017 | Review Count:  16248\n",
      "700 S Grand Ave Los Angeles, CA 90017 | Review Count:  16248\n",
      "700 S Grand Ave Los Angeles, CA 90017 | Review Count:  16248\n",
      "700 S Grand Ave Los Angeles, CA 90017 | Review Count:  16248\n",
      "700 S Grand Ave Los Angeles, CA 90017 | Review Count:  16248\n",
      "700 S Grand Ave Los Angeles, CA 90017 | Review Count:  16248\n",
      "700 S Grand Ave Los Angeles, CA 90017 | Review Count:  16248\n",
      "700 S Grand Ave Los Angeles, CA 90017 | Review Count:  16248\n"
     ]
    }
   ],
   "source": [
    "# Interesting: result object came back with duplicate businesses\n",
    "for result in bizProfile.find({'id': 'TkFEKhsCixPWlShULKvMdQ'}):\n",
    "    print(result['address'], '| Review Count: ', result['review_count'])\n"
   ]
  },
  {
   "cell_type": "code",
   "execution_count": null,
   "metadata": {},
   "outputs": [],
   "source": []
  },
  {
   "cell_type": "markdown",
   "metadata": {},
   "source": [
    "# Create SQL database from  Dataframe"
   ]
  },
  {
   "cell_type": "code",
   "execution_count": 12,
   "metadata": {},
   "outputs": [],
   "source": [
    "from sqlalchemy import create_engine"
   ]
  },
  {
   "cell_type": "code",
   "execution_count": 13,
   "metadata": {},
   "outputs": [],
   "source": [
    "database_path = \"Resources/la_biz.sqlite\""
   ]
  },
  {
   "cell_type": "code",
   "execution_count": 14,
   "metadata": {},
   "outputs": [],
   "source": [
    "engine = create_engine(f\"sqlite:///{database_path}\")"
   ]
  },
  {
   "cell_type": "code",
   "execution_count": 420,
   "metadata": {},
   "outputs": [
    {
     "data": {
      "text/plain": [
       "[]"
      ]
     },
     "execution_count": 420,
     "metadata": {},
     "output_type": "execute_result"
    }
   ],
   "source": [
    "engine.table_names()"
   ]
  },
  {
   "cell_type": "code",
   "execution_count": 421,
   "metadata": {},
   "outputs": [],
   "source": [
    "biz_df.to_sql(name='bizProfile', con=engine, if_exists='append', index=False)"
   ]
  },
  {
   "cell_type": "code",
   "execution_count": 16,
   "metadata": {},
   "outputs": [
    {
     "data": {
      "text/plain": [
       "['bizProfile']"
      ]
     },
     "execution_count": 16,
     "metadata": {},
     "output_type": "execute_result"
    }
   ],
   "source": [
    "engine.table_names()"
   ]
  },
  {
   "cell_type": "markdown",
   "metadata": {},
   "source": [
    "### Test Query the biz_profile table\n"
   ]
  },
  {
   "cell_type": "code",
   "execution_count": 17,
   "metadata": {},
   "outputs": [
    {
     "data": {
      "text/html": [
       "<div>\n",
       "<style scoped>\n",
       "    .dataframe tbody tr th:only-of-type {\n",
       "        vertical-align: middle;\n",
       "    }\n",
       "\n",
       "    .dataframe tbody tr th {\n",
       "        vertical-align: top;\n",
       "    }\n",
       "\n",
       "    .dataframe thead th {\n",
       "        text-align: right;\n",
       "    }\n",
       "</style>\n",
       "<table border=\"1\" class=\"dataframe\">\n",
       "  <thead>\n",
       "    <tr style=\"text-align: right;\">\n",
       "      <th></th>\n",
       "      <th>id</th>\n",
       "      <th>alias</th>\n",
       "      <th>name</th>\n",
       "      <th>categories</th>\n",
       "      <th>review_count</th>\n",
       "      <th>rating</th>\n",
       "      <th>lat</th>\n",
       "      <th>long</th>\n",
       "      <th>address</th>\n",
       "      <th>city</th>\n",
       "      <th>zip_code</th>\n",
       "      <th>country</th>\n",
       "      <th>state</th>\n",
       "      <th>phone</th>\n",
       "      <th>pulled_on</th>\n",
       "    </tr>\n",
       "  </thead>\n",
       "  <tbody>\n",
       "    <tr>\n",
       "      <th>0</th>\n",
       "      <td>TkFEKhsCixPWlShULKvMdQ</td>\n",
       "      <td>bottega-louie-los-angeles</td>\n",
       "      <td>Bottega Louie</td>\n",
       "      <td>Italian, Bakeries, Breakfast &amp; Brunch</td>\n",
       "      <td>16248</td>\n",
       "      <td>4.0</td>\n",
       "      <td>34.046930</td>\n",
       "      <td>-118.256601</td>\n",
       "      <td>700 S Grand Ave Los Angeles, CA 90017</td>\n",
       "      <td>Los Angeles</td>\n",
       "      <td>90017</td>\n",
       "      <td>US</td>\n",
       "      <td>CA</td>\n",
       "      <td>+12138021470</td>\n",
       "      <td>2019-05-20 22:15:30.692854</td>\n",
       "    </tr>\n",
       "    <tr>\n",
       "      <th>1</th>\n",
       "      <td>7O1ORGY36A-2aIENyaJWPg</td>\n",
       "      <td>howlin-rays-los-angeles-3</td>\n",
       "      <td>Howlin' Ray's</td>\n",
       "      <td>Southern, Chicken Shop, American (Traditional)</td>\n",
       "      <td>5060</td>\n",
       "      <td>4.5</td>\n",
       "      <td>34.061486</td>\n",
       "      <td>-118.239555</td>\n",
       "      <td>727 N Broadway Ste 128 Los Angeles, CA 90012</td>\n",
       "      <td>Los Angeles</td>\n",
       "      <td>90012</td>\n",
       "      <td>US</td>\n",
       "      <td>CA</td>\n",
       "      <td>+12139358399</td>\n",
       "      <td>2019-05-20 22:15:30.694905</td>\n",
       "    </tr>\n",
       "    <tr>\n",
       "      <th>2</th>\n",
       "      <td>KQBGm5G8IDkE8LeNY45mbA</td>\n",
       "      <td>wurstküche-los-angeles-2</td>\n",
       "      <td>Wurstküche</td>\n",
       "      <td>Hot Dogs, German, Gastropubs</td>\n",
       "      <td>8058</td>\n",
       "      <td>4.0</td>\n",
       "      <td>34.045605</td>\n",
       "      <td>-118.236061</td>\n",
       "      <td>800 E 3rd St Los Angeles, CA 90013</td>\n",
       "      <td>Los Angeles</td>\n",
       "      <td>90013</td>\n",
       "      <td>US</td>\n",
       "      <td>CA</td>\n",
       "      <td>+12136874444</td>\n",
       "      <td>2019-05-20 22:15:30.696984</td>\n",
       "    </tr>\n",
       "    <tr>\n",
       "      <th>3</th>\n",
       "      <td>iSZpZgVnASwEmlq0DORY2A</td>\n",
       "      <td>daikokuya-little-tokyo-los-angeles</td>\n",
       "      <td>Daikokuya Little Tokyo</td>\n",
       "      <td>Ramen, Noodles</td>\n",
       "      <td>8126</td>\n",
       "      <td>4.0</td>\n",
       "      <td>34.050081</td>\n",
       "      <td>-118.240180</td>\n",
       "      <td>327 E 1st St Los Angeles, CA 90012</td>\n",
       "      <td>Los Angeles</td>\n",
       "      <td>90012</td>\n",
       "      <td>US</td>\n",
       "      <td>CA</td>\n",
       "      <td>+12136261680</td>\n",
       "      <td>2019-05-20 22:15:30.703246</td>\n",
       "    </tr>\n",
       "    <tr>\n",
       "      <th>4</th>\n",
       "      <td>DJek3FUewBzMc0gS-Gms9w</td>\n",
       "      <td>the-morrison-los-angeles</td>\n",
       "      <td>The Morrison</td>\n",
       "      <td>Gastropubs, Burgers, Bars</td>\n",
       "      <td>4074</td>\n",
       "      <td>4.5</td>\n",
       "      <td>34.123840</td>\n",
       "      <td>-118.268680</td>\n",
       "      <td>3179 Los Feliz Blvd Los Angeles, CA 90039</td>\n",
       "      <td>Los Angeles</td>\n",
       "      <td>90039</td>\n",
       "      <td>US</td>\n",
       "      <td>CA</td>\n",
       "      <td>+13236671839</td>\n",
       "      <td>2019-05-20 22:15:30.705182</td>\n",
       "    </tr>\n",
       "  </tbody>\n",
       "</table>\n",
       "</div>"
      ],
      "text/plain": [
       "                       id                               alias  \\\n",
       "0  TkFEKhsCixPWlShULKvMdQ           bottega-louie-los-angeles   \n",
       "1  7O1ORGY36A-2aIENyaJWPg           howlin-rays-los-angeles-3   \n",
       "2  KQBGm5G8IDkE8LeNY45mbA            wurstküche-los-angeles-2   \n",
       "3  iSZpZgVnASwEmlq0DORY2A  daikokuya-little-tokyo-los-angeles   \n",
       "4  DJek3FUewBzMc0gS-Gms9w            the-morrison-los-angeles   \n",
       "\n",
       "                     name                                      categories  \\\n",
       "0           Bottega Louie           Italian, Bakeries, Breakfast & Brunch   \n",
       "1           Howlin' Ray's  Southern, Chicken Shop, American (Traditional)   \n",
       "2              Wurstküche                    Hot Dogs, German, Gastropubs   \n",
       "3  Daikokuya Little Tokyo                                  Ramen, Noodles   \n",
       "4            The Morrison                       Gastropubs, Burgers, Bars   \n",
       "\n",
       "   review_count  rating        lat        long  \\\n",
       "0         16248     4.0  34.046930 -118.256601   \n",
       "1          5060     4.5  34.061486 -118.239555   \n",
       "2          8058     4.0  34.045605 -118.236061   \n",
       "3          8126     4.0  34.050081 -118.240180   \n",
       "4          4074     4.5  34.123840 -118.268680   \n",
       "\n",
       "                                        address         city zip_code country  \\\n",
       "0         700 S Grand Ave Los Angeles, CA 90017  Los Angeles    90017      US   \n",
       "1  727 N Broadway Ste 128 Los Angeles, CA 90012  Los Angeles    90012      US   \n",
       "2            800 E 3rd St Los Angeles, CA 90013  Los Angeles    90013      US   \n",
       "3            327 E 1st St Los Angeles, CA 90012  Los Angeles    90012      US   \n",
       "4     3179 Los Feliz Blvd Los Angeles, CA 90039  Los Angeles    90039      US   \n",
       "\n",
       "  state         phone                   pulled_on  \n",
       "0    CA  +12138021470  2019-05-20 22:15:30.692854  \n",
       "1    CA  +12139358399  2019-05-20 22:15:30.694905  \n",
       "2    CA  +12136874444  2019-05-20 22:15:30.696984  \n",
       "3    CA  +12136261680  2019-05-20 22:15:30.703246  \n",
       "4    CA  +13236671839  2019-05-20 22:15:30.705182  "
      ]
     },
     "execution_count": 17,
     "metadata": {},
     "output_type": "execute_result"
    }
   ],
   "source": [
    "# pd.read_sql_query('select * from customer_name', con=engine).head()\n",
    "pd.read_sql_query('select * from bizProfile', con=engine).head()"
   ]
  },
  {
   "cell_type": "code",
   "execution_count": null,
   "metadata": {},
   "outputs": [],
   "source": []
  }
 ],
 "metadata": {
  "kernelspec": {
   "display_name": "Python 3",
   "language": "python",
   "name": "python3"
  },
  "language_info": {
   "codemirror_mode": {
    "name": "ipython",
    "version": 3
   },
   "file_extension": ".py",
   "mimetype": "text/x-python",
   "name": "python",
   "nbconvert_exporter": "python",
   "pygments_lexer": "ipython3",
   "version": "3.7.3"
  }
 },
 "nbformat": 4,
 "nbformat_minor": 2
}
