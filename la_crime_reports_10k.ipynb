{
 "cells": [
  {
   "cell_type": "markdown",
   "metadata": {},
   "source": [
    "# City of Los Angeles CA. Data on crime reports since 2010\n",
    "### Dataset for this Notebook:\n",
    "[LA CRIME SOURCE DATA](https://catalog.data.gov/dataset/crime-data-from-2010-to-present)\n"
   ]
  },
  {
   "cell_type": "code",
   "execution_count": 121,
   "metadata": {},
   "outputs": [],
   "source": [
    "import pandas as pd\n",
    "import numpy as np\n",
    "import re\n",
    "from datetime import datetime\n",
    "import time\n",
    "import matplotlib.pyplot as plt\n",
    "\n",
    "import diffs_latlong\n",
    "from diffs_latlong import computeNearestZip\n",
    "\n",
    "csv_file = \"Resources/Crime_Data_from_2010_to_Present.csv\"\n"
   ]
  },
  {
   "cell_type": "code",
   "execution_count": 122,
   "metadata": {},
   "outputs": [],
   "source": [
    "crime_df = pd.read_csv(csv_file)"
   ]
  },
  {
   "cell_type": "code",
   "execution_count": 123,
   "metadata": {},
   "outputs": [
    {
     "data": {
      "text/html": [
       "<div>\n",
       "<style scoped>\n",
       "    .dataframe tbody tr th:only-of-type {\n",
       "        vertical-align: middle;\n",
       "    }\n",
       "\n",
       "    .dataframe tbody tr th {\n",
       "        vertical-align: top;\n",
       "    }\n",
       "\n",
       "    .dataframe thead th {\n",
       "        text-align: right;\n",
       "    }\n",
       "</style>\n",
       "<table border=\"1\" class=\"dataframe\">\n",
       "  <thead>\n",
       "    <tr style=\"text-align: right;\">\n",
       "      <th></th>\n",
       "      <th>DR Number</th>\n",
       "      <th>Date Reported</th>\n",
       "      <th>Date Occurred</th>\n",
       "      <th>Time Occurred</th>\n",
       "      <th>Area ID</th>\n",
       "      <th>Area Name</th>\n",
       "      <th>Reporting District</th>\n",
       "      <th>Crime Code</th>\n",
       "      <th>Crime Code Description</th>\n",
       "      <th>MO Codes</th>\n",
       "      <th>...</th>\n",
       "      <th>Weapon Description</th>\n",
       "      <th>Status Code</th>\n",
       "      <th>Status Description</th>\n",
       "      <th>Crime Code 1</th>\n",
       "      <th>Crime Code 2</th>\n",
       "      <th>Crime Code 3</th>\n",
       "      <th>Crime Code 4</th>\n",
       "      <th>Address</th>\n",
       "      <th>Cross Street</th>\n",
       "      <th>Location</th>\n",
       "    </tr>\n",
       "  </thead>\n",
       "  <tbody>\n",
       "    <tr>\n",
       "      <th>1972132</th>\n",
       "      <td>191005089</td>\n",
       "      <td>01/26/2019</td>\n",
       "      <td>01/01/2010</td>\n",
       "      <td>1000</td>\n",
       "      <td>10</td>\n",
       "      <td>West Valley</td>\n",
       "      <td>1029</td>\n",
       "      <td>354</td>\n",
       "      <td>THEFT OF IDENTITY</td>\n",
       "      <td>1822 0377</td>\n",
       "      <td>...</td>\n",
       "      <td>NaN</td>\n",
       "      <td>IC</td>\n",
       "      <td>Invest Cont</td>\n",
       "      <td>354.0</td>\n",
       "      <td>NaN</td>\n",
       "      <td>NaN</td>\n",
       "      <td>NaN</td>\n",
       "      <td>7000    WOODLEY                      AV</td>\n",
       "      <td>NaN</td>\n",
       "      <td>(34.1976, -118.4837)</td>\n",
       "    </tr>\n",
       "    <tr>\n",
       "      <th>1972133</th>\n",
       "      <td>191505220</td>\n",
       "      <td>01/24/2019</td>\n",
       "      <td>01/05/2010</td>\n",
       "      <td>700</td>\n",
       "      <td>15</td>\n",
       "      <td>N Hollywood</td>\n",
       "      <td>1555</td>\n",
       "      <td>341</td>\n",
       "      <td>THEFT-GRAND ($950.01 &amp; OVER)EXCPT,GUNS,FOWL,LI...</td>\n",
       "      <td>1202 0701</td>\n",
       "      <td>...</td>\n",
       "      <td>NaN</td>\n",
       "      <td>IC</td>\n",
       "      <td>Invest Cont</td>\n",
       "      <td>341.0</td>\n",
       "      <td>NaN</td>\n",
       "      <td>NaN</td>\n",
       "      <td>NaN</td>\n",
       "      <td>5000    LANKERSHIM                   BL</td>\n",
       "      <td>NaN</td>\n",
       "      <td>(34.1611, -118.3723)</td>\n",
       "    </tr>\n",
       "  </tbody>\n",
       "</table>\n",
       "<p>2 rows × 26 columns</p>\n",
       "</div>"
      ],
      "text/plain": [
       "         DR Number Date Reported Date Occurred  Time Occurred  Area ID  \\\n",
       "1972132  191005089    01/26/2019    01/01/2010           1000       10   \n",
       "1972133  191505220    01/24/2019    01/05/2010            700       15   \n",
       "\n",
       "           Area Name  Reporting District  Crime Code  \\\n",
       "1972132  West Valley                1029         354   \n",
       "1972133  N Hollywood                1555         341   \n",
       "\n",
       "                                    Crime Code Description   MO Codes  ...  \\\n",
       "1972132                                  THEFT OF IDENTITY  1822 0377  ...   \n",
       "1972133  THEFT-GRAND ($950.01 & OVER)EXCPT,GUNS,FOWL,LI...  1202 0701  ...   \n",
       "\n",
       "         Weapon Description Status Code Status Description  Crime Code 1  \\\n",
       "1972132                 NaN          IC        Invest Cont         354.0   \n",
       "1972133                 NaN          IC        Invest Cont         341.0   \n",
       "\n",
       "        Crime Code 2  Crime Code 3 Crime Code 4  \\\n",
       "1972132          NaN           NaN          NaN   \n",
       "1972133          NaN           NaN          NaN   \n",
       "\n",
       "                                         Address Cross Street  \\\n",
       "1972132  7000    WOODLEY                      AV          NaN   \n",
       "1972133  5000    LANKERSHIM                   BL          NaN   \n",
       "\n",
       "                    Location   \n",
       "1972132  (34.1976, -118.4837)  \n",
       "1972133  (34.1611, -118.3723)  \n",
       "\n",
       "[2 rows x 26 columns]"
      ]
     },
     "execution_count": 123,
     "metadata": {},
     "output_type": "execute_result"
    }
   ],
   "source": [
    "crime_df.tail(2)"
   ]
  },
  {
   "cell_type": "code",
   "execution_count": 125,
   "metadata": {},
   "outputs": [
    {
     "name": "stdout",
     "output_type": "stream",
     "text": [
      "<class 'pandas.core.frame.DataFrame'>\n",
      "RangeIndex: 1972134 entries, 0 to 1972133\n",
      "Data columns (total 26 columns):\n",
      "DR Number                 int64\n",
      "Date Reported             object\n",
      "Date Occurred             object\n",
      "Time Occurred             int64\n",
      "Area ID                   int64\n",
      "Area Name                 object\n",
      "Reporting District        int64\n",
      "Crime Code                int64\n",
      "Crime Code Description    object\n",
      "MO Codes                  object\n",
      "Victim Age                int64\n",
      "Victim Sex                object\n",
      "Victim Descent            object\n",
      "Premise Code              float64\n",
      "Premise Description       object\n",
      "Weapon Used Code          float64\n",
      "Weapon Description        object\n",
      "Status Code               object\n",
      "Status Description        object\n",
      "Crime Code 1              float64\n",
      "Crime Code 2              float64\n",
      "Crime Code 3              float64\n",
      "Crime Code 4              float64\n",
      "Address                   object\n",
      "Cross Street              object\n",
      "Location                  object\n",
      "dtypes: float64(6), int64(6), object(14)\n",
      "memory usage: 391.2+ MB\n"
     ]
    }
   ],
   "source": [
    "crime_df.info()"
   ]
  },
  {
   "cell_type": "code",
   "execution_count": 124,
   "metadata": {},
   "outputs": [
    {
     "data": {
      "text/plain": [
       "DR Number                 1972134\n",
       "Date Reported             1972134\n",
       "Date Occurred             1972134\n",
       "Time Occurred             1972134\n",
       "Area ID                   1972134\n",
       "Area Name                 1972134\n",
       "Reporting District        1972134\n",
       "Crime Code                1972134\n",
       "Crime Code Description    1972134\n",
       "MO Codes                  1758170\n",
       "Victim Age                1972134\n",
       "Victim Sex                1765819\n",
       "Victim Descent            1765776\n",
       "Premise Code              1972084\n",
       "Premise Description       1972009\n",
       "Weapon Used Code           659952\n",
       "Weapon Description         659951\n",
       "Status Code               1972131\n",
       "Status Description        1972134\n",
       "Crime Code 1              1972125\n",
       "Crime Code 2               128498\n",
       "Crime Code 3                 3186\n",
       "Crime Code 4                   96\n",
       "Address                   1972134\n",
       "Cross Street               329875\n",
       "Location                  1972134\n",
       "dtype: int64"
      ]
     },
     "execution_count": 124,
     "metadata": {},
     "output_type": "execute_result"
    }
   ],
   "source": [
    "crime_df.count()"
   ]
  },
  {
   "cell_type": "code",
   "execution_count": 126,
   "metadata": {},
   "outputs": [],
   "source": [
    "# Make additional column to hold dates formatted to datetime\n",
    "crime_df['date reported formatted'] = pd.to_datetime(crime_df['Date Reported'], infer_datetime_format=True)"
   ]
  },
  {
   "cell_type": "code",
   "execution_count": 127,
   "metadata": {},
   "outputs": [
    {
     "data": {
      "text/html": [
       "<div>\n",
       "<style scoped>\n",
       "    .dataframe tbody tr th:only-of-type {\n",
       "        vertical-align: middle;\n",
       "    }\n",
       "\n",
       "    .dataframe tbody tr th {\n",
       "        vertical-align: top;\n",
       "    }\n",
       "\n",
       "    .dataframe thead th {\n",
       "        text-align: right;\n",
       "    }\n",
       "</style>\n",
       "<table border=\"1\" class=\"dataframe\">\n",
       "  <thead>\n",
       "    <tr style=\"text-align: right;\">\n",
       "      <th></th>\n",
       "      <th>DR Number</th>\n",
       "      <th>Date Reported</th>\n",
       "      <th>Date Occurred</th>\n",
       "      <th>Time Occurred</th>\n",
       "      <th>Area ID</th>\n",
       "      <th>Area Name</th>\n",
       "      <th>Reporting District</th>\n",
       "      <th>Crime Code</th>\n",
       "      <th>Crime Code Description</th>\n",
       "      <th>MO Codes</th>\n",
       "      <th>...</th>\n",
       "      <th>Status Code</th>\n",
       "      <th>Status Description</th>\n",
       "      <th>Crime Code 1</th>\n",
       "      <th>Crime Code 2</th>\n",
       "      <th>Crime Code 3</th>\n",
       "      <th>Crime Code 4</th>\n",
       "      <th>Address</th>\n",
       "      <th>Cross Street</th>\n",
       "      <th>Location</th>\n",
       "      <th>date reported formatted</th>\n",
       "    </tr>\n",
       "  </thead>\n",
       "  <tbody>\n",
       "    <tr>\n",
       "      <th>1972132</th>\n",
       "      <td>191005089</td>\n",
       "      <td>01/26/2019</td>\n",
       "      <td>01/01/2010</td>\n",
       "      <td>1000</td>\n",
       "      <td>10</td>\n",
       "      <td>West Valley</td>\n",
       "      <td>1029</td>\n",
       "      <td>354</td>\n",
       "      <td>THEFT OF IDENTITY</td>\n",
       "      <td>1822 0377</td>\n",
       "      <td>...</td>\n",
       "      <td>IC</td>\n",
       "      <td>Invest Cont</td>\n",
       "      <td>354.0</td>\n",
       "      <td>NaN</td>\n",
       "      <td>NaN</td>\n",
       "      <td>NaN</td>\n",
       "      <td>7000    WOODLEY                      AV</td>\n",
       "      <td>NaN</td>\n",
       "      <td>(34.1976, -118.4837)</td>\n",
       "      <td>2019-01-26</td>\n",
       "    </tr>\n",
       "    <tr>\n",
       "      <th>1972133</th>\n",
       "      <td>191505220</td>\n",
       "      <td>01/24/2019</td>\n",
       "      <td>01/05/2010</td>\n",
       "      <td>700</td>\n",
       "      <td>15</td>\n",
       "      <td>N Hollywood</td>\n",
       "      <td>1555</td>\n",
       "      <td>341</td>\n",
       "      <td>THEFT-GRAND ($950.01 &amp; OVER)EXCPT,GUNS,FOWL,LI...</td>\n",
       "      <td>1202 0701</td>\n",
       "      <td>...</td>\n",
       "      <td>IC</td>\n",
       "      <td>Invest Cont</td>\n",
       "      <td>341.0</td>\n",
       "      <td>NaN</td>\n",
       "      <td>NaN</td>\n",
       "      <td>NaN</td>\n",
       "      <td>5000    LANKERSHIM                   BL</td>\n",
       "      <td>NaN</td>\n",
       "      <td>(34.1611, -118.3723)</td>\n",
       "      <td>2019-01-24</td>\n",
       "    </tr>\n",
       "  </tbody>\n",
       "</table>\n",
       "<p>2 rows × 27 columns</p>\n",
       "</div>"
      ],
      "text/plain": [
       "         DR Number Date Reported Date Occurred  Time Occurred  Area ID  \\\n",
       "1972132  191005089    01/26/2019    01/01/2010           1000       10   \n",
       "1972133  191505220    01/24/2019    01/05/2010            700       15   \n",
       "\n",
       "           Area Name  Reporting District  Crime Code  \\\n",
       "1972132  West Valley                1029         354   \n",
       "1972133  N Hollywood                1555         341   \n",
       "\n",
       "                                    Crime Code Description   MO Codes  ...  \\\n",
       "1972132                                  THEFT OF IDENTITY  1822 0377  ...   \n",
       "1972133  THEFT-GRAND ($950.01 & OVER)EXCPT,GUNS,FOWL,LI...  1202 0701  ...   \n",
       "\n",
       "         Status Code Status Description Crime Code 1  Crime Code 2  \\\n",
       "1972132           IC        Invest Cont        354.0           NaN   \n",
       "1972133           IC        Invest Cont        341.0           NaN   \n",
       "\n",
       "        Crime Code 3  Crime Code 4                                  Address  \\\n",
       "1972132          NaN           NaN  7000    WOODLEY                      AV   \n",
       "1972133          NaN           NaN  5000    LANKERSHIM                   BL   \n",
       "\n",
       "        Cross Street             Location   date reported formatted  \n",
       "1972132          NaN  (34.1976, -118.4837)               2019-01-26  \n",
       "1972133          NaN  (34.1611, -118.3723)               2019-01-24  \n",
       "\n",
       "[2 rows x 27 columns]"
      ]
     },
     "execution_count": 127,
     "metadata": {},
     "output_type": "execute_result"
    }
   ],
   "source": [
    "crime_df.tail(2)"
   ]
  },
  {
   "cell_type": "code",
   "execution_count": 129,
   "metadata": {},
   "outputs": [],
   "source": [
    "# make a list of the column names\n",
    "cols = list(crime_df.columns)"
   ]
  },
  {
   "cell_type": "code",
   "execution_count": 130,
   "metadata": {},
   "outputs": [],
   "source": [
    "# Move the new column to first position\n",
    "cols = cols[-1:] + cols[:-1]"
   ]
  },
  {
   "cell_type": "code",
   "execution_count": 131,
   "metadata": {},
   "outputs": [
    {
     "data": {
      "text/plain": [
       "['date reported formatted',\n",
       " 'DR Number',\n",
       " 'Date Reported',\n",
       " 'Date Occurred',\n",
       " 'Time Occurred',\n",
       " 'Area ID',\n",
       " 'Area Name',\n",
       " 'Reporting District',\n",
       " 'Crime Code',\n",
       " 'Crime Code Description',\n",
       " 'MO Codes',\n",
       " 'Victim Age',\n",
       " 'Victim Sex',\n",
       " 'Victim Descent',\n",
       " 'Premise Code',\n",
       " 'Premise Description',\n",
       " 'Weapon Used Code',\n",
       " 'Weapon Description',\n",
       " 'Status Code',\n",
       " 'Status Description',\n",
       " 'Crime Code 1',\n",
       " 'Crime Code 2',\n",
       " 'Crime Code 3',\n",
       " 'Crime Code 4',\n",
       " 'Address',\n",
       " 'Cross Street',\n",
       " 'Location ']"
      ]
     },
     "execution_count": 131,
     "metadata": {},
     "output_type": "execute_result"
    }
   ],
   "source": [
    "cols"
   ]
  },
  {
   "cell_type": "code",
   "execution_count": 132,
   "metadata": {},
   "outputs": [],
   "source": [
    "# Make new df with new column order\n",
    "crime_df = crime_df[cols]"
   ]
  },
  {
   "cell_type": "code",
   "execution_count": 15,
   "metadata": {},
   "outputs": [
    {
     "data": {
      "text/html": [
       "<div>\n",
       "<style scoped>\n",
       "    .dataframe tbody tr th:only-of-type {\n",
       "        vertical-align: middle;\n",
       "    }\n",
       "\n",
       "    .dataframe tbody tr th {\n",
       "        vertical-align: top;\n",
       "    }\n",
       "\n",
       "    .dataframe thead th {\n",
       "        text-align: right;\n",
       "    }\n",
       "</style>\n",
       "<table border=\"1\" class=\"dataframe\">\n",
       "  <thead>\n",
       "    <tr style=\"text-align: right;\">\n",
       "      <th></th>\n",
       "      <th>date reported formatted</th>\n",
       "      <th>DR Number</th>\n",
       "      <th>Date Reported</th>\n",
       "      <th>Date Occurred</th>\n",
       "      <th>Time Occurred</th>\n",
       "      <th>Area ID</th>\n",
       "      <th>Area Name</th>\n",
       "      <th>Reporting District</th>\n",
       "      <th>Crime Code</th>\n",
       "      <th>Crime Code Description</th>\n",
       "      <th>...</th>\n",
       "      <th>Weapon Description</th>\n",
       "      <th>Status Code</th>\n",
       "      <th>Status Description</th>\n",
       "      <th>Crime Code 1</th>\n",
       "      <th>Crime Code 2</th>\n",
       "      <th>Crime Code 3</th>\n",
       "      <th>Crime Code 4</th>\n",
       "      <th>Address</th>\n",
       "      <th>Cross Street</th>\n",
       "      <th>Location</th>\n",
       "    </tr>\n",
       "  </thead>\n",
       "  <tbody>\n",
       "    <tr>\n",
       "      <th>0</th>\n",
       "      <td>2010-09-13</td>\n",
       "      <td>11401303</td>\n",
       "      <td>09/13/2010</td>\n",
       "      <td>09/12/2010</td>\n",
       "      <td>45</td>\n",
       "      <td>14</td>\n",
       "      <td>Pacific</td>\n",
       "      <td>1485</td>\n",
       "      <td>740</td>\n",
       "      <td>VANDALISM - FELONY ($400 &amp; OVER, ALL CHURCH VA...</td>\n",
       "      <td>...</td>\n",
       "      <td>NaN</td>\n",
       "      <td>IC</td>\n",
       "      <td>Invest Cont</td>\n",
       "      <td>740.0</td>\n",
       "      <td>NaN</td>\n",
       "      <td>NaN</td>\n",
       "      <td>NaN</td>\n",
       "      <td>SEPULVEDA                    BL</td>\n",
       "      <td>MANCHESTER                   AV</td>\n",
       "      <td>(33.9599, -118.3962)</td>\n",
       "    </tr>\n",
       "    <tr>\n",
       "      <th>1</th>\n",
       "      <td>2010-08-09</td>\n",
       "      <td>70309629</td>\n",
       "      <td>08/09/2010</td>\n",
       "      <td>08/09/2010</td>\n",
       "      <td>1515</td>\n",
       "      <td>13</td>\n",
       "      <td>Newton</td>\n",
       "      <td>1324</td>\n",
       "      <td>946</td>\n",
       "      <td>OTHER MISCELLANEOUS CRIME</td>\n",
       "      <td>...</td>\n",
       "      <td>NaN</td>\n",
       "      <td>IC</td>\n",
       "      <td>Invest Cont</td>\n",
       "      <td>946.0</td>\n",
       "      <td>NaN</td>\n",
       "      <td>NaN</td>\n",
       "      <td>NaN</td>\n",
       "      <td>1300 E  21ST                         ST</td>\n",
       "      <td>NaN</td>\n",
       "      <td>(34.0224, -118.2524)</td>\n",
       "    </tr>\n",
       "  </tbody>\n",
       "</table>\n",
       "<p>2 rows × 27 columns</p>\n",
       "</div>"
      ],
      "text/plain": [
       "  date reported formatted  DR Number Date Reported Date Occurred  \\\n",
       "0              2010-09-13   11401303    09/13/2010    09/12/2010   \n",
       "1              2010-08-09   70309629    08/09/2010    08/09/2010   \n",
       "\n",
       "   Time Occurred  Area ID Area Name  Reporting District  Crime Code  \\\n",
       "0             45       14   Pacific                1485         740   \n",
       "1           1515       13    Newton                1324         946   \n",
       "\n",
       "                              Crime Code Description  ... Weapon Description  \\\n",
       "0  VANDALISM - FELONY ($400 & OVER, ALL CHURCH VA...  ...                NaN   \n",
       "1                          OTHER MISCELLANEOUS CRIME  ...                NaN   \n",
       "\n",
       "   Status Code Status Description Crime Code 1  Crime Code 2 Crime Code 3  \\\n",
       "0           IC        Invest Cont        740.0           NaN          NaN   \n",
       "1           IC        Invest Cont        946.0           NaN          NaN   \n",
       "\n",
       "   Crime Code 4                                  Address  \\\n",
       "0           NaN          SEPULVEDA                    BL   \n",
       "1           NaN  1300 E  21ST                         ST   \n",
       "\n",
       "                      Cross Street             Location   \n",
       "0  MANCHESTER                   AV  (33.9599, -118.3962)  \n",
       "1                              NaN  (34.0224, -118.2524)  \n",
       "\n",
       "[2 rows x 27 columns]"
      ]
     },
     "execution_count": 15,
     "metadata": {},
     "output_type": "execute_result"
    }
   ],
   "source": [
    "crime_df[:2]"
   ]
  },
  {
   "cell_type": "code",
   "execution_count": 133,
   "metadata": {},
   "outputs": [
    {
     "data": {
      "text/plain": [
       "Index(['date reported formatted', 'DR Number', 'Date Reported',\n",
       "       'Date Occurred', 'Time Occurred', 'Area ID', 'Area Name',\n",
       "       'Reporting District', 'Crime Code', 'Crime Code Description',\n",
       "       'MO Codes', 'Victim Age', 'Victim Sex', 'Victim Descent',\n",
       "       'Premise Code', 'Premise Description', 'Weapon Used Code',\n",
       "       'Weapon Description', 'Status Code', 'Status Description',\n",
       "       'Crime Code 1', 'Crime Code 2', 'Crime Code 3', 'Crime Code 4',\n",
       "       'Address', 'Cross Street', 'Location '],\n",
       "      dtype='object')"
      ]
     },
     "execution_count": 133,
     "metadata": {},
     "output_type": "execute_result"
    }
   ],
   "source": [
    "crime_df.columns"
   ]
  },
  {
   "cell_type": "code",
   "execution_count": 134,
   "metadata": {},
   "outputs": [],
   "source": [
    "# The 'Location ' column has a blank space at the end\n",
    "crime_df = crime_df.rename(columns={\"Location \": \"location\"})"
   ]
  },
  {
   "cell_type": "code",
   "execution_count": 135,
   "metadata": {},
   "outputs": [
    {
     "data": {
      "text/plain": [
       "'location'"
      ]
     },
     "execution_count": 135,
     "metadata": {},
     "output_type": "execute_result"
    }
   ],
   "source": [
    "# Inspect the new location column\n",
    "crime_df.columns[-1]"
   ]
  },
  {
   "cell_type": "code",
   "execution_count": 19,
   "metadata": {},
   "outputs": [
    {
     "name": "stdout",
     "output_type": "stream",
     "text": [
      "<class 'pandas.core.frame.DataFrame'>\n",
      "RangeIndex: 1972134 entries, 0 to 1972133\n",
      "Data columns (total 27 columns):\n",
      "date reported formatted    datetime64[ns]\n",
      "DR Number                  int64\n",
      "Date Reported              object\n",
      "Date Occurred              object\n",
      "Time Occurred              int64\n",
      "Area ID                    int64\n",
      "Area Name                  object\n",
      "Reporting District         int64\n",
      "Crime Code                 int64\n",
      "Crime Code Description     object\n",
      "MO Codes                   object\n",
      "Victim Age                 int64\n",
      "Victim Sex                 object\n",
      "Victim Descent             object\n",
      "Premise Code               float64\n",
      "Premise Description        object\n",
      "Weapon Used Code           float64\n",
      "Weapon Description         object\n",
      "Status Code                object\n",
      "Status Description         object\n",
      "Crime Code 1               float64\n",
      "Crime Code 2               float64\n",
      "Crime Code 3               float64\n",
      "Crime Code 4               float64\n",
      "Address                    object\n",
      "Cross Street               object\n",
      "location                   object\n",
      "dtypes: datetime64[ns](1), float64(6), int64(6), object(14)\n",
      "memory usage: 406.2+ MB\n"
     ]
    }
   ],
   "source": [
    "crime_df.info()"
   ]
  },
  {
   "cell_type": "code",
   "execution_count": 136,
   "metadata": {},
   "outputs": [],
   "source": [
    "# Regex to extract lat and long out of the location column\n",
    "# and make 2 new columns from the values.\n",
    "\n",
    "crime_df[['lat', 'long']] = crime_df['location'].replace\\\n",
    "    (to_replace=[\"\\)\",\"\\(\"], value=\"\", regex=True).str.split(\",\", expand = True)"
   ]
  },
  {
   "cell_type": "code",
   "execution_count": 137,
   "metadata": {},
   "outputs": [
    {
     "data": {
      "text/html": [
       "<div>\n",
       "<style scoped>\n",
       "    .dataframe tbody tr th:only-of-type {\n",
       "        vertical-align: middle;\n",
       "    }\n",
       "\n",
       "    .dataframe tbody tr th {\n",
       "        vertical-align: top;\n",
       "    }\n",
       "\n",
       "    .dataframe thead th {\n",
       "        text-align: right;\n",
       "    }\n",
       "</style>\n",
       "<table border=\"1\" class=\"dataframe\">\n",
       "  <thead>\n",
       "    <tr style=\"text-align: right;\">\n",
       "      <th></th>\n",
       "      <th>Address</th>\n",
       "      <th>Cross Street</th>\n",
       "      <th>location</th>\n",
       "      <th>lat</th>\n",
       "      <th>long</th>\n",
       "    </tr>\n",
       "  </thead>\n",
       "  <tbody>\n",
       "    <tr>\n",
       "      <th>1972131</th>\n",
       "      <td>69TH                         ST</td>\n",
       "      <td>DENKER                       AV</td>\n",
       "      <td>(33.977, -118.3046)</td>\n",
       "      <td>33.977</td>\n",
       "      <td>-118.3046</td>\n",
       "    </tr>\n",
       "    <tr>\n",
       "      <th>1972132</th>\n",
       "      <td>7000    WOODLEY                      AV</td>\n",
       "      <td>NaN</td>\n",
       "      <td>(34.1976, -118.4837)</td>\n",
       "      <td>34.1976</td>\n",
       "      <td>-118.4837</td>\n",
       "    </tr>\n",
       "    <tr>\n",
       "      <th>1972133</th>\n",
       "      <td>5000    LANKERSHIM                   BL</td>\n",
       "      <td>NaN</td>\n",
       "      <td>(34.1611, -118.3723)</td>\n",
       "      <td>34.1611</td>\n",
       "      <td>-118.3723</td>\n",
       "    </tr>\n",
       "  </tbody>\n",
       "</table>\n",
       "</div>"
      ],
      "text/plain": [
       "                                         Address  \\\n",
       "1972131          69TH                         ST   \n",
       "1972132  7000    WOODLEY                      AV   \n",
       "1972133  5000    LANKERSHIM                   BL   \n",
       "\n",
       "                            Cross Street              location      lat  \\\n",
       "1972131  DENKER                       AV   (33.977, -118.3046)   33.977   \n",
       "1972132                              NaN  (34.1976, -118.4837)  34.1976   \n",
       "1972133                              NaN  (34.1611, -118.3723)  34.1611   \n",
       "\n",
       "               long  \n",
       "1972131   -118.3046  \n",
       "1972132   -118.4837  \n",
       "1972133   -118.3723  "
      ]
     },
     "execution_count": 137,
     "metadata": {},
     "output_type": "execute_result"
    }
   ],
   "source": [
    "# Inspect the new columns\n",
    "crime_df.iloc[-3:,-5:]"
   ]
  },
  {
   "cell_type": "code",
   "execution_count": 138,
   "metadata": {},
   "outputs": [],
   "source": [
    "# Convert lat and longs to numeric values: \n",
    "# Needed for the computeNearestZip function(Extract zip from lat long)\n",
    "crime_df['lat'] = pd.to_numeric(crime_df['lat'])\n",
    "crime_df['long'] = pd.to_numeric(crime_df['long'])"
   ]
  },
  {
   "cell_type": "code",
   "execution_count": 139,
   "metadata": {},
   "outputs": [
    {
     "data": {
      "text/plain": [
       "(numpy.float64, numpy.float64)"
      ]
     },
     "execution_count": 139,
     "metadata": {},
     "output_type": "execute_result"
    }
   ],
   "source": [
    "type(crime_df['lat'][0]), type(crime_df['long'][0])"
   ]
  },
  {
   "cell_type": "code",
   "execution_count": 142,
   "metadata": {},
   "outputs": [
    {
     "data": {
      "text/html": [
       "<div>\n",
       "<style scoped>\n",
       "    .dataframe tbody tr th:only-of-type {\n",
       "        vertical-align: middle;\n",
       "    }\n",
       "\n",
       "    .dataframe tbody tr th {\n",
       "        vertical-align: top;\n",
       "    }\n",
       "\n",
       "    .dataframe thead th {\n",
       "        text-align: right;\n",
       "    }\n",
       "</style>\n",
       "<table border=\"1\" class=\"dataframe\">\n",
       "  <thead>\n",
       "    <tr style=\"text-align: right;\">\n",
       "      <th></th>\n",
       "      <th>date reported formatted</th>\n",
       "      <th>DR Number</th>\n",
       "      <th>Date Reported</th>\n",
       "      <th>Date Occurred</th>\n",
       "      <th>Time Occurred</th>\n",
       "      <th>Area ID</th>\n",
       "      <th>Area Name</th>\n",
       "      <th>Reporting District</th>\n",
       "      <th>Crime Code</th>\n",
       "      <th>Crime Code Description</th>\n",
       "      <th>...</th>\n",
       "      <th>Status Description</th>\n",
       "      <th>Crime Code 1</th>\n",
       "      <th>Crime Code 2</th>\n",
       "      <th>Crime Code 3</th>\n",
       "      <th>Crime Code 4</th>\n",
       "      <th>Address</th>\n",
       "      <th>Cross Street</th>\n",
       "      <th>location</th>\n",
       "      <th>lat</th>\n",
       "      <th>long</th>\n",
       "    </tr>\n",
       "  </thead>\n",
       "  <tbody>\n",
       "    <tr>\n",
       "      <th>1153466</th>\n",
       "      <td>2018-12-31</td>\n",
       "      <td>191604475</td>\n",
       "      <td>12/31/2018</td>\n",
       "      <td>12/26/2018</td>\n",
       "      <td>600</td>\n",
       "      <td>16</td>\n",
       "      <td>Foothill</td>\n",
       "      <td>1617</td>\n",
       "      <td>480</td>\n",
       "      <td>BIKE - STOLEN</td>\n",
       "      <td>...</td>\n",
       "      <td>Invest Cont</td>\n",
       "      <td>480.0</td>\n",
       "      <td>NaN</td>\n",
       "      <td>NaN</td>\n",
       "      <td>NaN</td>\n",
       "      <td>8900    RIDERWOOD                    DR</td>\n",
       "      <td>NaN</td>\n",
       "      <td>(34.2648, -118.3261)</td>\n",
       "      <td>34.2648</td>\n",
       "      <td>-118.3261</td>\n",
       "    </tr>\n",
       "    <tr>\n",
       "      <th>1067458</th>\n",
       "      <td>2018-12-31</td>\n",
       "      <td>181401256</td>\n",
       "      <td>12/31/2018</td>\n",
       "      <td>12/30/2018</td>\n",
       "      <td>1600</td>\n",
       "      <td>14</td>\n",
       "      <td>Pacific</td>\n",
       "      <td>1428</td>\n",
       "      <td>330</td>\n",
       "      <td>BURGLARY FROM VEHICLE</td>\n",
       "      <td>...</td>\n",
       "      <td>Invest Cont</td>\n",
       "      <td>330.0</td>\n",
       "      <td>NaN</td>\n",
       "      <td>NaN</td>\n",
       "      <td>NaN</td>\n",
       "      <td>10900    PALMS                        BL</td>\n",
       "      <td>NaN</td>\n",
       "      <td>(34.0265, -118.4184)</td>\n",
       "      <td>34.0265</td>\n",
       "      <td>-118.4184</td>\n",
       "    </tr>\n",
       "  </tbody>\n",
       "</table>\n",
       "<p>2 rows × 29 columns</p>\n",
       "</div>"
      ],
      "text/plain": [
       "        date reported formatted  DR Number Date Reported Date Occurred  \\\n",
       "1153466              2018-12-31  191604475    12/31/2018    12/26/2018   \n",
       "1067458              2018-12-31  181401256    12/31/2018    12/30/2018   \n",
       "\n",
       "         Time Occurred  Area ID Area Name  Reporting District  Crime Code  \\\n",
       "1153466            600       16  Foothill                1617         480   \n",
       "1067458           1600       14   Pacific                1428         330   \n",
       "\n",
       "        Crime Code Description  ... Status Description  Crime Code 1  \\\n",
       "1153466          BIKE - STOLEN  ...        Invest Cont         480.0   \n",
       "1067458  BURGLARY FROM VEHICLE  ...        Invest Cont         330.0   \n",
       "\n",
       "        Crime Code 2 Crime Code 3  Crime Code 4  \\\n",
       "1153466          NaN          NaN           NaN   \n",
       "1067458          NaN          NaN           NaN   \n",
       "\n",
       "                                          Address  Cross Street  \\\n",
       "1153466   8900    RIDERWOOD                    DR           NaN   \n",
       "1067458  10900    PALMS                        BL           NaN   \n",
       "\n",
       "                     location      lat      long  \n",
       "1153466  (34.2648, -118.3261)  34.2648 -118.3261  \n",
       "1067458  (34.0265, -118.4184)  34.0265 -118.4184  \n",
       "\n",
       "[2 rows x 29 columns]"
      ]
     },
     "execution_count": 142,
     "metadata": {},
     "output_type": "execute_result"
    }
   ],
   "source": [
    "# Inspect the latest record date in df\n",
    "crime_df.loc[crime_df['Date Reported']>= '01/01/2019'].sort_values(by= ['Date Reported'], ascending=False).head(2)"
   ]
  },
  {
   "cell_type": "code",
   "execution_count": 152,
   "metadata": {},
   "outputs": [
    {
     "data": {
      "text/html": [
       "<div>\n",
       "<style scoped>\n",
       "    .dataframe tbody tr th:only-of-type {\n",
       "        vertical-align: middle;\n",
       "    }\n",
       "\n",
       "    .dataframe tbody tr th {\n",
       "        vertical-align: top;\n",
       "    }\n",
       "\n",
       "    .dataframe thead th {\n",
       "        text-align: right;\n",
       "    }\n",
       "</style>\n",
       "<table border=\"1\" class=\"dataframe\">\n",
       "  <thead>\n",
       "    <tr style=\"text-align: right;\">\n",
       "      <th></th>\n",
       "      <th>date reported formatted</th>\n",
       "      <th>DR Number</th>\n",
       "      <th>Date Reported</th>\n",
       "      <th>Date Occurred</th>\n",
       "      <th>Time Occurred</th>\n",
       "      <th>Area ID</th>\n",
       "    </tr>\n",
       "  </thead>\n",
       "  <tbody>\n",
       "    <tr>\n",
       "      <th>1150084</th>\n",
       "      <td>2019-05-20</td>\n",
       "      <td>190113994</td>\n",
       "      <td>05/20/2019</td>\n",
       "      <td>05/18/2018</td>\n",
       "      <td>2215</td>\n",
       "      <td>1</td>\n",
       "    </tr>\n",
       "    <tr>\n",
       "      <th>1208618</th>\n",
       "      <td>2019-05-20</td>\n",
       "      <td>191412593</td>\n",
       "      <td>05/20/2019</td>\n",
       "      <td>05/08/2019</td>\n",
       "      <td>1622</td>\n",
       "      <td>14</td>\n",
       "    </tr>\n",
       "    <tr>\n",
       "      <th>1171316</th>\n",
       "      <td>2019-05-20</td>\n",
       "      <td>190410061</td>\n",
       "      <td>05/20/2019</td>\n",
       "      <td>05/19/2019</td>\n",
       "      <td>2100</td>\n",
       "      <td>4</td>\n",
       "    </tr>\n",
       "  </tbody>\n",
       "</table>\n",
       "</div>"
      ],
      "text/plain": [
       "        date reported formatted  DR Number Date Reported Date Occurred  \\\n",
       "1150084              2019-05-20  190113994    05/20/2019    05/18/2018   \n",
       "1208618              2019-05-20  191412593    05/20/2019    05/08/2019   \n",
       "1171316              2019-05-20  190410061    05/20/2019    05/19/2019   \n",
       "\n",
       "         Time Occurred  Area ID  \n",
       "1150084           2215        1  \n",
       "1208618           1622       14  \n",
       "1171316           2100        4  "
      ]
     },
     "execution_count": 152,
     "metadata": {},
     "output_type": "execute_result"
    }
   ],
   "source": [
    "# Inspect for the newest records again to see if any changes occurred after formatting the dates\n",
    "# Ran this on 5/22/2019 with a fresh download of the csv and it appears the data set is updated frequently\n",
    "crime_df.sort_values(by= 'date reported formatted', ascending=False).iloc[:3,:6]"
   ]
  },
  {
   "cell_type": "code",
   "execution_count": 153,
   "metadata": {},
   "outputs": [
    {
     "data": {
      "text/html": [
       "<div>\n",
       "<style scoped>\n",
       "    .dataframe tbody tr th:only-of-type {\n",
       "        vertical-align: middle;\n",
       "    }\n",
       "\n",
       "    .dataframe tbody tr th {\n",
       "        vertical-align: top;\n",
       "    }\n",
       "\n",
       "    .dataframe thead th {\n",
       "        text-align: right;\n",
       "    }\n",
       "</style>\n",
       "<table border=\"1\" class=\"dataframe\">\n",
       "  <thead>\n",
       "    <tr style=\"text-align: right;\">\n",
       "      <th></th>\n",
       "      <th>date reported formatted</th>\n",
       "      <th>DR Number</th>\n",
       "      <th>Date Reported</th>\n",
       "      <th>Date Occurred</th>\n",
       "      <th>Time Occurred</th>\n",
       "      <th>Area ID</th>\n",
       "    </tr>\n",
       "  </thead>\n",
       "  <tbody>\n",
       "    <tr>\n",
       "      <th>1150297</th>\n",
       "      <td>2018-12-31</td>\n",
       "      <td>190304091</td>\n",
       "      <td>12/31/2018</td>\n",
       "      <td>12/31/2018</td>\n",
       "      <td>1500</td>\n",
       "      <td>3</td>\n",
       "    </tr>\n",
       "    <tr>\n",
       "      <th>941019</th>\n",
       "      <td>2018-12-31</td>\n",
       "      <td>180131482</td>\n",
       "      <td>12/31/2018</td>\n",
       "      <td>12/31/2018</td>\n",
       "      <td>1545</td>\n",
       "      <td>1</td>\n",
       "    </tr>\n",
       "    <tr>\n",
       "      <th>1150311</th>\n",
       "      <td>2018-12-31</td>\n",
       "      <td>190304225</td>\n",
       "      <td>12/31/2018</td>\n",
       "      <td>10/12/2018</td>\n",
       "      <td>1</td>\n",
       "      <td>3</td>\n",
       "    </tr>\n",
       "  </tbody>\n",
       "</table>\n",
       "</div>"
      ],
      "text/plain": [
       "        date reported formatted  DR Number Date Reported Date Occurred  \\\n",
       "1150297              2018-12-31  190304091    12/31/2018    12/31/2018   \n",
       "941019               2018-12-31  180131482    12/31/2018    12/31/2018   \n",
       "1150311              2018-12-31  190304225    12/31/2018    10/12/2018   \n",
       "\n",
       "         Time Occurred  Area ID  \n",
       "1150297           1500        3  \n",
       "941019            1545        1  \n",
       "1150311              1        3  "
      ]
     },
     "execution_count": 153,
     "metadata": {},
     "output_type": "execute_result"
    }
   ],
   "source": [
    "# Inspect result of sorting with old date format\n",
    "crime_df.sort_values(by= 'Date Reported', ascending=False).iloc[:3,:6]"
   ]
  },
  {
   "cell_type": "code",
   "execution_count": 154,
   "metadata": {},
   "outputs": [
    {
     "data": {
      "text/plain": [
       "('12/31/2018', Timestamp('2019-05-20 00:00:00'))"
      ]
     },
     "execution_count": 154,
     "metadata": {},
     "output_type": "execute_result"
    }
   ],
   "source": [
    "# Sortig results change\n",
    "max(crime_df['Date Reported']), max(crime_df['date reported formatted'])"
   ]
  },
  {
   "cell_type": "code",
   "execution_count": 155,
   "metadata": {},
   "outputs": [
    {
     "data": {
      "text/html": [
       "<div>\n",
       "<style scoped>\n",
       "    .dataframe tbody tr th:only-of-type {\n",
       "        vertical-align: middle;\n",
       "    }\n",
       "\n",
       "    .dataframe tbody tr th {\n",
       "        vertical-align: top;\n",
       "    }\n",
       "\n",
       "    .dataframe thead th {\n",
       "        text-align: right;\n",
       "    }\n",
       "</style>\n",
       "<table border=\"1\" class=\"dataframe\">\n",
       "  <thead>\n",
       "    <tr style=\"text-align: right;\">\n",
       "      <th></th>\n",
       "      <th>date reported formatted</th>\n",
       "      <th>DR Number</th>\n",
       "      <th>Date Reported</th>\n",
       "      <th>Date Occurred</th>\n",
       "      <th>Time Occurred</th>\n",
       "      <th>Area ID</th>\n",
       "    </tr>\n",
       "  </thead>\n",
       "  <tbody>\n",
       "    <tr>\n",
       "      <th>927989</th>\n",
       "      <td>2019-05-20</td>\n",
       "      <td>191511214</td>\n",
       "      <td>05/20/2019</td>\n",
       "      <td>05/19/2017</td>\n",
       "      <td>1700</td>\n",
       "      <td>15</td>\n",
       "    </tr>\n",
       "    <tr>\n",
       "      <th>1215238</th>\n",
       "      <td>2019-05-20</td>\n",
       "      <td>191609227</td>\n",
       "      <td>05/20/2019</td>\n",
       "      <td>05/19/2019</td>\n",
       "      <td>2300</td>\n",
       "      <td>16</td>\n",
       "    </tr>\n",
       "  </tbody>\n",
       "</table>\n",
       "</div>"
      ],
      "text/plain": [
       "        date reported formatted  DR Number Date Reported Date Occurred  \\\n",
       "927989               2019-05-20  191511214    05/20/2019    05/19/2017   \n",
       "1215238              2019-05-20  191609227    05/20/2019    05/19/2019   \n",
       "\n",
       "         Time Occurred  Area ID  \n",
       "927989            1700       15  \n",
       "1215238           2300       16  "
      ]
     },
     "execution_count": 155,
     "metadata": {},
     "output_type": "execute_result"
    }
   ],
   "source": [
    "crime_df[crime_df['Date Reported'] == '05/20/2019']\\\n",
    "    .sort_values(by='Date Reported', ascending=False).iloc[:2,:6]\n"
   ]
  },
  {
   "cell_type": "code",
   "execution_count": null,
   "metadata": {},
   "outputs": [],
   "source": []
  },
  {
   "cell_type": "code",
   "execution_count": null,
   "metadata": {},
   "outputs": [],
   "source": []
  },
  {
   "cell_type": "markdown",
   "metadata": {},
   "source": [
    "### Examining the structure of the dataframe"
   ]
  },
  {
   "cell_type": "code",
   "execution_count": 156,
   "metadata": {},
   "outputs": [
    {
     "data": {
      "text/plain": [
       "29"
      ]
     },
     "execution_count": 156,
     "metadata": {},
     "output_type": "execute_result"
    }
   ],
   "source": [
    "len(crime_df.columns)"
   ]
  },
  {
   "cell_type": "code",
   "execution_count": 157,
   "metadata": {},
   "outputs": [
    {
     "data": {
      "text/plain": [
       "(1972134, 29)"
      ]
     },
     "execution_count": 157,
     "metadata": {},
     "output_type": "execute_result"
    }
   ],
   "source": [
    "crime_df.shape"
   ]
  },
  {
   "cell_type": "code",
   "execution_count": 158,
   "metadata": {},
   "outputs": [
    {
     "data": {
      "text/plain": [
       "(1972134, 16)"
      ]
     },
     "execution_count": 158,
     "metadata": {},
     "output_type": "execute_result"
    }
   ],
   "source": [
    "# 15 columns that have no missing values at all\n",
    "crime_df.dropna(axis=1).shape"
   ]
  },
  {
   "cell_type": "code",
   "execution_count": 159,
   "metadata": {},
   "outputs": [
    {
     "data": {
      "text/plain": [
       "(19, 29)"
      ]
     },
     "execution_count": 159,
     "metadata": {},
     "output_type": "execute_result"
    }
   ],
   "source": [
    "# only 19 rows out of 1967976 are without missing values\n",
    "crime_df.dropna(axis=0).shape"
   ]
  },
  {
   "cell_type": "code",
   "execution_count": 160,
   "metadata": {},
   "outputs": [
    {
     "name": "stdout",
     "output_type": "stream",
     "text": [
      "Total rows in age column: 1972134\n",
      "Total rows with age == 0: 362180\n",
      "Rows with age == 0: 18.36 %\n"
     ]
    }
   ],
   "source": [
    "print(f\"Total rows in age column: {crime_df['Victim Age'].count()}\")\n",
    "print(f\"Total rows with age == 0: {crime_df[crime_df['Victim Age']==0]['Victim Age'].count()}\")\n",
    "print(\"Rows with age == 0:\",\\\n",
    "     round(float(crime_df[crime_df['Victim Age']==0]['Victim Age']\\\n",
    "                  .count()/crime_df['Victim Age'].count()*100),2), '%')\n",
    "\n"
   ]
  },
  {
   "cell_type": "code",
   "execution_count": 161,
   "metadata": {},
   "outputs": [
    {
     "data": {
      "image/png": "[encoded data removed]",
      "text/plain": [
       "<Figure size 1296x360 with 1 Axes>"
      ]
     },
     "metadata": {
      "needs_background": "light"
     },
     "output_type": "display_data"
    }
   ],
   "source": [
    "# Quick visual inspection of the 'Victim Age' column for the above reasons ☝🏾\n",
    "data = crime_df['Victim Age'].value_counts()\n",
    "names = list(data.index)\n",
    "fig, axs = plt.subplots(figsize=(18, 5))\n",
    "axs.bar(names, data)\n",
    "\n",
    "plt.show()"
   ]
  },
  {
   "cell_type": "code",
   "execution_count": 162,
   "metadata": {},
   "outputs": [
    {
     "data": {
      "text/plain": [
       "Victim Age\n",
       "-9      2\n",
       "-8      1\n",
       "-7      4\n",
       "-6     10\n",
       "-5     17\n",
       "-4     23\n",
       "-3     51\n",
       "-2    102\n",
       "-1    221\n",
       "Name: Victim Age, dtype: int64"
      ]
     },
     "execution_count": 162,
     "metadata": {},
     "output_type": "execute_result"
    }
   ],
   "source": [
    "# Ages with negative numbers exactly 9 😰\n",
    "# it probalby refers to an unborn victim (pregnancy stage of victim's mother)?\n",
    "crime_df[crime_df['Victim Age'] < 0].groupby('Victim Age')['Victim Age'].count()\n"
   ]
  },
  {
   "cell_type": "code",
   "execution_count": 163,
   "metadata": {},
   "outputs": [
    {
     "data": {
      "text/plain": [
       "(False, 0)"
      ]
     },
     "execution_count": 163,
     "metadata": {},
     "output_type": "execute_result"
    }
   ],
   "source": [
    "# The huge amount of zeros in dataset coud be that in data entry process the person \n",
    "# preparing the report could not leave the field blank: This could reflect unknown ages\n",
    "# of victims perhaps because incomplete or unfinished reports that victims abandon or \n",
    "# Unknown ages of these victims? \n",
    " #No missing values in this column\n",
    "crime_df['Victim Age'].isnull().values.any(), crime_df['Victim Age'].isnull().values.sum()\n"
   ]
  },
  {
   "cell_type": "code",
   "execution_count": 164,
   "metadata": {},
   "outputs": [
    {
     "name": "stdout",
     "output_type": "stream",
     "text": [
      "Total columns in dataset: 29\n",
      "Number of Columns with no missing values: 16\n"
     ]
    }
   ],
   "source": [
    "print(f\"Total columns in dataset: {len(crime_df.columns)}\")\n",
    "print(f\"Number of Columns with no missing values: {len(crime_df.dropna(axis=1).columns)}\")"
   ]
  },
  {
   "cell_type": "code",
   "execution_count": 165,
   "metadata": {},
   "outputs": [
    {
     "name": "stdout",
     "output_type": "stream",
     "text": [
      " Only 19 Rows with no missing values out of 1972134 total Rows\n"
     ]
    }
   ],
   "source": [
    "print(f\" Only {len(crime_df.dropna(axis=0))}\\\n",
    " Rows with no missing values out of {len(crime_df)} total Rows\")\n"
   ]
  },
  {
   "cell_type": "markdown",
   "metadata": {},
   "source": [
    "# Mapping lat long to a zip code with helper funcion imported from diffs_latlong.py"
   ]
  },
  {
   "cell_type": "code",
   "execution_count": 166,
   "metadata": {},
   "outputs": [],
   "source": [
    "# Wrapper function needed to execute the computeNearestZip script. It wont work otherwise\n",
    "def zipWrapper(myDf):\n",
    "    lat = myDf['lat']\n",
    "    long = myDf['long']\n",
    "    return computeNearestZip(lat, long)\n"
   ]
  },
  {
   "cell_type": "code",
   "execution_count": 167,
   "metadata": {},
   "outputs": [
    {
     "data": {
      "text/plain": [
       "('30339', str)"
      ]
     },
     "execution_count": 167,
     "metadata": {},
     "output_type": "execute_result"
    }
   ],
   "source": [
    "# Testing computeNearestZip: it maps a pair of lat/long to its zip code\n",
    "zipTester = computeNearestZip(33.8677, -84.4645)\n",
    "zipTester, type(zipTester)\n"
   ]
  },
  {
   "cell_type": "code",
   "execution_count": 47,
   "metadata": {},
   "outputs": [
    {
     "data": {
      "text/html": [
       "<div>\n",
       "<style scoped>\n",
       "    .dataframe tbody tr th:only-of-type {\n",
       "        vertical-align: middle;\n",
       "    }\n",
       "\n",
       "    .dataframe tbody tr th {\n",
       "        vertical-align: top;\n",
       "    }\n",
       "\n",
       "    .dataframe thead th {\n",
       "        text-align: right;\n",
       "    }\n",
       "</style>\n",
       "<table border=\"1\" class=\"dataframe\">\n",
       "  <thead>\n",
       "    <tr style=\"text-align: right;\">\n",
       "      <th></th>\n",
       "      <th>lat</th>\n",
       "      <th>long</th>\n",
       "    </tr>\n",
       "  </thead>\n",
       "  <tbody>\n",
       "    <tr>\n",
       "      <th>998</th>\n",
       "      <td>34.0376</td>\n",
       "      <td>-118.2594</td>\n",
       "    </tr>\n",
       "    <tr>\n",
       "      <th>999</th>\n",
       "      <td>34.0516</td>\n",
       "      <td>-118.2561</td>\n",
       "    </tr>\n",
       "  </tbody>\n",
       "</table>\n",
       "</div>"
      ],
      "text/plain": [
       "         lat      long\n",
       "998  34.0376 -118.2594\n",
       "999  34.0516 -118.2561"
      ]
     },
     "execution_count": 47,
     "metadata": {},
     "output_type": "execute_result"
    }
   ],
   "source": [
    "# Our computeNearestZip algorithm is heavy on computer resources.\n",
    "# It would probably take several weeks to run on 1.9 million rows\n",
    "# Created a smaller df to test its functionality\n",
    "latlong1k_df = crime_df[['lat','long']][:1000]\n",
    "latlong1k_df.tail(2)\n"
   ]
  },
  {
   "cell_type": "code",
   "execution_count": 48,
   "metadata": {},
   "outputs": [],
   "source": [
    "# Function to test the time it takes for our computeNearestzip function to run\n",
    "def timer():\n",
    "    begining = time.time()\n",
    "    latlong1k_df['zip'] = latlong1k_df.apply(func=zipWrapper, axis=1)\n",
    "    end = time.time()\n",
    "    total = end-begining\n",
    "    print(f\"It took {total} seconds to process {len(latlong1k_df['zip'])} Rows\")\n",
    "          "
   ]
  },
  {
   "cell_type": "code",
   "execution_count": 96,
   "metadata": {},
   "outputs": [
    {
     "name": "stdout",
     "output_type": "stream",
     "text": [
      "It took 69.20011687278748 seconds to process 1000 Rows\n"
     ]
    }
   ],
   "source": [
    "#15'\n",
    "timer()"
   ]
  },
  {
   "cell_type": "code",
   "execution_count": 44,
   "metadata": {},
   "outputs": [
    {
     "name": "stdout",
     "output_type": "stream",
     "text": [
      "It took 149.5450189113617 seconds to process 1000 Rows\n"
     ]
    }
   ],
   "source": [
    "#13'\n",
    "timer()"
   ]
  },
  {
   "cell_type": "code",
   "execution_count": 52,
   "metadata": {},
   "outputs": [],
   "source": [
    "# Create new df of 10k rows to use in the project\n",
    "\n",
    "_10k_df = crime_df.sort_values(by= ['date reported formatted'], ascending=False).iloc[:10000,:]"
   ]
  },
  {
   "cell_type": "code",
   "execution_count": 63,
   "metadata": {},
   "outputs": [
    {
     "name": "stdout",
     "output_type": "stream",
     "text": [
      "<class 'pandas.core.frame.DataFrame'>\n",
      "Int64Index: 10000 entries, 1150084 to 1420509\n",
      "Data columns (total 30 columns):\n",
      "date reported formatted    10000 non-null datetime64[ns]\n",
      "DR Number                  10000 non-null int64\n",
      "Date Reported              10000 non-null object\n",
      "Date Occurred              10000 non-null object\n",
      "Time Occurred              10000 non-null int64\n",
      "Area ID                    10000 non-null int64\n",
      "Area Name                  10000 non-null object\n",
      "Reporting District         10000 non-null int64\n",
      "Crime Code                 10000 non-null int64\n",
      "Crime Code Description     10000 non-null object\n",
      "MO Codes                   8978 non-null object\n",
      "Victim Age                 10000 non-null int64\n",
      "Victim Sex                 0 non-null object\n",
      "Victim Descent             0 non-null object\n",
      "Premise Code               10000 non-null float64\n",
      "Premise Description        9999 non-null object\n",
      "Weapon Used Code           3749 non-null float64\n",
      "Weapon Description         3749 non-null object\n",
      "Status Code                10000 non-null object\n",
      "Status Description         10000 non-null object\n",
      "Crime Code 1               10000 non-null float64\n",
      "Crime Code 2               775 non-null float64\n",
      "Crime Code 3               39 non-null float64\n",
      "Crime Code 4               1 non-null float64\n",
      "Address                    10000 non-null object\n",
      "Cross Street               1876 non-null object\n",
      "location                   10000 non-null object\n",
      "lat                        10000 non-null float64\n",
      "long                       10000 non-null float64\n",
      "zip                        10000 non-null object\n",
      "dtypes: datetime64[ns](1), float64(8), int64(6), object(15)\n",
      "memory usage: 2.4+ MB\n"
     ]
    }
   ],
   "source": [
    "_10k_df.info()"
   ]
  },
  {
   "cell_type": "code",
   "execution_count": 55,
   "metadata": {},
   "outputs": [],
   "source": [
    "# Create the zip column by  applying the computeNearestzip function to it\n",
    "# _1k_crime_df['zip'] = _1k_crime_df.apply(func=zipWrapper, axis=1)\n",
    "_10k_df['zip'] = _10k_df.apply(func=zipWrapper, axis=1)\n"
   ]
  },
  {
   "cell_type": "code",
   "execution_count": 59,
   "metadata": {},
   "outputs": [
    {
     "data": {
      "text/plain": [
       "date reported formatted    10000\n",
       "DR Number                  10000\n",
       "Date Reported              10000\n",
       "Date Occurred              10000\n",
       "Time Occurred              10000\n",
       "Area ID                    10000\n",
       "Area Name                  10000\n",
       "Reporting District         10000\n",
       "Crime Code                 10000\n",
       "Crime Code Description     10000\n",
       "MO Codes                    8978\n",
       "Victim Age                 10000\n",
       "Victim Sex                     0\n",
       "Victim Descent                 0\n",
       "Premise Code               10000\n",
       "Premise Description         9999\n",
       "Weapon Used Code            3749\n",
       "Weapon Description          3749\n",
       "Status Code                10000\n",
       "Status Description         10000\n",
       "Crime Code 1               10000\n",
       "Crime Code 2                 775\n",
       "Crime Code 3                  39\n",
       "Crime Code 4                   1\n",
       "Address                    10000\n",
       "Cross Street                1876\n",
       "location                   10000\n",
       "lat                        10000\n",
       "long                       10000\n",
       "zip                        10000\n",
       "dtype: int64"
      ]
     },
     "execution_count": 59,
     "metadata": {},
     "output_type": "execute_result"
    }
   ],
   "source": [
    "_10k_df.count()"
   ]
  },
  {
   "cell_type": "code",
   "execution_count": 208,
   "metadata": {},
   "outputs": [
    {
     "data": {
      "text/html": [
       "<div>\n",
       "<style scoped>\n",
       "    .dataframe tbody tr th:only-of-type {\n",
       "        vertical-align: middle;\n",
       "    }\n",
       "\n",
       "    .dataframe tbody tr th {\n",
       "        vertical-align: top;\n",
       "    }\n",
       "\n",
       "    .dataframe thead th {\n",
       "        text-align: right;\n",
       "    }\n",
       "</style>\n",
       "<table border=\"1\" class=\"dataframe\">\n",
       "  <thead>\n",
       "    <tr style=\"text-align: right;\">\n",
       "      <th></th>\n",
       "      <th>Cross Street</th>\n",
       "      <th>location</th>\n",
       "      <th>lat</th>\n",
       "      <th>long</th>\n",
       "      <th>zip</th>\n",
       "    </tr>\n",
       "  </thead>\n",
       "  <tbody>\n",
       "    <tr>\n",
       "      <th>1420508</th>\n",
       "      <td>NaN</td>\n",
       "      <td>(34.1805, -118.5975)</td>\n",
       "      <td>34.1805</td>\n",
       "      <td>-118.5975</td>\n",
       "      <td>91303</td>\n",
       "    </tr>\n",
       "    <tr>\n",
       "      <th>1420509</th>\n",
       "      <td>NaN</td>\n",
       "      <td>(34.1938, -118.6044)</td>\n",
       "      <td>34.1938</td>\n",
       "      <td>-118.6044</td>\n",
       "      <td>91303</td>\n",
       "    </tr>\n",
       "  </tbody>\n",
       "</table>\n",
       "</div>"
      ],
      "text/plain": [
       "        Cross Street              location      lat      long    zip\n",
       "1420508          NaN  (34.1805, -118.5975)  34.1805 -118.5975  91303\n",
       "1420509          NaN  (34.1938, -118.6044)  34.1938 -118.6044  91303"
      ]
     },
     "execution_count": 208,
     "metadata": {},
     "output_type": "execute_result"
    }
   ],
   "source": [
    "# Inspect the new zip column\n",
    "_10k_df.iloc[-2:,-5:]"
   ]
  },
  {
   "cell_type": "code",
   "execution_count": 209,
   "metadata": {},
   "outputs": [
    {
     "data": {
      "text/plain": [
       "0    10000\n",
       "Name: Victim Age, dtype: int64"
      ]
     },
     "execution_count": 209,
     "metadata": {},
     "output_type": "execute_result"
    }
   ],
   "source": [
    "# Age reported as `0` for the latest 10k crimes\n",
    "_10k_df['Victim Age'].value_counts()"
   ]
  },
  {
   "cell_type": "markdown",
   "metadata": {},
   "source": [
    "# Load  (Mongo and SQL)"
   ]
  },
  {
   "cell_type": "code",
   "execution_count": 169,
   "metadata": {},
   "outputs": [],
   "source": [
    "# Save the _10k_df to a csv file\n",
    "#added the amount of rows to the name of the file for easy finding\n",
    "_10k_df.to_csv(f\"Resources/crime{_10k_df['zip'].count()}.csv\", index=False)\n"
   ]
  },
  {
   "cell_type": "markdown",
   "metadata": {},
   "source": [
    "# mongodb"
   ]
  },
  {
   "cell_type": "code",
   "execution_count": 170,
   "metadata": {},
   "outputs": [],
   "source": [
    "import pymongo"
   ]
  },
  {
   "cell_type": "code",
   "execution_count": 173,
   "metadata": {},
   "outputs": [],
   "source": [
    "# Setup connection to mongodb\n",
    "conn = \"mongodb://localhost:27017\"\n",
    "client = pymongo.MongoClient(conn)\n",
    "\n",
    "# Select database and collection to use\n",
    "db = client.la_crime_10k\n",
    "crime_reports = db.crime_reports"
   ]
  },
  {
   "cell_type": "code",
   "execution_count": 174,
   "metadata": {},
   "outputs": [],
   "source": [
    "# Convert the dataframe to dictionary format for mongo\n",
    "crimeData = _10k_df.to_dict(orient='records')"
   ]
  },
  {
   "cell_type": "code",
   "execution_count": 175,
   "metadata": {},
   "outputs": [
    {
     "data": {
      "text/plain": [
       "{'date reported formatted': Timestamp('2019-05-20 00:00:00'),\n",
       " 'DR Number': 190113994,\n",
       " 'Date Reported': '05/20/2019',\n",
       " 'Date Occurred': '05/18/2018',\n",
       " 'Time Occurred': 2215,\n",
       " 'Area ID': 1,\n",
       " 'Area Name': 'Central',\n",
       " 'Reporting District': 161,\n",
       " 'Crime Code': 330,\n",
       " 'Crime Code Description': 'BURGLARY FROM VEHICLE',\n",
       " 'MO Codes': '0329 0344',\n",
       " 'Victim Age': 0,\n",
       " 'Victim Sex': nan,\n",
       " 'Victim Descent': nan,\n",
       " 'Premise Code': 101.0,\n",
       " 'Premise Description': 'STREET',\n",
       " 'Weapon Used Code': nan,\n",
       " 'Weapon Description': nan,\n",
       " 'Status Code': 'IC',\n",
       " 'Status Description': 'Invest Cont',\n",
       " 'Crime Code 1': 330.0,\n",
       " 'Crime Code 2': nan,\n",
       " 'Crime Code 3': nan,\n",
       " 'Crime Code 4': nan,\n",
       " 'Address': 'GEORGIA                      ST',\n",
       " 'Cross Street': 'JAMES M WOOD                 BL',\n",
       " 'location': '(34.0483, -118.2631)',\n",
       " 'lat': 34.0483,\n",
       " 'long': -118.2631,\n",
       " 'zip': '90017'}"
      ]
     },
     "execution_count": 175,
     "metadata": {},
     "output_type": "execute_result"
    }
   ],
   "source": [
    "# inspect the dictionary \n",
    "crimeData[0]"
   ]
  },
  {
   "cell_type": "code",
   "execution_count": 176,
   "metadata": {},
   "outputs": [
    {
     "data": {
      "text/plain": [
       "<pymongo.results.InsertManyResult at 0x7fcc2b085688>"
      ]
     },
     "execution_count": 176,
     "metadata": {},
     "output_type": "execute_result"
    }
   ],
   "source": [
    "crime_reports.insert_many(crimeData)"
   ]
  },
  {
   "cell_type": "code",
   "execution_count": 177,
   "metadata": {},
   "outputs": [
    {
     "name": "stdout",
     "output_type": "stream",
     "text": [
      "{'_id': ObjectId('5ce5ddcbbe1a7708cf88d317'), 'date reported formatted': datetime.datetime(2019, 5, 20, 0, 0), 'DR Number': 190113994, 'Date Reported': '05/20/2019', 'Date Occurred': '05/18/2018', 'Time Occurred': 2215, 'Area ID': 1, 'Area Name': 'Central', 'Reporting District': 161, 'Crime Code': 330, 'Crime Code Description': 'BURGLARY FROM VEHICLE', 'MO Codes': '0329 0344', 'Victim Age': 0, 'Victim Sex': nan, 'Victim Descent': nan, 'Premise Code': 101.0, 'Premise Description': 'STREET', 'Weapon Used Code': nan, 'Weapon Description': nan, 'Status Code': 'IC', 'Status Description': 'Invest Cont', 'Crime Code 1': 330.0, 'Crime Code 2': nan, 'Crime Code 3': nan, 'Crime Code 4': nan, 'Address': 'GEORGIA                      ST', 'Cross Street': 'JAMES M WOOD                 BL', 'location': '(34.0483, -118.2631)', 'lat': 34.0483, 'long': -118.2631, 'zip': '90017'} \n",
      "\n",
      "{'_id': ObjectId('5ce5ddcbbe1a7708cf88d318'), 'date reported formatted': datetime.datetime(2019, 5, 20, 0, 0), 'DR Number': 191412593, 'Date Reported': '05/20/2019', 'Date Occurred': '05/08/2019', 'Time Occurred': 1622, 'Area ID': 14, 'Area Name': 'Pacific', 'Reporting District': 1428, 'Crime Code': 901, 'Crime Code Description': 'VIOLATION OF RESTRAINING ORDER', 'MO Codes': nan, 'Victim Age': 0, 'Victim Sex': nan, 'Victim Descent': nan, 'Premise Code': 501.0, 'Premise Description': 'SINGLE FAMILY DWELLING', 'Weapon Used Code': nan, 'Weapon Description': nan, 'Status Code': 'IC', 'Status Description': 'Invest Cont', 'Crime Code 1': 901.0, 'Crime Code 2': nan, 'Crime Code 3': nan, 'Crime Code 4': nan, 'Address': '3200    OVERLAND                     AV', 'Cross Street': nan, 'location': '(34.0265, -118.4184)', 'lat': 34.0265, 'long': -118.4184, 'zip': '90064'} \n",
      "\n"
     ]
    }
   ],
   "source": [
    "# Test query the mongo db\n",
    "results = crime_reports.find()\n",
    "for result in results[:2]:\n",
    "    print(result, '\\n')"
   ]
  },
  {
   "cell_type": "markdown",
   "metadata": {},
   "source": [
    "## Create a second collection (census zips):"
   ]
  },
  {
   "cell_type": "code",
   "execution_count": 178,
   "metadata": {},
   "outputs": [
    {
     "data": {
      "text/html": [
       "<div>\n",
       "<style scoped>\n",
       "    .dataframe tbody tr th:only-of-type {\n",
       "        vertical-align: middle;\n",
       "    }\n",
       "\n",
       "    .dataframe tbody tr th {\n",
       "        vertical-align: top;\n",
       "    }\n",
       "\n",
       "    .dataframe thead th {\n",
       "        text-align: right;\n",
       "    }\n",
       "</style>\n",
       "<table border=\"1\" class=\"dataframe\">\n",
       "  <thead>\n",
       "    <tr style=\"text-align: right;\">\n",
       "      <th></th>\n",
       "      <th>Zipcode</th>\n",
       "      <th>Population</th>\n",
       "      <th>Unemployment Count</th>\n",
       "      <th>Unemployment Rate</th>\n",
       "    </tr>\n",
       "  </thead>\n",
       "  <tbody>\n",
       "    <tr>\n",
       "      <th>0</th>\n",
       "      <td>601</td>\n",
       "      <td>17599.0</td>\n",
       "      <td>2454.0</td>\n",
       "      <td>13.943974</td>\n",
       "    </tr>\n",
       "    <tr>\n",
       "      <th>1</th>\n",
       "      <td>602</td>\n",
       "      <td>39209.0</td>\n",
       "      <td>2538.0</td>\n",
       "      <td>6.473004</td>\n",
       "    </tr>\n",
       "  </tbody>\n",
       "</table>\n",
       "</div>"
      ],
      "text/plain": [
       "   Zipcode  Population  Unemployment Count  Unemployment Rate\n",
       "0      601     17599.0              2454.0          13.943974\n",
       "1      602     39209.0              2538.0           6.473004"
      ]
     },
     "execution_count": 178,
     "metadata": {},
     "output_type": "execute_result"
    }
   ],
   "source": [
    "# Read in from census zips csv file\n",
    "census_df = pd.read_csv('Resources/censusZips2017.csv')\n",
    "census_df[:2]"
   ]
  },
  {
   "cell_type": "code",
   "execution_count": 179,
   "metadata": {},
   "outputs": [],
   "source": [
    "# Save df to dictionary for mongo uploading\n",
    "censusData = census_df.to_dict(orient = 'records')"
   ]
  },
  {
   "cell_type": "code",
   "execution_count": 180,
   "metadata": {},
   "outputs": [],
   "source": [
    "### Create the  collection to hold census data\n",
    "censusZips = db.censusZips"
   ]
  },
  {
   "cell_type": "code",
   "execution_count": 181,
   "metadata": {},
   "outputs": [
    {
     "data": {
      "text/plain": [
       "<pymongo.results.InsertManyResult at 0x7fcb897d8288>"
      ]
     },
     "execution_count": 181,
     "metadata": {},
     "output_type": "execute_result"
    }
   ],
   "source": [
    "censusZips.insert_many(censusData)"
   ]
  },
  {
   "cell_type": "code",
   "execution_count": 182,
   "metadata": {},
   "outputs": [],
   "source": [
    "## Test query the mongodb new collection\n",
    "censusResults = censusZips.find()"
   ]
  },
  {
   "cell_type": "code",
   "execution_count": 183,
   "metadata": {},
   "outputs": [
    {
     "name": "stdout",
     "output_type": "stream",
     "text": [
      "{'_id': ObjectId('5ce5df1bbe1a7708cf88fa27'), 'Zipcode': 601, 'Population': 17599.0, 'Unemployment Count': 2454.0, 'Unemployment Rate': 13.943974089436901} \n",
      "\n",
      "{'_id': ObjectId('5ce5df1bbe1a7708cf88fa28'), 'Zipcode': 602, 'Population': 39209.0, 'Unemployment Count': 2538.0, 'Unemployment Rate': 6.473003647121835} \n",
      "\n"
     ]
    }
   ],
   "source": [
    "for result in censusResults[:2]:\n",
    "    print(result, '\\n')"
   ]
  },
  {
   "cell_type": "markdown",
   "metadata": {},
   "source": [
    "#  SQL"
   ]
  },
  {
   "cell_type": "code",
   "execution_count": 184,
   "metadata": {},
   "outputs": [],
   "source": [
    "from sqlalchemy import create_engine"
   ]
  },
  {
   "cell_type": "code",
   "execution_count": 185,
   "metadata": {},
   "outputs": [],
   "source": [
    "database_path = \"Resources/la_crime_10k.sqlite\""
   ]
  },
  {
   "cell_type": "code",
   "execution_count": 186,
   "metadata": {},
   "outputs": [],
   "source": [
    "engine = create_engine(f\"sqlite:///{database_path}\")"
   ]
  },
  {
   "cell_type": "code",
   "execution_count": 187,
   "metadata": {},
   "outputs": [
    {
     "data": {
      "text/plain": [
       "[]"
      ]
     },
     "execution_count": 187,
     "metadata": {},
     "output_type": "execute_result"
    }
   ],
   "source": [
    "engine.table_names()"
   ]
  },
  {
   "cell_type": "code",
   "execution_count": 188,
   "metadata": {},
   "outputs": [],
   "source": [
    "_10k_df.to_sql(name='LaCrime', con=engine, if_exists='append', index=False)\n"
   ]
  },
  {
   "cell_type": "code",
   "execution_count": 190,
   "metadata": {},
   "outputs": [
    {
     "data": {
      "text/plain": [
       "['LaCrime']"
      ]
     },
     "execution_count": 190,
     "metadata": {},
     "output_type": "execute_result"
    }
   ],
   "source": [
    "engine.table_names()"
   ]
  },
  {
   "cell_type": "code",
   "execution_count": 210,
   "metadata": {},
   "outputs": [
    {
     "data": {
      "text/html": [
       "<div>\n",
       "<style scoped>\n",
       "    .dataframe tbody tr th:only-of-type {\n",
       "        vertical-align: middle;\n",
       "    }\n",
       "\n",
       "    .dataframe tbody tr th {\n",
       "        vertical-align: top;\n",
       "    }\n",
       "\n",
       "    .dataframe thead th {\n",
       "        text-align: right;\n",
       "    }\n",
       "</style>\n",
       "<table border=\"1\" class=\"dataframe\">\n",
       "  <thead>\n",
       "    <tr style=\"text-align: right;\">\n",
       "      <th></th>\n",
       "      <th>date reported formatted</th>\n",
       "      <th>DR Number</th>\n",
       "      <th>Date Reported</th>\n",
       "      <th>Date Occurred</th>\n",
       "      <th>Time Occurred</th>\n",
       "      <th>Area ID</th>\n",
       "      <th>Area Name</th>\n",
       "      <th>Reporting District</th>\n",
       "      <th>Crime Code</th>\n",
       "      <th>Crime Code Description</th>\n",
       "      <th>...</th>\n",
       "      <th>Crime Code 1</th>\n",
       "      <th>Crime Code 2</th>\n",
       "      <th>Crime Code 3</th>\n",
       "      <th>Crime Code 4</th>\n",
       "      <th>Address</th>\n",
       "      <th>Cross Street</th>\n",
       "      <th>location</th>\n",
       "      <th>lat</th>\n",
       "      <th>long</th>\n",
       "      <th>zip</th>\n",
       "    </tr>\n",
       "  </thead>\n",
       "  <tbody>\n",
       "    <tr>\n",
       "      <th>9998</th>\n",
       "      <td>2019-05-03 00:00:00.000000</td>\n",
       "      <td>192109540</td>\n",
       "      <td>05/03/2019</td>\n",
       "      <td>05/03/2019</td>\n",
       "      <td>1413</td>\n",
       "      <td>21</td>\n",
       "      <td>Topanga</td>\n",
       "      <td>2158</td>\n",
       "      <td>442</td>\n",
       "      <td>SHOPLIFTING - PETTY THEFT ($950 &amp; UNDER)</td>\n",
       "      <td>...</td>\n",
       "      <td>442.0</td>\n",
       "      <td>NaN</td>\n",
       "      <td>NaN</td>\n",
       "      <td>NaN</td>\n",
       "      <td>6100    CANOGA                       AV</td>\n",
       "      <td>None</td>\n",
       "      <td>(34.1805, -118.5975)</td>\n",
       "      <td>34.1805</td>\n",
       "      <td>-118.5975</td>\n",
       "      <td>91303</td>\n",
       "    </tr>\n",
       "    <tr>\n",
       "      <th>9999</th>\n",
       "      <td>2019-05-03 00:00:00.000000</td>\n",
       "      <td>192109542</td>\n",
       "      <td>05/03/2019</td>\n",
       "      <td>05/03/2019</td>\n",
       "      <td>1015</td>\n",
       "      <td>21</td>\n",
       "      <td>Topanga</td>\n",
       "      <td>2156</td>\n",
       "      <td>442</td>\n",
       "      <td>SHOPLIFTING - PETTY THEFT ($950 &amp; UNDER)</td>\n",
       "      <td>...</td>\n",
       "      <td>442.0</td>\n",
       "      <td>NaN</td>\n",
       "      <td>NaN</td>\n",
       "      <td>NaN</td>\n",
       "      <td>21900    VANOWEN                      ST</td>\n",
       "      <td>None</td>\n",
       "      <td>(34.1938, -118.6044)</td>\n",
       "      <td>34.1938</td>\n",
       "      <td>-118.6044</td>\n",
       "      <td>91303</td>\n",
       "    </tr>\n",
       "  </tbody>\n",
       "</table>\n",
       "<p>2 rows × 30 columns</p>\n",
       "</div>"
      ],
      "text/plain": [
       "         date reported formatted  DR Number Date Reported Date Occurred  \\\n",
       "9998  2019-05-03 00:00:00.000000  192109540    05/03/2019    05/03/2019   \n",
       "9999  2019-05-03 00:00:00.000000  192109542    05/03/2019    05/03/2019   \n",
       "\n",
       "      Time Occurred  Area ID Area Name  Reporting District  Crime Code  \\\n",
       "9998           1413       21   Topanga                2158         442   \n",
       "9999           1015       21   Topanga                2156         442   \n",
       "\n",
       "                        Crime Code Description  ... Crime Code 1  \\\n",
       "9998  SHOPLIFTING - PETTY THEFT ($950 & UNDER)  ...        442.0   \n",
       "9999  SHOPLIFTING - PETTY THEFT ($950 & UNDER)  ...        442.0   \n",
       "\n",
       "      Crime Code 2 Crime Code 3 Crime Code 4  \\\n",
       "9998           NaN          NaN          NaN   \n",
       "9999           NaN          NaN          NaN   \n",
       "\n",
       "                                       Address Cross Street  \\\n",
       "9998   6100    CANOGA                       AV         None   \n",
       "9999  21900    VANOWEN                      ST         None   \n",
       "\n",
       "                  location      lat      long    zip  \n",
       "9998  (34.1805, -118.5975)  34.1805 -118.5975  91303  \n",
       "9999  (34.1938, -118.6044)  34.1938 -118.6044  91303  \n",
       "\n",
       "[2 rows x 30 columns]"
      ]
     },
     "execution_count": 210,
     "metadata": {},
     "output_type": "execute_result"
    }
   ],
   "source": [
    "# Test Query the LaCrime table\n",
    "pd.read_sql_query('select * from LaCrime', con=engine).tail(2)\n"
   ]
  },
  {
   "cell_type": "markdown",
   "metadata": {},
   "source": [
    "## Create a second Table (census zips):"
   ]
  },
  {
   "cell_type": "code",
   "execution_count": 192,
   "metadata": {},
   "outputs": [],
   "source": [
    "# Import data for the census table\n",
    "censusData = pd.read_csv('Resources/censusZips2017.csv')\n"
   ]
  },
  {
   "cell_type": "code",
   "execution_count": 193,
   "metadata": {},
   "outputs": [
    {
     "data": {
      "text/html": [
       "<div>\n",
       "<style scoped>\n",
       "    .dataframe tbody tr th:only-of-type {\n",
       "        vertical-align: middle;\n",
       "    }\n",
       "\n",
       "    .dataframe tbody tr th {\n",
       "        vertical-align: top;\n",
       "    }\n",
       "\n",
       "    .dataframe thead th {\n",
       "        text-align: right;\n",
       "    }\n",
       "</style>\n",
       "<table border=\"1\" class=\"dataframe\">\n",
       "  <thead>\n",
       "    <tr style=\"text-align: right;\">\n",
       "      <th></th>\n",
       "      <th>Zipcode</th>\n",
       "      <th>Population</th>\n",
       "      <th>Unemployment Count</th>\n",
       "      <th>Unemployment Rate</th>\n",
       "    </tr>\n",
       "  </thead>\n",
       "  <tbody>\n",
       "    <tr>\n",
       "      <th>0</th>\n",
       "      <td>601</td>\n",
       "      <td>17599.0</td>\n",
       "      <td>2454.0</td>\n",
       "      <td>13.943974</td>\n",
       "    </tr>\n",
       "    <tr>\n",
       "      <th>1</th>\n",
       "      <td>602</td>\n",
       "      <td>39209.0</td>\n",
       "      <td>2538.0</td>\n",
       "      <td>6.473004</td>\n",
       "    </tr>\n",
       "  </tbody>\n",
       "</table>\n",
       "</div>"
      ],
      "text/plain": [
       "   Zipcode  Population  Unemployment Count  Unemployment Rate\n",
       "0      601     17599.0              2454.0          13.943974\n",
       "1      602     39209.0              2538.0           6.473004"
      ]
     },
     "execution_count": 193,
     "metadata": {},
     "output_type": "execute_result"
    }
   ],
   "source": [
    "censusData[:2]\n"
   ]
  },
  {
   "cell_type": "code",
   "execution_count": 194,
   "metadata": {},
   "outputs": [
    {
     "data": {
      "text/plain": [
       "['LaCrime']"
      ]
     },
     "execution_count": 194,
     "metadata": {},
     "output_type": "execute_result"
    }
   ],
   "source": [
    "# check tables\n",
    "engine.table_names()\n"
   ]
  },
  {
   "cell_type": "code",
   "execution_count": 195,
   "metadata": {},
   "outputs": [],
   "source": [
    "# Create the new CensusZips table \n",
    "censusData.to_sql(name='CensusZips', con=engine, if_exists='append', index=False)\n"
   ]
  },
  {
   "cell_type": "code",
   "execution_count": 196,
   "metadata": {},
   "outputs": [
    {
     "data": {
      "text/plain": [
       "['CensusZips', 'LaCrime']"
      ]
     },
     "execution_count": 196,
     "metadata": {},
     "output_type": "execute_result"
    }
   ],
   "source": [
    "engine.table_names()\n"
   ]
  },
  {
   "cell_type": "markdown",
   "metadata": {},
   "source": [
    "### Test Query the CensusZips table"
   ]
  },
  {
   "cell_type": "code",
   "execution_count": 197,
   "metadata": {},
   "outputs": [
    {
     "data": {
      "text/html": [
       "<div>\n",
       "<style scoped>\n",
       "    .dataframe tbody tr th:only-of-type {\n",
       "        vertical-align: middle;\n",
       "    }\n",
       "\n",
       "    .dataframe tbody tr th {\n",
       "        vertical-align: top;\n",
       "    }\n",
       "\n",
       "    .dataframe thead th {\n",
       "        text-align: right;\n",
       "    }\n",
       "</style>\n",
       "<table border=\"1\" class=\"dataframe\">\n",
       "  <thead>\n",
       "    <tr style=\"text-align: right;\">\n",
       "      <th></th>\n",
       "      <th>Zipcode</th>\n",
       "      <th>Population</th>\n",
       "      <th>Unemployment Count</th>\n",
       "      <th>Unemployment Rate</th>\n",
       "    </tr>\n",
       "  </thead>\n",
       "  <tbody>\n",
       "    <tr>\n",
       "      <th>33115</th>\n",
       "      <td>99923</td>\n",
       "      <td>0.0</td>\n",
       "      <td>0.0</td>\n",
       "      <td>NaN</td>\n",
       "    </tr>\n",
       "    <tr>\n",
       "      <th>33116</th>\n",
       "      <td>99925</td>\n",
       "      <td>901.0</td>\n",
       "      <td>124.0</td>\n",
       "      <td>13.762486</td>\n",
       "    </tr>\n",
       "    <tr>\n",
       "      <th>33117</th>\n",
       "      <td>99926</td>\n",
       "      <td>1684.0</td>\n",
       "      <td>132.0</td>\n",
       "      <td>7.838480</td>\n",
       "    </tr>\n",
       "    <tr>\n",
       "      <th>33118</th>\n",
       "      <td>99927</td>\n",
       "      <td>59.0</td>\n",
       "      <td>0.0</td>\n",
       "      <td>0.000000</td>\n",
       "    </tr>\n",
       "    <tr>\n",
       "      <th>33119</th>\n",
       "      <td>99929</td>\n",
       "      <td>2455.0</td>\n",
       "      <td>83.0</td>\n",
       "      <td>3.380855</td>\n",
       "    </tr>\n",
       "  </tbody>\n",
       "</table>\n",
       "</div>"
      ],
      "text/plain": [
       "       Zipcode  Population  Unemployment Count  Unemployment Rate\n",
       "33115    99923         0.0                 0.0                NaN\n",
       "33116    99925       901.0               124.0          13.762486\n",
       "33117    99926      1684.0               132.0           7.838480\n",
       "33118    99927        59.0                 0.0           0.000000\n",
       "33119    99929      2455.0                83.0           3.380855"
      ]
     },
     "execution_count": 197,
     "metadata": {},
     "output_type": "execute_result"
    }
   ],
   "source": [
    "pd.read_sql_query('select * from CensusZips', con=engine).tail()\n"
   ]
  },
  {
   "cell_type": "markdown",
   "metadata": {},
   "source": [
    "# Test Query both tables  performing a join on the zip code"
   ]
  },
  {
   "cell_type": "code",
   "execution_count": 198,
   "metadata": {},
   "outputs": [],
   "source": [
    "query1 = '''\n",
    "SELECT LaCrime.zip, count(LaCrime.zip) as crime_count, `Unemployment Rate`\n",
    "FROM LaCrime JOIN CensusZips on LaCrime.zip = CensusZips.Zipcode\n",
    "GROUP by LaCrime.zip ORDER by count(LaCrime.zip) DESC\n",
    "'''\n",
    "\n",
    "query2 = '''\n",
    "SELECT LaCrime.zip, count(LaCrime.zip) as crime_count, `Unemployment Rate`\n",
    "FROM LaCrime JOIN CensusZips on LaCrime.zip = CensusZips.Zipcode\n",
    "GROUP by LaCrime.zip ORDER by `Unemployment Rate`DESC\n",
    "'''"
   ]
  },
  {
   "cell_type": "code",
   "execution_count": 227,
   "metadata": {},
   "outputs": [
    {
     "data": {
      "text/html": [
       "<div>\n",
       "<style scoped>\n",
       "    .dataframe tbody tr th:only-of-type {\n",
       "        vertical-align: middle;\n",
       "    }\n",
       "\n",
       "    .dataframe tbody tr th {\n",
       "        vertical-align: top;\n",
       "    }\n",
       "\n",
       "    .dataframe thead th {\n",
       "        text-align: right;\n",
       "    }\n",
       "</style>\n",
       "<table border=\"1\" class=\"dataframe\">\n",
       "  <thead>\n",
       "    <tr style=\"text-align: right;\">\n",
       "      <th></th>\n",
       "      <th>zip</th>\n",
       "      <th>crime_count</th>\n",
       "      <th>Unemployment Rate</th>\n",
       "    </tr>\n",
       "  </thead>\n",
       "  <tbody>\n",
       "    <tr>\n",
       "      <th>0</th>\n",
       "      <td>90015</td>\n",
       "      <td>220</td>\n",
       "      <td>4.319612</td>\n",
       "    </tr>\n",
       "    <tr>\n",
       "      <th>1</th>\n",
       "      <td>90013</td>\n",
       "      <td>218</td>\n",
       "      <td>6.832818</td>\n",
       "    </tr>\n",
       "    <tr>\n",
       "      <th>2</th>\n",
       "      <td>90014</td>\n",
       "      <td>200</td>\n",
       "      <td>5.197084</td>\n",
       "    </tr>\n",
       "    <tr>\n",
       "      <th>3</th>\n",
       "      <td>90071</td>\n",
       "      <td>159</td>\n",
       "      <td>NaN</td>\n",
       "    </tr>\n",
       "    <tr>\n",
       "      <th>4</th>\n",
       "      <td>90012</td>\n",
       "      <td>148</td>\n",
       "      <td>2.880147</td>\n",
       "    </tr>\n",
       "    <tr>\n",
       "      <th>5</th>\n",
       "      <td>90017</td>\n",
       "      <td>31</td>\n",
       "      <td>3.486169</td>\n",
       "    </tr>\n",
       "    <tr>\n",
       "      <th>6</th>\n",
       "      <td>90021</td>\n",
       "      <td>11</td>\n",
       "      <td>6.396453</td>\n",
       "    </tr>\n",
       "    <tr>\n",
       "      <th>7</th>\n",
       "      <td>90031</td>\n",
       "      <td>2</td>\n",
       "      <td>4.217068</td>\n",
       "    </tr>\n",
       "    <tr>\n",
       "      <th>8</th>\n",
       "      <td>90007</td>\n",
       "      <td>1</td>\n",
       "      <td>5.885350</td>\n",
       "    </tr>\n",
       "    <tr>\n",
       "      <th>9</th>\n",
       "      <td>90016</td>\n",
       "      <td>1</td>\n",
       "      <td>4.178995</td>\n",
       "    </tr>\n",
       "    <tr>\n",
       "      <th>10</th>\n",
       "      <td>90019</td>\n",
       "      <td>1</td>\n",
       "      <td>4.085144</td>\n",
       "    </tr>\n",
       "    <tr>\n",
       "      <th>11</th>\n",
       "      <td>90024</td>\n",
       "      <td>1</td>\n",
       "      <td>4.565751</td>\n",
       "    </tr>\n",
       "    <tr>\n",
       "      <th>12</th>\n",
       "      <td>90026</td>\n",
       "      <td>1</td>\n",
       "      <td>4.860878</td>\n",
       "    </tr>\n",
       "    <tr>\n",
       "      <th>13</th>\n",
       "      <td>90033</td>\n",
       "      <td>1</td>\n",
       "      <td>3.097807</td>\n",
       "    </tr>\n",
       "    <tr>\n",
       "      <th>14</th>\n",
       "      <td>90045</td>\n",
       "      <td>1</td>\n",
       "      <td>3.812168</td>\n",
       "    </tr>\n",
       "    <tr>\n",
       "      <th>15</th>\n",
       "      <td>90061</td>\n",
       "      <td>1</td>\n",
       "      <td>3.556762</td>\n",
       "    </tr>\n",
       "    <tr>\n",
       "      <th>16</th>\n",
       "      <td>90291</td>\n",
       "      <td>1</td>\n",
       "      <td>4.987118</td>\n",
       "    </tr>\n",
       "    <tr>\n",
       "      <th>17</th>\n",
       "      <td>91307</td>\n",
       "      <td>1</td>\n",
       "      <td>3.605919</td>\n",
       "    </tr>\n",
       "    <tr>\n",
       "      <th>18</th>\n",
       "      <td>91411</td>\n",
       "      <td>1</td>\n",
       "      <td>4.589449</td>\n",
       "    </tr>\n",
       "  </tbody>\n",
       "</table>\n",
       "</div>"
      ],
      "text/plain": [
       "      zip  crime_count  Unemployment Rate\n",
       "0   90015          220           4.319612\n",
       "1   90013          218           6.832818\n",
       "2   90014          200           5.197084\n",
       "3   90071          159                NaN\n",
       "4   90012          148           2.880147\n",
       "5   90017           31           3.486169\n",
       "6   90021           11           6.396453\n",
       "7   90031            2           4.217068\n",
       "8   90007            1           5.885350\n",
       "9   90016            1           4.178995\n",
       "10  90019            1           4.085144\n",
       "11  90024            1           4.565751\n",
       "12  90026            1           4.860878\n",
       "13  90033            1           3.097807\n",
       "14  90045            1           3.812168\n",
       "15  90061            1           3.556762\n",
       "16  90291            1           4.987118\n",
       "17  91307            1           3.605919\n",
       "18  91411            1           4.589449"
      ]
     },
     "execution_count": 227,
     "metadata": {},
     "output_type": "execute_result"
    }
   ],
   "source": [
    "# First 1k rows of original dataframe with no sorting by date\n",
    "pd.read_sql_query(query1, con=engine)\n"
   ]
  },
  {
   "cell_type": "code",
   "execution_count": 200,
   "metadata": {},
   "outputs": [
    {
     "data": {
      "text/html": [
       "<div>\n",
       "<style scoped>\n",
       "    .dataframe tbody tr th:only-of-type {\n",
       "        vertical-align: middle;\n",
       "    }\n",
       "\n",
       "    .dataframe tbody tr th {\n",
       "        vertical-align: top;\n",
       "    }\n",
       "\n",
       "    .dataframe thead th {\n",
       "        text-align: right;\n",
       "    }\n",
       "</style>\n",
       "<table border=\"1\" class=\"dataframe\">\n",
       "  <thead>\n",
       "    <tr style=\"text-align: right;\">\n",
       "      <th></th>\n",
       "      <th>zip</th>\n",
       "      <th>crime_count</th>\n",
       "      <th>Unemployment Rate</th>\n",
       "    </tr>\n",
       "  </thead>\n",
       "  <tbody>\n",
       "    <tr>\n",
       "      <th>0</th>\n",
       "      <td>90003</td>\n",
       "      <td>322</td>\n",
       "      <td>5.440488</td>\n",
       "    </tr>\n",
       "    <tr>\n",
       "      <th>1</th>\n",
       "      <td>90028</td>\n",
       "      <td>281</td>\n",
       "      <td>7.834739</td>\n",
       "    </tr>\n",
       "    <tr>\n",
       "      <th>2</th>\n",
       "      <td>90037</td>\n",
       "      <td>261</td>\n",
       "      <td>4.558968</td>\n",
       "    </tr>\n",
       "    <tr>\n",
       "      <th>3</th>\n",
       "      <td>90057</td>\n",
       "      <td>218</td>\n",
       "      <td>4.946446</td>\n",
       "    </tr>\n",
       "    <tr>\n",
       "      <th>4</th>\n",
       "      <td>90011</td>\n",
       "      <td>197</td>\n",
       "      <td>3.659383</td>\n",
       "    </tr>\n",
       "    <tr>\n",
       "      <th>5</th>\n",
       "      <td>90062</td>\n",
       "      <td>192</td>\n",
       "      <td>4.130609</td>\n",
       "    </tr>\n",
       "    <tr>\n",
       "      <th>6</th>\n",
       "      <td>90013</td>\n",
       "      <td>190</td>\n",
       "      <td>6.832818</td>\n",
       "    </tr>\n",
       "    <tr>\n",
       "      <th>7</th>\n",
       "      <td>91402</td>\n",
       "      <td>182</td>\n",
       "      <td>4.867002</td>\n",
       "    </tr>\n",
       "    <tr>\n",
       "      <th>8</th>\n",
       "      <td>90007</td>\n",
       "      <td>174</td>\n",
       "      <td>5.885350</td>\n",
       "    </tr>\n",
       "    <tr>\n",
       "      <th>9</th>\n",
       "      <td>90029</td>\n",
       "      <td>170</td>\n",
       "      <td>5.125763</td>\n",
       "    </tr>\n",
       "    <tr>\n",
       "      <th>10</th>\n",
       "      <td>91405</td>\n",
       "      <td>168</td>\n",
       "      <td>5.557787</td>\n",
       "    </tr>\n",
       "    <tr>\n",
       "      <th>11</th>\n",
       "      <td>91303</td>\n",
       "      <td>165</td>\n",
       "      <td>3.304806</td>\n",
       "    </tr>\n",
       "    <tr>\n",
       "      <th>12</th>\n",
       "      <td>91331</td>\n",
       "      <td>161</td>\n",
       "      <td>4.810967</td>\n",
       "    </tr>\n",
       "    <tr>\n",
       "      <th>13</th>\n",
       "      <td>90018</td>\n",
       "      <td>154</td>\n",
       "      <td>5.163807</td>\n",
       "    </tr>\n",
       "    <tr>\n",
       "      <th>14</th>\n",
       "      <td>90071</td>\n",
       "      <td>148</td>\n",
       "      <td>NaN</td>\n",
       "    </tr>\n",
       "    <tr>\n",
       "      <th>15</th>\n",
       "      <td>90033</td>\n",
       "      <td>144</td>\n",
       "      <td>3.097807</td>\n",
       "    </tr>\n",
       "    <tr>\n",
       "      <th>16</th>\n",
       "      <td>90002</td>\n",
       "      <td>142</td>\n",
       "      <td>5.032541</td>\n",
       "    </tr>\n",
       "    <tr>\n",
       "      <th>17</th>\n",
       "      <td>90036</td>\n",
       "      <td>139</td>\n",
       "      <td>3.796306</td>\n",
       "    </tr>\n",
       "    <tr>\n",
       "      <th>18</th>\n",
       "      <td>90014</td>\n",
       "      <td>138</td>\n",
       "      <td>5.197084</td>\n",
       "    </tr>\n",
       "    <tr>\n",
       "      <th>19</th>\n",
       "      <td>90731</td>\n",
       "      <td>136</td>\n",
       "      <td>4.892457</td>\n",
       "    </tr>\n",
       "    <tr>\n",
       "      <th>20</th>\n",
       "      <td>90006</td>\n",
       "      <td>130</td>\n",
       "      <td>5.475782</td>\n",
       "    </tr>\n",
       "    <tr>\n",
       "      <th>21</th>\n",
       "      <td>90025</td>\n",
       "      <td>129</td>\n",
       "      <td>4.010284</td>\n",
       "    </tr>\n",
       "    <tr>\n",
       "      <th>22</th>\n",
       "      <td>90016</td>\n",
       "      <td>125</td>\n",
       "      <td>4.178995</td>\n",
       "    </tr>\n",
       "    <tr>\n",
       "      <th>23</th>\n",
       "      <td>90017</td>\n",
       "      <td>125</td>\n",
       "      <td>3.486169</td>\n",
       "    </tr>\n",
       "    <tr>\n",
       "      <th>24</th>\n",
       "      <td>91306</td>\n",
       "      <td>121</td>\n",
       "      <td>4.001937</td>\n",
       "    </tr>\n",
       "    <tr>\n",
       "      <th>25</th>\n",
       "      <td>90008</td>\n",
       "      <td>118</td>\n",
       "      <td>5.537872</td>\n",
       "    </tr>\n",
       "    <tr>\n",
       "      <th>26</th>\n",
       "      <td>90061</td>\n",
       "      <td>118</td>\n",
       "      <td>3.556762</td>\n",
       "    </tr>\n",
       "    <tr>\n",
       "      <th>27</th>\n",
       "      <td>90044</td>\n",
       "      <td>115</td>\n",
       "      <td>4.232150</td>\n",
       "    </tr>\n",
       "    <tr>\n",
       "      <th>28</th>\n",
       "      <td>90291</td>\n",
       "      <td>114</td>\n",
       "      <td>4.987118</td>\n",
       "    </tr>\n",
       "    <tr>\n",
       "      <th>29</th>\n",
       "      <td>90015</td>\n",
       "      <td>113</td>\n",
       "      <td>4.319612</td>\n",
       "    </tr>\n",
       "    <tr>\n",
       "      <th>...</th>\n",
       "      <td>...</td>\n",
       "      <td>...</td>\n",
       "      <td>...</td>\n",
       "    </tr>\n",
       "    <tr>\n",
       "      <th>103</th>\n",
       "      <td>90272</td>\n",
       "      <td>18</td>\n",
       "      <td>1.849348</td>\n",
       "    </tr>\n",
       "    <tr>\n",
       "      <th>104</th>\n",
       "      <td>90232</td>\n",
       "      <td>16</td>\n",
       "      <td>2.267070</td>\n",
       "    </tr>\n",
       "    <tr>\n",
       "      <th>105</th>\n",
       "      <td>90247</td>\n",
       "      <td>16</td>\n",
       "      <td>4.415352</td>\n",
       "    </tr>\n",
       "    <tr>\n",
       "      <th>106</th>\n",
       "      <td>90502</td>\n",
       "      <td>16</td>\n",
       "      <td>3.570239</td>\n",
       "    </tr>\n",
       "    <tr>\n",
       "      <th>107</th>\n",
       "      <td>90063</td>\n",
       "      <td>15</td>\n",
       "      <td>5.329001</td>\n",
       "    </tr>\n",
       "    <tr>\n",
       "      <th>108</th>\n",
       "      <td>90069</td>\n",
       "      <td>15</td>\n",
       "      <td>4.622322</td>\n",
       "    </tr>\n",
       "    <tr>\n",
       "      <th>109</th>\n",
       "      <td>90305</td>\n",
       "      <td>12</td>\n",
       "      <td>3.640683</td>\n",
       "    </tr>\n",
       "    <tr>\n",
       "      <th>110</th>\n",
       "      <td>90058</td>\n",
       "      <td>11</td>\n",
       "      <td>4.107871</td>\n",
       "    </tr>\n",
       "    <tr>\n",
       "      <th>111</th>\n",
       "      <td>90211</td>\n",
       "      <td>11</td>\n",
       "      <td>3.554059</td>\n",
       "    </tr>\n",
       "    <tr>\n",
       "      <th>112</th>\n",
       "      <td>91204</td>\n",
       "      <td>11</td>\n",
       "      <td>4.782181</td>\n",
       "    </tr>\n",
       "    <tr>\n",
       "      <th>113</th>\n",
       "      <td>90077</td>\n",
       "      <td>9</td>\n",
       "      <td>2.081468</td>\n",
       "    </tr>\n",
       "    <tr>\n",
       "      <th>114</th>\n",
       "      <td>90404</td>\n",
       "      <td>9</td>\n",
       "      <td>5.202338</td>\n",
       "    </tr>\n",
       "    <tr>\n",
       "      <th>115</th>\n",
       "      <td>90405</td>\n",
       "      <td>9</td>\n",
       "      <td>3.695460</td>\n",
       "    </tr>\n",
       "    <tr>\n",
       "      <th>116</th>\n",
       "      <td>91201</td>\n",
       "      <td>8</td>\n",
       "      <td>4.824001</td>\n",
       "    </tr>\n",
       "    <tr>\n",
       "      <th>117</th>\n",
       "      <td>90304</td>\n",
       "      <td>7</td>\n",
       "      <td>4.900335</td>\n",
       "    </tr>\n",
       "    <tr>\n",
       "      <th>118</th>\n",
       "      <td>90402</td>\n",
       "      <td>6</td>\n",
       "      <td>4.032189</td>\n",
       "    </tr>\n",
       "    <tr>\n",
       "      <th>119</th>\n",
       "      <td>91205</td>\n",
       "      <td>6</td>\n",
       "      <td>5.219385</td>\n",
       "    </tr>\n",
       "    <tr>\n",
       "      <th>120</th>\n",
       "      <td>91504</td>\n",
       "      <td>6</td>\n",
       "      <td>4.107990</td>\n",
       "    </tr>\n",
       "    <tr>\n",
       "      <th>121</th>\n",
       "      <td>90210</td>\n",
       "      <td>4</td>\n",
       "      <td>2.453038</td>\n",
       "    </tr>\n",
       "    <tr>\n",
       "      <th>122</th>\n",
       "      <td>90212</td>\n",
       "      <td>4</td>\n",
       "      <td>2.922693</td>\n",
       "    </tr>\n",
       "    <tr>\n",
       "      <th>123</th>\n",
       "      <td>90245</td>\n",
       "      <td>4</td>\n",
       "      <td>3.691890</td>\n",
       "    </tr>\n",
       "    <tr>\n",
       "      <th>124</th>\n",
       "      <td>90301</td>\n",
       "      <td>4</td>\n",
       "      <td>5.863852</td>\n",
       "    </tr>\n",
       "    <tr>\n",
       "      <th>125</th>\n",
       "      <td>91030</td>\n",
       "      <td>4</td>\n",
       "      <td>3.068620</td>\n",
       "    </tr>\n",
       "    <tr>\n",
       "      <th>126</th>\n",
       "      <td>90403</td>\n",
       "      <td>2</td>\n",
       "      <td>4.373284</td>\n",
       "    </tr>\n",
       "    <tr>\n",
       "      <th>127</th>\n",
       "      <td>91203</td>\n",
       "      <td>2</td>\n",
       "      <td>5.502675</td>\n",
       "    </tr>\n",
       "    <tr>\n",
       "      <th>128</th>\n",
       "      <td>91206</td>\n",
       "      <td>2</td>\n",
       "      <td>4.622474</td>\n",
       "    </tr>\n",
       "    <tr>\n",
       "      <th>129</th>\n",
       "      <td>91505</td>\n",
       "      <td>2</td>\n",
       "      <td>3.768107</td>\n",
       "    </tr>\n",
       "    <tr>\n",
       "      <th>130</th>\n",
       "      <td>90290</td>\n",
       "      <td>1</td>\n",
       "      <td>4.217711</td>\n",
       "    </tr>\n",
       "    <tr>\n",
       "      <th>131</th>\n",
       "      <td>91506</td>\n",
       "      <td>1</td>\n",
       "      <td>4.121677</td>\n",
       "    </tr>\n",
       "    <tr>\n",
       "      <th>132</th>\n",
       "      <td>91803</td>\n",
       "      <td>1</td>\n",
       "      <td>2.355908</td>\n",
       "    </tr>\n",
       "  </tbody>\n",
       "</table>\n",
       "<p>133 rows × 3 columns</p>\n",
       "</div>"
      ],
      "text/plain": [
       "       zip  crime_count  Unemployment Rate\n",
       "0    90003          322           5.440488\n",
       "1    90028          281           7.834739\n",
       "2    90037          261           4.558968\n",
       "3    90057          218           4.946446\n",
       "4    90011          197           3.659383\n",
       "5    90062          192           4.130609\n",
       "6    90013          190           6.832818\n",
       "7    91402          182           4.867002\n",
       "8    90007          174           5.885350\n",
       "9    90029          170           5.125763\n",
       "10   91405          168           5.557787\n",
       "11   91303          165           3.304806\n",
       "12   91331          161           4.810967\n",
       "13   90018          154           5.163807\n",
       "14   90071          148                NaN\n",
       "15   90033          144           3.097807\n",
       "16   90002          142           5.032541\n",
       "17   90036          139           3.796306\n",
       "18   90014          138           5.197084\n",
       "19   90731          136           4.892457\n",
       "20   90006          130           5.475782\n",
       "21   90025          129           4.010284\n",
       "22   90016          125           4.178995\n",
       "23   90017          125           3.486169\n",
       "24   91306          121           4.001937\n",
       "25   90008          118           5.537872\n",
       "26   90061          118           3.556762\n",
       "27   90044          115           4.232150\n",
       "28   90291          114           4.987118\n",
       "29   90015          113           4.319612\n",
       "..     ...          ...                ...\n",
       "103  90272           18           1.849348\n",
       "104  90232           16           2.267070\n",
       "105  90247           16           4.415352\n",
       "106  90502           16           3.570239\n",
       "107  90063           15           5.329001\n",
       "108  90069           15           4.622322\n",
       "109  90305           12           3.640683\n",
       "110  90058           11           4.107871\n",
       "111  90211           11           3.554059\n",
       "112  91204           11           4.782181\n",
       "113  90077            9           2.081468\n",
       "114  90404            9           5.202338\n",
       "115  90405            9           3.695460\n",
       "116  91201            8           4.824001\n",
       "117  90304            7           4.900335\n",
       "118  90402            6           4.032189\n",
       "119  91205            6           5.219385\n",
       "120  91504            6           4.107990\n",
       "121  90210            4           2.453038\n",
       "122  90212            4           2.922693\n",
       "123  90245            4           3.691890\n",
       "124  90301            4           5.863852\n",
       "125  91030            4           3.068620\n",
       "126  90403            2           4.373284\n",
       "127  91203            2           5.502675\n",
       "128  91206            2           4.622474\n",
       "129  91505            2           3.768107\n",
       "130  90290            1           4.217711\n",
       "131  91506            1           4.121677\n",
       "132  91803            1           2.355908\n",
       "\n",
       "[133 rows x 3 columns]"
      ]
     },
     "execution_count": 200,
     "metadata": {},
     "output_type": "execute_result"
    }
   ],
   "source": [
    "# 10k most recent crimes database\n",
    "pd.read_sql_query(query1, con=engine)\n"
   ]
  },
  {
   "cell_type": "code",
   "execution_count": null,
   "metadata": {},
   "outputs": [],
   "source": []
  },
  {
   "cell_type": "code",
   "execution_count": 11,
   "metadata": {},
   "outputs": [
    {
     "data": {
      "text/html": [
       "<div>\n",
       "<style scoped>\n",
       "    .dataframe tbody tr th:only-of-type {\n",
       "        vertical-align: middle;\n",
       "    }\n",
       "\n",
       "    .dataframe tbody tr th {\n",
       "        vertical-align: top;\n",
       "    }\n",
       "\n",
       "    .dataframe thead th {\n",
       "        text-align: right;\n",
       "    }\n",
       "</style>\n",
       "<table border=\"1\" class=\"dataframe\">\n",
       "  <thead>\n",
       "    <tr style=\"text-align: right;\">\n",
       "      <th></th>\n",
       "      <th>zip</th>\n",
       "      <th>crime_count</th>\n",
       "      <th>Unemployment Rate</th>\n",
       "    </tr>\n",
       "  </thead>\n",
       "  <tbody>\n",
       "    <tr>\n",
       "      <th>0</th>\n",
       "      <td>90013</td>\n",
       "      <td>218</td>\n",
       "      <td>6.832818</td>\n",
       "    </tr>\n",
       "    <tr>\n",
       "      <th>1</th>\n",
       "      <td>90021</td>\n",
       "      <td>11</td>\n",
       "      <td>6.396453</td>\n",
       "    </tr>\n",
       "    <tr>\n",
       "      <th>2</th>\n",
       "      <td>90007</td>\n",
       "      <td>1</td>\n",
       "      <td>5.885350</td>\n",
       "    </tr>\n",
       "    <tr>\n",
       "      <th>3</th>\n",
       "      <td>90014</td>\n",
       "      <td>200</td>\n",
       "      <td>5.197084</td>\n",
       "    </tr>\n",
       "    <tr>\n",
       "      <th>4</th>\n",
       "      <td>90291</td>\n",
       "      <td>1</td>\n",
       "      <td>4.987118</td>\n",
       "    </tr>\n",
       "    <tr>\n",
       "      <th>5</th>\n",
       "      <td>90026</td>\n",
       "      <td>1</td>\n",
       "      <td>4.860878</td>\n",
       "    </tr>\n",
       "    <tr>\n",
       "      <th>6</th>\n",
       "      <td>91411</td>\n",
       "      <td>1</td>\n",
       "      <td>4.589449</td>\n",
       "    </tr>\n",
       "    <tr>\n",
       "      <th>7</th>\n",
       "      <td>90024</td>\n",
       "      <td>1</td>\n",
       "      <td>4.565751</td>\n",
       "    </tr>\n",
       "    <tr>\n",
       "      <th>8</th>\n",
       "      <td>90015</td>\n",
       "      <td>220</td>\n",
       "      <td>4.319612</td>\n",
       "    </tr>\n",
       "    <tr>\n",
       "      <th>9</th>\n",
       "      <td>90031</td>\n",
       "      <td>2</td>\n",
       "      <td>4.217068</td>\n",
       "    </tr>\n",
       "    <tr>\n",
       "      <th>10</th>\n",
       "      <td>90016</td>\n",
       "      <td>1</td>\n",
       "      <td>4.178995</td>\n",
       "    </tr>\n",
       "    <tr>\n",
       "      <th>11</th>\n",
       "      <td>90019</td>\n",
       "      <td>1</td>\n",
       "      <td>4.085144</td>\n",
       "    </tr>\n",
       "    <tr>\n",
       "      <th>12</th>\n",
       "      <td>90045</td>\n",
       "      <td>1</td>\n",
       "      <td>3.812168</td>\n",
       "    </tr>\n",
       "    <tr>\n",
       "      <th>13</th>\n",
       "      <td>91307</td>\n",
       "      <td>1</td>\n",
       "      <td>3.605919</td>\n",
       "    </tr>\n",
       "    <tr>\n",
       "      <th>14</th>\n",
       "      <td>90061</td>\n",
       "      <td>1</td>\n",
       "      <td>3.556762</td>\n",
       "    </tr>\n",
       "    <tr>\n",
       "      <th>15</th>\n",
       "      <td>90017</td>\n",
       "      <td>31</td>\n",
       "      <td>3.486169</td>\n",
       "    </tr>\n",
       "    <tr>\n",
       "      <th>16</th>\n",
       "      <td>90033</td>\n",
       "      <td>1</td>\n",
       "      <td>3.097807</td>\n",
       "    </tr>\n",
       "    <tr>\n",
       "      <th>17</th>\n",
       "      <td>90012</td>\n",
       "      <td>148</td>\n",
       "      <td>2.880147</td>\n",
       "    </tr>\n",
       "    <tr>\n",
       "      <th>18</th>\n",
       "      <td>90071</td>\n",
       "      <td>159</td>\n",
       "      <td>NaN</td>\n",
       "    </tr>\n",
       "  </tbody>\n",
       "</table>\n",
       "</div>"
      ],
      "text/plain": [
       "      zip  crime_count  Unemployment Rate\n",
       "0   90013          218           6.832818\n",
       "1   90021           11           6.396453\n",
       "2   90007            1           5.885350\n",
       "3   90014          200           5.197084\n",
       "4   90291            1           4.987118\n",
       "5   90026            1           4.860878\n",
       "6   91411            1           4.589449\n",
       "7   90024            1           4.565751\n",
       "8   90015          220           4.319612\n",
       "9   90031            2           4.217068\n",
       "10  90016            1           4.178995\n",
       "11  90019            1           4.085144\n",
       "12  90045            1           3.812168\n",
       "13  91307            1           3.605919\n",
       "14  90061            1           3.556762\n",
       "15  90017           31           3.486169\n",
       "16  90033            1           3.097807\n",
       "17  90012          148           2.880147\n",
       "18  90071          159                NaN"
      ]
     },
     "execution_count": 11,
     "metadata": {},
     "output_type": "execute_result"
    }
   ],
   "source": [
    "# First 1k rows of original dataframe with no sorting by date\n",
    "pd.read_sql_query(query2, con=engine)\n"
   ]
  },
  {
   "cell_type": "code",
   "execution_count": 201,
   "metadata": {},
   "outputs": [
    {
     "data": {
      "text/html": [
       "<div>\n",
       "<style scoped>\n",
       "    .dataframe tbody tr th:only-of-type {\n",
       "        vertical-align: middle;\n",
       "    }\n",
       "\n",
       "    .dataframe tbody tr th {\n",
       "        vertical-align: top;\n",
       "    }\n",
       "\n",
       "    .dataframe thead th {\n",
       "        text-align: right;\n",
       "    }\n",
       "</style>\n",
       "<table border=\"1\" class=\"dataframe\">\n",
       "  <thead>\n",
       "    <tr style=\"text-align: right;\">\n",
       "      <th></th>\n",
       "      <th>zip</th>\n",
       "      <th>crime_count</th>\n",
       "      <th>Unemployment Rate</th>\n",
       "    </tr>\n",
       "  </thead>\n",
       "  <tbody>\n",
       "    <tr>\n",
       "      <th>0</th>\n",
       "      <td>90028</td>\n",
       "      <td>281</td>\n",
       "      <td>7.834739</td>\n",
       "    </tr>\n",
       "    <tr>\n",
       "      <th>1</th>\n",
       "      <td>91602</td>\n",
       "      <td>59</td>\n",
       "      <td>6.888725</td>\n",
       "    </tr>\n",
       "    <tr>\n",
       "      <th>2</th>\n",
       "      <td>90013</td>\n",
       "      <td>190</td>\n",
       "      <td>6.832818</td>\n",
       "    </tr>\n",
       "    <tr>\n",
       "      <th>3</th>\n",
       "      <td>90068</td>\n",
       "      <td>22</td>\n",
       "      <td>6.558962</td>\n",
       "    </tr>\n",
       "    <tr>\n",
       "      <th>4</th>\n",
       "      <td>90043</td>\n",
       "      <td>98</td>\n",
       "      <td>6.531153</td>\n",
       "    </tr>\n",
       "    <tr>\n",
       "      <th>5</th>\n",
       "      <td>90021</td>\n",
       "      <td>89</td>\n",
       "      <td>6.396453</td>\n",
       "    </tr>\n",
       "    <tr>\n",
       "      <th>6</th>\n",
       "      <td>90047</td>\n",
       "      <td>112</td>\n",
       "      <td>6.042358</td>\n",
       "    </tr>\n",
       "    <tr>\n",
       "      <th>7</th>\n",
       "      <td>91403</td>\n",
       "      <td>58</td>\n",
       "      <td>6.009645</td>\n",
       "    </tr>\n",
       "    <tr>\n",
       "      <th>8</th>\n",
       "      <td>90007</td>\n",
       "      <td>174</td>\n",
       "      <td>5.885350</td>\n",
       "    </tr>\n",
       "    <tr>\n",
       "      <th>9</th>\n",
       "      <td>90301</td>\n",
       "      <td>4</td>\n",
       "      <td>5.863852</td>\n",
       "    </tr>\n",
       "    <tr>\n",
       "      <th>10</th>\n",
       "      <td>90056</td>\n",
       "      <td>18</td>\n",
       "      <td>5.839780</td>\n",
       "    </tr>\n",
       "    <tr>\n",
       "      <th>11</th>\n",
       "      <td>91604</td>\n",
       "      <td>70</td>\n",
       "      <td>5.701325</td>\n",
       "    </tr>\n",
       "    <tr>\n",
       "      <th>12</th>\n",
       "      <td>91607</td>\n",
       "      <td>55</td>\n",
       "      <td>5.675047</td>\n",
       "    </tr>\n",
       "    <tr>\n",
       "      <th>13</th>\n",
       "      <td>91405</td>\n",
       "      <td>168</td>\n",
       "      <td>5.557787</td>\n",
       "    </tr>\n",
       "    <tr>\n",
       "      <th>14</th>\n",
       "      <td>90008</td>\n",
       "      <td>118</td>\n",
       "      <td>5.537872</td>\n",
       "    </tr>\n",
       "    <tr>\n",
       "      <th>15</th>\n",
       "      <td>91203</td>\n",
       "      <td>2</td>\n",
       "      <td>5.502675</td>\n",
       "    </tr>\n",
       "    <tr>\n",
       "      <th>16</th>\n",
       "      <td>90006</td>\n",
       "      <td>130</td>\n",
       "      <td>5.475782</td>\n",
       "    </tr>\n",
       "    <tr>\n",
       "      <th>17</th>\n",
       "      <td>90003</td>\n",
       "      <td>322</td>\n",
       "      <td>5.440488</td>\n",
       "    </tr>\n",
       "    <tr>\n",
       "      <th>18</th>\n",
       "      <td>90059</td>\n",
       "      <td>100</td>\n",
       "      <td>5.332517</td>\n",
       "    </tr>\n",
       "    <tr>\n",
       "      <th>19</th>\n",
       "      <td>90063</td>\n",
       "      <td>15</td>\n",
       "      <td>5.329001</td>\n",
       "    </tr>\n",
       "    <tr>\n",
       "      <th>20</th>\n",
       "      <td>90032</td>\n",
       "      <td>55</td>\n",
       "      <td>5.250597</td>\n",
       "    </tr>\n",
       "    <tr>\n",
       "      <th>21</th>\n",
       "      <td>91205</td>\n",
       "      <td>6</td>\n",
       "      <td>5.219385</td>\n",
       "    </tr>\n",
       "    <tr>\n",
       "      <th>22</th>\n",
       "      <td>90404</td>\n",
       "      <td>9</td>\n",
       "      <td>5.202338</td>\n",
       "    </tr>\n",
       "    <tr>\n",
       "      <th>23</th>\n",
       "      <td>90014</td>\n",
       "      <td>138</td>\n",
       "      <td>5.197084</td>\n",
       "    </tr>\n",
       "    <tr>\n",
       "      <th>24</th>\n",
       "      <td>90027</td>\n",
       "      <td>57</td>\n",
       "      <td>5.180200</td>\n",
       "    </tr>\n",
       "    <tr>\n",
       "      <th>25</th>\n",
       "      <td>90018</td>\n",
       "      <td>154</td>\n",
       "      <td>5.163807</td>\n",
       "    </tr>\n",
       "    <tr>\n",
       "      <th>26</th>\n",
       "      <td>90005</td>\n",
       "      <td>96</td>\n",
       "      <td>5.156463</td>\n",
       "    </tr>\n",
       "    <tr>\n",
       "      <th>27</th>\n",
       "      <td>90029</td>\n",
       "      <td>170</td>\n",
       "      <td>5.125763</td>\n",
       "    </tr>\n",
       "    <tr>\n",
       "      <th>28</th>\n",
       "      <td>91601</td>\n",
       "      <td>92</td>\n",
       "      <td>5.078298</td>\n",
       "    </tr>\n",
       "    <tr>\n",
       "      <th>29</th>\n",
       "      <td>90002</td>\n",
       "      <td>142</td>\n",
       "      <td>5.032541</td>\n",
       "    </tr>\n",
       "    <tr>\n",
       "      <th>...</th>\n",
       "      <td>...</td>\n",
       "      <td>...</td>\n",
       "      <td>...</td>\n",
       "    </tr>\n",
       "    <tr>\n",
       "      <th>103</th>\n",
       "      <td>91304</td>\n",
       "      <td>46</td>\n",
       "      <td>3.492644</td>\n",
       "    </tr>\n",
       "    <tr>\n",
       "      <th>104</th>\n",
       "      <td>90017</td>\n",
       "      <td>125</td>\n",
       "      <td>3.486169</td>\n",
       "    </tr>\n",
       "    <tr>\n",
       "      <th>105</th>\n",
       "      <td>90248</td>\n",
       "      <td>18</td>\n",
       "      <td>3.477383</td>\n",
       "    </tr>\n",
       "    <tr>\n",
       "      <th>106</th>\n",
       "      <td>91352</td>\n",
       "      <td>77</td>\n",
       "      <td>3.454750</td>\n",
       "    </tr>\n",
       "    <tr>\n",
       "      <th>107</th>\n",
       "      <td>90293</td>\n",
       "      <td>29</td>\n",
       "      <td>3.408557</td>\n",
       "    </tr>\n",
       "    <tr>\n",
       "      <th>108</th>\n",
       "      <td>90292</td>\n",
       "      <td>31</td>\n",
       "      <td>3.372447</td>\n",
       "    </tr>\n",
       "    <tr>\n",
       "      <th>109</th>\n",
       "      <td>91303</td>\n",
       "      <td>165</td>\n",
       "      <td>3.304806</td>\n",
       "    </tr>\n",
       "    <tr>\n",
       "      <th>110</th>\n",
       "      <td>91325</td>\n",
       "      <td>76</td>\n",
       "      <td>3.276869</td>\n",
       "    </tr>\n",
       "    <tr>\n",
       "      <th>111</th>\n",
       "      <td>91311</td>\n",
       "      <td>64</td>\n",
       "      <td>3.272264</td>\n",
       "    </tr>\n",
       "    <tr>\n",
       "      <th>112</th>\n",
       "      <td>90035</td>\n",
       "      <td>80</td>\n",
       "      <td>3.135027</td>\n",
       "    </tr>\n",
       "    <tr>\n",
       "      <th>113</th>\n",
       "      <td>90033</td>\n",
       "      <td>144</td>\n",
       "      <td>3.097807</td>\n",
       "    </tr>\n",
       "    <tr>\n",
       "      <th>114</th>\n",
       "      <td>91030</td>\n",
       "      <td>4</td>\n",
       "      <td>3.068620</td>\n",
       "    </tr>\n",
       "    <tr>\n",
       "      <th>115</th>\n",
       "      <td>91342</td>\n",
       "      <td>97</td>\n",
       "      <td>2.997598</td>\n",
       "    </tr>\n",
       "    <tr>\n",
       "      <th>116</th>\n",
       "      <td>90049</td>\n",
       "      <td>29</td>\n",
       "      <td>2.994885</td>\n",
       "    </tr>\n",
       "    <tr>\n",
       "      <th>117</th>\n",
       "      <td>91356</td>\n",
       "      <td>68</td>\n",
       "      <td>2.942727</td>\n",
       "    </tr>\n",
       "    <tr>\n",
       "      <th>118</th>\n",
       "      <td>90212</td>\n",
       "      <td>4</td>\n",
       "      <td>2.922693</td>\n",
       "    </tr>\n",
       "    <tr>\n",
       "      <th>119</th>\n",
       "      <td>90012</td>\n",
       "      <td>107</td>\n",
       "      <td>2.880147</td>\n",
       "    </tr>\n",
       "    <tr>\n",
       "      <th>120</th>\n",
       "      <td>91326</td>\n",
       "      <td>47</td>\n",
       "      <td>2.660037</td>\n",
       "    </tr>\n",
       "    <tr>\n",
       "      <th>121</th>\n",
       "      <td>91040</td>\n",
       "      <td>23</td>\n",
       "      <td>2.602230</td>\n",
       "    </tr>\n",
       "    <tr>\n",
       "      <th>122</th>\n",
       "      <td>90210</td>\n",
       "      <td>4</td>\n",
       "      <td>2.453038</td>\n",
       "    </tr>\n",
       "    <tr>\n",
       "      <th>123</th>\n",
       "      <td>91803</td>\n",
       "      <td>1</td>\n",
       "      <td>2.355908</td>\n",
       "    </tr>\n",
       "    <tr>\n",
       "      <th>124</th>\n",
       "      <td>91324</td>\n",
       "      <td>82</td>\n",
       "      <td>2.335471</td>\n",
       "    </tr>\n",
       "    <tr>\n",
       "      <th>125</th>\n",
       "      <td>90232</td>\n",
       "      <td>16</td>\n",
       "      <td>2.267070</td>\n",
       "    </tr>\n",
       "    <tr>\n",
       "      <th>126</th>\n",
       "      <td>90077</td>\n",
       "      <td>9</td>\n",
       "      <td>2.081468</td>\n",
       "    </tr>\n",
       "    <tr>\n",
       "      <th>127</th>\n",
       "      <td>90064</td>\n",
       "      <td>63</td>\n",
       "      <td>2.003307</td>\n",
       "    </tr>\n",
       "    <tr>\n",
       "      <th>128</th>\n",
       "      <td>90272</td>\n",
       "      <td>18</td>\n",
       "      <td>1.849348</td>\n",
       "    </tr>\n",
       "    <tr>\n",
       "      <th>129</th>\n",
       "      <td>91436</td>\n",
       "      <td>26</td>\n",
       "      <td>1.453292</td>\n",
       "    </tr>\n",
       "    <tr>\n",
       "      <th>130</th>\n",
       "      <td>90067</td>\n",
       "      <td>26</td>\n",
       "      <td>1.342282</td>\n",
       "    </tr>\n",
       "    <tr>\n",
       "      <th>131</th>\n",
       "      <td>90071</td>\n",
       "      <td>148</td>\n",
       "      <td>NaN</td>\n",
       "    </tr>\n",
       "    <tr>\n",
       "      <th>132</th>\n",
       "      <td>91608</td>\n",
       "      <td>20</td>\n",
       "      <td>NaN</td>\n",
       "    </tr>\n",
       "  </tbody>\n",
       "</table>\n",
       "<p>133 rows × 3 columns</p>\n",
       "</div>"
      ],
      "text/plain": [
       "       zip  crime_count  Unemployment Rate\n",
       "0    90028          281           7.834739\n",
       "1    91602           59           6.888725\n",
       "2    90013          190           6.832818\n",
       "3    90068           22           6.558962\n",
       "4    90043           98           6.531153\n",
       "5    90021           89           6.396453\n",
       "6    90047          112           6.042358\n",
       "7    91403           58           6.009645\n",
       "8    90007          174           5.885350\n",
       "9    90301            4           5.863852\n",
       "10   90056           18           5.839780\n",
       "11   91604           70           5.701325\n",
       "12   91607           55           5.675047\n",
       "13   91405          168           5.557787\n",
       "14   90008          118           5.537872\n",
       "15   91203            2           5.502675\n",
       "16   90006          130           5.475782\n",
       "17   90003          322           5.440488\n",
       "18   90059          100           5.332517\n",
       "19   90063           15           5.329001\n",
       "20   90032           55           5.250597\n",
       "21   91205            6           5.219385\n",
       "22   90404            9           5.202338\n",
       "23   90014          138           5.197084\n",
       "24   90027           57           5.180200\n",
       "25   90018          154           5.163807\n",
       "26   90005           96           5.156463\n",
       "27   90029          170           5.125763\n",
       "28   91601           92           5.078298\n",
       "29   90002          142           5.032541\n",
       "..     ...          ...                ...\n",
       "103  91304           46           3.492644\n",
       "104  90017          125           3.486169\n",
       "105  90248           18           3.477383\n",
       "106  91352           77           3.454750\n",
       "107  90293           29           3.408557\n",
       "108  90292           31           3.372447\n",
       "109  91303          165           3.304806\n",
       "110  91325           76           3.276869\n",
       "111  91311           64           3.272264\n",
       "112  90035           80           3.135027\n",
       "113  90033          144           3.097807\n",
       "114  91030            4           3.068620\n",
       "115  91342           97           2.997598\n",
       "116  90049           29           2.994885\n",
       "117  91356           68           2.942727\n",
       "118  90212            4           2.922693\n",
       "119  90012          107           2.880147\n",
       "120  91326           47           2.660037\n",
       "121  91040           23           2.602230\n",
       "122  90210            4           2.453038\n",
       "123  91803            1           2.355908\n",
       "124  91324           82           2.335471\n",
       "125  90232           16           2.267070\n",
       "126  90077            9           2.081468\n",
       "127  90064           63           2.003307\n",
       "128  90272           18           1.849348\n",
       "129  91436           26           1.453292\n",
       "130  90067           26           1.342282\n",
       "131  90071          148                NaN\n",
       "132  91608           20                NaN\n",
       "\n",
       "[133 rows x 3 columns]"
      ]
     },
     "execution_count": 201,
     "metadata": {},
     "output_type": "execute_result"
    }
   ],
   "source": [
    "# 10k most recent crimes database\n",
    "pd.read_sql_query(query2, con=engine)\n"
   ]
  },
  {
   "cell_type": "code",
   "execution_count": null,
   "metadata": {},
   "outputs": [],
   "source": []
  },
  {
   "cell_type": "code",
   "execution_count": null,
   "metadata": {},
   "outputs": [],
   "source": []
  },
  {
   "cell_type": "code",
   "execution_count": null,
   "metadata": {},
   "outputs": [],
   "source": []
  },
  {
   "cell_type": "code",
   "execution_count": null,
   "metadata": {},
   "outputs": [],
   "source": []
  },
  {
   "cell_type": "code",
   "execution_count": null,
   "metadata": {},
   "outputs": [],
   "source": []
  },
  {
   "cell_type": "code",
   "execution_count": null,
   "metadata": {},
   "outputs": [],
   "source": []
  },
  {
   "cell_type": "code",
   "execution_count": null,
   "metadata": {},
   "outputs": [],
   "source": []
  },
  {
   "cell_type": "markdown",
   "metadata": {},
   "source": [
    "-------------------------------------------------------------------------------------------\n",
    "-------------------------------------------------------------------------------------------"
   ]
  },
  {
   "cell_type": "markdown",
   "metadata": {},
   "source": [
    "## TESTING LINES 👇🏾"
   ]
  },
  {
   "cell_type": "markdown",
   "metadata": {},
   "source": [
    "#### FALIED TEST TO THE ZIP EXTRACTION FUNCTION @ BOTTOM"
   ]
  },
  {
   "cell_type": "code",
   "execution_count": 113,
   "metadata": {},
   "outputs": [
    {
     "ename": "TypeError",
     "evalue": "cannot convert the series to <class 'float'>",
     "output_type": "error",
     "traceback": [
      "\u001b[0;31m---------------------------------------------------------------------------\u001b[0m",
      "\u001b[0;31mTypeError\u001b[0m                                 Traceback (most recent call last)",
      "\u001b[0;32m<ipython-input-113-551b35f52710>\u001b[0m in \u001b[0;36m<module>\u001b[0;34m\u001b[0m\n\u001b[1;32m      3\u001b[0m \u001b[0msmall_df\u001b[0m\u001b[0;34m\u001b[0m\u001b[0;34m\u001b[0m\u001b[0m\n\u001b[1;32m      4\u001b[0m \u001b[0;34m\u001b[0m\u001b[0m\n\u001b[0;32m----> 5\u001b[0;31m \u001b[0msmall_df\u001b[0m\u001b[0;34m[\u001b[0m\u001b[0;34m'zip'\u001b[0m\u001b[0;34m]\u001b[0m \u001b[0;34m=\u001b[0m \u001b[0msmall_df\u001b[0m\u001b[0;34m.\u001b[0m\u001b[0mapply\u001b[0m\u001b[0;34m(\u001b[0m\u001b[0mcomputeNearestZip\u001b[0m\u001b[0;34m(\u001b[0m\u001b[0msmall_df\u001b[0m\u001b[0;34m[\u001b[0m\u001b[0;34m'lat'\u001b[0m\u001b[0;34m]\u001b[0m\u001b[0;34m,\u001b[0m\u001b[0msmall_df\u001b[0m\u001b[0;34m[\u001b[0m\u001b[0;34m'long'\u001b[0m\u001b[0;34m]\u001b[0m\u001b[0;34m)\u001b[0m\u001b[0;34m,\u001b[0m \u001b[0maxis\u001b[0m\u001b[0;34m=\u001b[0m\u001b[0;36m1\u001b[0m\u001b[0;34m)\u001b[0m\u001b[0;34m\u001b[0m\u001b[0;34m\u001b[0m\u001b[0m\n\u001b[0m",
      "\u001b[0;32m~/Desktop/MyGTdata/MyHW/ETL_PROJECT/MR_FILES/diffs_latlong.py\u001b[0m in \u001b[0;36mcomputeNearestZip\u001b[0;34m(latitude, longitude)\u001b[0m\n\u001b[1;32m     30\u001b[0m                 \u001b[0mlat1\u001b[0m \u001b[0;34m=\u001b[0m \u001b[0mdistancedata\u001b[0m\u001b[0;34m[\u001b[0m\u001b[0;34m\"latitude\"\u001b[0m\u001b[0;34m]\u001b[0m\u001b[0;34m\u001b[0m\u001b[0;34m\u001b[0m\u001b[0m\n\u001b[1;32m     31\u001b[0m                 \u001b[0mlong1\u001b[0m \u001b[0;34m=\u001b[0m \u001b[0mdistancedata\u001b[0m\u001b[0;34m[\u001b[0m\u001b[0;34m\"longitude\"\u001b[0m\u001b[0;34m]\u001b[0m\u001b[0;34m\u001b[0m\u001b[0;34m\u001b[0m\u001b[0m\n\u001b[0;32m---> 32\u001b[0;31m                 \u001b[0mdistance\u001b[0m \u001b[0;34m=\u001b[0m \u001b[0mdistanceV\u001b[0m\u001b[0;34m(\u001b[0m\u001b[0mlatitude\u001b[0m\u001b[0;34m,\u001b[0m\u001b[0mlongitude\u001b[0m\u001b[0;34m,\u001b[0m \u001b[0mlat1\u001b[0m\u001b[0;34m,\u001b[0m\u001b[0mlong1\u001b[0m\u001b[0;34m)\u001b[0m\u001b[0;34m\u001b[0m\u001b[0;34m\u001b[0m\u001b[0m\n\u001b[0m\u001b[1;32m     33\u001b[0m \u001b[0;34m\u001b[0m\u001b[0m\n\u001b[1;32m     34\u001b[0m                 \u001b[0;32mif\u001b[0m\u001b[0;34m(\u001b[0m\u001b[0mdistance\u001b[0m \u001b[0;34m<\u001b[0m\u001b[0msmallestDistance\u001b[0m\u001b[0;34m)\u001b[0m\u001b[0;34m:\u001b[0m\u001b[0;34m\u001b[0m\u001b[0;34m\u001b[0m\u001b[0m\n",
      "\u001b[0;32m~/Desktop/MyGTdata/MyHW/ETL_PROJECT/MR_FILES/diffs_latlong.py\u001b[0m in \u001b[0;36mdistanceV\u001b[0;34m(lat1, lon1, lat2, lon2)\u001b[0m\n\u001b[1;32m     11\u001b[0m     \u001b[0mradius\u001b[0m \u001b[0;34m=\u001b[0m \u001b[0;36m6371\u001b[0m \u001b[0;31m# km\u001b[0m\u001b[0;34m\u001b[0m\u001b[0;34m\u001b[0m\u001b[0m\n\u001b[1;32m     12\u001b[0m \u001b[0;34m\u001b[0m\u001b[0m\n\u001b[0;32m---> 13\u001b[0;31m     \u001b[0mdlat\u001b[0m \u001b[0;34m=\u001b[0m \u001b[0mmath\u001b[0m\u001b[0;34m.\u001b[0m\u001b[0mradians\u001b[0m\u001b[0;34m(\u001b[0m\u001b[0mlat2\u001b[0m\u001b[0;34m-\u001b[0m\u001b[0mlat1\u001b[0m\u001b[0;34m)\u001b[0m\u001b[0;34m\u001b[0m\u001b[0;34m\u001b[0m\u001b[0m\n\u001b[0m\u001b[1;32m     14\u001b[0m     \u001b[0mdlon\u001b[0m \u001b[0;34m=\u001b[0m \u001b[0mmath\u001b[0m\u001b[0;34m.\u001b[0m\u001b[0mradians\u001b[0m\u001b[0;34m(\u001b[0m\u001b[0mlon2\u001b[0m\u001b[0;34m-\u001b[0m\u001b[0mlon1\u001b[0m\u001b[0;34m)\u001b[0m\u001b[0;34m\u001b[0m\u001b[0;34m\u001b[0m\u001b[0m\n\u001b[1;32m     15\u001b[0m     \u001b[0ma\u001b[0m \u001b[0;34m=\u001b[0m \u001b[0mmath\u001b[0m\u001b[0;34m.\u001b[0m\u001b[0msin\u001b[0m\u001b[0;34m(\u001b[0m\u001b[0mdlat\u001b[0m\u001b[0;34m/\u001b[0m\u001b[0;36m2\u001b[0m\u001b[0;34m)\u001b[0m \u001b[0;34m*\u001b[0m \u001b[0mmath\u001b[0m\u001b[0;34m.\u001b[0m\u001b[0msin\u001b[0m\u001b[0;34m(\u001b[0m\u001b[0mdlat\u001b[0m\u001b[0;34m/\u001b[0m\u001b[0;36m2\u001b[0m\u001b[0;34m)\u001b[0m \u001b[0;34m+\u001b[0m \u001b[0mmath\u001b[0m\u001b[0;34m.\u001b[0m\u001b[0mcos\u001b[0m\u001b[0;34m(\u001b[0m\u001b[0mmath\u001b[0m\u001b[0;34m.\u001b[0m\u001b[0mradians\u001b[0m\u001b[0;34m(\u001b[0m\u001b[0mlat1\u001b[0m\u001b[0;34m)\u001b[0m\u001b[0;34m)\u001b[0m\u001b[0;31m \u001b[0m\u001b[0;31m\\\u001b[0m\u001b[0;34m\u001b[0m\u001b[0;34m\u001b[0m\u001b[0m\n",
      "\u001b[0;32m/anaconda3/lib/python3.7/site-packages/pandas/core/series.py\u001b[0m in \u001b[0;36mwrapper\u001b[0;34m(self)\u001b[0m\n\u001b[1;32m     91\u001b[0m             \u001b[0;32mreturn\u001b[0m \u001b[0mconverter\u001b[0m\u001b[0;34m(\u001b[0m\u001b[0mself\u001b[0m\u001b[0;34m.\u001b[0m\u001b[0miloc\u001b[0m\u001b[0;34m[\u001b[0m\u001b[0;36m0\u001b[0m\u001b[0;34m]\u001b[0m\u001b[0;34m)\u001b[0m\u001b[0;34m\u001b[0m\u001b[0;34m\u001b[0m\u001b[0m\n\u001b[1;32m     92\u001b[0m         raise TypeError(\"cannot convert the series to \"\n\u001b[0;32m---> 93\u001b[0;31m                         \"{0}\".format(str(converter)))\n\u001b[0m\u001b[1;32m     94\u001b[0m \u001b[0;34m\u001b[0m\u001b[0m\n\u001b[1;32m     95\u001b[0m     \u001b[0mwrapper\u001b[0m\u001b[0;34m.\u001b[0m\u001b[0m__name__\u001b[0m \u001b[0;34m=\u001b[0m \u001b[0;34m\"__{name}__\"\u001b[0m\u001b[0;34m.\u001b[0m\u001b[0mformat\u001b[0m\u001b[0;34m(\u001b[0m\u001b[0mname\u001b[0m\u001b[0;34m=\u001b[0m\u001b[0mconverter\u001b[0m\u001b[0;34m.\u001b[0m\u001b[0m__name__\u001b[0m\u001b[0;34m)\u001b[0m\u001b[0;34m\u001b[0m\u001b[0;34m\u001b[0m\u001b[0m\n",
      "\u001b[0;31mTypeError\u001b[0m: cannot convert the series to <class 'float'>"
     ]
    }
   ],
   "source": [
    "# 😾\n",
    "small_df = crime_df[:10]\n",
    "small_df\n",
    "\n",
    "small_df['zip'] = small_df.apply(computeNearestZip(small_df['lat'],small_df['long']), axis=1)\n"
   ]
  },
  {
   "cell_type": "code",
   "execution_count": null,
   "metadata": {},
   "outputs": [],
   "source": []
  }
 ],
 "metadata": {
  "kernelspec": {
   "display_name": "Python 3",
   "language": "python",
   "name": "python3"
  },
  "language_info": {
   "codemirror_mode": {
    "name": "ipython",
    "version": 3
   },
   "file_extension": ".py",
   "mimetype": "text/x-python",
   "name": "python",
   "nbconvert_exporter": "python",
   "pygments_lexer": "ipython3",
   "version": "3.7.3"
  }
 },
 "nbformat": 4,
 "nbformat_minor": 2
}
