{
 "cells": [
  {
   "cell_type": "markdown",
   "metadata": {},
   "source": [
    "## Shift + tab for methods info\n",
    "## command + / = comments out all"
   ]
  },
  {
   "cell_type": "code",
   "execution_count": 2,
   "metadata": {},
   "outputs": [],
   "source": [
    "import pandas as pd\n",
    "import matplotlib.pyplot as plt\n",
    "from matplotlib import colors\n",
    "\n",
    "import datetime as dt\n",
    "import numpy as np\n",
    "import os\n",
    "\n",
    "# Load packages\n",
    "# from pygeocoder import Geocoder\n"
   ]
  },
  {
   "cell_type": "code",
   "execution_count": 71,
   "metadata": {},
   "outputs": [
    {
     "data": {
      "text/plain": [
       "['MyETLProject_2010-Present.ipynb',\n",
       " 'ETL_project.sql',\n",
       " 'CrimeData_2010-Present.csv',\n",
       " 'MyETLProject_2010-Present-Copy1.ipynb',\n",
       " '.ipynb_checkpoints',\n",
       " 'diffs_latlong.py',\n",
       " 'us-zip-code-latitude-and-longitude.json']"
      ]
     },
     "execution_count": 71,
     "metadata": {},
     "output_type": "execute_result"
    }
   ],
   "source": [
    "os.listdir()"
   ]
  },
  {
   "cell_type": "code",
   "execution_count": 3,
   "metadata": {},
   "outputs": [],
   "source": [
    "# dir(geopy)\n",
    "MyHW/ETL_PROJECT/MR_testFiles/Resources/Crime_Data_from_2010_to_Present.csv"
   ]
  },
  {
   "cell_type": "code",
   "execution_count": 6,
   "metadata": {},
   "outputs": [],
   "source": [
    "df = pd.read_csv(\"Resources/Crime_Data_from_2010_to_Present.csv\",parse_dates=True)"
   ]
  },
  {
   "cell_type": "code",
   "execution_count": 7,
   "metadata": {},
   "outputs": [
    {
     "data": {
      "text/html": [
       "<div>\n",
       "<style scoped>\n",
       "    .dataframe tbody tr th:only-of-type {\n",
       "        vertical-align: middle;\n",
       "    }\n",
       "\n",
       "    .dataframe tbody tr th {\n",
       "        vertical-align: top;\n",
       "    }\n",
       "\n",
       "    .dataframe thead th {\n",
       "        text-align: right;\n",
       "    }\n",
       "</style>\n",
       "<table border=\"1\" class=\"dataframe\">\n",
       "  <thead>\n",
       "    <tr style=\"text-align: right;\">\n",
       "      <th></th>\n",
       "      <th>DR Number</th>\n",
       "      <th>Date Reported</th>\n",
       "      <th>Date Occurred</th>\n",
       "      <th>Time Occurred</th>\n",
       "      <th>Area ID</th>\n",
       "      <th>Area Name</th>\n",
       "      <th>Reporting District</th>\n",
       "      <th>Crime Code</th>\n",
       "      <th>Crime Code Description</th>\n",
       "      <th>MO Codes</th>\n",
       "      <th>...</th>\n",
       "      <th>Weapon Description</th>\n",
       "      <th>Status Code</th>\n",
       "      <th>Status Description</th>\n",
       "      <th>Crime Code 1</th>\n",
       "      <th>Crime Code 2</th>\n",
       "      <th>Crime Code 3</th>\n",
       "      <th>Crime Code 4</th>\n",
       "      <th>Address</th>\n",
       "      <th>Cross Street</th>\n",
       "      <th>Location</th>\n",
       "    </tr>\n",
       "  </thead>\n",
       "  <tbody>\n",
       "    <tr>\n",
       "      <th>1963738</th>\n",
       "      <td>181921345</td>\n",
       "      <td>12/04/2018</td>\n",
       "      <td>11/25/2010</td>\n",
       "      <td>1200</td>\n",
       "      <td>19</td>\n",
       "      <td>Mission</td>\n",
       "      <td>1935</td>\n",
       "      <td>310</td>\n",
       "      <td>BURGLARY</td>\n",
       "      <td>0344 1602</td>\n",
       "      <td>...</td>\n",
       "      <td>NaN</td>\n",
       "      <td>IC</td>\n",
       "      <td>Invest Cont</td>\n",
       "      <td>310.0</td>\n",
       "      <td>NaN</td>\n",
       "      <td>NaN</td>\n",
       "      <td>NaN</td>\n",
       "      <td>15200 S  BRAND                        BL</td>\n",
       "      <td>NaN</td>\n",
       "      <td>(34.2752, -118.4603)</td>\n",
       "    </tr>\n",
       "    <tr>\n",
       "      <th>1963739</th>\n",
       "      <td>100704828</td>\n",
       "      <td>01/18/2010</td>\n",
       "      <td>01/18/2010</td>\n",
       "      <td>2230</td>\n",
       "      <td>7</td>\n",
       "      <td>Wilshire</td>\n",
       "      <td>787</td>\n",
       "      <td>626</td>\n",
       "      <td>INTIMATE PARTNER - SIMPLE ASSAULT</td>\n",
       "      <td>0400 1402 2000</td>\n",
       "      <td>...</td>\n",
       "      <td>STRONG-ARM (HANDS, FIST, FEET OR BODILY FORCE)</td>\n",
       "      <td>IC</td>\n",
       "      <td>Invest Cont</td>\n",
       "      <td>626.0</td>\n",
       "      <td>998.0</td>\n",
       "      <td>NaN</td>\n",
       "      <td>NaN</td>\n",
       "      <td>2200    WELLINGTON                   RD</td>\n",
       "      <td>NaN</td>\n",
       "      <td>(34.0366, -118.3357)</td>\n",
       "    </tr>\n",
       "    <tr>\n",
       "      <th>1963740</th>\n",
       "      <td>101200721</td>\n",
       "      <td>05/21/2010</td>\n",
       "      <td>05/20/2010</td>\n",
       "      <td>2300</td>\n",
       "      <td>12</td>\n",
       "      <td>77th Street</td>\n",
       "      <td>1245</td>\n",
       "      <td>121</td>\n",
       "      <td>RAPE, FORCIBLE</td>\n",
       "      <td>0342 0503 0537 0527 1206 1251 1259 1309 1415 1822</td>\n",
       "      <td>...</td>\n",
       "      <td>STRONG-ARM (HANDS, FIST, FEET OR BODILY FORCE)</td>\n",
       "      <td>IC</td>\n",
       "      <td>Invest Cont</td>\n",
       "      <td>121.0</td>\n",
       "      <td>NaN</td>\n",
       "      <td>NaN</td>\n",
       "      <td>NaN</td>\n",
       "      <td>69TH                         ST</td>\n",
       "      <td>DENKER                       AV</td>\n",
       "      <td>(33.977, -118.3046)</td>\n",
       "    </tr>\n",
       "    <tr>\n",
       "      <th>1963741</th>\n",
       "      <td>191005089</td>\n",
       "      <td>01/26/2019</td>\n",
       "      <td>01/01/2010</td>\n",
       "      <td>1000</td>\n",
       "      <td>10</td>\n",
       "      <td>West Valley</td>\n",
       "      <td>1029</td>\n",
       "      <td>354</td>\n",
       "      <td>THEFT OF IDENTITY</td>\n",
       "      <td>1822 0377</td>\n",
       "      <td>...</td>\n",
       "      <td>NaN</td>\n",
       "      <td>IC</td>\n",
       "      <td>Invest Cont</td>\n",
       "      <td>354.0</td>\n",
       "      <td>NaN</td>\n",
       "      <td>NaN</td>\n",
       "      <td>NaN</td>\n",
       "      <td>7000    WOODLEY                      AV</td>\n",
       "      <td>NaN</td>\n",
       "      <td>(34.1976, -118.4837)</td>\n",
       "    </tr>\n",
       "    <tr>\n",
       "      <th>1963742</th>\n",
       "      <td>191505220</td>\n",
       "      <td>01/24/2019</td>\n",
       "      <td>01/05/2010</td>\n",
       "      <td>700</td>\n",
       "      <td>15</td>\n",
       "      <td>N Hollywood</td>\n",
       "      <td>1555</td>\n",
       "      <td>341</td>\n",
       "      <td>THEFT-GRAND ($950.01 &amp; OVER)EXCPT,GUNS,FOWL,LI...</td>\n",
       "      <td>1202 0701</td>\n",
       "      <td>...</td>\n",
       "      <td>NaN</td>\n",
       "      <td>IC</td>\n",
       "      <td>Invest Cont</td>\n",
       "      <td>341.0</td>\n",
       "      <td>NaN</td>\n",
       "      <td>NaN</td>\n",
       "      <td>NaN</td>\n",
       "      <td>5000    LANKERSHIM                   BL</td>\n",
       "      <td>NaN</td>\n",
       "      <td>(34.1611, -118.3723)</td>\n",
       "    </tr>\n",
       "  </tbody>\n",
       "</table>\n",
       "<p>5 rows × 26 columns</p>\n",
       "</div>"
      ],
      "text/plain": [
       "         DR Number Date Reported Date Occurred  Time Occurred  Area ID  \\\n",
       "1963738  181921345    12/04/2018    11/25/2010           1200       19   \n",
       "1963739  100704828    01/18/2010    01/18/2010           2230        7   \n",
       "1963740  101200721    05/21/2010    05/20/2010           2300       12   \n",
       "1963741  191005089    01/26/2019    01/01/2010           1000       10   \n",
       "1963742  191505220    01/24/2019    01/05/2010            700       15   \n",
       "\n",
       "           Area Name  Reporting District  Crime Code  \\\n",
       "1963738      Mission                1935         310   \n",
       "1963739     Wilshire                 787         626   \n",
       "1963740  77th Street                1245         121   \n",
       "1963741  West Valley                1029         354   \n",
       "1963742  N Hollywood                1555         341   \n",
       "\n",
       "                                    Crime Code Description  \\\n",
       "1963738                                           BURGLARY   \n",
       "1963739                  INTIMATE PARTNER - SIMPLE ASSAULT   \n",
       "1963740                                     RAPE, FORCIBLE   \n",
       "1963741                                  THEFT OF IDENTITY   \n",
       "1963742  THEFT-GRAND ($950.01 & OVER)EXCPT,GUNS,FOWL,LI...   \n",
       "\n",
       "                                                  MO Codes  ...  \\\n",
       "1963738                                          0344 1602  ...   \n",
       "1963739                                     0400 1402 2000  ...   \n",
       "1963740  0342 0503 0537 0527 1206 1251 1259 1309 1415 1822  ...   \n",
       "1963741                                          1822 0377  ...   \n",
       "1963742                                          1202 0701  ...   \n",
       "\n",
       "                                     Weapon Description Status Code  \\\n",
       "1963738                                             NaN          IC   \n",
       "1963739  STRONG-ARM (HANDS, FIST, FEET OR BODILY FORCE)          IC   \n",
       "1963740  STRONG-ARM (HANDS, FIST, FEET OR BODILY FORCE)          IC   \n",
       "1963741                                             NaN          IC   \n",
       "1963742                                             NaN          IC   \n",
       "\n",
       "        Status Description  Crime Code 1 Crime Code 2  Crime Code 3  \\\n",
       "1963738        Invest Cont         310.0          NaN           NaN   \n",
       "1963739        Invest Cont         626.0        998.0           NaN   \n",
       "1963740        Invest Cont         121.0          NaN           NaN   \n",
       "1963741        Invest Cont         354.0          NaN           NaN   \n",
       "1963742        Invest Cont         341.0          NaN           NaN   \n",
       "\n",
       "        Crime Code 4                                   Address  \\\n",
       "1963738          NaN  15200 S  BRAND                        BL   \n",
       "1963739          NaN   2200    WELLINGTON                   RD   \n",
       "1963740          NaN           69TH                         ST   \n",
       "1963741          NaN   7000    WOODLEY                      AV   \n",
       "1963742          NaN   5000    LANKERSHIM                   BL   \n",
       "\n",
       "                            Cross Street             Location   \n",
       "1963738                              NaN  (34.2752, -118.4603)  \n",
       "1963739                              NaN  (34.0366, -118.3357)  \n",
       "1963740  DENKER                       AV   (33.977, -118.3046)  \n",
       "1963741                              NaN  (34.1976, -118.4837)  \n",
       "1963742                              NaN  (34.1611, -118.3723)  \n",
       "\n",
       "[5 rows x 26 columns]"
      ]
     },
     "execution_count": 7,
     "metadata": {},
     "output_type": "execute_result"
    }
   ],
   "source": [
    "df.head()\n",
    "df.tail()"
   ]
  },
  {
   "cell_type": "code",
   "execution_count": 75,
   "metadata": {},
   "outputs": [
    {
     "data": {
      "text/plain": [
       "pandas.core.frame.DataFrame"
      ]
     },
     "execution_count": 75,
     "metadata": {},
     "output_type": "execute_result"
    }
   ],
   "source": [
    "type(df)"
   ]
  },
  {
   "cell_type": "markdown",
   "metadata": {},
   "source": [
    "## Check variables"
   ]
  },
  {
   "cell_type": "code",
   "execution_count": 8,
   "metadata": {},
   "outputs": [],
   "source": [
    "#save columns to an object (save the columns in a list to mutate them)\n",
    "\n",
    "# cols= list(df.columns)\n",
    "# print(cols)"
   ]
  },
  {
   "cell_type": "code",
   "execution_count": 9,
   "metadata": {},
   "outputs": [],
   "source": [
    "#remove spaces from \n",
    "\n",
    "# for i in range(len(cols)):\n",
    "#     cols[i]=cols[i].strip()\n",
    "# print(cols)\n",
    "    "
   ]
  },
  {
   "cell_type": "code",
   "execution_count": 11,
   "metadata": {},
   "outputs": [],
   "source": [
    "#remove spaces from the variable name by assigning the values to a new variable\n",
    "df['Location'] = df['Location ']\n",
    "#removed old column\n",
    "df.drop(columns= 'Location ')"
   ]
  },
  {
   "cell_type": "code",
   "execution_count": null,
   "metadata": {},
   "outputs": [],
   "source": [
    "#check column changes\n",
    "df.columns"
   ]
  },
  {
   "cell_type": "code",
   "execution_count": 80,
   "metadata": {},
   "outputs": [
    {
     "data": {
      "text/plain": [
       "0    VANDALISM - FELONY ($400 & OVER, ALL CHURCH VA...\n",
       "1                            OTHER MISCELLANEOUS CRIME\n",
       "2                                BURGLARY FROM VEHICLE\n",
       "3    THEFT-GRAND ($950.01 & OVER)EXCPT,GUNS,FOWL,LI...\n",
       "4    VANDALISM - FELONY ($400 & OVER, ALL CHURCH VA...\n",
       "Name: Crime Code Description, dtype: object"
      ]
     },
     "execution_count": 80,
     "metadata": {},
     "output_type": "execute_result"
    }
   ],
   "source": [
    "df['Crime Code Description'].head()"
   ]
  },
  {
   "cell_type": "code",
   "execution_count": 81,
   "metadata": {},
   "outputs": [
    {
     "data": {
      "text/plain": [
       "0            SEPULVEDA                    BL\n",
       "1    1300 E  21ST                         ST\n",
       "2            PICO                         BL\n",
       "3     200 S  OLIVE                        ST\n",
       "4    1100 S  OLIVE                        ST\n",
       "Name: Address, dtype: object"
      ]
     },
     "execution_count": 81,
     "metadata": {},
     "output_type": "execute_result"
    }
   ],
   "source": [
    "df['Address'].head()"
   ]
  },
  {
   "cell_type": "code",
   "execution_count": 141,
   "metadata": {},
   "outputs": [],
   "source": [
    "#didn't work\n",
    "\n",
    "#df_new = df[\"Location\"].str.split(\",\", n = 1, expand = False) "
   ]
  },
  {
   "cell_type": "code",
   "execution_count": 82,
   "metadata": {},
   "outputs": [
    {
     "data": {
      "text/plain": [
       "0    (33.9599, -118.3962)\n",
       "1    (34.0224, -118.2524)\n",
       "2    (34.0389, -118.2643)\n",
       "3    (34.0538, -118.2488)\n",
       "4    (34.0409, -118.2609)\n",
       "Name: Location, dtype: object"
      ]
     },
     "execution_count": 82,
     "metadata": {},
     "output_type": "execute_result"
    }
   ],
   "source": [
    "#check content of the Location variable\n",
    "     #has latitud and longitude together\n",
    "df['Location'].head()"
   ]
  },
  {
   "cell_type": "code",
   "execution_count": 12,
   "metadata": {},
   "outputs": [],
   "source": [
    "# Separate the content of the Location variable. Latitude and longitude should be separate variables.\n",
    "\n",
    "# Create two lists for the loop results to be placed\n",
    "lat = []\n",
    "lon = []\n",
    "\n",
    "# For each row in a varible,\n",
    "for row in df['Location']:\n",
    "    # Try to,\n",
    "    try:\n",
    "        # Split the row by comma and append\n",
    "        # everything before the comma to lat\n",
    "        lat.append(row.split(',')[0])\n",
    "        # Split the row by comma and append\n",
    "        # everything after the comma to lon\n",
    "        lon.append(row.split(',')[1])\n",
    "    # But if you get an error\n",
    "    except:\n",
    "        # append a missing value to lat\n",
    "        lat.append(np.NaN)\n",
    "        # append a missing value to lon\n",
    "        lon.append(np.NaN)\n",
    "\n",
    "# Create two new columns from lat and lon\n",
    "df['latitude']= lat\n",
    "df['longitude'] = lon"
   ]
  },
  {
   "cell_type": "code",
   "execution_count": 13,
   "metadata": {},
   "outputs": [
    {
     "data": {
      "text/plain": [
       "0    (33.9599\n",
       "1    (34.0224\n",
       "2    (34.0389\n",
       "3    (34.0538\n",
       "4    (34.0409\n",
       "Name: latitude, dtype: object"
      ]
     },
     "execution_count": 13,
     "metadata": {},
     "output_type": "execute_result"
    }
   ],
   "source": [
    "#check results\n",
    "\n",
    "df['latitude'].head()\n",
    "\n",
    "#parenthesis should be removed from the variable"
   ]
  },
  {
   "cell_type": "code",
   "execution_count": 14,
   "metadata": {},
   "outputs": [
    {
     "data": {
      "text/plain": [
       "0    33.9599\n",
       "1    34.0224\n",
       "2    34.0389\n",
       "3    34.0538\n",
       "4    34.0409\n",
       "Name: latitude, dtype: object"
      ]
     },
     "execution_count": 14,
     "metadata": {},
     "output_type": "execute_result"
    }
   ],
   "source": [
    "#remove parenthesis of the latitude variable with the replace method\n",
    "\n",
    "df['latitude'].replace(regex=True,inplace=True,to_replace=r'\\(',value=r'')\n",
    "df['latitude'].head()"
   ]
  },
  {
   "cell_type": "code",
   "execution_count": 15,
   "metadata": {},
   "outputs": [
    {
     "data": {
      "text/plain": [
       "0     -118.3962\n",
       "1     -118.2524\n",
       "2     -118.2643\n",
       "3     -118.2488\n",
       "4     -118.2609\n",
       "Name: longitude, dtype: object"
      ]
     },
     "execution_count": 15,
     "metadata": {},
     "output_type": "execute_result"
    }
   ],
   "source": [
    "#remove parenthesis of the longitude variable with the replace method\n",
    "\n",
    "df['longitude'].replace(regex=True,inplace=True,to_replace=r'\\)',value=r'')\n",
    "df['longitude'].head()"
   ]
  },
  {
   "cell_type": "code",
   "execution_count": 16,
   "metadata": {},
   "outputs": [
    {
     "data": {
      "text/html": [
       "<div>\n",
       "<style scoped>\n",
       "    .dataframe tbody tr th:only-of-type {\n",
       "        vertical-align: middle;\n",
       "    }\n",
       "\n",
       "    .dataframe tbody tr th {\n",
       "        vertical-align: top;\n",
       "    }\n",
       "\n",
       "    .dataframe thead th {\n",
       "        text-align: right;\n",
       "    }\n",
       "</style>\n",
       "<table border=\"1\" class=\"dataframe\">\n",
       "  <thead>\n",
       "    <tr style=\"text-align: right;\">\n",
       "      <th></th>\n",
       "      <th>latitude</th>\n",
       "      <th>longitude</th>\n",
       "    </tr>\n",
       "  </thead>\n",
       "  <tbody>\n",
       "    <tr>\n",
       "      <th>0</th>\n",
       "      <td>33.9599</td>\n",
       "      <td>-118.3962</td>\n",
       "    </tr>\n",
       "    <tr>\n",
       "      <th>1</th>\n",
       "      <td>34.0224</td>\n",
       "      <td>-118.2524</td>\n",
       "    </tr>\n",
       "    <tr>\n",
       "      <th>2</th>\n",
       "      <td>34.0389</td>\n",
       "      <td>-118.2643</td>\n",
       "    </tr>\n",
       "    <tr>\n",
       "      <th>3</th>\n",
       "      <td>34.0538</td>\n",
       "      <td>-118.2488</td>\n",
       "    </tr>\n",
       "    <tr>\n",
       "      <th>4</th>\n",
       "      <td>34.0409</td>\n",
       "      <td>-118.2609</td>\n",
       "    </tr>\n",
       "  </tbody>\n",
       "</table>\n",
       "</div>"
      ],
      "text/plain": [
       "  latitude   longitude\n",
       "0  33.9599   -118.3962\n",
       "1  34.0224   -118.2524\n",
       "2  34.0389   -118.2643\n",
       "3  34.0538   -118.2488\n",
       "4  34.0409   -118.2609"
      ]
     },
     "execution_count": 16,
     "metadata": {},
     "output_type": "execute_result"
    }
   ],
   "source": [
    "#check results\n",
    "df[['latitude', 'longitude']].head()"
   ]
  },
  {
   "cell_type": "code",
   "execution_count": 17,
   "metadata": {},
   "outputs": [
    {
     "data": {
      "text/plain": [
       "dtype('O')"
      ]
     },
     "execution_count": 17,
     "metadata": {},
     "output_type": "execute_result"
    }
   ],
   "source": [
    "#check data type \n",
    "df['latitude'].dtype"
   ]
  },
  {
   "cell_type": "code",
   "execution_count": 18,
   "metadata": {},
   "outputs": [],
   "source": [
    "df['latitude']=df['latitude'].astype(str).astype(float)\n",
    "df['longitude']= df['longitude'].astype(str).astype(float)"
   ]
  },
  {
   "cell_type": "code",
   "execution_count": 19,
   "metadata": {},
   "outputs": [
    {
     "data": {
      "text/plain": [
       "dtype('float64')"
      ]
     },
     "execution_count": 19,
     "metadata": {},
     "output_type": "execute_result"
    }
   ],
   "source": [
    "df['latitude'].dtype"
   ]
  },
  {
   "cell_type": "code",
   "execution_count": 20,
   "metadata": {},
   "outputs": [
    {
     "data": {
      "text/plain": [
       "dtype('float64')"
      ]
     },
     "execution_count": 20,
     "metadata": {},
     "output_type": "execute_result"
    }
   ],
   "source": [
    "df['longitude'].dtype"
   ]
  },
  {
   "cell_type": "code",
   "execution_count": 21,
   "metadata": {},
   "outputs": [
    {
     "data": {
      "text/plain": [
       "DR Number                   int64\n",
       "Date Reported              object\n",
       "Date Occurred              object\n",
       "Time Occurred               int64\n",
       "Area ID                     int64\n",
       "Area Name                  object\n",
       "Reporting District          int64\n",
       "Crime Code                  int64\n",
       "Crime Code Description     object\n",
       "MO Codes                   object\n",
       "Victim Age                  int64\n",
       "Victim Sex                 object\n",
       "Victim Descent             object\n",
       "Premise Code              float64\n",
       "Premise Description        object\n",
       "Weapon Used Code          float64\n",
       "Weapon Description         object\n",
       "Status Code                object\n",
       "Status Description         object\n",
       "Crime Code 1              float64\n",
       "Crime Code 2              float64\n",
       "Crime Code 3              float64\n",
       "Crime Code 4              float64\n",
       "Address                    object\n",
       "Cross Street               object\n",
       "Location                   object\n",
       "Location                   object\n",
       "latitude                  float64\n",
       "longitude                 float64\n",
       "dtype: object"
      ]
     },
     "execution_count": 21,
     "metadata": {},
     "output_type": "execute_result"
    }
   ],
   "source": [
    "df.dtypes"
   ]
  },
  {
   "cell_type": "code",
   "execution_count": null,
   "metadata": {},
   "outputs": [],
   "source": [
    "df.head()"
   ]
  },
  {
   "cell_type": "code",
   "execution_count": 22,
   "metadata": {},
   "outputs": [],
   "source": [
    "from math import sin, cos, sqrt, atan2, radians\n",
    "import math\n",
    "import json\n",
    "fname = 'us-zip-code-latitude-and-longitude.json'\n",
    "loadedLatLongData = json.load(open(fname))\n",
    "\n",
    "\n",
    "def distanceV(lat1, lon1,lat2, lon2):\n",
    "    #lat1, lon1 = origin\n",
    "    #lat2, lon2 = destination\n",
    "    radius = 6371 # km\n",
    "\n",
    "    dlat = math.radians(lat2-lat1)\n",
    "    dlon = math.radians(lon2-lon1)\n",
    "    a = math.sin(dlat/2) * math.sin(dlat/2) + math.cos(math.radians(lat1)) \\\n",
    "        * math.cos(math.radians(lat2)) * math.sin(dlon/2) * math.sin(dlon/2)\n",
    "    c = 2 * math.atan2(math.sqrt(a), math.sqrt(1-a))\n",
    "    d = radius * c\n",
    "\n",
    "    return d\n",
    "\n",
    "def computeNearestZip(latitude, longitude):\n",
    "    smallestDistance = 1000000\n",
    "    smallestZip = None\n",
    "    for data in loadedLatLongData:\n",
    "        if (\"fields\" in data):\n",
    "            distancedata = data[\"fields\"]\n",
    "            if(\"latitude\" in distancedata and \"longitude\" in distancedata and \"zip\" in distancedata):\n",
    "                zipcode = distancedata[\"zip\"]\n",
    "                lat1 = distancedata[\"latitude\"]\n",
    "                long1 = distancedata[\"longitude\"]\n",
    "                distance = distanceV(latitude,longitude, lat1,long1)\n",
    "\n",
    "                if(distance <smallestDistance):\n",
    "                    smallestZip = zipcode\n",
    "                    smallestDistance = distance\n",
    "\n",
    "\n",
    "#     return smallestDistance, smallestZip\n",
    "    return smallestZip\n",
    "\n",
    "\n",
    "# if __name__ == '__main__':\n",
    "#     #lat long of 30339\n",
    "#     smallestDistance, smallestZip = computeNearestZip(33.9599,-118.3962)\n",
    "#     print(smallestZip)\n",
    "#     print(smallestDistance)\n",
    "\n",
    "#     #lat long of 27510\n",
    "#     smallestDistance, smallestZip = computeNearestZip(35.9108, -79.0815)\n",
    "#     print(smallestZip)\n",
    "#     print(smallestDistance)"
   ]
  },
  {
   "cell_type": "code",
   "execution_count": 23,
   "metadata": {},
   "outputs": [
    {
     "data": {
      "text/plain": [
       "dtype('float64')"
      ]
     },
     "execution_count": 23,
     "metadata": {},
     "output_type": "execute_result"
    }
   ],
   "source": [
    "df['latitude'].dtype"
   ]
  },
  {
   "cell_type": "code",
   "execution_count": 24,
   "metadata": {},
   "outputs": [
    {
     "data": {
      "text/plain": [
       "dtype('float64')"
      ]
     },
     "execution_count": 24,
     "metadata": {},
     "output_type": "execute_result"
    }
   ],
   "source": [
    "df['longitude'].dtype"
   ]
  },
  {
   "cell_type": "code",
   "execution_count": 30,
   "metadata": {},
   "outputs": [
    {
     "ename": "TypeError",
     "evalue": "(\"computeNearestZip() missing 1 required positional argument: 'longitude'\", 'occurred at index latitude')",
     "output_type": "error",
     "traceback": [
      "\u001b[0;31m---------------------------------------------------------------------------\u001b[0m",
      "\u001b[0;31mTypeError\u001b[0m                                 Traceback (most recent call last)",
      "\u001b[0;32m<ipython-input-30-b0894f202e89>\u001b[0m in \u001b[0;36m<module>\u001b[0;34m\u001b[0m\n\u001b[0;32m----> 1\u001b[0;31m \u001b[0mdf\u001b[0m\u001b[0;34m[\u001b[0m\u001b[0;34m'zip'\u001b[0m\u001b[0;34m]\u001b[0m \u001b[0;34m=\u001b[0m \u001b[0mdf\u001b[0m\u001b[0;34m[\u001b[0m\u001b[0;34m[\u001b[0m\u001b[0;34m'latitude'\u001b[0m\u001b[0;34m,\u001b[0m\u001b[0;34m'longitude'\u001b[0m\u001b[0;34m]\u001b[0m\u001b[0;34m]\u001b[0m\u001b[0;34m.\u001b[0m\u001b[0mapply\u001b[0m\u001b[0;34m(\u001b[0m\u001b[0mcomputeNearestZip\u001b[0m\u001b[0;34m)\u001b[0m\u001b[0;34m\u001b[0m\u001b[0;34m\u001b[0m\u001b[0m\n\u001b[0m\u001b[1;32m      2\u001b[0m \u001b[0;34m\u001b[0m\u001b[0m\n\u001b[1;32m      3\u001b[0m \u001b[0mdf\u001b[0m\u001b[0;34m[\u001b[0m\u001b[0;34m'zip'\u001b[0m\u001b[0;34m]\u001b[0m \u001b[0;34m=\u001b[0m \u001b[0mdf\u001b[0m\u001b[0;34m.\u001b[0m\u001b[0mapply\u001b[0m\u001b[0;34m(\u001b[0m\u001b[0mcomputeNearestZip\u001b[0m\u001b[0;34m(\u001b[0m\u001b[0;36m33.9599\u001b[0m\u001b[0;34m,\u001b[0m\u001b[0;34m-\u001b[0m\u001b[0;36m118.3962\u001b[0m\u001b[0;34m)\u001b[0m\u001b[0;34m,\u001b[0m \u001b[0maxis\u001b[0m\u001b[0;34m=\u001b[0m\u001b[0;36m1\u001b[0m\u001b[0;34m)\u001b[0m\u001b[0;34m\u001b[0m\u001b[0;34m\u001b[0m\u001b[0m\n\u001b[1;32m      4\u001b[0m \u001b[0;34m\u001b[0m\u001b[0m\n\u001b[1;32m      5\u001b[0m \u001b[0;34m\u001b[0m\u001b[0m\n",
      "\u001b[0;32m/anaconda3/lib/python3.7/site-packages/pandas/core/frame.py\u001b[0m in \u001b[0;36mapply\u001b[0;34m(self, func, axis, broadcast, raw, reduce, result_type, args, **kwds)\u001b[0m\n\u001b[1;32m   6485\u001b[0m                          \u001b[0margs\u001b[0m\u001b[0;34m=\u001b[0m\u001b[0margs\u001b[0m\u001b[0;34m,\u001b[0m\u001b[0;34m\u001b[0m\u001b[0;34m\u001b[0m\u001b[0m\n\u001b[1;32m   6486\u001b[0m                          kwds=kwds)\n\u001b[0;32m-> 6487\u001b[0;31m         \u001b[0;32mreturn\u001b[0m \u001b[0mop\u001b[0m\u001b[0;34m.\u001b[0m\u001b[0mget_result\u001b[0m\u001b[0;34m(\u001b[0m\u001b[0;34m)\u001b[0m\u001b[0;34m\u001b[0m\u001b[0;34m\u001b[0m\u001b[0m\n\u001b[0m\u001b[1;32m   6488\u001b[0m \u001b[0;34m\u001b[0m\u001b[0m\n\u001b[1;32m   6489\u001b[0m     \u001b[0;32mdef\u001b[0m \u001b[0mapplymap\u001b[0m\u001b[0;34m(\u001b[0m\u001b[0mself\u001b[0m\u001b[0;34m,\u001b[0m \u001b[0mfunc\u001b[0m\u001b[0;34m)\u001b[0m\u001b[0;34m:\u001b[0m\u001b[0;34m\u001b[0m\u001b[0;34m\u001b[0m\u001b[0m\n",
      "\u001b[0;32m/anaconda3/lib/python3.7/site-packages/pandas/core/apply.py\u001b[0m in \u001b[0;36mget_result\u001b[0;34m(self)\u001b[0m\n\u001b[1;32m    149\u001b[0m             \u001b[0;32mreturn\u001b[0m \u001b[0mself\u001b[0m\u001b[0;34m.\u001b[0m\u001b[0mapply_raw\u001b[0m\u001b[0;34m(\u001b[0m\u001b[0;34m)\u001b[0m\u001b[0;34m\u001b[0m\u001b[0;34m\u001b[0m\u001b[0m\n\u001b[1;32m    150\u001b[0m \u001b[0;34m\u001b[0m\u001b[0m\n\u001b[0;32m--> 151\u001b[0;31m         \u001b[0;32mreturn\u001b[0m \u001b[0mself\u001b[0m\u001b[0;34m.\u001b[0m\u001b[0mapply_standard\u001b[0m\u001b[0;34m(\u001b[0m\u001b[0;34m)\u001b[0m\u001b[0;34m\u001b[0m\u001b[0;34m\u001b[0m\u001b[0m\n\u001b[0m\u001b[1;32m    152\u001b[0m \u001b[0;34m\u001b[0m\u001b[0m\n\u001b[1;32m    153\u001b[0m     \u001b[0;32mdef\u001b[0m \u001b[0mapply_empty_result\u001b[0m\u001b[0;34m(\u001b[0m\u001b[0mself\u001b[0m\u001b[0;34m)\u001b[0m\u001b[0;34m:\u001b[0m\u001b[0;34m\u001b[0m\u001b[0;34m\u001b[0m\u001b[0m\n",
      "\u001b[0;32m/anaconda3/lib/python3.7/site-packages/pandas/core/apply.py\u001b[0m in \u001b[0;36mapply_standard\u001b[0;34m(self)\u001b[0m\n\u001b[1;32m    255\u001b[0m \u001b[0;34m\u001b[0m\u001b[0m\n\u001b[1;32m    256\u001b[0m         \u001b[0;31m# compute the result using the series generator\u001b[0m\u001b[0;34m\u001b[0m\u001b[0;34m\u001b[0m\u001b[0;34m\u001b[0m\u001b[0m\n\u001b[0;32m--> 257\u001b[0;31m         \u001b[0mself\u001b[0m\u001b[0;34m.\u001b[0m\u001b[0mapply_series_generator\u001b[0m\u001b[0;34m(\u001b[0m\u001b[0;34m)\u001b[0m\u001b[0;34m\u001b[0m\u001b[0;34m\u001b[0m\u001b[0m\n\u001b[0m\u001b[1;32m    258\u001b[0m \u001b[0;34m\u001b[0m\u001b[0m\n\u001b[1;32m    259\u001b[0m         \u001b[0;31m# wrap results\u001b[0m\u001b[0;34m\u001b[0m\u001b[0;34m\u001b[0m\u001b[0;34m\u001b[0m\u001b[0m\n",
      "\u001b[0;32m/anaconda3/lib/python3.7/site-packages/pandas/core/apply.py\u001b[0m in \u001b[0;36mapply_series_generator\u001b[0;34m(self)\u001b[0m\n\u001b[1;32m    284\u001b[0m             \u001b[0;32mtry\u001b[0m\u001b[0;34m:\u001b[0m\u001b[0;34m\u001b[0m\u001b[0;34m\u001b[0m\u001b[0m\n\u001b[1;32m    285\u001b[0m                 \u001b[0;32mfor\u001b[0m \u001b[0mi\u001b[0m\u001b[0;34m,\u001b[0m \u001b[0mv\u001b[0m \u001b[0;32min\u001b[0m \u001b[0menumerate\u001b[0m\u001b[0;34m(\u001b[0m\u001b[0mseries_gen\u001b[0m\u001b[0;34m)\u001b[0m\u001b[0;34m:\u001b[0m\u001b[0;34m\u001b[0m\u001b[0;34m\u001b[0m\u001b[0m\n\u001b[0;32m--> 286\u001b[0;31m                     \u001b[0mresults\u001b[0m\u001b[0;34m[\u001b[0m\u001b[0mi\u001b[0m\u001b[0;34m]\u001b[0m \u001b[0;34m=\u001b[0m \u001b[0mself\u001b[0m\u001b[0;34m.\u001b[0m\u001b[0mf\u001b[0m\u001b[0;34m(\u001b[0m\u001b[0mv\u001b[0m\u001b[0;34m)\u001b[0m\u001b[0;34m\u001b[0m\u001b[0;34m\u001b[0m\u001b[0m\n\u001b[0m\u001b[1;32m    287\u001b[0m                     \u001b[0mkeys\u001b[0m\u001b[0;34m.\u001b[0m\u001b[0mappend\u001b[0m\u001b[0;34m(\u001b[0m\u001b[0mv\u001b[0m\u001b[0;34m.\u001b[0m\u001b[0mname\u001b[0m\u001b[0;34m)\u001b[0m\u001b[0;34m\u001b[0m\u001b[0;34m\u001b[0m\u001b[0m\n\u001b[1;32m    288\u001b[0m             \u001b[0;32mexcept\u001b[0m \u001b[0mException\u001b[0m \u001b[0;32mas\u001b[0m \u001b[0me\u001b[0m\u001b[0;34m:\u001b[0m\u001b[0;34m\u001b[0m\u001b[0;34m\u001b[0m\u001b[0m\n",
      "\u001b[0;31mTypeError\u001b[0m: (\"computeNearestZip() missing 1 required positional argument: 'longitude'\", 'occurred at index latitude')"
     ]
    }
   ],
   "source": [
    "df['zip'] = df[['latitude','longitude']].apply(computeNearestZip)\n",
    "\n",
    "df['zip'] = df.apply(computeNearestZip(33.9599,-118.3962), axis=1)\n",
    "\n",
    "\n",
    "#df['a'] = df['a'].apply(lambda x: x + 1)\n",
    "#df.apply(computeNearestZip(df[\"latitude\"],df[\"longitude\"]), convert_dtype=True, args=())"
   ]
  },
  {
   "cell_type": "code",
   "execution_count": 144,
   "metadata": {},
   "outputs": [
    {
     "ename": "SyntaxError",
     "evalue": "invalid syntax (<ipython-input-144-520bc3ed5bd8>, line 1)",
     "output_type": "error",
     "traceback": [
      "\u001b[0;36m  File \u001b[0;32m\"<ipython-input-144-520bc3ed5bd8>\"\u001b[0;36m, line \u001b[0;32m1\u001b[0m\n\u001b[0;31m    df[['latitude','longitude']] = df[['latitude','longitude']].apply(lambda[['latitude','longitude']]: computeNearestZip(), convert_dtype=True, args=())\u001b[0m\n\u001b[0m                                                                            ^\u001b[0m\n\u001b[0;31mSyntaxError\u001b[0m\u001b[0;31m:\u001b[0m invalid syntax\n"
     ]
    }
   ],
   "source": [
    "df[['latitude','longitude']] = df[['latitude','longitude']].apply(lambda[['latitude','longitude']]: computeNearestZip(), convert_dtype=True, args=())\n"
   ]
  },
  {
   "cell_type": "code",
   "execution_count": null,
   "metadata": {},
   "outputs": [],
   "source": [
    "lambda x:"
   ]
  },
  {
   "cell_type": "code",
   "execution_count": null,
   "metadata": {},
   "outputs": [],
   "source": []
  },
  {
   "cell_type": "code",
   "execution_count": 225,
   "metadata": {},
   "outputs": [],
   "source": []
  },
  {
   "cell_type": "code",
   "execution_count": null,
   "metadata": {},
   "outputs": [],
   "source": [
    "https://maps.googleapis.com/maps/api/geocode/json?latlng=40.714224,-73.961452&key=YOUR_API_KEY"
   ]
  },
  {
   "cell_type": "code",
   "execution_count": null,
   "metadata": {},
   "outputs": [],
   "source": []
  },
  {
   "cell_type": "code",
   "execution_count": 60,
   "metadata": {},
   "outputs": [],
   "source": []
  },
  {
   "cell_type": "code",
   "execution_count": null,
   "metadata": {},
   "outputs": [],
   "source": []
  },
  {
   "cell_type": "code",
   "execution_count": null,
   "metadata": {},
   "outputs": [],
   "source": []
  },
  {
   "cell_type": "code",
   "execution_count": null,
   "metadata": {},
   "outputs": [],
   "source": []
  },
  {
   "cell_type": "code",
   "execution_count": null,
   "metadata": {},
   "outputs": [],
   "source": []
  },
  {
   "cell_type": "code",
   "execution_count": null,
   "metadata": {},
   "outputs": [],
   "source": []
  },
  {
   "cell_type": "code",
   "execution_count": null,
   "metadata": {},
   "outputs": [],
   "source": []
  },
  {
   "cell_type": "code",
   "execution_count": null,
   "metadata": {},
   "outputs": [],
   "source": []
  },
  {
   "cell_type": "code",
   "execution_count": null,
   "metadata": {},
   "outputs": [],
   "source": []
  },
  {
   "cell_type": "code",
   "execution_count": null,
   "metadata": {},
   "outputs": [],
   "source": []
  },
  {
   "cell_type": "code",
   "execution_count": null,
   "metadata": {},
   "outputs": [],
   "source": []
  },
  {
   "cell_type": "code",
   "execution_count": null,
   "metadata": {},
   "outputs": [],
   "source": []
  },
  {
   "cell_type": "code",
   "execution_count": null,
   "metadata": {},
   "outputs": [],
   "source": []
  },
  {
   "cell_type": "code",
   "execution_count": null,
   "metadata": {},
   "outputs": [],
   "source": []
  },
  {
   "cell_type": "code",
   "execution_count": null,
   "metadata": {},
   "outputs": [],
   "source": []
  },
  {
   "cell_type": "code",
   "execution_count": null,
   "metadata": {},
   "outputs": [],
   "source": [
    "\n",
    "\n"
   ]
  },
  {
   "cell_type": "code",
   "execution_count": null,
   "metadata": {},
   "outputs": [],
   "source": []
  },
  {
   "cell_type": "code",
   "execution_count": null,
   "metadata": {},
   "outputs": [],
   "source": []
  },
  {
   "cell_type": "code",
   "execution_count": null,
   "metadata": {},
   "outputs": [],
   "source": []
  },
  {
   "cell_type": "code",
   "execution_count": null,
   "metadata": {},
   "outputs": [],
   "source": []
  },
  {
   "cell_type": "code",
   "execution_count": null,
   "metadata": {},
   "outputs": [],
   "source": [
    "# webpage resources\n",
    "\n",
    "#https://stackoverflow.com/questions/23307301/replacing-column-values-in-a-pandas-dataframe\n",
    "#https://stackoverflow.com/questions/13682044/remove-unwanted-parts-from-strings-in-a-column\n",
    "#https://stackoverflow.com/questions/3559559/how-to-delete-a-character-from-a-string-using-python\n",
    "#https://stackoverflow.com/questions/5043815/python-parsing-columns-and-rows"
   ]
  }
 ],
 "metadata": {
  "kernelspec": {
   "display_name": "Python 3",
   "language": "python",
   "name": "python3"
  },
  "language_info": {
   "codemirror_mode": {
    "name": "ipython",
    "version": 3
   },
   "file_extension": ".py",
   "mimetype": "text/x-python",
   "name": "python",
   "nbconvert_exporter": "python",
   "pygments_lexer": "ipython3",
   "version": "3.7.3"
  }
 },
 "nbformat": 4,
 "nbformat_minor": 2
}
