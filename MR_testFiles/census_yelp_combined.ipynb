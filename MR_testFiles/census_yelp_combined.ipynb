{
 "cells": [
  {
   "cell_type": "markdown",
   "metadata": {},
   "source": [
    "## ETL PROCES REPORT\n",
    "--------------------------------------------\n",
    "### E: PULLING DATA FROM YELP'S API:\n",
    "\n",
    "* Step 1: Get an API KEY  from yelp\n",
    "* Investigate what kind of data to retrieve. In our case: General business profiles in the City of LA California\n",
    "* The API returns only 50 results max per call\n",
    "* Perform a test pull to look at the result and it's json structure to design the data frame\n",
    "\n",
    "### T: PREPROCESSING THE JSON RESPONSE FROM THE API:\n",
    "--------------------------------------------\n",
    "\n",
    "* Declare/Initialize the variables/columns that will hold the downloaded data\n",
    "* We build a dataset of 1000 resutls by making multiple calls dynamically and saving data into a dataframe on the fly\n",
    "* Data processing consisted in extracting data from the json response and formatting it to create tabular data for the df\n",
    "* The Transforming process included string manipulation regex and python scripting.\n",
    "\n",
    "### L: LOADING TO SQL AND MONGODB:\n",
    "--------------------------------------------\n",
    "* This was the most straightforward step accomplished with no issues\n",
    "* We simplify this proces by using sqlite instead of mysql or postgress\n",
    "* We also saved csv files of the data before we loaded it into the database systems.\n"
   ]
  },
  {
   "cell_type": "markdown",
   "metadata": {},
   "source": [
    "# Zip Code Data from the Census API (2017)"
   ]
  },
  {
   "cell_type": "code",
   "execution_count": 17,
   "metadata": {},
   "outputs": [],
   "source": [
    "from census import Census\n",
    "from us import states\n",
    "\n",
    "from config import census_key\n",
    "import numpy as np\n",
    "import pandas as pd\n",
    "import time\n",
    "\n",
    "import json\n"
   ]
  },
  {
   "cell_type": "code",
   "execution_count": 3,
   "metadata": {},
   "outputs": [],
   "source": [
    "c13 = Census(census_key, year=2013)"
   ]
  },
  {
   "cell_type": "code",
   "execution_count": 4,
   "metadata": {},
   "outputs": [],
   "source": [
    "c17 = Census(census_key, year=2017)"
   ]
  },
  {
   "cell_type": "code",
   "execution_count": null,
   "metadata": {},
   "outputs": [],
   "source": []
  },
  {
   "cell_type": "markdown",
   "metadata": {},
   "source": [
    "# E: extraction"
   ]
  },
  {
   "cell_type": "code",
   "execution_count": 5,
   "metadata": {},
   "outputs": [],
   "source": [
    "#data on all zip codes for 2013 and 2017 to test different results\n",
    "_13census_data = c13.acs5.get((\"B01003_001E\", \"B23025_005E\"), {\n",
    "                         'for': 'zip code tabulation area:*'})\n",
    "\n",
    "_17census_data = c17.acs5.get((\"B01003_001E\", \"B23025_005E\"), {\n",
    "                         'for': 'zip code tabulation area:*'})"
   ]
  },
  {
   "cell_type": "markdown",
   "metadata": {},
   "source": [
    "## Test Results by comparing  2 different years"
   ]
  },
  {
   "cell_type": "code",
   "execution_count": 6,
   "metadata": {},
   "outputs": [],
   "source": [
    "# Convert to DataFrame\n",
    "_13_pd = pd.DataFrame(_13census_data)\n",
    "_17_pd = pd.DataFrame(_17census_data)"
   ]
  },
  {
   "cell_type": "code",
   "execution_count": 7,
   "metadata": {},
   "outputs": [
    {
     "data": {
      "text/html": [
       "<div>\n",
       "<style scoped>\n",
       "    .dataframe tbody tr th:only-of-type {\n",
       "        vertical-align: middle;\n",
       "    }\n",
       "\n",
       "    .dataframe tbody tr th {\n",
       "        vertical-align: top;\n",
       "    }\n",
       "\n",
       "    .dataframe thead th {\n",
       "        text-align: right;\n",
       "    }\n",
       "</style>\n",
       "<table border=\"1\" class=\"dataframe\">\n",
       "  <thead>\n",
       "    <tr style=\"text-align: right;\">\n",
       "      <th></th>\n",
       "      <th>B01003_001E</th>\n",
       "      <th>B23025_005E</th>\n",
       "      <th>zip code tabulation area</th>\n",
       "    </tr>\n",
       "  </thead>\n",
       "  <tbody>\n",
       "    <tr>\n",
       "      <th>0</th>\n",
       "      <td>18450.0</td>\n",
       "      <td>1464.0</td>\n",
       "      <td>00601</td>\n",
       "    </tr>\n",
       "    <tr>\n",
       "      <th>1</th>\n",
       "      <td>41302.0</td>\n",
       "      <td>4767.0</td>\n",
       "      <td>00602</td>\n",
       "    </tr>\n",
       "    <tr>\n",
       "      <th>2</th>\n",
       "      <td>53683.0</td>\n",
       "      <td>4341.0</td>\n",
       "      <td>00603</td>\n",
       "    </tr>\n",
       "    <tr>\n",
       "      <th>3</th>\n",
       "      <td>6591.0</td>\n",
       "      <td>134.0</td>\n",
       "      <td>00606</td>\n",
       "    </tr>\n",
       "    <tr>\n",
       "      <th>4</th>\n",
       "      <td>28963.0</td>\n",
       "      <td>1134.0</td>\n",
       "      <td>00610</td>\n",
       "    </tr>\n",
       "  </tbody>\n",
       "</table>\n",
       "</div>"
      ],
      "text/plain": [
       "   B01003_001E  B23025_005E zip code tabulation area\n",
       "0      18450.0       1464.0                    00601\n",
       "1      41302.0       4767.0                    00602\n",
       "2      53683.0       4341.0                    00603\n",
       "3       6591.0        134.0                    00606\n",
       "4      28963.0       1134.0                    00610"
      ]
     },
     "execution_count": 7,
     "metadata": {},
     "output_type": "execute_result"
    }
   ],
   "source": [
    "_13_pd.head()"
   ]
  },
  {
   "cell_type": "code",
   "execution_count": 8,
   "metadata": {},
   "outputs": [
    {
     "data": {
      "text/html": [
       "<div>\n",
       "<style scoped>\n",
       "    .dataframe tbody tr th:only-of-type {\n",
       "        vertical-align: middle;\n",
       "    }\n",
       "\n",
       "    .dataframe tbody tr th {\n",
       "        vertical-align: top;\n",
       "    }\n",
       "\n",
       "    .dataframe thead th {\n",
       "        text-align: right;\n",
       "    }\n",
       "</style>\n",
       "<table border=\"1\" class=\"dataframe\">\n",
       "  <thead>\n",
       "    <tr style=\"text-align: right;\">\n",
       "      <th></th>\n",
       "      <th>B01003_001E</th>\n",
       "      <th>B23025_005E</th>\n",
       "      <th>zip code tabulation area</th>\n",
       "    </tr>\n",
       "  </thead>\n",
       "  <tbody>\n",
       "    <tr>\n",
       "      <th>0</th>\n",
       "      <td>17599.0</td>\n",
       "      <td>2454.0</td>\n",
       "      <td>00601</td>\n",
       "    </tr>\n",
       "    <tr>\n",
       "      <th>1</th>\n",
       "      <td>39209.0</td>\n",
       "      <td>2538.0</td>\n",
       "      <td>00602</td>\n",
       "    </tr>\n",
       "    <tr>\n",
       "      <th>2</th>\n",
       "      <td>50135.0</td>\n",
       "      <td>3588.0</td>\n",
       "      <td>00603</td>\n",
       "    </tr>\n",
       "    <tr>\n",
       "      <th>3</th>\n",
       "      <td>6304.0</td>\n",
       "      <td>204.0</td>\n",
       "      <td>00606</td>\n",
       "    </tr>\n",
       "    <tr>\n",
       "      <th>4</th>\n",
       "      <td>27590.0</td>\n",
       "      <td>1474.0</td>\n",
       "      <td>00610</td>\n",
       "    </tr>\n",
       "  </tbody>\n",
       "</table>\n",
       "</div>"
      ],
      "text/plain": [
       "   B01003_001E  B23025_005E zip code tabulation area\n",
       "0      17599.0       2454.0                    00601\n",
       "1      39209.0       2538.0                    00602\n",
       "2      50135.0       3588.0                    00603\n",
       "3       6304.0        204.0                    00606\n",
       "4      27590.0       1474.0                    00610"
      ]
     },
     "execution_count": 8,
     "metadata": {},
     "output_type": "execute_result"
    }
   ],
   "source": [
    "_17_pd.head()"
   ]
  },
  {
   "cell_type": "markdown",
   "metadata": {},
   "source": [
    "# T: transform"
   ]
  },
  {
   "cell_type": "code",
   "execution_count": 9,
   "metadata": {},
   "outputs": [],
   "source": [
    "# Column Reordering\n",
    "_13_pd = _13_pd.rename(columns={\"B01003_001E\": \"Population\",\n",
    "                                      \"B23025_005E\": \"Unemployment Count\",\n",
    "                                      \"zip code tabulation area\": \"Zipcode\"})\n",
    "\n",
    "# Column Reordering\n",
    "_17_pd = _17_pd.rename(columns={\"B01003_001E\": \"Population\",\n",
    "                                      \"B23025_005E\": \"Unemployment Count\",\n",
    "                                      \"zip code tabulation area\": \"Zipcode\"})"
   ]
  },
  {
   "cell_type": "code",
   "execution_count": 10,
   "metadata": {},
   "outputs": [
    {
     "data": {
      "text/html": [
       "<div>\n",
       "<style scoped>\n",
       "    .dataframe tbody tr th:only-of-type {\n",
       "        vertical-align: middle;\n",
       "    }\n",
       "\n",
       "    .dataframe tbody tr th {\n",
       "        vertical-align: top;\n",
       "    }\n",
       "\n",
       "    .dataframe thead th {\n",
       "        text-align: right;\n",
       "    }\n",
       "</style>\n",
       "<table border=\"1\" class=\"dataframe\">\n",
       "  <thead>\n",
       "    <tr style=\"text-align: right;\">\n",
       "      <th></th>\n",
       "      <th>Population</th>\n",
       "      <th>Unemployment Count</th>\n",
       "      <th>Zipcode</th>\n",
       "    </tr>\n",
       "  </thead>\n",
       "  <tbody>\n",
       "    <tr>\n",
       "      <th>0</th>\n",
       "      <td>18450.0</td>\n",
       "      <td>1464.0</td>\n",
       "      <td>00601</td>\n",
       "    </tr>\n",
       "    <tr>\n",
       "      <th>1</th>\n",
       "      <td>41302.0</td>\n",
       "      <td>4767.0</td>\n",
       "      <td>00602</td>\n",
       "    </tr>\n",
       "    <tr>\n",
       "      <th>2</th>\n",
       "      <td>53683.0</td>\n",
       "      <td>4341.0</td>\n",
       "      <td>00603</td>\n",
       "    </tr>\n",
       "    <tr>\n",
       "      <th>3</th>\n",
       "      <td>6591.0</td>\n",
       "      <td>134.0</td>\n",
       "      <td>00606</td>\n",
       "    </tr>\n",
       "    <tr>\n",
       "      <th>4</th>\n",
       "      <td>28963.0</td>\n",
       "      <td>1134.0</td>\n",
       "      <td>00610</td>\n",
       "    </tr>\n",
       "  </tbody>\n",
       "</table>\n",
       "</div>"
      ],
      "text/plain": [
       "   Population  Unemployment Count Zipcode\n",
       "0     18450.0              1464.0   00601\n",
       "1     41302.0              4767.0   00602\n",
       "2     53683.0              4341.0   00603\n",
       "3      6591.0               134.0   00606\n",
       "4     28963.0              1134.0   00610"
      ]
     },
     "execution_count": 10,
     "metadata": {},
     "output_type": "execute_result"
    }
   ],
   "source": [
    "_13_pd.head()"
   ]
  },
  {
   "cell_type": "code",
   "execution_count": 11,
   "metadata": {},
   "outputs": [
    {
     "data": {
      "text/html": [
       "<div>\n",
       "<style scoped>\n",
       "    .dataframe tbody tr th:only-of-type {\n",
       "        vertical-align: middle;\n",
       "    }\n",
       "\n",
       "    .dataframe tbody tr th {\n",
       "        vertical-align: top;\n",
       "    }\n",
       "\n",
       "    .dataframe thead th {\n",
       "        text-align: right;\n",
       "    }\n",
       "</style>\n",
       "<table border=\"1\" class=\"dataframe\">\n",
       "  <thead>\n",
       "    <tr style=\"text-align: right;\">\n",
       "      <th></th>\n",
       "      <th>Population</th>\n",
       "      <th>Unemployment Count</th>\n",
       "      <th>Zipcode</th>\n",
       "    </tr>\n",
       "  </thead>\n",
       "  <tbody>\n",
       "    <tr>\n",
       "      <th>0</th>\n",
       "      <td>17599.0</td>\n",
       "      <td>2454.0</td>\n",
       "      <td>00601</td>\n",
       "    </tr>\n",
       "    <tr>\n",
       "      <th>1</th>\n",
       "      <td>39209.0</td>\n",
       "      <td>2538.0</td>\n",
       "      <td>00602</td>\n",
       "    </tr>\n",
       "    <tr>\n",
       "      <th>2</th>\n",
       "      <td>50135.0</td>\n",
       "      <td>3588.0</td>\n",
       "      <td>00603</td>\n",
       "    </tr>\n",
       "    <tr>\n",
       "      <th>3</th>\n",
       "      <td>6304.0</td>\n",
       "      <td>204.0</td>\n",
       "      <td>00606</td>\n",
       "    </tr>\n",
       "    <tr>\n",
       "      <th>4</th>\n",
       "      <td>27590.0</td>\n",
       "      <td>1474.0</td>\n",
       "      <td>00610</td>\n",
       "    </tr>\n",
       "  </tbody>\n",
       "</table>\n",
       "</div>"
      ],
      "text/plain": [
       "   Population  Unemployment Count Zipcode\n",
       "0     17599.0              2454.0   00601\n",
       "1     39209.0              2538.0   00602\n",
       "2     50135.0              3588.0   00603\n",
       "3      6304.0               204.0   00606\n",
       "4     27590.0              1474.0   00610"
      ]
     },
     "execution_count": 11,
     "metadata": {},
     "output_type": "execute_result"
    }
   ],
   "source": [
    "_17_pd.head()"
   ]
  },
  {
   "cell_type": "code",
   "execution_count": 12,
   "metadata": {},
   "outputs": [],
   "source": [
    "# Add Employment Rate\n",
    "\n",
    "_17_pd[\"Unemployment Rate\"] = 100 * \\\n",
    "    _17_pd[\"Unemployment Count\"].astype(\n",
    "        int) / _17_pd[\"Population\"].astype(int)"
   ]
  },
  {
   "cell_type": "code",
   "execution_count": 13,
   "metadata": {},
   "outputs": [
    {
     "data": {
      "text/html": [
       "<div>\n",
       "<style scoped>\n",
       "    .dataframe tbody tr th:only-of-type {\n",
       "        vertical-align: middle;\n",
       "    }\n",
       "\n",
       "    .dataframe tbody tr th {\n",
       "        vertical-align: top;\n",
       "    }\n",
       "\n",
       "    .dataframe thead th {\n",
       "        text-align: right;\n",
       "    }\n",
       "</style>\n",
       "<table border=\"1\" class=\"dataframe\">\n",
       "  <thead>\n",
       "    <tr style=\"text-align: right;\">\n",
       "      <th></th>\n",
       "      <th>Population</th>\n",
       "      <th>Unemployment Count</th>\n",
       "      <th>Zipcode</th>\n",
       "      <th>Unemployment Rate</th>\n",
       "    </tr>\n",
       "  </thead>\n",
       "  <tbody>\n",
       "    <tr>\n",
       "      <th>0</th>\n",
       "      <td>17599.0</td>\n",
       "      <td>2454.0</td>\n",
       "      <td>00601</td>\n",
       "      <td>13.943974</td>\n",
       "    </tr>\n",
       "    <tr>\n",
       "      <th>1</th>\n",
       "      <td>39209.0</td>\n",
       "      <td>2538.0</td>\n",
       "      <td>00602</td>\n",
       "      <td>6.473004</td>\n",
       "    </tr>\n",
       "    <tr>\n",
       "      <th>2</th>\n",
       "      <td>50135.0</td>\n",
       "      <td>3588.0</td>\n",
       "      <td>00603</td>\n",
       "      <td>7.156677</td>\n",
       "    </tr>\n",
       "    <tr>\n",
       "      <th>3</th>\n",
       "      <td>6304.0</td>\n",
       "      <td>204.0</td>\n",
       "      <td>00606</td>\n",
       "      <td>3.236041</td>\n",
       "    </tr>\n",
       "    <tr>\n",
       "      <th>4</th>\n",
       "      <td>27590.0</td>\n",
       "      <td>1474.0</td>\n",
       "      <td>00610</td>\n",
       "      <td>5.342515</td>\n",
       "    </tr>\n",
       "  </tbody>\n",
       "</table>\n",
       "</div>"
      ],
      "text/plain": [
       "   Population  Unemployment Count Zipcode  Unemployment Rate\n",
       "0     17599.0              2454.0   00601          13.943974\n",
       "1     39209.0              2538.0   00602           6.473004\n",
       "2     50135.0              3588.0   00603           7.156677\n",
       "3      6304.0               204.0   00606           3.236041\n",
       "4     27590.0              1474.0   00610           5.342515"
      ]
     },
     "execution_count": 13,
     "metadata": {},
     "output_type": "execute_result"
    }
   ],
   "source": [
    "_17_pd.head()"
   ]
  },
  {
   "cell_type": "code",
   "execution_count": 14,
   "metadata": {},
   "outputs": [],
   "source": [
    "_17_pd = _17_pd[[\"Zipcode\", \"Population\",\"Unemployment Count\", \"Unemployment Rate\"]]"
   ]
  },
  {
   "cell_type": "code",
   "execution_count": 15,
   "metadata": {},
   "outputs": [
    {
     "data": {
      "text/html": [
       "<div>\n",
       "<style scoped>\n",
       "    .dataframe tbody tr th:only-of-type {\n",
       "        vertical-align: middle;\n",
       "    }\n",
       "\n",
       "    .dataframe tbody tr th {\n",
       "        vertical-align: top;\n",
       "    }\n",
       "\n",
       "    .dataframe thead th {\n",
       "        text-align: right;\n",
       "    }\n",
       "</style>\n",
       "<table border=\"1\" class=\"dataframe\">\n",
       "  <thead>\n",
       "    <tr style=\"text-align: right;\">\n",
       "      <th></th>\n",
       "      <th>Zipcode</th>\n",
       "      <th>Population</th>\n",
       "      <th>Unemployment Count</th>\n",
       "      <th>Unemployment Rate</th>\n",
       "    </tr>\n",
       "  </thead>\n",
       "  <tbody>\n",
       "    <tr>\n",
       "      <th>0</th>\n",
       "      <td>00601</td>\n",
       "      <td>17599.0</td>\n",
       "      <td>2454.0</td>\n",
       "      <td>13.943974</td>\n",
       "    </tr>\n",
       "    <tr>\n",
       "      <th>1</th>\n",
       "      <td>00602</td>\n",
       "      <td>39209.0</td>\n",
       "      <td>2538.0</td>\n",
       "      <td>6.473004</td>\n",
       "    </tr>\n",
       "    <tr>\n",
       "      <th>2</th>\n",
       "      <td>00603</td>\n",
       "      <td>50135.0</td>\n",
       "      <td>3588.0</td>\n",
       "      <td>7.156677</td>\n",
       "    </tr>\n",
       "    <tr>\n",
       "      <th>3</th>\n",
       "      <td>00606</td>\n",
       "      <td>6304.0</td>\n",
       "      <td>204.0</td>\n",
       "      <td>3.236041</td>\n",
       "    </tr>\n",
       "    <tr>\n",
       "      <th>4</th>\n",
       "      <td>00610</td>\n",
       "      <td>27590.0</td>\n",
       "      <td>1474.0</td>\n",
       "      <td>5.342515</td>\n",
       "    </tr>\n",
       "  </tbody>\n",
       "</table>\n",
       "</div>"
      ],
      "text/plain": [
       "  Zipcode  Population  Unemployment Count  Unemployment Rate\n",
       "0   00601     17599.0              2454.0          13.943974\n",
       "1   00602     39209.0              2538.0           6.473004\n",
       "2   00603     50135.0              3588.0           7.156677\n",
       "3   00606      6304.0               204.0           3.236041\n",
       "4   00610     27590.0              1474.0           5.342515"
      ]
     },
     "execution_count": 15,
     "metadata": {},
     "output_type": "execute_result"
    }
   ],
   "source": [
    "_17_pd.head()"
   ]
  },
  {
   "cell_type": "code",
   "execution_count": 16,
   "metadata": {},
   "outputs": [
    {
     "name": "stdout",
     "output_type": "stream",
     "text": [
      "2013 rows:  33120\n",
      "2017 rows:  33120\n",
      "\n"
     ]
    },
    {
     "data": {
      "text/html": [
       "<div>\n",
       "<style scoped>\n",
       "    .dataframe tbody tr th:only-of-type {\n",
       "        vertical-align: middle;\n",
       "    }\n",
       "\n",
       "    .dataframe tbody tr th {\n",
       "        vertical-align: top;\n",
       "    }\n",
       "\n",
       "    .dataframe thead th {\n",
       "        text-align: right;\n",
       "    }\n",
       "</style>\n",
       "<table border=\"1\" class=\"dataframe\">\n",
       "  <thead>\n",
       "    <tr style=\"text-align: right;\">\n",
       "      <th></th>\n",
       "      <th>Zipcode</th>\n",
       "      <th>Population</th>\n",
       "      <th>Unemployment Count</th>\n",
       "      <th>Unemployment Rate</th>\n",
       "    </tr>\n",
       "  </thead>\n",
       "  <tbody>\n",
       "    <tr>\n",
       "      <th>0</th>\n",
       "      <td>00601</td>\n",
       "      <td>17599.0</td>\n",
       "      <td>2454.0</td>\n",
       "      <td>13.943974</td>\n",
       "    </tr>\n",
       "    <tr>\n",
       "      <th>1</th>\n",
       "      <td>00602</td>\n",
       "      <td>39209.0</td>\n",
       "      <td>2538.0</td>\n",
       "      <td>6.473004</td>\n",
       "    </tr>\n",
       "    <tr>\n",
       "      <th>2</th>\n",
       "      <td>00603</td>\n",
       "      <td>50135.0</td>\n",
       "      <td>3588.0</td>\n",
       "      <td>7.156677</td>\n",
       "    </tr>\n",
       "    <tr>\n",
       "      <th>3</th>\n",
       "      <td>00606</td>\n",
       "      <td>6304.0</td>\n",
       "      <td>204.0</td>\n",
       "      <td>3.236041</td>\n",
       "    </tr>\n",
       "    <tr>\n",
       "      <th>4</th>\n",
       "      <td>00610</td>\n",
       "      <td>27590.0</td>\n",
       "      <td>1474.0</td>\n",
       "      <td>5.342515</td>\n",
       "    </tr>\n",
       "  </tbody>\n",
       "</table>\n",
       "</div>"
      ],
      "text/plain": [
       "  Zipcode  Population  Unemployment Count  Unemployment Rate\n",
       "0   00601     17599.0              2454.0          13.943974\n",
       "1   00602     39209.0              2538.0           6.473004\n",
       "2   00603     50135.0              3588.0           7.156677\n",
       "3   00606      6304.0               204.0           3.236041\n",
       "4   00610     27590.0              1474.0           5.342515"
      ]
     },
     "execution_count": 16,
     "metadata": {},
     "output_type": "execute_result"
    }
   ],
   "source": [
    "print('2013 rows: ',len(_13_pd))\n",
    "print('2017 rows: ', len(_17_pd))\n",
    "print()\n",
    "_17_pd.head()"
   ]
  },
  {
   "cell_type": "markdown",
   "metadata": {},
   "source": [
    "# L:  load\n",
    "-----------------------------------------------\n",
    "* Save df to csv format"
   ]
  },
  {
   "cell_type": "code",
   "execution_count": 18,
   "metadata": {},
   "outputs": [],
   "source": [
    "_17_pd.to_csv(\"Resources/censusZips2017.csv\", index=False)\n"
   ]
  },
  {
   "cell_type": "markdown",
   "metadata": {},
   "source": [
    "* load dataframe into mongo"
   ]
  },
  {
   "cell_type": "code",
   "execution_count": 22,
   "metadata": {},
   "outputs": [],
   "source": [
    "import pymongo"
   ]
  },
  {
   "cell_type": "code",
   "execution_count": 52,
   "metadata": {},
   "outputs": [],
   "source": [
    "# Setup connection to mongodb\n",
    "conn = \"mongodb://localhost:27017\"\n",
    "client = pymongo.MongoClient(conn)"
   ]
  },
  {
   "cell_type": "code",
   "execution_count": 23,
   "metadata": {},
   "outputs": [],
   "source": [
    "# Select database and collection to use(Census)\n",
    "db = client.us_census_zips\n",
    "collection = db.zips_2017"
   ]
  },
  {
   "cell_type": "markdown",
   "metadata": {},
   "source": [
    "### Yelp Data: Convert  dataframe to dictionary format for mongodb L oading"
   ]
  },
  {
   "cell_type": "code",
   "execution_count": null,
   "metadata": {},
   "outputs": [],
   "source": [
    "# Yelp collection\n",
    "collection2 = db.yelp_biz_profiles"
   ]
  },
  {
   "cell_type": "code",
   "execution_count": 55,
   "metadata": {},
   "outputs": [],
   "source": [
    "yelpDict = yelp_data.to_dict(orient='records')"
   ]
  },
  {
   "cell_type": "code",
   "execution_count": 58,
   "metadata": {},
   "outputs": [
    {
     "data": {
      "text/plain": [
       "<pymongo.results.InsertManyResult at 0x119d89408>"
      ]
     },
     "execution_count": 58,
     "metadata": {},
     "output_type": "execute_result"
    }
   ],
   "source": [
    "collection2.insert_many(yelpDict)"
   ]
  },
  {
   "cell_type": "markdown",
   "metadata": {},
   "source": [
    "* Test query database"
   ]
  },
  {
   "cell_type": "code",
   "execution_count": 59,
   "metadata": {},
   "outputs": [],
   "source": [
    "results2 = collection2.find()"
   ]
  },
  {
   "cell_type": "code",
   "execution_count": 60,
   "metadata": {},
   "outputs": [
    {
     "data": {
      "text/plain": [
       "<pymongo.cursor.Cursor at 0x119f8d1d0>"
      ]
     },
     "execution_count": 60,
     "metadata": {},
     "output_type": "execute_result"
    }
   ],
   "source": [
    "results2"
   ]
  },
  {
   "cell_type": "code",
   "execution_count": 61,
   "metadata": {},
   "outputs": [
    {
     "name": "stdout",
     "output_type": "stream",
     "text": [
      "\n",
      "{'_id': ObjectId('5ce04c56be1a7737c64894ab'), 'id': 'TkFEKhsCixPWlShULKvMdQ', 'alias': 'bottega-louie-los-angeles', 'name': 'Bottega Louie', 'categories': 'Italian, Bakeries, Breakfast & Brunch', 'review_count': '16243', 'rating': '4.0', 'lat': '34.0469300995766', 'long': '-118.256601457672', 'address': '700 S Grand Ave Los Angeles, CA 90017', 'city': 'Los Angeles', 'Zipcode': '90017', 'country': 'US', 'state': 'CA', 'phone': '+12138021470'}\n",
      "\n",
      "{'_id': ObjectId('5ce04c56be1a7737c64894ac'), 'id': '7O1ORGY36A-2aIENyaJWPg', 'alias': 'howlin-rays-los-angeles-3', 'name': \"Howlin' Ray's\", 'categories': 'Southern, Chicken Shop, American (Traditional)', 'review_count': '5037', 'rating': '4.5', 'lat': '34.0614861063899', 'long': '-118.239554800093', 'address': '727 N Broadway Ste 128 Los Angeles, CA 90012', 'city': 'Los Angeles', 'Zipcode': '90012', 'country': 'US', 'state': 'CA', 'phone': '+12139358399'}\n"
     ]
    }
   ],
   "source": [
    "for result in results2[0:2]:\n",
    "    print()\n",
    "    print(result)\n"
   ]
  },
  {
   "cell_type": "code",
   "execution_count": null,
   "metadata": {},
   "outputs": [],
   "source": []
  },
  {
   "cell_type": "markdown",
   "metadata": {},
   "source": [
    "### Census Data: Convert  dataframe to dictionary format for mongodb L oading"
   ]
  },
  {
   "cell_type": "code",
   "execution_count": 24,
   "metadata": {},
   "outputs": [],
   "source": [
    "dictData = _17_pd.to_dict(orient='records')"
   ]
  },
  {
   "cell_type": "code",
   "execution_count": 25,
   "metadata": {},
   "outputs": [
    {
     "data": {
      "text/plain": [
       "<pymongo.results.InsertManyResult at 0x11a472ec8>"
      ]
     },
     "execution_count": 25,
     "metadata": {},
     "output_type": "execute_result"
    }
   ],
   "source": [
    "collection.insert_many(dictData)"
   ]
  },
  {
   "cell_type": "markdown",
   "metadata": {},
   "source": [
    "* Test query database"
   ]
  },
  {
   "cell_type": "code",
   "execution_count": 26,
   "metadata": {},
   "outputs": [],
   "source": [
    "results = collection.find()"
   ]
  },
  {
   "cell_type": "code",
   "execution_count": 27,
   "metadata": {},
   "outputs": [
    {
     "data": {
      "text/plain": [
       "pymongo.cursor.Cursor"
      ]
     },
     "execution_count": 27,
     "metadata": {},
     "output_type": "execute_result"
    }
   ],
   "source": [
    "type(results)"
   ]
  },
  {
   "cell_type": "code",
   "execution_count": 28,
   "metadata": {},
   "outputs": [
    {
     "name": "stdout",
     "output_type": "stream",
     "text": [
      "\n",
      "{'_id': ObjectId('5ce007c6be1a7737c648134a'), 'Zipcode': '00601', 'Population': 17599.0, 'Unemployment Count': 2454.0, 'Unemployment Rate': 13.9439740894369}\n",
      "\n",
      "{'_id': ObjectId('5ce007c6be1a7737c648134b'), 'Zipcode': '00602', 'Population': 39209.0, 'Unemployment Count': 2538.0, 'Unemployment Rate': 6.473003647121835}\n"
     ]
    }
   ],
   "source": [
    "for result in results[0:2]:\n",
    "    print()\n",
    "    print(result)\n"
   ]
  },
  {
   "cell_type": "markdown",
   "metadata": {},
   "source": [
    "* First document in the collection"
   ]
  },
  {
   "cell_type": "code",
   "execution_count": 29,
   "metadata": {},
   "outputs": [
    {
     "data": {
      "text/plain": [
       "{'_id': ObjectId('5ce007c6be1a7737c648134a'),\n",
       " 'Zipcode': '00601',\n",
       " 'Population': 17599.0,\n",
       " 'Unemployment Count': 2454.0,\n",
       " 'Unemployment Rate': 13.9439740894369}"
      ]
     },
     "execution_count": 29,
     "metadata": {},
     "output_type": "execute_result"
    }
   ],
   "source": [
    "collection.find()[0]"
   ]
  },
  {
   "cell_type": "markdown",
   "metadata": {},
   "source": [
    "### Example Using  SQL database from  Dataframe: 1 table"
   ]
  },
  {
   "cell_type": "code",
   "execution_count": 30,
   "metadata": {},
   "outputs": [],
   "source": [
    "from sqlalchemy import create_engine"
   ]
  },
  {
   "cell_type": "code",
   "execution_count": 31,
   "metadata": {},
   "outputs": [],
   "source": [
    "database_path = \"Resources/us_census.sqlite\""
   ]
  },
  {
   "cell_type": "code",
   "execution_count": 32,
   "metadata": {},
   "outputs": [],
   "source": [
    "engine = create_engine(f\"sqlite:///{database_path}\")"
   ]
  },
  {
   "cell_type": "code",
   "execution_count": 33,
   "metadata": {},
   "outputs": [
    {
     "data": {
      "text/plain": [
       "[]"
      ]
     },
     "execution_count": 33,
     "metadata": {},
     "output_type": "execute_result"
    }
   ],
   "source": [
    "engine.table_names()"
   ]
  },
  {
   "cell_type": "code",
   "execution_count": 34,
   "metadata": {},
   "outputs": [],
   "source": [
    "_17_pd.to_sql(name='us_census_zips', con=engine, if_exists='append', index=False)"
   ]
  },
  {
   "cell_type": "code",
   "execution_count": 35,
   "metadata": {},
   "outputs": [
    {
     "data": {
      "text/plain": [
       "['us_census_zips']"
      ]
     },
     "execution_count": 35,
     "metadata": {},
     "output_type": "execute_result"
    }
   ],
   "source": [
    "engine.table_names()"
   ]
  },
  {
   "cell_type": "code",
   "execution_count": null,
   "metadata": {},
   "outputs": [],
   "source": []
  },
  {
   "cell_type": "markdown",
   "metadata": {},
   "source": [
    "### Test Query the biz_profile table"
   ]
  },
  {
   "cell_type": "code",
   "execution_count": 37,
   "metadata": {},
   "outputs": [
    {
     "data": {
      "text/html": [
       "<div>\n",
       "<style scoped>\n",
       "    .dataframe tbody tr th:only-of-type {\n",
       "        vertical-align: middle;\n",
       "    }\n",
       "\n",
       "    .dataframe tbody tr th {\n",
       "        vertical-align: top;\n",
       "    }\n",
       "\n",
       "    .dataframe thead th {\n",
       "        text-align: right;\n",
       "    }\n",
       "</style>\n",
       "<table border=\"1\" class=\"dataframe\">\n",
       "  <thead>\n",
       "    <tr style=\"text-align: right;\">\n",
       "      <th></th>\n",
       "      <th>Zipcode</th>\n",
       "      <th>Population</th>\n",
       "      <th>Unemployment Count</th>\n",
       "      <th>Unemployment Rate</th>\n",
       "    </tr>\n",
       "  </thead>\n",
       "  <tbody>\n",
       "    <tr>\n",
       "      <th>0</th>\n",
       "      <td>00601</td>\n",
       "      <td>17599.0</td>\n",
       "      <td>2454.0</td>\n",
       "      <td>13.943974</td>\n",
       "    </tr>\n",
       "    <tr>\n",
       "      <th>1</th>\n",
       "      <td>00602</td>\n",
       "      <td>39209.0</td>\n",
       "      <td>2538.0</td>\n",
       "      <td>6.473004</td>\n",
       "    </tr>\n",
       "    <tr>\n",
       "      <th>2</th>\n",
       "      <td>00603</td>\n",
       "      <td>50135.0</td>\n",
       "      <td>3588.0</td>\n",
       "      <td>7.156677</td>\n",
       "    </tr>\n",
       "    <tr>\n",
       "      <th>3</th>\n",
       "      <td>00606</td>\n",
       "      <td>6304.0</td>\n",
       "      <td>204.0</td>\n",
       "      <td>3.236041</td>\n",
       "    </tr>\n",
       "    <tr>\n",
       "      <th>4</th>\n",
       "      <td>00610</td>\n",
       "      <td>27590.0</td>\n",
       "      <td>1474.0</td>\n",
       "      <td>5.342515</td>\n",
       "    </tr>\n",
       "  </tbody>\n",
       "</table>\n",
       "</div>"
      ],
      "text/plain": [
       "  Zipcode  Population  Unemployment Count  Unemployment Rate\n",
       "0   00601     17599.0              2454.0          13.943974\n",
       "1   00602     39209.0              2538.0           6.473004\n",
       "2   00603     50135.0              3588.0           7.156677\n",
       "3   00606      6304.0               204.0           3.236041\n",
       "4   00610     27590.0              1474.0           5.342515"
      ]
     },
     "execution_count": 37,
     "metadata": {},
     "output_type": "execute_result"
    }
   ],
   "source": [
    "pd.read_sql_query('select * from us_census_zips', con=engine).head()"
   ]
  },
  {
   "cell_type": "code",
   "execution_count": null,
   "metadata": {},
   "outputs": [],
   "source": []
  },
  {
   "cell_type": "markdown",
   "metadata": {},
   "source": [
    "## Combine Yelp and Census Data"
   ]
  },
  {
   "cell_type": "code",
   "execution_count": 41,
   "metadata": {},
   "outputs": [],
   "source": [
    "yelp_data = pd.read_csv(\n",
    "    \"Resources/la_yelp_1000.csv\", dtype=\"object\", encoding=\"utf-8\")"
   ]
  },
  {
   "cell_type": "code",
   "execution_count": null,
   "metadata": {},
   "outputs": [],
   "source": []
  },
  {
   "cell_type": "code",
   "execution_count": 42,
   "metadata": {},
   "outputs": [
    {
     "data": {
      "text/html": [
       "<div>\n",
       "<style scoped>\n",
       "    .dataframe tbody tr th:only-of-type {\n",
       "        vertical-align: middle;\n",
       "    }\n",
       "\n",
       "    .dataframe tbody tr th {\n",
       "        vertical-align: top;\n",
       "    }\n",
       "\n",
       "    .dataframe thead th {\n",
       "        text-align: right;\n",
       "    }\n",
       "</style>\n",
       "<table border=\"1\" class=\"dataframe\">\n",
       "  <thead>\n",
       "    <tr style=\"text-align: right;\">\n",
       "      <th></th>\n",
       "      <th>id</th>\n",
       "      <th>alias</th>\n",
       "      <th>name</th>\n",
       "      <th>categories</th>\n",
       "      <th>review_count</th>\n",
       "      <th>rating</th>\n",
       "      <th>lat</th>\n",
       "      <th>long</th>\n",
       "      <th>address</th>\n",
       "      <th>city</th>\n",
       "      <th>zip_code</th>\n",
       "      <th>country</th>\n",
       "      <th>state</th>\n",
       "      <th>phone</th>\n",
       "    </tr>\n",
       "  </thead>\n",
       "  <tbody>\n",
       "    <tr>\n",
       "      <th>0</th>\n",
       "      <td>TkFEKhsCixPWlShULKvMdQ</td>\n",
       "      <td>bottega-louie-los-angeles</td>\n",
       "      <td>Bottega Louie</td>\n",
       "      <td>Italian, Bakeries, Breakfast &amp; Brunch</td>\n",
       "      <td>16243</td>\n",
       "      <td>4.0</td>\n",
       "      <td>34.0469300995766</td>\n",
       "      <td>-118.256601457672</td>\n",
       "      <td>700 S Grand Ave Los Angeles, CA 90017</td>\n",
       "      <td>Los Angeles</td>\n",
       "      <td>90017</td>\n",
       "      <td>US</td>\n",
       "      <td>CA</td>\n",
       "      <td>+12138021470</td>\n",
       "    </tr>\n",
       "    <tr>\n",
       "      <th>1</th>\n",
       "      <td>7O1ORGY36A-2aIENyaJWPg</td>\n",
       "      <td>howlin-rays-los-angeles-3</td>\n",
       "      <td>Howlin' Ray's</td>\n",
       "      <td>Southern, Chicken Shop, American (Traditional)</td>\n",
       "      <td>5037</td>\n",
       "      <td>4.5</td>\n",
       "      <td>34.0614861063899</td>\n",
       "      <td>-118.239554800093</td>\n",
       "      <td>727 N Broadway Ste 128 Los Angeles, CA 90012</td>\n",
       "      <td>Los Angeles</td>\n",
       "      <td>90012</td>\n",
       "      <td>US</td>\n",
       "      <td>CA</td>\n",
       "      <td>+12139358399</td>\n",
       "    </tr>\n",
       "    <tr>\n",
       "      <th>2</th>\n",
       "      <td>KQBGm5G8IDkE8LeNY45mbA</td>\n",
       "      <td>wurstküche-los-angeles-2</td>\n",
       "      <td>Wurstküche</td>\n",
       "      <td>Hot Dogs, German, Gastropubs</td>\n",
       "      <td>8058</td>\n",
       "      <td>4.0</td>\n",
       "      <td>34.0456047058105</td>\n",
       "      <td>-118.236061096191</td>\n",
       "      <td>800 E 3rd St Los Angeles, CA 90013</td>\n",
       "      <td>Los Angeles</td>\n",
       "      <td>90013</td>\n",
       "      <td>US</td>\n",
       "      <td>CA</td>\n",
       "      <td>+12136874444</td>\n",
       "    </tr>\n",
       "    <tr>\n",
       "      <th>3</th>\n",
       "      <td>iSZpZgVnASwEmlq0DORY2A</td>\n",
       "      <td>daikokuya-little-tokyo-los-angeles</td>\n",
       "      <td>Daikokuya Little Tokyo</td>\n",
       "      <td>Ramen, Noodles</td>\n",
       "      <td>8122</td>\n",
       "      <td>4.0</td>\n",
       "      <td>34.05008090944</td>\n",
       "      <td>-118.2401804513</td>\n",
       "      <td>327 E 1st St Los Angeles, CA 90012</td>\n",
       "      <td>Los Angeles</td>\n",
       "      <td>90012</td>\n",
       "      <td>US</td>\n",
       "      <td>CA</td>\n",
       "      <td>+12136261680</td>\n",
       "    </tr>\n",
       "    <tr>\n",
       "      <th>4</th>\n",
       "      <td>DJek3FUewBzMc0gS-Gms9w</td>\n",
       "      <td>the-morrison-los-angeles</td>\n",
       "      <td>The Morrison</td>\n",
       "      <td>Gastropubs, Burgers, Bars</td>\n",
       "      <td>4072</td>\n",
       "      <td>4.5</td>\n",
       "      <td>34.12384</td>\n",
       "      <td>-118.26868</td>\n",
       "      <td>3179 Los Feliz Blvd Los Angeles, CA 90039</td>\n",
       "      <td>Los Angeles</td>\n",
       "      <td>90039</td>\n",
       "      <td>US</td>\n",
       "      <td>CA</td>\n",
       "      <td>+13236671839</td>\n",
       "    </tr>\n",
       "  </tbody>\n",
       "</table>\n",
       "</div>"
      ],
      "text/plain": [
       "                       id                               alias  \\\n",
       "0  TkFEKhsCixPWlShULKvMdQ           bottega-louie-los-angeles   \n",
       "1  7O1ORGY36A-2aIENyaJWPg           howlin-rays-los-angeles-3   \n",
       "2  KQBGm5G8IDkE8LeNY45mbA            wurstküche-los-angeles-2   \n",
       "3  iSZpZgVnASwEmlq0DORY2A  daikokuya-little-tokyo-los-angeles   \n",
       "4  DJek3FUewBzMc0gS-Gms9w            the-morrison-los-angeles   \n",
       "\n",
       "                     name                                      categories  \\\n",
       "0           Bottega Louie           Italian, Bakeries, Breakfast & Brunch   \n",
       "1           Howlin' Ray's  Southern, Chicken Shop, American (Traditional)   \n",
       "2              Wurstküche                    Hot Dogs, German, Gastropubs   \n",
       "3  Daikokuya Little Tokyo                                  Ramen, Noodles   \n",
       "4            The Morrison                       Gastropubs, Burgers, Bars   \n",
       "\n",
       "  review_count rating               lat               long  \\\n",
       "0        16243    4.0  34.0469300995766  -118.256601457672   \n",
       "1         5037    4.5  34.0614861063899  -118.239554800093   \n",
       "2         8058    4.0  34.0456047058105  -118.236061096191   \n",
       "3         8122    4.0    34.05008090944    -118.2401804513   \n",
       "4         4072    4.5          34.12384         -118.26868   \n",
       "\n",
       "                                        address         city zip_code country  \\\n",
       "0         700 S Grand Ave Los Angeles, CA 90017  Los Angeles    90017      US   \n",
       "1  727 N Broadway Ste 128 Los Angeles, CA 90012  Los Angeles    90012      US   \n",
       "2            800 E 3rd St Los Angeles, CA 90013  Los Angeles    90013      US   \n",
       "3            327 E 1st St Los Angeles, CA 90012  Los Angeles    90012      US   \n",
       "4     3179 Los Feliz Blvd Los Angeles, CA 90039  Los Angeles    90039      US   \n",
       "\n",
       "  state         phone  \n",
       "0    CA  +12138021470  \n",
       "1    CA  +12139358399  \n",
       "2    CA  +12136874444  \n",
       "3    CA  +12136261680  \n",
       "4    CA  +13236671839  "
      ]
     },
     "execution_count": 42,
     "metadata": {},
     "output_type": "execute_result"
    }
   ],
   "source": [
    "yelp_data.head()"
   ]
  },
  {
   "cell_type": "code",
   "execution_count": 46,
   "metadata": {},
   "outputs": [],
   "source": [
    "yelp_data.rename(columns={\"zip_code\": \"Zipcode\"}, inplace=True)"
   ]
  },
  {
   "cell_type": "code",
   "execution_count": 47,
   "metadata": {},
   "outputs": [
    {
     "data": {
      "text/html": [
       "<div>\n",
       "<style scoped>\n",
       "    .dataframe tbody tr th:only-of-type {\n",
       "        vertical-align: middle;\n",
       "    }\n",
       "\n",
       "    .dataframe tbody tr th {\n",
       "        vertical-align: top;\n",
       "    }\n",
       "\n",
       "    .dataframe thead th {\n",
       "        text-align: right;\n",
       "    }\n",
       "</style>\n",
       "<table border=\"1\" class=\"dataframe\">\n",
       "  <thead>\n",
       "    <tr style=\"text-align: right;\">\n",
       "      <th></th>\n",
       "      <th>id</th>\n",
       "      <th>alias</th>\n",
       "      <th>name</th>\n",
       "      <th>categories</th>\n",
       "      <th>review_count</th>\n",
       "      <th>rating</th>\n",
       "      <th>lat</th>\n",
       "      <th>long</th>\n",
       "      <th>address</th>\n",
       "      <th>city</th>\n",
       "      <th>Zipcode</th>\n",
       "      <th>country</th>\n",
       "      <th>state</th>\n",
       "      <th>phone</th>\n",
       "    </tr>\n",
       "  </thead>\n",
       "  <tbody>\n",
       "    <tr>\n",
       "      <th>0</th>\n",
       "      <td>TkFEKhsCixPWlShULKvMdQ</td>\n",
       "      <td>bottega-louie-los-angeles</td>\n",
       "      <td>Bottega Louie</td>\n",
       "      <td>Italian, Bakeries, Breakfast &amp; Brunch</td>\n",
       "      <td>16243</td>\n",
       "      <td>4.0</td>\n",
       "      <td>34.0469300995766</td>\n",
       "      <td>-118.256601457672</td>\n",
       "      <td>700 S Grand Ave Los Angeles, CA 90017</td>\n",
       "      <td>Los Angeles</td>\n",
       "      <td>90017</td>\n",
       "      <td>US</td>\n",
       "      <td>CA</td>\n",
       "      <td>+12138021470</td>\n",
       "    </tr>\n",
       "    <tr>\n",
       "      <th>1</th>\n",
       "      <td>7O1ORGY36A-2aIENyaJWPg</td>\n",
       "      <td>howlin-rays-los-angeles-3</td>\n",
       "      <td>Howlin' Ray's</td>\n",
       "      <td>Southern, Chicken Shop, American (Traditional)</td>\n",
       "      <td>5037</td>\n",
       "      <td>4.5</td>\n",
       "      <td>34.0614861063899</td>\n",
       "      <td>-118.239554800093</td>\n",
       "      <td>727 N Broadway Ste 128 Los Angeles, CA 90012</td>\n",
       "      <td>Los Angeles</td>\n",
       "      <td>90012</td>\n",
       "      <td>US</td>\n",
       "      <td>CA</td>\n",
       "      <td>+12139358399</td>\n",
       "    </tr>\n",
       "    <tr>\n",
       "      <th>2</th>\n",
       "      <td>KQBGm5G8IDkE8LeNY45mbA</td>\n",
       "      <td>wurstküche-los-angeles-2</td>\n",
       "      <td>Wurstküche</td>\n",
       "      <td>Hot Dogs, German, Gastropubs</td>\n",
       "      <td>8058</td>\n",
       "      <td>4.0</td>\n",
       "      <td>34.0456047058105</td>\n",
       "      <td>-118.236061096191</td>\n",
       "      <td>800 E 3rd St Los Angeles, CA 90013</td>\n",
       "      <td>Los Angeles</td>\n",
       "      <td>90013</td>\n",
       "      <td>US</td>\n",
       "      <td>CA</td>\n",
       "      <td>+12136874444</td>\n",
       "    </tr>\n",
       "    <tr>\n",
       "      <th>3</th>\n",
       "      <td>iSZpZgVnASwEmlq0DORY2A</td>\n",
       "      <td>daikokuya-little-tokyo-los-angeles</td>\n",
       "      <td>Daikokuya Little Tokyo</td>\n",
       "      <td>Ramen, Noodles</td>\n",
       "      <td>8122</td>\n",
       "      <td>4.0</td>\n",
       "      <td>34.05008090944</td>\n",
       "      <td>-118.2401804513</td>\n",
       "      <td>327 E 1st St Los Angeles, CA 90012</td>\n",
       "      <td>Los Angeles</td>\n",
       "      <td>90012</td>\n",
       "      <td>US</td>\n",
       "      <td>CA</td>\n",
       "      <td>+12136261680</td>\n",
       "    </tr>\n",
       "    <tr>\n",
       "      <th>4</th>\n",
       "      <td>DJek3FUewBzMc0gS-Gms9w</td>\n",
       "      <td>the-morrison-los-angeles</td>\n",
       "      <td>The Morrison</td>\n",
       "      <td>Gastropubs, Burgers, Bars</td>\n",
       "      <td>4072</td>\n",
       "      <td>4.5</td>\n",
       "      <td>34.12384</td>\n",
       "      <td>-118.26868</td>\n",
       "      <td>3179 Los Feliz Blvd Los Angeles, CA 90039</td>\n",
       "      <td>Los Angeles</td>\n",
       "      <td>90039</td>\n",
       "      <td>US</td>\n",
       "      <td>CA</td>\n",
       "      <td>+13236671839</td>\n",
       "    </tr>\n",
       "  </tbody>\n",
       "</table>\n",
       "</div>"
      ],
      "text/plain": [
       "                       id                               alias  \\\n",
       "0  TkFEKhsCixPWlShULKvMdQ           bottega-louie-los-angeles   \n",
       "1  7O1ORGY36A-2aIENyaJWPg           howlin-rays-los-angeles-3   \n",
       "2  KQBGm5G8IDkE8LeNY45mbA            wurstküche-los-angeles-2   \n",
       "3  iSZpZgVnASwEmlq0DORY2A  daikokuya-little-tokyo-los-angeles   \n",
       "4  DJek3FUewBzMc0gS-Gms9w            the-morrison-los-angeles   \n",
       "\n",
       "                     name                                      categories  \\\n",
       "0           Bottega Louie           Italian, Bakeries, Breakfast & Brunch   \n",
       "1           Howlin' Ray's  Southern, Chicken Shop, American (Traditional)   \n",
       "2              Wurstküche                    Hot Dogs, German, Gastropubs   \n",
       "3  Daikokuya Little Tokyo                                  Ramen, Noodles   \n",
       "4            The Morrison                       Gastropubs, Burgers, Bars   \n",
       "\n",
       "  review_count rating               lat               long  \\\n",
       "0        16243    4.0  34.0469300995766  -118.256601457672   \n",
       "1         5037    4.5  34.0614861063899  -118.239554800093   \n",
       "2         8058    4.0  34.0456047058105  -118.236061096191   \n",
       "3         8122    4.0    34.05008090944    -118.2401804513   \n",
       "4         4072    4.5          34.12384         -118.26868   \n",
       "\n",
       "                                        address         city Zipcode country  \\\n",
       "0         700 S Grand Ave Los Angeles, CA 90017  Los Angeles   90017      US   \n",
       "1  727 N Broadway Ste 128 Los Angeles, CA 90012  Los Angeles   90012      US   \n",
       "2            800 E 3rd St Los Angeles, CA 90013  Los Angeles   90013      US   \n",
       "3            327 E 1st St Los Angeles, CA 90012  Los Angeles   90012      US   \n",
       "4     3179 Los Feliz Blvd Los Angeles, CA 90039  Los Angeles   90039      US   \n",
       "\n",
       "  state         phone  \n",
       "0    CA  +12138021470  \n",
       "1    CA  +12139358399  \n",
       "2    CA  +12136874444  \n",
       "3    CA  +12136261680  \n",
       "4    CA  +13236671839  "
      ]
     },
     "execution_count": 47,
     "metadata": {},
     "output_type": "execute_result"
    }
   ],
   "source": [
    "yelp_data.head()"
   ]
  },
  {
   "cell_type": "markdown",
   "metadata": {},
   "source": [
    "## Merge the two data sets on zip code"
   ]
  },
  {
   "cell_type": "code",
   "execution_count": 48,
   "metadata": {},
   "outputs": [],
   "source": [
    "yelp_census_combined = pd.merge(\n",
    "    yelp_data, _17_pd, how=\"left\", on=[\"Zipcode\", \"Zipcode\"])"
   ]
  },
  {
   "cell_type": "code",
   "execution_count": 49,
   "metadata": {},
   "outputs": [
    {
     "data": {
      "text/html": [
       "<div>\n",
       "<style scoped>\n",
       "    .dataframe tbody tr th:only-of-type {\n",
       "        vertical-align: middle;\n",
       "    }\n",
       "\n",
       "    .dataframe tbody tr th {\n",
       "        vertical-align: top;\n",
       "    }\n",
       "\n",
       "    .dataframe thead th {\n",
       "        text-align: right;\n",
       "    }\n",
       "</style>\n",
       "<table border=\"1\" class=\"dataframe\">\n",
       "  <thead>\n",
       "    <tr style=\"text-align: right;\">\n",
       "      <th></th>\n",
       "      <th>id</th>\n",
       "      <th>alias</th>\n",
       "      <th>name</th>\n",
       "      <th>categories</th>\n",
       "      <th>review_count</th>\n",
       "      <th>rating</th>\n",
       "      <th>lat</th>\n",
       "      <th>long</th>\n",
       "      <th>address</th>\n",
       "      <th>city</th>\n",
       "      <th>Zipcode</th>\n",
       "      <th>country</th>\n",
       "      <th>state</th>\n",
       "      <th>phone</th>\n",
       "      <th>Population</th>\n",
       "      <th>Unemployment Count</th>\n",
       "      <th>Unemployment Rate</th>\n",
       "    </tr>\n",
       "  </thead>\n",
       "  <tbody>\n",
       "    <tr>\n",
       "      <th>0</th>\n",
       "      <td>TkFEKhsCixPWlShULKvMdQ</td>\n",
       "      <td>bottega-louie-los-angeles</td>\n",
       "      <td>Bottega Louie</td>\n",
       "      <td>Italian, Bakeries, Breakfast &amp; Brunch</td>\n",
       "      <td>16243</td>\n",
       "      <td>4.0</td>\n",
       "      <td>34.0469300995766</td>\n",
       "      <td>-118.256601457672</td>\n",
       "      <td>700 S Grand Ave Los Angeles, CA 90017</td>\n",
       "      <td>Los Angeles</td>\n",
       "      <td>90017</td>\n",
       "      <td>US</td>\n",
       "      <td>CA</td>\n",
       "      <td>+12138021470</td>\n",
       "      <td>26390.0</td>\n",
       "      <td>920.0</td>\n",
       "      <td>3.486169</td>\n",
       "    </tr>\n",
       "    <tr>\n",
       "      <th>1</th>\n",
       "      <td>7O1ORGY36A-2aIENyaJWPg</td>\n",
       "      <td>howlin-rays-los-angeles-3</td>\n",
       "      <td>Howlin' Ray's</td>\n",
       "      <td>Southern, Chicken Shop, American (Traditional)</td>\n",
       "      <td>5037</td>\n",
       "      <td>4.5</td>\n",
       "      <td>34.0614861063899</td>\n",
       "      <td>-118.239554800093</td>\n",
       "      <td>727 N Broadway Ste 128 Los Angeles, CA 90012</td>\n",
       "      <td>Los Angeles</td>\n",
       "      <td>90012</td>\n",
       "      <td>US</td>\n",
       "      <td>CA</td>\n",
       "      <td>+12139358399</td>\n",
       "      <td>33783.0</td>\n",
       "      <td>973.0</td>\n",
       "      <td>2.880147</td>\n",
       "    </tr>\n",
       "    <tr>\n",
       "      <th>2</th>\n",
       "      <td>KQBGm5G8IDkE8LeNY45mbA</td>\n",
       "      <td>wurstküche-los-angeles-2</td>\n",
       "      <td>Wurstküche</td>\n",
       "      <td>Hot Dogs, German, Gastropubs</td>\n",
       "      <td>8058</td>\n",
       "      <td>4.0</td>\n",
       "      <td>34.0456047058105</td>\n",
       "      <td>-118.236061096191</td>\n",
       "      <td>800 E 3rd St Los Angeles, CA 90013</td>\n",
       "      <td>Los Angeles</td>\n",
       "      <td>90013</td>\n",
       "      <td>US</td>\n",
       "      <td>CA</td>\n",
       "      <td>+12136874444</td>\n",
       "      <td>11957.0</td>\n",
       "      <td>817.0</td>\n",
       "      <td>6.832818</td>\n",
       "    </tr>\n",
       "    <tr>\n",
       "      <th>3</th>\n",
       "      <td>iSZpZgVnASwEmlq0DORY2A</td>\n",
       "      <td>daikokuya-little-tokyo-los-angeles</td>\n",
       "      <td>Daikokuya Little Tokyo</td>\n",
       "      <td>Ramen, Noodles</td>\n",
       "      <td>8122</td>\n",
       "      <td>4.0</td>\n",
       "      <td>34.05008090944</td>\n",
       "      <td>-118.2401804513</td>\n",
       "      <td>327 E 1st St Los Angeles, CA 90012</td>\n",
       "      <td>Los Angeles</td>\n",
       "      <td>90012</td>\n",
       "      <td>US</td>\n",
       "      <td>CA</td>\n",
       "      <td>+12136261680</td>\n",
       "      <td>33783.0</td>\n",
       "      <td>973.0</td>\n",
       "      <td>2.880147</td>\n",
       "    </tr>\n",
       "    <tr>\n",
       "      <th>4</th>\n",
       "      <td>DJek3FUewBzMc0gS-Gms9w</td>\n",
       "      <td>the-morrison-los-angeles</td>\n",
       "      <td>The Morrison</td>\n",
       "      <td>Gastropubs, Burgers, Bars</td>\n",
       "      <td>4072</td>\n",
       "      <td>4.5</td>\n",
       "      <td>34.12384</td>\n",
       "      <td>-118.26868</td>\n",
       "      <td>3179 Los Feliz Blvd Los Angeles, CA 90039</td>\n",
       "      <td>Los Angeles</td>\n",
       "      <td>90039</td>\n",
       "      <td>US</td>\n",
       "      <td>CA</td>\n",
       "      <td>+13236671839</td>\n",
       "      <td>29092.0</td>\n",
       "      <td>1299.0</td>\n",
       "      <td>4.465145</td>\n",
       "    </tr>\n",
       "  </tbody>\n",
       "</table>\n",
       "</div>"
      ],
      "text/plain": [
       "                       id                               alias  \\\n",
       "0  TkFEKhsCixPWlShULKvMdQ           bottega-louie-los-angeles   \n",
       "1  7O1ORGY36A-2aIENyaJWPg           howlin-rays-los-angeles-3   \n",
       "2  KQBGm5G8IDkE8LeNY45mbA            wurstküche-los-angeles-2   \n",
       "3  iSZpZgVnASwEmlq0DORY2A  daikokuya-little-tokyo-los-angeles   \n",
       "4  DJek3FUewBzMc0gS-Gms9w            the-morrison-los-angeles   \n",
       "\n",
       "                     name                                      categories  \\\n",
       "0           Bottega Louie           Italian, Bakeries, Breakfast & Brunch   \n",
       "1           Howlin' Ray's  Southern, Chicken Shop, American (Traditional)   \n",
       "2              Wurstküche                    Hot Dogs, German, Gastropubs   \n",
       "3  Daikokuya Little Tokyo                                  Ramen, Noodles   \n",
       "4            The Morrison                       Gastropubs, Burgers, Bars   \n",
       "\n",
       "  review_count rating               lat               long  \\\n",
       "0        16243    4.0  34.0469300995766  -118.256601457672   \n",
       "1         5037    4.5  34.0614861063899  -118.239554800093   \n",
       "2         8058    4.0  34.0456047058105  -118.236061096191   \n",
       "3         8122    4.0    34.05008090944    -118.2401804513   \n",
       "4         4072    4.5          34.12384         -118.26868   \n",
       "\n",
       "                                        address         city Zipcode country  \\\n",
       "0         700 S Grand Ave Los Angeles, CA 90017  Los Angeles   90017      US   \n",
       "1  727 N Broadway Ste 128 Los Angeles, CA 90012  Los Angeles   90012      US   \n",
       "2            800 E 3rd St Los Angeles, CA 90013  Los Angeles   90013      US   \n",
       "3            327 E 1st St Los Angeles, CA 90012  Los Angeles   90012      US   \n",
       "4     3179 Los Feliz Blvd Los Angeles, CA 90039  Los Angeles   90039      US   \n",
       "\n",
       "  state         phone  Population  Unemployment Count  Unemployment Rate  \n",
       "0    CA  +12138021470     26390.0               920.0           3.486169  \n",
       "1    CA  +12139358399     33783.0               973.0           2.880147  \n",
       "2    CA  +12136874444     11957.0               817.0           6.832818  \n",
       "3    CA  +12136261680     33783.0               973.0           2.880147  \n",
       "4    CA  +13236671839     29092.0              1299.0           4.465145  "
      ]
     },
     "execution_count": 49,
     "metadata": {},
     "output_type": "execute_result"
    }
   ],
   "source": [
    "yelp_census_combined.head()"
   ]
  },
  {
   "cell_type": "code",
   "execution_count": null,
   "metadata": {},
   "outputs": [],
   "source": []
  },
  {
   "cell_type": "markdown",
   "metadata": {},
   "source": [
    "# Save the Combined Data Frame as a csv"
   ]
  },
  {
   "cell_type": "code",
   "execution_count": 50,
   "metadata": {},
   "outputs": [],
   "source": [
    "yelp_census_combined.to_csv(\n",
    "    \"Resources/yelp_census_data.csv\", encoding=\"utf-8\", index=False)"
   ]
  },
  {
   "cell_type": "code",
   "execution_count": 3,
   "metadata": {},
   "outputs": [],
   "source": []
  },
  {
   "cell_type": "code",
   "execution_count": 51,
   "metadata": {},
   "outputs": [
    {
     "data": {
      "text/html": [
       "<div>\n",
       "<style scoped>\n",
       "    .dataframe tbody tr th:only-of-type {\n",
       "        vertical-align: middle;\n",
       "    }\n",
       "\n",
       "    .dataframe tbody tr th {\n",
       "        vertical-align: top;\n",
       "    }\n",
       "\n",
       "    .dataframe thead th {\n",
       "        text-align: right;\n",
       "    }\n",
       "</style>\n",
       "<table border=\"1\" class=\"dataframe\">\n",
       "  <thead>\n",
       "    <tr style=\"text-align: right;\">\n",
       "      <th></th>\n",
       "      <th>id</th>\n",
       "      <th>alias</th>\n",
       "      <th>name</th>\n",
       "      <th>categories</th>\n",
       "      <th>review_count</th>\n",
       "      <th>rating</th>\n",
       "      <th>lat</th>\n",
       "      <th>long</th>\n",
       "      <th>address</th>\n",
       "      <th>city</th>\n",
       "      <th>Zipcode</th>\n",
       "      <th>country</th>\n",
       "      <th>state</th>\n",
       "      <th>phone</th>\n",
       "      <th>Population</th>\n",
       "      <th>Unemployment Count</th>\n",
       "      <th>Unemployment Rate</th>\n",
       "    </tr>\n",
       "  </thead>\n",
       "  <tbody>\n",
       "    <tr>\n",
       "      <th>0</th>\n",
       "      <td>TkFEKhsCixPWlShULKvMdQ</td>\n",
       "      <td>bottega-louie-los-angeles</td>\n",
       "      <td>Bottega Louie</td>\n",
       "      <td>Italian, Bakeries, Breakfast &amp; Brunch</td>\n",
       "      <td>16243</td>\n",
       "      <td>4.0</td>\n",
       "      <td>34.0469300995766</td>\n",
       "      <td>-118.256601457672</td>\n",
       "      <td>700 S Grand Ave Los Angeles, CA 90017</td>\n",
       "      <td>Los Angeles</td>\n",
       "      <td>90017</td>\n",
       "      <td>US</td>\n",
       "      <td>CA</td>\n",
       "      <td>+12138021470</td>\n",
       "      <td>26390.0</td>\n",
       "      <td>920.0</td>\n",
       "      <td>3.486169</td>\n",
       "    </tr>\n",
       "    <tr>\n",
       "      <th>1</th>\n",
       "      <td>7O1ORGY36A-2aIENyaJWPg</td>\n",
       "      <td>howlin-rays-los-angeles-3</td>\n",
       "      <td>Howlin' Ray's</td>\n",
       "      <td>Southern, Chicken Shop, American (Traditional)</td>\n",
       "      <td>5037</td>\n",
       "      <td>4.5</td>\n",
       "      <td>34.0614861063899</td>\n",
       "      <td>-118.239554800093</td>\n",
       "      <td>727 N Broadway Ste 128 Los Angeles, CA 90012</td>\n",
       "      <td>Los Angeles</td>\n",
       "      <td>90012</td>\n",
       "      <td>US</td>\n",
       "      <td>CA</td>\n",
       "      <td>+12139358399</td>\n",
       "      <td>33783.0</td>\n",
       "      <td>973.0</td>\n",
       "      <td>2.880147</td>\n",
       "    </tr>\n",
       "    <tr>\n",
       "      <th>2</th>\n",
       "      <td>KQBGm5G8IDkE8LeNY45mbA</td>\n",
       "      <td>wurstküche-los-angeles-2</td>\n",
       "      <td>Wurstküche</td>\n",
       "      <td>Hot Dogs, German, Gastropubs</td>\n",
       "      <td>8058</td>\n",
       "      <td>4.0</td>\n",
       "      <td>34.0456047058105</td>\n",
       "      <td>-118.236061096191</td>\n",
       "      <td>800 E 3rd St Los Angeles, CA 90013</td>\n",
       "      <td>Los Angeles</td>\n",
       "      <td>90013</td>\n",
       "      <td>US</td>\n",
       "      <td>CA</td>\n",
       "      <td>+12136874444</td>\n",
       "      <td>11957.0</td>\n",
       "      <td>817.0</td>\n",
       "      <td>6.832818</td>\n",
       "    </tr>\n",
       "    <tr>\n",
       "      <th>3</th>\n",
       "      <td>iSZpZgVnASwEmlq0DORY2A</td>\n",
       "      <td>daikokuya-little-tokyo-los-angeles</td>\n",
       "      <td>Daikokuya Little Tokyo</td>\n",
       "      <td>Ramen, Noodles</td>\n",
       "      <td>8122</td>\n",
       "      <td>4.0</td>\n",
       "      <td>34.05008090944</td>\n",
       "      <td>-118.2401804513</td>\n",
       "      <td>327 E 1st St Los Angeles, CA 90012</td>\n",
       "      <td>Los Angeles</td>\n",
       "      <td>90012</td>\n",
       "      <td>US</td>\n",
       "      <td>CA</td>\n",
       "      <td>+12136261680</td>\n",
       "      <td>33783.0</td>\n",
       "      <td>973.0</td>\n",
       "      <td>2.880147</td>\n",
       "    </tr>\n",
       "    <tr>\n",
       "      <th>4</th>\n",
       "      <td>DJek3FUewBzMc0gS-Gms9w</td>\n",
       "      <td>the-morrison-los-angeles</td>\n",
       "      <td>The Morrison</td>\n",
       "      <td>Gastropubs, Burgers, Bars</td>\n",
       "      <td>4072</td>\n",
       "      <td>4.5</td>\n",
       "      <td>34.12384</td>\n",
       "      <td>-118.26868</td>\n",
       "      <td>3179 Los Feliz Blvd Los Angeles, CA 90039</td>\n",
       "      <td>Los Angeles</td>\n",
       "      <td>90039</td>\n",
       "      <td>US</td>\n",
       "      <td>CA</td>\n",
       "      <td>+13236671839</td>\n",
       "      <td>29092.0</td>\n",
       "      <td>1299.0</td>\n",
       "      <td>4.465145</td>\n",
       "    </tr>\n",
       "  </tbody>\n",
       "</table>\n",
       "</div>"
      ],
      "text/plain": [
       "                       id                               alias  \\\n",
       "0  TkFEKhsCixPWlShULKvMdQ           bottega-louie-los-angeles   \n",
       "1  7O1ORGY36A-2aIENyaJWPg           howlin-rays-los-angeles-3   \n",
       "2  KQBGm5G8IDkE8LeNY45mbA            wurstküche-los-angeles-2   \n",
       "3  iSZpZgVnASwEmlq0DORY2A  daikokuya-little-tokyo-los-angeles   \n",
       "4  DJek3FUewBzMc0gS-Gms9w            the-morrison-los-angeles   \n",
       "\n",
       "                     name                                      categories  \\\n",
       "0           Bottega Louie           Italian, Bakeries, Breakfast & Brunch   \n",
       "1           Howlin' Ray's  Southern, Chicken Shop, American (Traditional)   \n",
       "2              Wurstküche                    Hot Dogs, German, Gastropubs   \n",
       "3  Daikokuya Little Tokyo                                  Ramen, Noodles   \n",
       "4            The Morrison                       Gastropubs, Burgers, Bars   \n",
       "\n",
       "  review_count rating               lat               long  \\\n",
       "0        16243    4.0  34.0469300995766  -118.256601457672   \n",
       "1         5037    4.5  34.0614861063899  -118.239554800093   \n",
       "2         8058    4.0  34.0456047058105  -118.236061096191   \n",
       "3         8122    4.0    34.05008090944    -118.2401804513   \n",
       "4         4072    4.5          34.12384         -118.26868   \n",
       "\n",
       "                                        address         city Zipcode country  \\\n",
       "0         700 S Grand Ave Los Angeles, CA 90017  Los Angeles   90017      US   \n",
       "1  727 N Broadway Ste 128 Los Angeles, CA 90012  Los Angeles   90012      US   \n",
       "2            800 E 3rd St Los Angeles, CA 90013  Los Angeles   90013      US   \n",
       "3            327 E 1st St Los Angeles, CA 90012  Los Angeles   90012      US   \n",
       "4     3179 Los Feliz Blvd Los Angeles, CA 90039  Los Angeles   90039      US   \n",
       "\n",
       "  state         phone  Population  Unemployment Count  Unemployment Rate  \n",
       "0    CA  +12138021470     26390.0               920.0           3.486169  \n",
       "1    CA  +12139358399     33783.0               973.0           2.880147  \n",
       "2    CA  +12136874444     11957.0               817.0           6.832818  \n",
       "3    CA  +12136261680     33783.0               973.0           2.880147  \n",
       "4    CA  +13236671839     29092.0              1299.0           4.465145  "
      ]
     },
     "execution_count": 51,
     "metadata": {},
     "output_type": "execute_result"
    }
   ],
   "source": [
    "yelp_census_combined.head()"
   ]
  },
  {
   "cell_type": "code",
   "execution_count": null,
   "metadata": {},
   "outputs": [],
   "source": []
  },
  {
   "cell_type": "code",
   "execution_count": null,
   "metadata": {},
   "outputs": [],
   "source": []
  },
  {
   "cell_type": "code",
   "execution_count": null,
   "metadata": {},
   "outputs": [],
   "source": []
  },
  {
   "cell_type": "code",
   "execution_count": null,
   "metadata": {},
   "outputs": [],
   "source": []
  }
 ],
 "metadata": {
  "kernelspec": {
   "display_name": "Python 3",
   "language": "python",
   "name": "python3"
  },
  "language_info": {
   "codemirror_mode": {
    "name": "ipython",
    "version": 3
   },
   "file_extension": ".py",
   "mimetype": "text/x-python",
   "name": "python",
   "nbconvert_exporter": "python",
   "pygments_lexer": "ipython3",
   "version": "3.7.3"
  }
 },
 "nbformat": 4,
 "nbformat_minor": 2
}
