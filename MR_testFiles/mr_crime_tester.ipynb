{
 "cells": [
  {
   "cell_type": "code",
   "execution_count": 1,
   "metadata": {},
   "outputs": [],
   "source": [
    "import pandas as pd\n",
    "import numpy as np\n",
    "import re\n",
    "\n",
    "import diffs_latlong\n",
    "from diffs_latlong import computeNearestZip"
   ]
  },
  {
   "cell_type": "code",
   "execution_count": 2,
   "metadata": {},
   "outputs": [],
   "source": [
    "zipTester = computeNearestZip(33.8677, -84.4645)"
   ]
  },
  {
   "cell_type": "code",
   "execution_count": 3,
   "metadata": {},
   "outputs": [
    {
     "data": {
      "text/plain": [
       "('30339', str)"
      ]
     },
     "execution_count": 3,
     "metadata": {},
     "output_type": "execute_result"
    }
   ],
   "source": [
    "zipTester, type(zipTester)"
   ]
  },
  {
   "cell_type": "code",
   "execution_count": 4,
   "metadata": {},
   "outputs": [],
   "source": [
    "csv_file = \"Resources/Crime_Data_from_2010_to_Present.csv\"\n",
    "crime_df = pd.read_csv(csv_file)"
   ]
  },
  {
   "cell_type": "code",
   "execution_count": 14,
   "metadata": {},
   "outputs": [
    {
     "data": {
      "text/html": [
       "<div>\n",
       "<style scoped>\n",
       "    .dataframe tbody tr th:only-of-type {\n",
       "        vertical-align: middle;\n",
       "    }\n",
       "\n",
       "    .dataframe tbody tr th {\n",
       "        vertical-align: top;\n",
       "    }\n",
       "\n",
       "    .dataframe thead th {\n",
       "        text-align: right;\n",
       "    }\n",
       "</style>\n",
       "<table border=\"1\" class=\"dataframe\">\n",
       "  <thead>\n",
       "    <tr style=\"text-align: right;\">\n",
       "      <th></th>\n",
       "      <th>DR Number</th>\n",
       "      <th>Date Reported</th>\n",
       "      <th>Date Occurred</th>\n",
       "      <th>Time Occurred</th>\n",
       "      <th>Area ID</th>\n",
       "      <th>Area Name</th>\n",
       "      <th>Reporting District</th>\n",
       "      <th>Crime Code</th>\n",
       "      <th>Crime Code Description</th>\n",
       "      <th>MO Codes</th>\n",
       "      <th>...</th>\n",
       "      <th>Status Description</th>\n",
       "      <th>Crime Code 1</th>\n",
       "      <th>Crime Code 2</th>\n",
       "      <th>Crime Code 3</th>\n",
       "      <th>Crime Code 4</th>\n",
       "      <th>Address</th>\n",
       "      <th>Cross Street</th>\n",
       "      <th>location</th>\n",
       "      <th>lat</th>\n",
       "      <th>long</th>\n",
       "    </tr>\n",
       "  </thead>\n",
       "  <tbody>\n",
       "    <tr>\n",
       "      <th>0</th>\n",
       "      <td>11401303</td>\n",
       "      <td>09/13/2010</td>\n",
       "      <td>09/12/2010</td>\n",
       "      <td>45</td>\n",
       "      <td>14</td>\n",
       "      <td>Pacific</td>\n",
       "      <td>1485</td>\n",
       "      <td>740</td>\n",
       "      <td>VANDALISM - FELONY ($400 &amp; OVER, ALL CHURCH VA...</td>\n",
       "      <td>0329</td>\n",
       "      <td>...</td>\n",
       "      <td>Invest Cont</td>\n",
       "      <td>740.0</td>\n",
       "      <td>NaN</td>\n",
       "      <td>NaN</td>\n",
       "      <td>NaN</td>\n",
       "      <td>SEPULVEDA                    BL</td>\n",
       "      <td>MANCHESTER                   AV</td>\n",
       "      <td>(33.9599, -118.3962)</td>\n",
       "      <td>33.9599</td>\n",
       "      <td>-118.3962</td>\n",
       "    </tr>\n",
       "    <tr>\n",
       "      <th>1</th>\n",
       "      <td>70309629</td>\n",
       "      <td>08/09/2010</td>\n",
       "      <td>08/09/2010</td>\n",
       "      <td>1515</td>\n",
       "      <td>13</td>\n",
       "      <td>Newton</td>\n",
       "      <td>1324</td>\n",
       "      <td>946</td>\n",
       "      <td>OTHER MISCELLANEOUS CRIME</td>\n",
       "      <td>0344</td>\n",
       "      <td>...</td>\n",
       "      <td>Invest Cont</td>\n",
       "      <td>946.0</td>\n",
       "      <td>NaN</td>\n",
       "      <td>NaN</td>\n",
       "      <td>NaN</td>\n",
       "      <td>1300 E  21ST                         ST</td>\n",
       "      <td>NaN</td>\n",
       "      <td>(34.0224, -118.2524)</td>\n",
       "      <td>34.0224</td>\n",
       "      <td>-118.2524</td>\n",
       "    </tr>\n",
       "    <tr>\n",
       "      <th>2</th>\n",
       "      <td>100100508</td>\n",
       "      <td>01/08/2010</td>\n",
       "      <td>01/07/2010</td>\n",
       "      <td>2005</td>\n",
       "      <td>1</td>\n",
       "      <td>Central</td>\n",
       "      <td>182</td>\n",
       "      <td>330</td>\n",
       "      <td>BURGLARY FROM VEHICLE</td>\n",
       "      <td>0344</td>\n",
       "      <td>...</td>\n",
       "      <td>Invest Cont</td>\n",
       "      <td>330.0</td>\n",
       "      <td>NaN</td>\n",
       "      <td>NaN</td>\n",
       "      <td>NaN</td>\n",
       "      <td>PICO                         BL</td>\n",
       "      <td>GRAND                        AV</td>\n",
       "      <td>(34.0389, -118.2643)</td>\n",
       "      <td>34.0389</td>\n",
       "      <td>-118.2643</td>\n",
       "    </tr>\n",
       "    <tr>\n",
       "      <th>3</th>\n",
       "      <td>100100511</td>\n",
       "      <td>01/09/2010</td>\n",
       "      <td>01/06/2010</td>\n",
       "      <td>2100</td>\n",
       "      <td>1</td>\n",
       "      <td>Central</td>\n",
       "      <td>132</td>\n",
       "      <td>341</td>\n",
       "      <td>THEFT-GRAND ($950.01 &amp; OVER)EXCPT,GUNS,FOWL,LI...</td>\n",
       "      <td>0344 1402</td>\n",
       "      <td>...</td>\n",
       "      <td>Invest Cont</td>\n",
       "      <td>341.0</td>\n",
       "      <td>998.0</td>\n",
       "      <td>NaN</td>\n",
       "      <td>NaN</td>\n",
       "      <td>200 S  OLIVE                        ST</td>\n",
       "      <td>NaN</td>\n",
       "      <td>(34.0538, -118.2488)</td>\n",
       "      <td>34.0538</td>\n",
       "      <td>-118.2488</td>\n",
       "    </tr>\n",
       "    <tr>\n",
       "      <th>4</th>\n",
       "      <td>100100523</td>\n",
       "      <td>01/15/2010</td>\n",
       "      <td>01/15/2010</td>\n",
       "      <td>245</td>\n",
       "      <td>1</td>\n",
       "      <td>Central</td>\n",
       "      <td>182</td>\n",
       "      <td>740</td>\n",
       "      <td>VANDALISM - FELONY ($400 &amp; OVER, ALL CHURCH VA...</td>\n",
       "      <td>0329</td>\n",
       "      <td>...</td>\n",
       "      <td>Adult Arrest</td>\n",
       "      <td>740.0</td>\n",
       "      <td>NaN</td>\n",
       "      <td>NaN</td>\n",
       "      <td>NaN</td>\n",
       "      <td>1100 S  OLIVE                        ST</td>\n",
       "      <td>NaN</td>\n",
       "      <td>(34.0409, -118.2609)</td>\n",
       "      <td>34.0409</td>\n",
       "      <td>-118.2609</td>\n",
       "    </tr>\n",
       "  </tbody>\n",
       "</table>\n",
       "<p>5 rows × 28 columns</p>\n",
       "</div>"
      ],
      "text/plain": [
       "   DR Number Date Reported Date Occurred  Time Occurred  Area ID Area Name  \\\n",
       "0   11401303    09/13/2010    09/12/2010             45       14   Pacific   \n",
       "1   70309629    08/09/2010    08/09/2010           1515       13    Newton   \n",
       "2  100100508    01/08/2010    01/07/2010           2005        1   Central   \n",
       "3  100100511    01/09/2010    01/06/2010           2100        1   Central   \n",
       "4  100100523    01/15/2010    01/15/2010            245        1   Central   \n",
       "\n",
       "   Reporting District  Crime Code  \\\n",
       "0                1485         740   \n",
       "1                1324         946   \n",
       "2                 182         330   \n",
       "3                 132         341   \n",
       "4                 182         740   \n",
       "\n",
       "                              Crime Code Description   MO Codes  ...  \\\n",
       "0  VANDALISM - FELONY ($400 & OVER, ALL CHURCH VA...       0329  ...   \n",
       "1                          OTHER MISCELLANEOUS CRIME       0344  ...   \n",
       "2                              BURGLARY FROM VEHICLE       0344  ...   \n",
       "3  THEFT-GRAND ($950.01 & OVER)EXCPT,GUNS,FOWL,LI...  0344 1402  ...   \n",
       "4  VANDALISM - FELONY ($400 & OVER, ALL CHURCH VA...       0329  ...   \n",
       "\n",
       "   Status Description Crime Code 1 Crime Code 2  Crime Code 3 Crime Code 4  \\\n",
       "0         Invest Cont        740.0          NaN           NaN          NaN   \n",
       "1         Invest Cont        946.0          NaN           NaN          NaN   \n",
       "2         Invest Cont        330.0          NaN           NaN          NaN   \n",
       "3         Invest Cont        341.0        998.0           NaN          NaN   \n",
       "4        Adult Arrest        740.0          NaN           NaN          NaN   \n",
       "\n",
       "                                   Address                     Cross Street  \\\n",
       "0          SEPULVEDA                    BL  MANCHESTER                   AV   \n",
       "1  1300 E  21ST                         ST                              NaN   \n",
       "2          PICO                         BL  GRAND                        AV   \n",
       "3   200 S  OLIVE                        ST                              NaN   \n",
       "4  1100 S  OLIVE                        ST                              NaN   \n",
       "\n",
       "               location      lat        long  \n",
       "0  (33.9599, -118.3962)  33.9599   -118.3962  \n",
       "1  (34.0224, -118.2524)  34.0224   -118.2524  \n",
       "2  (34.0389, -118.2643)  34.0389   -118.2643  \n",
       "3  (34.0538, -118.2488)  34.0538   -118.2488  \n",
       "4  (34.0409, -118.2609)  34.0409   -118.2609  \n",
       "\n",
       "[5 rows x 28 columns]"
      ]
     },
     "execution_count": 14,
     "metadata": {},
     "output_type": "execute_result"
    }
   ],
   "source": [
    "crime_df.head()"
   ]
  },
  {
   "cell_type": "code",
   "execution_count": 5,
   "metadata": {},
   "outputs": [],
   "source": [
    "crime_df = crime_df.rename(columns={\"Location \": \"location\"})"
   ]
  },
  {
   "cell_type": "code",
   "execution_count": 6,
   "metadata": {},
   "outputs": [
    {
     "data": {
      "text/plain": [
       "0    [33.9599,  -118.3962]\n",
       "1    [34.0224,  -118.2524]\n",
       "2    [34.0389,  -118.2643]\n",
       "3    [34.0538,  -118.2488]\n",
       "4    [34.0409,  -118.2609]\n",
       "Name: location, dtype: object"
      ]
     },
     "execution_count": 6,
     "metadata": {},
     "output_type": "execute_result"
    }
   ],
   "source": [
    "crime_df['location'].replace(to_replace=[\"\\)\",\"\\(\"], value=\"\", regex=True).str.split(\",\").head()"
   ]
  },
  {
   "cell_type": "code",
   "execution_count": 7,
   "metadata": {},
   "outputs": [],
   "source": [
    "new_cols = crime_df['location'].replace(to_replace=[\"\\)\",\"\\(\"], value=\"\", regex=True).str.split(\",\", expand = True)"
   ]
  },
  {
   "cell_type": "code",
   "execution_count": 8,
   "metadata": {},
   "outputs": [
    {
     "data": {
      "text/html": [
       "<div>\n",
       "<style scoped>\n",
       "    .dataframe tbody tr th:only-of-type {\n",
       "        vertical-align: middle;\n",
       "    }\n",
       "\n",
       "    .dataframe tbody tr th {\n",
       "        vertical-align: top;\n",
       "    }\n",
       "\n",
       "    .dataframe thead th {\n",
       "        text-align: right;\n",
       "    }\n",
       "</style>\n",
       "<table border=\"1\" class=\"dataframe\">\n",
       "  <thead>\n",
       "    <tr style=\"text-align: right;\">\n",
       "      <th></th>\n",
       "      <th>0</th>\n",
       "      <th>1</th>\n",
       "    </tr>\n",
       "  </thead>\n",
       "  <tbody>\n",
       "    <tr>\n",
       "      <th>0</th>\n",
       "      <td>33.9599</td>\n",
       "      <td>-118.3962</td>\n",
       "    </tr>\n",
       "    <tr>\n",
       "      <th>1</th>\n",
       "      <td>34.0224</td>\n",
       "      <td>-118.2524</td>\n",
       "    </tr>\n",
       "    <tr>\n",
       "      <th>2</th>\n",
       "      <td>34.0389</td>\n",
       "      <td>-118.2643</td>\n",
       "    </tr>\n",
       "    <tr>\n",
       "      <th>3</th>\n",
       "      <td>34.0538</td>\n",
       "      <td>-118.2488</td>\n",
       "    </tr>\n",
       "    <tr>\n",
       "      <th>4</th>\n",
       "      <td>34.0409</td>\n",
       "      <td>-118.2609</td>\n",
       "    </tr>\n",
       "  </tbody>\n",
       "</table>\n",
       "</div>"
      ],
      "text/plain": [
       "         0           1\n",
       "0  33.9599   -118.3962\n",
       "1  34.0224   -118.2524\n",
       "2  34.0389   -118.2643\n",
       "3  34.0538   -118.2488\n",
       "4  34.0409   -118.2609"
      ]
     },
     "execution_count": 8,
     "metadata": {},
     "output_type": "execute_result"
    }
   ],
   "source": [
    "new_cols.head()"
   ]
  },
  {
   "cell_type": "code",
   "execution_count": 9,
   "metadata": {},
   "outputs": [],
   "source": [
    "crime_df['lat'] = new_cols[0]\n",
    "crime_df['long'] = new_cols[1]"
   ]
  },
  {
   "cell_type": "code",
   "execution_count": 10,
   "metadata": {},
   "outputs": [
    {
     "data": {
      "text/html": [
       "<div>\n",
       "<style scoped>\n",
       "    .dataframe tbody tr th:only-of-type {\n",
       "        vertical-align: middle;\n",
       "    }\n",
       "\n",
       "    .dataframe tbody tr th {\n",
       "        vertical-align: top;\n",
       "    }\n",
       "\n",
       "    .dataframe thead th {\n",
       "        text-align: right;\n",
       "    }\n",
       "</style>\n",
       "<table border=\"1\" class=\"dataframe\">\n",
       "  <thead>\n",
       "    <tr style=\"text-align: right;\">\n",
       "      <th></th>\n",
       "      <th>DR Number</th>\n",
       "      <th>Date Reported</th>\n",
       "      <th>Date Occurred</th>\n",
       "      <th>Time Occurred</th>\n",
       "      <th>Area ID</th>\n",
       "      <th>Area Name</th>\n",
       "      <th>Reporting District</th>\n",
       "      <th>Crime Code</th>\n",
       "      <th>Crime Code Description</th>\n",
       "      <th>MO Codes</th>\n",
       "      <th>...</th>\n",
       "      <th>Status Description</th>\n",
       "      <th>Crime Code 1</th>\n",
       "      <th>Crime Code 2</th>\n",
       "      <th>Crime Code 3</th>\n",
       "      <th>Crime Code 4</th>\n",
       "      <th>Address</th>\n",
       "      <th>Cross Street</th>\n",
       "      <th>location</th>\n",
       "      <th>lat</th>\n",
       "      <th>long</th>\n",
       "    </tr>\n",
       "  </thead>\n",
       "  <tbody>\n",
       "    <tr>\n",
       "      <th>0</th>\n",
       "      <td>11401303</td>\n",
       "      <td>09/13/2010</td>\n",
       "      <td>09/12/2010</td>\n",
       "      <td>45</td>\n",
       "      <td>14</td>\n",
       "      <td>Pacific</td>\n",
       "      <td>1485</td>\n",
       "      <td>740</td>\n",
       "      <td>VANDALISM - FELONY ($400 &amp; OVER, ALL CHURCH VA...</td>\n",
       "      <td>0329</td>\n",
       "      <td>...</td>\n",
       "      <td>Invest Cont</td>\n",
       "      <td>740.0</td>\n",
       "      <td>NaN</td>\n",
       "      <td>NaN</td>\n",
       "      <td>NaN</td>\n",
       "      <td>SEPULVEDA                    BL</td>\n",
       "      <td>MANCHESTER                   AV</td>\n",
       "      <td>(33.9599, -118.3962)</td>\n",
       "      <td>33.9599</td>\n",
       "      <td>-118.3962</td>\n",
       "    </tr>\n",
       "    <tr>\n",
       "      <th>1</th>\n",
       "      <td>70309629</td>\n",
       "      <td>08/09/2010</td>\n",
       "      <td>08/09/2010</td>\n",
       "      <td>1515</td>\n",
       "      <td>13</td>\n",
       "      <td>Newton</td>\n",
       "      <td>1324</td>\n",
       "      <td>946</td>\n",
       "      <td>OTHER MISCELLANEOUS CRIME</td>\n",
       "      <td>0344</td>\n",
       "      <td>...</td>\n",
       "      <td>Invest Cont</td>\n",
       "      <td>946.0</td>\n",
       "      <td>NaN</td>\n",
       "      <td>NaN</td>\n",
       "      <td>NaN</td>\n",
       "      <td>1300 E  21ST                         ST</td>\n",
       "      <td>NaN</td>\n",
       "      <td>(34.0224, -118.2524)</td>\n",
       "      <td>34.0224</td>\n",
       "      <td>-118.2524</td>\n",
       "    </tr>\n",
       "    <tr>\n",
       "      <th>2</th>\n",
       "      <td>100100508</td>\n",
       "      <td>01/08/2010</td>\n",
       "      <td>01/07/2010</td>\n",
       "      <td>2005</td>\n",
       "      <td>1</td>\n",
       "      <td>Central</td>\n",
       "      <td>182</td>\n",
       "      <td>330</td>\n",
       "      <td>BURGLARY FROM VEHICLE</td>\n",
       "      <td>0344</td>\n",
       "      <td>...</td>\n",
       "      <td>Invest Cont</td>\n",
       "      <td>330.0</td>\n",
       "      <td>NaN</td>\n",
       "      <td>NaN</td>\n",
       "      <td>NaN</td>\n",
       "      <td>PICO                         BL</td>\n",
       "      <td>GRAND                        AV</td>\n",
       "      <td>(34.0389, -118.2643)</td>\n",
       "      <td>34.0389</td>\n",
       "      <td>-118.2643</td>\n",
       "    </tr>\n",
       "    <tr>\n",
       "      <th>3</th>\n",
       "      <td>100100511</td>\n",
       "      <td>01/09/2010</td>\n",
       "      <td>01/06/2010</td>\n",
       "      <td>2100</td>\n",
       "      <td>1</td>\n",
       "      <td>Central</td>\n",
       "      <td>132</td>\n",
       "      <td>341</td>\n",
       "      <td>THEFT-GRAND ($950.01 &amp; OVER)EXCPT,GUNS,FOWL,LI...</td>\n",
       "      <td>0344 1402</td>\n",
       "      <td>...</td>\n",
       "      <td>Invest Cont</td>\n",
       "      <td>341.0</td>\n",
       "      <td>998.0</td>\n",
       "      <td>NaN</td>\n",
       "      <td>NaN</td>\n",
       "      <td>200 S  OLIVE                        ST</td>\n",
       "      <td>NaN</td>\n",
       "      <td>(34.0538, -118.2488)</td>\n",
       "      <td>34.0538</td>\n",
       "      <td>-118.2488</td>\n",
       "    </tr>\n",
       "    <tr>\n",
       "      <th>4</th>\n",
       "      <td>100100523</td>\n",
       "      <td>01/15/2010</td>\n",
       "      <td>01/15/2010</td>\n",
       "      <td>245</td>\n",
       "      <td>1</td>\n",
       "      <td>Central</td>\n",
       "      <td>182</td>\n",
       "      <td>740</td>\n",
       "      <td>VANDALISM - FELONY ($400 &amp; OVER, ALL CHURCH VA...</td>\n",
       "      <td>0329</td>\n",
       "      <td>...</td>\n",
       "      <td>Adult Arrest</td>\n",
       "      <td>740.0</td>\n",
       "      <td>NaN</td>\n",
       "      <td>NaN</td>\n",
       "      <td>NaN</td>\n",
       "      <td>1100 S  OLIVE                        ST</td>\n",
       "      <td>NaN</td>\n",
       "      <td>(34.0409, -118.2609)</td>\n",
       "      <td>34.0409</td>\n",
       "      <td>-118.2609</td>\n",
       "    </tr>\n",
       "  </tbody>\n",
       "</table>\n",
       "<p>5 rows × 28 columns</p>\n",
       "</div>"
      ],
      "text/plain": [
       "   DR Number Date Reported Date Occurred  Time Occurred  Area ID Area Name  \\\n",
       "0   11401303    09/13/2010    09/12/2010             45       14   Pacific   \n",
       "1   70309629    08/09/2010    08/09/2010           1515       13    Newton   \n",
       "2  100100508    01/08/2010    01/07/2010           2005        1   Central   \n",
       "3  100100511    01/09/2010    01/06/2010           2100        1   Central   \n",
       "4  100100523    01/15/2010    01/15/2010            245        1   Central   \n",
       "\n",
       "   Reporting District  Crime Code  \\\n",
       "0                1485         740   \n",
       "1                1324         946   \n",
       "2                 182         330   \n",
       "3                 132         341   \n",
       "4                 182         740   \n",
       "\n",
       "                              Crime Code Description   MO Codes  ...  \\\n",
       "0  VANDALISM - FELONY ($400 & OVER, ALL CHURCH VA...       0329  ...   \n",
       "1                          OTHER MISCELLANEOUS CRIME       0344  ...   \n",
       "2                              BURGLARY FROM VEHICLE       0344  ...   \n",
       "3  THEFT-GRAND ($950.01 & OVER)EXCPT,GUNS,FOWL,LI...  0344 1402  ...   \n",
       "4  VANDALISM - FELONY ($400 & OVER, ALL CHURCH VA...       0329  ...   \n",
       "\n",
       "   Status Description Crime Code 1 Crime Code 2  Crime Code 3 Crime Code 4  \\\n",
       "0         Invest Cont        740.0          NaN           NaN          NaN   \n",
       "1         Invest Cont        946.0          NaN           NaN          NaN   \n",
       "2         Invest Cont        330.0          NaN           NaN          NaN   \n",
       "3         Invest Cont        341.0        998.0           NaN          NaN   \n",
       "4        Adult Arrest        740.0          NaN           NaN          NaN   \n",
       "\n",
       "                                   Address                     Cross Street  \\\n",
       "0          SEPULVEDA                    BL  MANCHESTER                   AV   \n",
       "1  1300 E  21ST                         ST                              NaN   \n",
       "2          PICO                         BL  GRAND                        AV   \n",
       "3   200 S  OLIVE                        ST                              NaN   \n",
       "4  1100 S  OLIVE                        ST                              NaN   \n",
       "\n",
       "               location      lat        long  \n",
       "0  (33.9599, -118.3962)  33.9599   -118.3962  \n",
       "1  (34.0224, -118.2524)  34.0224   -118.2524  \n",
       "2  (34.0389, -118.2643)  34.0389   -118.2643  \n",
       "3  (34.0538, -118.2488)  34.0538   -118.2488  \n",
       "4  (34.0409, -118.2609)  34.0409   -118.2609  \n",
       "\n",
       "[5 rows x 28 columns]"
      ]
     },
     "execution_count": 10,
     "metadata": {},
     "output_type": "execute_result"
    }
   ],
   "source": [
    "crime_df.head()"
   ]
  },
  {
   "cell_type": "code",
   "execution_count": 11,
   "metadata": {},
   "outputs": [
    {
     "data": {
      "text/plain": [
       "(str, str)"
      ]
     },
     "execution_count": 11,
     "metadata": {},
     "output_type": "execute_result"
    }
   ],
   "source": [
    "type(crime_df['lat'][0]), type(crime_df['long'][0])"
   ]
  },
  {
   "cell_type": "code",
   "execution_count": 13,
   "metadata": {},
   "outputs": [],
   "source": [
    "crime_df['lat'] = pd.to_numeric(crime_df['lat'])\n",
    "crime_df['long'] = pd.to_numeric(crime_df['long'])"
   ]
  },
  {
   "cell_type": "code",
   "execution_count": 14,
   "metadata": {},
   "outputs": [
    {
     "data": {
      "text/plain": [
       "(numpy.float64, numpy.float64)"
      ]
     },
     "execution_count": 14,
     "metadata": {},
     "output_type": "execute_result"
    }
   ],
   "source": [
    "type(crime_df['lat'][0]), type(crime_df['long'][0])"
   ]
  },
  {
   "cell_type": "code",
   "execution_count": 15,
   "metadata": {},
   "outputs": [
    {
     "data": {
      "text/html": [
       "<div>\n",
       "<style scoped>\n",
       "    .dataframe tbody tr th:only-of-type {\n",
       "        vertical-align: middle;\n",
       "    }\n",
       "\n",
       "    .dataframe tbody tr th {\n",
       "        vertical-align: top;\n",
       "    }\n",
       "\n",
       "    .dataframe thead th {\n",
       "        text-align: right;\n",
       "    }\n",
       "</style>\n",
       "<table border=\"1\" class=\"dataframe\">\n",
       "  <thead>\n",
       "    <tr style=\"text-align: right;\">\n",
       "      <th></th>\n",
       "      <th>DR Number</th>\n",
       "      <th>Date Reported</th>\n",
       "      <th>Date Occurred</th>\n",
       "      <th>Time Occurred</th>\n",
       "      <th>Area ID</th>\n",
       "      <th>Area Name</th>\n",
       "      <th>Reporting District</th>\n",
       "      <th>Crime Code</th>\n",
       "      <th>Crime Code Description</th>\n",
       "      <th>MO Codes</th>\n",
       "      <th>...</th>\n",
       "      <th>Status Description</th>\n",
       "      <th>Crime Code 1</th>\n",
       "      <th>Crime Code 2</th>\n",
       "      <th>Crime Code 3</th>\n",
       "      <th>Crime Code 4</th>\n",
       "      <th>Address</th>\n",
       "      <th>Cross Street</th>\n",
       "      <th>location</th>\n",
       "      <th>lat</th>\n",
       "      <th>long</th>\n",
       "    </tr>\n",
       "  </thead>\n",
       "  <tbody>\n",
       "    <tr>\n",
       "      <th>0</th>\n",
       "      <td>11401303</td>\n",
       "      <td>09/13/2010</td>\n",
       "      <td>09/12/2010</td>\n",
       "      <td>45</td>\n",
       "      <td>14</td>\n",
       "      <td>Pacific</td>\n",
       "      <td>1485</td>\n",
       "      <td>740</td>\n",
       "      <td>VANDALISM - FELONY ($400 &amp; OVER, ALL CHURCH VA...</td>\n",
       "      <td>0329</td>\n",
       "      <td>...</td>\n",
       "      <td>Invest Cont</td>\n",
       "      <td>740.0</td>\n",
       "      <td>NaN</td>\n",
       "      <td>NaN</td>\n",
       "      <td>NaN</td>\n",
       "      <td>SEPULVEDA                    BL</td>\n",
       "      <td>MANCHESTER                   AV</td>\n",
       "      <td>(33.9599, -118.3962)</td>\n",
       "      <td>33.9599</td>\n",
       "      <td>-118.3962</td>\n",
       "    </tr>\n",
       "    <tr>\n",
       "      <th>1</th>\n",
       "      <td>70309629</td>\n",
       "      <td>08/09/2010</td>\n",
       "      <td>08/09/2010</td>\n",
       "      <td>1515</td>\n",
       "      <td>13</td>\n",
       "      <td>Newton</td>\n",
       "      <td>1324</td>\n",
       "      <td>946</td>\n",
       "      <td>OTHER MISCELLANEOUS CRIME</td>\n",
       "      <td>0344</td>\n",
       "      <td>...</td>\n",
       "      <td>Invest Cont</td>\n",
       "      <td>946.0</td>\n",
       "      <td>NaN</td>\n",
       "      <td>NaN</td>\n",
       "      <td>NaN</td>\n",
       "      <td>1300 E  21ST                         ST</td>\n",
       "      <td>NaN</td>\n",
       "      <td>(34.0224, -118.2524)</td>\n",
       "      <td>34.0224</td>\n",
       "      <td>-118.2524</td>\n",
       "    </tr>\n",
       "    <tr>\n",
       "      <th>2</th>\n",
       "      <td>100100508</td>\n",
       "      <td>01/08/2010</td>\n",
       "      <td>01/07/2010</td>\n",
       "      <td>2005</td>\n",
       "      <td>1</td>\n",
       "      <td>Central</td>\n",
       "      <td>182</td>\n",
       "      <td>330</td>\n",
       "      <td>BURGLARY FROM VEHICLE</td>\n",
       "      <td>0344</td>\n",
       "      <td>...</td>\n",
       "      <td>Invest Cont</td>\n",
       "      <td>330.0</td>\n",
       "      <td>NaN</td>\n",
       "      <td>NaN</td>\n",
       "      <td>NaN</td>\n",
       "      <td>PICO                         BL</td>\n",
       "      <td>GRAND                        AV</td>\n",
       "      <td>(34.0389, -118.2643)</td>\n",
       "      <td>34.0389</td>\n",
       "      <td>-118.2643</td>\n",
       "    </tr>\n",
       "    <tr>\n",
       "      <th>3</th>\n",
       "      <td>100100511</td>\n",
       "      <td>01/09/2010</td>\n",
       "      <td>01/06/2010</td>\n",
       "      <td>2100</td>\n",
       "      <td>1</td>\n",
       "      <td>Central</td>\n",
       "      <td>132</td>\n",
       "      <td>341</td>\n",
       "      <td>THEFT-GRAND ($950.01 &amp; OVER)EXCPT,GUNS,FOWL,LI...</td>\n",
       "      <td>0344 1402</td>\n",
       "      <td>...</td>\n",
       "      <td>Invest Cont</td>\n",
       "      <td>341.0</td>\n",
       "      <td>998.0</td>\n",
       "      <td>NaN</td>\n",
       "      <td>NaN</td>\n",
       "      <td>200 S  OLIVE                        ST</td>\n",
       "      <td>NaN</td>\n",
       "      <td>(34.0538, -118.2488)</td>\n",
       "      <td>34.0538</td>\n",
       "      <td>-118.2488</td>\n",
       "    </tr>\n",
       "    <tr>\n",
       "      <th>4</th>\n",
       "      <td>100100523</td>\n",
       "      <td>01/15/2010</td>\n",
       "      <td>01/15/2010</td>\n",
       "      <td>245</td>\n",
       "      <td>1</td>\n",
       "      <td>Central</td>\n",
       "      <td>182</td>\n",
       "      <td>740</td>\n",
       "      <td>VANDALISM - FELONY ($400 &amp; OVER, ALL CHURCH VA...</td>\n",
       "      <td>0329</td>\n",
       "      <td>...</td>\n",
       "      <td>Adult Arrest</td>\n",
       "      <td>740.0</td>\n",
       "      <td>NaN</td>\n",
       "      <td>NaN</td>\n",
       "      <td>NaN</td>\n",
       "      <td>1100 S  OLIVE                        ST</td>\n",
       "      <td>NaN</td>\n",
       "      <td>(34.0409, -118.2609)</td>\n",
       "      <td>34.0409</td>\n",
       "      <td>-118.2609</td>\n",
       "    </tr>\n",
       "  </tbody>\n",
       "</table>\n",
       "<p>5 rows × 28 columns</p>\n",
       "</div>"
      ],
      "text/plain": [
       "   DR Number Date Reported Date Occurred  Time Occurred  Area ID Area Name  \\\n",
       "0   11401303    09/13/2010    09/12/2010             45       14   Pacific   \n",
       "1   70309629    08/09/2010    08/09/2010           1515       13    Newton   \n",
       "2  100100508    01/08/2010    01/07/2010           2005        1   Central   \n",
       "3  100100511    01/09/2010    01/06/2010           2100        1   Central   \n",
       "4  100100523    01/15/2010    01/15/2010            245        1   Central   \n",
       "\n",
       "   Reporting District  Crime Code  \\\n",
       "0                1485         740   \n",
       "1                1324         946   \n",
       "2                 182         330   \n",
       "3                 132         341   \n",
       "4                 182         740   \n",
       "\n",
       "                              Crime Code Description   MO Codes  ...  \\\n",
       "0  VANDALISM - FELONY ($400 & OVER, ALL CHURCH VA...       0329  ...   \n",
       "1                          OTHER MISCELLANEOUS CRIME       0344  ...   \n",
       "2                              BURGLARY FROM VEHICLE       0344  ...   \n",
       "3  THEFT-GRAND ($950.01 & OVER)EXCPT,GUNS,FOWL,LI...  0344 1402  ...   \n",
       "4  VANDALISM - FELONY ($400 & OVER, ALL CHURCH VA...       0329  ...   \n",
       "\n",
       "   Status Description Crime Code 1 Crime Code 2  Crime Code 3 Crime Code 4  \\\n",
       "0         Invest Cont        740.0          NaN           NaN          NaN   \n",
       "1         Invest Cont        946.0          NaN           NaN          NaN   \n",
       "2         Invest Cont        330.0          NaN           NaN          NaN   \n",
       "3         Invest Cont        341.0        998.0           NaN          NaN   \n",
       "4        Adult Arrest        740.0          NaN           NaN          NaN   \n",
       "\n",
       "                                   Address                     Cross Street  \\\n",
       "0          SEPULVEDA                    BL  MANCHESTER                   AV   \n",
       "1  1300 E  21ST                         ST                              NaN   \n",
       "2          PICO                         BL  GRAND                        AV   \n",
       "3   200 S  OLIVE                        ST                              NaN   \n",
       "4  1100 S  OLIVE                        ST                              NaN   \n",
       "\n",
       "               location      lat      long  \n",
       "0  (33.9599, -118.3962)  33.9599 -118.3962  \n",
       "1  (34.0224, -118.2524)  34.0224 -118.2524  \n",
       "2  (34.0389, -118.2643)  34.0389 -118.2643  \n",
       "3  (34.0538, -118.2488)  34.0538 -118.2488  \n",
       "4  (34.0409, -118.2609)  34.0409 -118.2609  \n",
       "\n",
       "[5 rows x 28 columns]"
      ]
     },
     "execution_count": 15,
     "metadata": {},
     "output_type": "execute_result"
    }
   ],
   "source": [
    "crime_df.head()"
   ]
  },
  {
   "cell_type": "code",
   "execution_count": 15,
   "metadata": {},
   "outputs": [
    {
     "data": {
      "text/plain": [
       "('33.9599', ' -118.3962')"
      ]
     },
     "execution_count": 15,
     "metadata": {},
     "output_type": "execute_result"
    }
   ],
   "source": [
    "crime_df['lat'][0], crime_df['long'][0]"
   ]
  },
  {
   "cell_type": "code",
   "execution_count": 18,
   "metadata": {},
   "outputs": [
    {
     "data": {
      "text/plain": [
       "DR Number                   int64\n",
       "Date Reported              object\n",
       "Date Occurred              object\n",
       "Time Occurred               int64\n",
       "Area ID                     int64\n",
       "Area Name                  object\n",
       "Reporting District          int64\n",
       "Crime Code                  int64\n",
       "Crime Code Description     object\n",
       "MO Codes                   object\n",
       "Victim Age                  int64\n",
       "Victim Sex                 object\n",
       "Victim Descent             object\n",
       "Premise Code              float64\n",
       "Premise Description        object\n",
       "Weapon Used Code          float64\n",
       "Weapon Description         object\n",
       "Status Code                object\n",
       "Status Description         object\n",
       "Crime Code 1              float64\n",
       "Crime Code 2              float64\n",
       "Crime Code 3              float64\n",
       "Crime Code 4              float64\n",
       "Address                    object\n",
       "Cross Street               object\n",
       "location                   object\n",
       "lat                        object\n",
       "long                       object\n",
       "dtype: object"
      ]
     },
     "execution_count": 18,
     "metadata": {},
     "output_type": "execute_result"
    }
   ],
   "source": [
    "crime_df.dtypes"
   ]
  },
  {
   "cell_type": "code",
   "execution_count": 13,
   "metadata": {},
   "outputs": [
    {
     "ename": "AttributeError",
     "evalue": "'DataFrame' object has no attribute 'map'",
     "output_type": "error",
     "traceback": [
      "\u001b[0;31m---------------------------------------------------------------------------\u001b[0m",
      "\u001b[0;31mAttributeError\u001b[0m                            Traceback (most recent call last)",
      "\u001b[0;32m<ipython-input-13-a1446dce74d5>\u001b[0m in \u001b[0;36m<module>\u001b[0;34m\u001b[0m\n\u001b[0;32m----> 1\u001b[0;31m \u001b[0mzips\u001b[0m \u001b[0;34m=\u001b[0m \u001b[0mcrime_df\u001b[0m\u001b[0;34m.\u001b[0m\u001b[0mmap\u001b[0m\u001b[0;34m(\u001b[0m\u001b[0mcomputeNearestZip\u001b[0m\u001b[0;34m(\u001b[0m\u001b[0mcrime_df\u001b[0m\u001b[0;34m[\u001b[0m\u001b[0;34m'lat'\u001b[0m\u001b[0;34m]\u001b[0m\u001b[0;34m.\u001b[0m\u001b[0mastype\u001b[0m\u001b[0;34m(\u001b[0m\u001b[0mstr\u001b[0m\u001b[0;34m)\u001b[0m\u001b[0;34m.\u001b[0m\u001b[0mastype\u001b[0m\u001b[0;34m(\u001b[0m\u001b[0mfloat\u001b[0m\u001b[0;34m)\u001b[0m\u001b[0;34m,\u001b[0m \u001b[0mcrime_df\u001b[0m\u001b[0;34m[\u001b[0m\u001b[0;34m'long'\u001b[0m\u001b[0;34m]\u001b[0m\u001b[0;34m.\u001b[0m\u001b[0mastype\u001b[0m\u001b[0;34m(\u001b[0m\u001b[0mstr\u001b[0m\u001b[0;34m)\u001b[0m\u001b[0;34m.\u001b[0m\u001b[0mastype\u001b[0m\u001b[0;34m(\u001b[0m\u001b[0mfloat\u001b[0m\u001b[0;34m)\u001b[0m\u001b[0;34m)\u001b[0m\u001b[0;34m,\u001b[0m \u001b[0maxis\u001b[0m\u001b[0;34m=\u001b[0m\u001b[0;36m1\u001b[0m\u001b[0;34m)\u001b[0m\u001b[0;34m\u001b[0m\u001b[0;34m\u001b[0m\u001b[0m\n\u001b[0m\u001b[1;32m      2\u001b[0m \u001b[0;34m\u001b[0m\u001b[0m\n\u001b[1;32m      3\u001b[0m \u001b[0;34m\u001b[0m\u001b[0m\n\u001b[1;32m      4\u001b[0m \u001b[0;31m# zips = crime_df[['lat', 'long']].apply(computeNearestZip(crime_df['lat'], crime_df['long']))\u001b[0m\u001b[0;34m\u001b[0m\u001b[0;34m\u001b[0m\u001b[0;34m\u001b[0m\u001b[0m\n\u001b[1;32m      5\u001b[0m \u001b[0;34m\u001b[0m\u001b[0m\n",
      "\u001b[0;32m/anaconda3/lib/python3.7/site-packages/pandas/core/generic.py\u001b[0m in \u001b[0;36m__getattr__\u001b[0;34m(self, name)\u001b[0m\n\u001b[1;32m   5065\u001b[0m             \u001b[0;32mif\u001b[0m \u001b[0mself\u001b[0m\u001b[0;34m.\u001b[0m\u001b[0m_info_axis\u001b[0m\u001b[0;34m.\u001b[0m\u001b[0m_can_hold_identifiers_and_holds_name\u001b[0m\u001b[0;34m(\u001b[0m\u001b[0mname\u001b[0m\u001b[0;34m)\u001b[0m\u001b[0;34m:\u001b[0m\u001b[0;34m\u001b[0m\u001b[0;34m\u001b[0m\u001b[0m\n\u001b[1;32m   5066\u001b[0m                 \u001b[0;32mreturn\u001b[0m \u001b[0mself\u001b[0m\u001b[0;34m[\u001b[0m\u001b[0mname\u001b[0m\u001b[0;34m]\u001b[0m\u001b[0;34m\u001b[0m\u001b[0;34m\u001b[0m\u001b[0m\n\u001b[0;32m-> 5067\u001b[0;31m             \u001b[0;32mreturn\u001b[0m \u001b[0mobject\u001b[0m\u001b[0;34m.\u001b[0m\u001b[0m__getattribute__\u001b[0m\u001b[0;34m(\u001b[0m\u001b[0mself\u001b[0m\u001b[0;34m,\u001b[0m \u001b[0mname\u001b[0m\u001b[0;34m)\u001b[0m\u001b[0;34m\u001b[0m\u001b[0;34m\u001b[0m\u001b[0m\n\u001b[0m\u001b[1;32m   5068\u001b[0m \u001b[0;34m\u001b[0m\u001b[0m\n\u001b[1;32m   5069\u001b[0m     \u001b[0;32mdef\u001b[0m \u001b[0m__setattr__\u001b[0m\u001b[0;34m(\u001b[0m\u001b[0mself\u001b[0m\u001b[0;34m,\u001b[0m \u001b[0mname\u001b[0m\u001b[0;34m,\u001b[0m \u001b[0mvalue\u001b[0m\u001b[0;34m)\u001b[0m\u001b[0;34m:\u001b[0m\u001b[0;34m\u001b[0m\u001b[0;34m\u001b[0m\u001b[0m\n",
      "\u001b[0;31mAttributeError\u001b[0m: 'DataFrame' object has no attribute 'map'"
     ]
    }
   ],
   "source": [
    "zips = crime_df.map(computeNearestZip(crime_df['lat'].astype(str).astype(float), crime_df['long'].astype(str).astype(float)), axis=1)\n",
    "\n",
    "\n",
    "# zips = crime_df[['lat', 'long']].apply(computeNearestZip(crime_df['lat'], crime_df['long']))\n",
    "\n",
    "# crime_df['zip'] = crime_df.apply(lambda x: computeNearestZip(x.col_1, x.col_2), axis=1)\n",
    "\n",
    "\n",
    "\n",
    "# crime_df['salary'] = crime_df[['lat', 'long']].apply(computeNearestZip, axis=1)\n",
    "\n",
    "# crime_df['salary'] = crime_df.apply(computeNearestZip(crime_df['lat'].tolist(), crime_df['long'].tolist()),convert_dtype=True, args=(), axis=1)\n",
    "\n",
    "# crime_df['salary'] = crime_df.applymap(computeNearestZip(crime_df['lat'].tolist(), crime_df['long'].tolist()),convert_dtype=True, axis=1)"
   ]
  },
  {
   "cell_type": "code",
   "execution_count": 37,
   "metadata": {},
   "outputs": [],
   "source": [
    "latitude_collection = crime_df['lat'].tolist()\n",
    "longitude_collection = crime_df['long'].tolist()"
   ]
  },
  {
   "cell_type": "code",
   "execution_count": null,
   "metadata": {},
   "outputs": [],
   "source": [
    "# crime_df['salary'] = crime_df.applymap(computeNearestZip(latitude_collection, longitude_collection))\n",
    "\n",
    "\n",
    "# zips = crime_df.apply(computeNearestZip(crime_df['lat'],crime_df['long']), axis= 1, convert_dtype=True, args=())\n",
    "\n",
    "\n",
    "# df['zip'] = crime_df[['lat','long']].apply(computeNearestZip(crime_df['lat'][0], crime_df['long'][0]), index=1)\n",
    "df['zip'] = crime_df.apply(lambda row: computeNearestZip(row['lat'], row['long']), axis=1)\n",
    "\n",
    "\n",
    "# df['zip'] = crime_df.apply(computeNearestZip, axis=1, args=(crime_df['lat'][0], crime_df['long'][0]))"
   ]
  },
  {
   "cell_type": "code",
   "execution_count": 68,
   "metadata": {},
   "outputs": [
    {
     "name": "stdout",
     "output_type": "stream",
     "text": [
      "<class 'float'> 33.9599\n",
      "<class 'float'> 34.0224\n",
      "<class 'float'> 34.0389\n",
      "<class 'float'> 34.0538\n",
      "<class 'float'> 34.0409\n"
     ]
    }
   ],
   "source": [
    "for row in crime_df['lat'].head():\n",
    "    print(type(row),row)"
   ]
  },
  {
   "cell_type": "code",
   "execution_count": 32,
   "metadata": {},
   "outputs": [
    {
     "data": {
      "text/plain": [
       "'04785'"
      ]
     },
     "execution_count": 32,
     "metadata": {},
     "output_type": "execute_result"
    }
   ],
   "source": [
    "computeNearestZip(33.9599, 33.9599)\n"
   ]
  },
  {
   "cell_type": "code",
   "execution_count": null,
   "metadata": {},
   "outputs": [],
   "source": [
    "df[‘latitude’].astype(str).astype(float)\n",
    "\n",
    "df.apply(computeNearestZip(df[“latitude”],df[“longitude”]), convert_dtype=True, args=())"
   ]
  },
  {
   "cell_type": "code",
   "execution_count": null,
   "metadata": {},
   "outputs": [],
   "source": [
    "# zips = pd.DataFrame.apply(computeNearestZip(crime_df['lat'].astype(float), crime_df['long'].astype(float)),convert_dtype=True)\n",
    "# zips = crime_df.apply(computeNearestZip(crime_df['lat'].astype(float), crime_df['long'].astype(float)))\n",
    "# zips = crime_df.apply(computeNearestZip(float(crime_df['lat']), float(crime_df['long'])))\n",
    "\n",
    "# df['zips'] = crime_df.apply(lambda x: f(x.col_1, x.col_2), axis=1)\n",
    "\n",
    "\n",
    "\n",
    "crime_df['zips'] = crime_df.apply(lambda x: computeNearestZip(x.lat, x.long), axis=1)\n"
   ]
  },
  {
   "cell_type": "code",
   "execution_count": null,
   "metadata": {},
   "outputs": [],
   "source": []
  },
  {
   "cell_type": "code",
   "execution_count": null,
   "metadata": {},
   "outputs": [],
   "source": []
  },
  {
   "cell_type": "code",
   "execution_count": 41,
   "metadata": {},
   "outputs": [
    {
     "data": {
      "text/html": [
       "<div>\n",
       "<style scoped>\n",
       "    .dataframe tbody tr th:only-of-type {\n",
       "        vertical-align: middle;\n",
       "    }\n",
       "\n",
       "    .dataframe tbody tr th {\n",
       "        vertical-align: top;\n",
       "    }\n",
       "\n",
       "    .dataframe thead th {\n",
       "        text-align: right;\n",
       "    }\n",
       "</style>\n",
       "<table border=\"1\" class=\"dataframe\">\n",
       "  <thead>\n",
       "    <tr style=\"text-align: right;\">\n",
       "      <th></th>\n",
       "      <th>location</th>\n",
       "      <th>lat</th>\n",
       "      <th>long</th>\n",
       "    </tr>\n",
       "  </thead>\n",
       "  <tbody>\n",
       "    <tr>\n",
       "      <th>0</th>\n",
       "      <td>(33.9599, -118.3962)</td>\n",
       "      <td>33.9599</td>\n",
       "      <td>-118.3962</td>\n",
       "    </tr>\n",
       "    <tr>\n",
       "      <th>1</th>\n",
       "      <td>(34.0224, -118.2524)</td>\n",
       "      <td>34.0224</td>\n",
       "      <td>-118.2524</td>\n",
       "    </tr>\n",
       "    <tr>\n",
       "      <th>2</th>\n",
       "      <td>(34.0389, -118.2643)</td>\n",
       "      <td>34.0389</td>\n",
       "      <td>-118.2643</td>\n",
       "    </tr>\n",
       "    <tr>\n",
       "      <th>3</th>\n",
       "      <td>(34.0538, -118.2488)</td>\n",
       "      <td>34.0538</td>\n",
       "      <td>-118.2488</td>\n",
       "    </tr>\n",
       "    <tr>\n",
       "      <th>4</th>\n",
       "      <td>(34.0409, -118.2609)</td>\n",
       "      <td>34.0409</td>\n",
       "      <td>-118.2609</td>\n",
       "    </tr>\n",
       "  </tbody>\n",
       "</table>\n",
       "</div>"
      ],
      "text/plain": [
       "               location      lat      long\n",
       "0  (33.9599, -118.3962)  33.9599 -118.3962\n",
       "1  (34.0224, -118.2524)  34.0224 -118.2524\n",
       "2  (34.0389, -118.2643)  34.0389 -118.2643\n",
       "3  (34.0538, -118.2488)  34.0538 -118.2488\n",
       "4  (34.0409, -118.2609)  34.0409 -118.2609"
      ]
     },
     "execution_count": 41,
     "metadata": {},
     "output_type": "execute_result"
    }
   ],
   "source": [
    "crime_df[['location', 'lat', 'long']].head()"
   ]
  },
  {
   "cell_type": "code",
   "execution_count": 241,
   "metadata": {},
   "outputs": [
    {
     "name": "stdout",
     "output_type": "stream",
     "text": [
      "<class 'pandas.core.frame.DataFrame'>\n",
      "RangeIndex: 1963743 entries, 0 to 1963742\n",
      "Data columns (total 28 columns):\n",
      "DR Number                 int64\n",
      "Date Reported             object\n",
      "Date Occurred             object\n",
      "Time Occurred             int64\n",
      "Area ID                   int64\n",
      "Area Name                 object\n",
      "Reporting District        int64\n",
      "Crime Code                int64\n",
      "Crime Code Description    object\n",
      "MO Codes                  object\n",
      "Victim Age                int64\n",
      "Victim Sex                object\n",
      "Victim Descent            object\n",
      "Premise Code              float64\n",
      "Premise Description       object\n",
      "Weapon Used Code          float64\n",
      "Weapon Description        object\n",
      "Status Code               object\n",
      "Status Description        object\n",
      "Crime Code 1              float64\n",
      "Crime Code 2              float64\n",
      "Crime Code 3              float64\n",
      "Crime Code 4              float64\n",
      "Address                   object\n",
      "Cross Street              object\n",
      "location                  object\n",
      "lat                       float64\n",
      "long                      float64\n",
      "dtypes: float64(8), int64(6), object(14)\n",
      "memory usage: 419.5+ MB\n"
     ]
    }
   ],
   "source": [
    "crime_df.info()"
   ]
  },
  {
   "cell_type": "code",
   "execution_count": 242,
   "metadata": {},
   "outputs": [
    {
     "name": "stdout",
     "output_type": "stream",
     "text": [
      "0 DR Number\n",
      "1 Date Reported\n",
      "2 Date Occurred\n",
      "3 Time Occurred\n",
      "4 Area ID\n",
      "5 Area Name\n",
      "6 Reporting District\n",
      "7 Crime Code\n",
      "8 Crime Code Description\n",
      "9 MO Codes\n",
      "10 Victim Age\n",
      "11 Victim Sex\n",
      "12 Victim Descent\n",
      "13 Premise Code\n",
      "14 Premise Description\n",
      "15 Weapon Used Code\n",
      "16 Weapon Description\n",
      "17 Status Code\n",
      "18 Status Description\n",
      "19 Crime Code 1\n",
      "20 Crime Code 2\n",
      "21 Crime Code 3\n",
      "22 Crime Code 4\n",
      "23 Address\n",
      "24 Cross Street\n",
      "25 location\n",
      "26 lat\n",
      "27 long\n"
     ]
    }
   ],
   "source": [
    "for i in range(len(crime_df.columns)):\n",
    "    print(i, crime_df.columns[i] )"
   ]
  },
  {
   "cell_type": "code",
   "execution_count": 22,
   "metadata": {},
   "outputs": [],
   "source": [
    "# crime_df[crime_df.columns[0]]\n",
    "# type(list(crime_df[crime_df.columns[8]].value_counts()))\n",
    "\n",
    "# print(len(crime_df[crime_df.columns[8]].value_counts()))\n",
    "\n",
    "\n",
    "# for i in range(len(crime_df[crime_df.columns[8]].value_counts())):\n",
    "#     print(i, crime_df[crime_df.columns[8]].value_counts()[i] )"
   ]
  },
  {
   "cell_type": "code",
   "execution_count": 243,
   "metadata": {},
   "outputs": [
    {
     "data": {
      "text/html": [
       "<div>\n",
       "<style scoped>\n",
       "    .dataframe tbody tr th:only-of-type {\n",
       "        vertical-align: middle;\n",
       "    }\n",
       "\n",
       "    .dataframe tbody tr th {\n",
       "        vertical-align: top;\n",
       "    }\n",
       "\n",
       "    .dataframe thead th {\n",
       "        text-align: right;\n",
       "    }\n",
       "</style>\n",
       "<table border=\"1\" class=\"dataframe\">\n",
       "  <thead>\n",
       "    <tr style=\"text-align: right;\">\n",
       "      <th></th>\n",
       "      <th>Crime Code Description</th>\n",
       "    </tr>\n",
       "  </thead>\n",
       "  <tbody>\n",
       "    <tr>\n",
       "      <th>0</th>\n",
       "      <td>VANDALISM - FELONY ($400 &amp; OVER, ALL CHURCH VA...</td>\n",
       "    </tr>\n",
       "    <tr>\n",
       "      <th>1</th>\n",
       "      <td>OTHER MISCELLANEOUS CRIME</td>\n",
       "    </tr>\n",
       "    <tr>\n",
       "      <th>2</th>\n",
       "      <td>BURGLARY FROM VEHICLE</td>\n",
       "    </tr>\n",
       "    <tr>\n",
       "      <th>3</th>\n",
       "      <td>THEFT-GRAND ($950.01 &amp; OVER)EXCPT,GUNS,FOWL,LI...</td>\n",
       "    </tr>\n",
       "    <tr>\n",
       "      <th>4</th>\n",
       "      <td>VANDALISM - FELONY ($400 &amp; OVER, ALL CHURCH VA...</td>\n",
       "    </tr>\n",
       "  </tbody>\n",
       "</table>\n",
       "</div>"
      ],
      "text/plain": [
       "                              Crime Code Description\n",
       "0  VANDALISM - FELONY ($400 & OVER, ALL CHURCH VA...\n",
       "1                          OTHER MISCELLANEOUS CRIME\n",
       "2                              BURGLARY FROM VEHICLE\n",
       "3  THEFT-GRAND ($950.01 & OVER)EXCPT,GUNS,FOWL,LI...\n",
       "4  VANDALISM - FELONY ($400 & OVER, ALL CHURCH VA..."
      ]
     },
     "execution_count": 243,
     "metadata": {},
     "output_type": "execute_result"
    }
   ],
   "source": [
    "pd.DataFrame(crime_df[crime_df.columns[8]]).head()"
   ]
  },
  {
   "cell_type": "code",
   "execution_count": 244,
   "metadata": {},
   "outputs": [
    {
     "data": {
      "text/html": [
       "<div>\n",
       "<style scoped>\n",
       "    .dataframe tbody tr th:only-of-type {\n",
       "        vertical-align: middle;\n",
       "    }\n",
       "\n",
       "    .dataframe tbody tr th {\n",
       "        vertical-align: top;\n",
       "    }\n",
       "\n",
       "    .dataframe thead th {\n",
       "        text-align: right;\n",
       "    }\n",
       "</style>\n",
       "<table border=\"1\" class=\"dataframe\">\n",
       "  <thead>\n",
       "    <tr style=\"text-align: right;\">\n",
       "      <th></th>\n",
       "      <th>Crime Code Description</th>\n",
       "    </tr>\n",
       "  </thead>\n",
       "  <tbody>\n",
       "    <tr>\n",
       "      <th>BATTERY - SIMPLE ASSAULT</th>\n",
       "      <td>177750</td>\n",
       "    </tr>\n",
       "    <tr>\n",
       "      <th>BURGLARY FROM VEHICLE</th>\n",
       "      <td>151060</td>\n",
       "    </tr>\n",
       "    <tr>\n",
       "      <th>VEHICLE - STOLEN</th>\n",
       "      <td>149714</td>\n",
       "    </tr>\n",
       "    <tr>\n",
       "      <th>THEFT PLAIN - PETTY ($950 &amp; UNDER)</th>\n",
       "      <td>139359</td>\n",
       "    </tr>\n",
       "    <tr>\n",
       "      <th>BURGLARY</th>\n",
       "      <td>139278</td>\n",
       "    </tr>\n",
       "    <tr>\n",
       "      <th>THEFT OF IDENTITY</th>\n",
       "      <td>119519</td>\n",
       "    </tr>\n",
       "    <tr>\n",
       "      <th>INTIMATE PARTNER - SIMPLE ASSAULT</th>\n",
       "      <td>106243</td>\n",
       "    </tr>\n",
       "    <tr>\n",
       "      <th>VANDALISM - FELONY ($400 &amp; OVER, ALL CHURCH VANDALISMS)</th>\n",
       "      <td>100855</td>\n",
       "    </tr>\n",
       "    <tr>\n",
       "      <th>VANDALISM - MISDEAMEANOR ($399 OR UNDER)</th>\n",
       "      <td>85391</td>\n",
       "    </tr>\n",
       "    <tr>\n",
       "      <th>ASSAULT WITH DEADLY WEAPON, AGGRAVATED ASSAULT</th>\n",
       "      <td>85361</td>\n",
       "    </tr>\n",
       "    <tr>\n",
       "      <th>THEFT FROM MOTOR VEHICLE - PETTY ($950 &amp; UNDER)</th>\n",
       "      <td>81499</td>\n",
       "    </tr>\n",
       "    <tr>\n",
       "      <th>ROBBERY</th>\n",
       "      <td>78299</td>\n",
       "    </tr>\n",
       "    <tr>\n",
       "      <th>THEFT-GRAND ($950.01 &amp; OVER)EXCPT,GUNS,FOWL,LIVESTK,PROD</th>\n",
       "      <td>68973</td>\n",
       "    </tr>\n",
       "    <tr>\n",
       "      <th>CRIMINAL THREATS - NO WEAPON DISPLAYED</th>\n",
       "      <td>53301</td>\n",
       "    </tr>\n",
       "    <tr>\n",
       "      <th>SHOPLIFTING - PETTY THEFT ($950 &amp; UNDER)</th>\n",
       "      <td>44731</td>\n",
       "    </tr>\n",
       "    <tr>\n",
       "      <th>THEFT FROM MOTOR VEHICLE - GRAND ($400 AND OVER)</th>\n",
       "      <td>28938</td>\n",
       "    </tr>\n",
       "    <tr>\n",
       "      <th>DOCUMENT FORGERY / STOLEN FELONY</th>\n",
       "      <td>21741</td>\n",
       "    </tr>\n",
       "    <tr>\n",
       "      <th>LETTERS, LEWD  -  TELEPHONE CALLS, LEWD</th>\n",
       "      <td>19732</td>\n",
       "    </tr>\n",
       "    <tr>\n",
       "      <th>TRESPASSING</th>\n",
       "      <td>19553</td>\n",
       "    </tr>\n",
       "    <tr>\n",
       "      <th>OTHER MISCELLANEOUS CRIME</th>\n",
       "      <td>19519</td>\n",
       "    </tr>\n",
       "    <tr>\n",
       "      <th>VIOLATION OF COURT ORDER</th>\n",
       "      <td>18855</td>\n",
       "    </tr>\n",
       "    <tr>\n",
       "      <th>VIOLATION OF RESTRAINING ORDER</th>\n",
       "      <td>17625</td>\n",
       "    </tr>\n",
       "    <tr>\n",
       "      <th>THEFT, PERSON</th>\n",
       "      <td>13628</td>\n",
       "    </tr>\n",
       "    <tr>\n",
       "      <th>BRANDISH WEAPON</th>\n",
       "      <td>13477</td>\n",
       "    </tr>\n",
       "    <tr>\n",
       "      <th>INTIMATE PARTNER - AGGRAVATED ASSAULT</th>\n",
       "      <td>13354</td>\n",
       "    </tr>\n",
       "    <tr>\n",
       "      <th>BIKE - STOLEN</th>\n",
       "      <td>12685</td>\n",
       "    </tr>\n",
       "    <tr>\n",
       "      <th>BURGLARY, ATTEMPTED</th>\n",
       "      <td>11873</td>\n",
       "    </tr>\n",
       "    <tr>\n",
       "      <th>ATTEMPTED ROBBERY</th>\n",
       "      <td>11199</td>\n",
       "    </tr>\n",
       "    <tr>\n",
       "      <th>BATTERY WITH SEXUAL CONTACT</th>\n",
       "      <td>10352</td>\n",
       "    </tr>\n",
       "    <tr>\n",
       "      <th>RAPE, FORCIBLE</th>\n",
       "      <td>9405</td>\n",
       "    </tr>\n",
       "    <tr>\n",
       "      <th>...</th>\n",
       "      <td>...</td>\n",
       "    </tr>\n",
       "    <tr>\n",
       "      <th>PURSE SNATCHING - ATTEMPT</th>\n",
       "      <td>46</td>\n",
       "    </tr>\n",
       "    <tr>\n",
       "      <th>DRUGS, TO A MINOR</th>\n",
       "      <td>45</td>\n",
       "    </tr>\n",
       "    <tr>\n",
       "      <th>LYNCHING</th>\n",
       "      <td>43</td>\n",
       "    </tr>\n",
       "    <tr>\n",
       "      <th>THEFT, COIN MACHINE - GRAND ($950.01 &amp; OVER)</th>\n",
       "      <td>43</td>\n",
       "    </tr>\n",
       "    <tr>\n",
       "      <th>DISRUPT SCHOOL</th>\n",
       "      <td>41</td>\n",
       "    </tr>\n",
       "    <tr>\n",
       "      <th>BIKE - ATTEMPTED STOLEN</th>\n",
       "      <td>36</td>\n",
       "    </tr>\n",
       "    <tr>\n",
       "      <th>TELEPHONE PROPERTY - DAMAGE</th>\n",
       "      <td>35</td>\n",
       "    </tr>\n",
       "    <tr>\n",
       "      <th>DRUNK ROLL</th>\n",
       "      <td>34</td>\n",
       "    </tr>\n",
       "    <tr>\n",
       "      <th>BRIBERY</th>\n",
       "      <td>30</td>\n",
       "    </tr>\n",
       "    <tr>\n",
       "      <th>THEFT, COIN MACHINE - ATTEMPT</th>\n",
       "      <td>24</td>\n",
       "    </tr>\n",
       "    <tr>\n",
       "      <th>BEASTIALITY, CRIME AGAINST NATURE SEXUAL ASSLT WITH ANIM</th>\n",
       "      <td>24</td>\n",
       "    </tr>\n",
       "    <tr>\n",
       "      <th>PETTY THEFT - AUTO REPAIR</th>\n",
       "      <td>24</td>\n",
       "    </tr>\n",
       "    <tr>\n",
       "      <th>LYNCHING - ATTEMPTED</th>\n",
       "      <td>23</td>\n",
       "    </tr>\n",
       "    <tr>\n",
       "      <th>REPLICA FIREARMS(SALE,DISPLAY,MANUFACTURE OR DISTRIBUTE)</th>\n",
       "      <td>23</td>\n",
       "    </tr>\n",
       "    <tr>\n",
       "      <th>PICKPOCKET, ATTEMPT</th>\n",
       "      <td>21</td>\n",
       "    </tr>\n",
       "    <tr>\n",
       "      <th>FAILURE TO DISPERSE</th>\n",
       "      <td>20</td>\n",
       "    </tr>\n",
       "    <tr>\n",
       "      <th>TILL TAP - GRAND THEFT ($950.01 &amp; OVER)</th>\n",
       "      <td>18</td>\n",
       "    </tr>\n",
       "    <tr>\n",
       "      <th>INCITING A RIOT</th>\n",
       "      <td>14</td>\n",
       "    </tr>\n",
       "    <tr>\n",
       "      <th>GRAND THEFT / AUTO REPAIR</th>\n",
       "      <td>14</td>\n",
       "    </tr>\n",
       "    <tr>\n",
       "      <th>BIGAMY</th>\n",
       "      <td>12</td>\n",
       "    </tr>\n",
       "    <tr>\n",
       "      <th>INCEST (SEXUAL ACTS BETWEEN BLOOD RELATIVES)</th>\n",
       "      <td>9</td>\n",
       "    </tr>\n",
       "    <tr>\n",
       "      <th>DISHONEST EMPLOYEE ATTEMPTED THEFT</th>\n",
       "      <td>8</td>\n",
       "    </tr>\n",
       "    <tr>\n",
       "      <th>ABORTION/ILLEGAL</th>\n",
       "      <td>6</td>\n",
       "    </tr>\n",
       "    <tr>\n",
       "      <th>MANSLAUGHTER, NEGLIGENT</th>\n",
       "      <td>5</td>\n",
       "    </tr>\n",
       "    <tr>\n",
       "      <th>TILL TAP - ATTEMPT</th>\n",
       "      <td>4</td>\n",
       "    </tr>\n",
       "    <tr>\n",
       "      <th>BLOCKING DOOR INDUCTION CENTER</th>\n",
       "      <td>3</td>\n",
       "    </tr>\n",
       "    <tr>\n",
       "      <th>TRAIN WRECKING</th>\n",
       "      <td>2</td>\n",
       "    </tr>\n",
       "    <tr>\n",
       "      <th>FIREARMS RESTRAINING ORDER (FIREARMS RO)</th>\n",
       "      <td>2</td>\n",
       "    </tr>\n",
       "    <tr>\n",
       "      <th>DRUNK ROLL - ATTEMPT</th>\n",
       "      <td>1</td>\n",
       "    </tr>\n",
       "    <tr>\n",
       "      <th>FIREARMS TEMPORARY RESTRAINING ORDER (TEMP FIREARMS RO)</th>\n",
       "      <td>1</td>\n",
       "    </tr>\n",
       "  </tbody>\n",
       "</table>\n",
       "<p>140 rows × 1 columns</p>\n",
       "</div>"
      ],
      "text/plain": [
       "                                                    Crime Code Description\n",
       "BATTERY - SIMPLE ASSAULT                                            177750\n",
       "BURGLARY FROM VEHICLE                                               151060\n",
       "VEHICLE - STOLEN                                                    149714\n",
       "THEFT PLAIN - PETTY ($950 & UNDER)                                  139359\n",
       "BURGLARY                                                            139278\n",
       "THEFT OF IDENTITY                                                   119519\n",
       "INTIMATE PARTNER - SIMPLE ASSAULT                                   106243\n",
       "VANDALISM - FELONY ($400 & OVER, ALL CHURCH VAN...                  100855\n",
       "VANDALISM - MISDEAMEANOR ($399 OR UNDER)                             85391\n",
       "ASSAULT WITH DEADLY WEAPON, AGGRAVATED ASSAULT                       85361\n",
       "THEFT FROM MOTOR VEHICLE - PETTY ($950 & UNDER)                      81499\n",
       "ROBBERY                                                              78299\n",
       "THEFT-GRAND ($950.01 & OVER)EXCPT,GUNS,FOWL,LIV...                   68973\n",
       "CRIMINAL THREATS - NO WEAPON DISPLAYED                               53301\n",
       "SHOPLIFTING - PETTY THEFT ($950 & UNDER)                             44731\n",
       "THEFT FROM MOTOR VEHICLE - GRAND ($400 AND OVER)                     28938\n",
       "DOCUMENT FORGERY / STOLEN FELONY                                     21741\n",
       "LETTERS, LEWD  -  TELEPHONE CALLS, LEWD                              19732\n",
       "TRESPASSING                                                          19553\n",
       "OTHER MISCELLANEOUS CRIME                                            19519\n",
       "VIOLATION OF COURT ORDER                                             18855\n",
       "VIOLATION OF RESTRAINING ORDER                                       17625\n",
       "THEFT, PERSON                                                        13628\n",
       "BRANDISH WEAPON                                                      13477\n",
       "INTIMATE PARTNER - AGGRAVATED ASSAULT                                13354\n",
       "BIKE - STOLEN                                                        12685\n",
       "BURGLARY, ATTEMPTED                                                  11873\n",
       "ATTEMPTED ROBBERY                                                    11199\n",
       "BATTERY WITH SEXUAL CONTACT                                          10352\n",
       "RAPE, FORCIBLE                                                        9405\n",
       "...                                                                    ...\n",
       "PURSE SNATCHING - ATTEMPT                                               46\n",
       "DRUGS, TO A MINOR                                                       45\n",
       "LYNCHING                                                                43\n",
       "THEFT, COIN MACHINE - GRAND ($950.01 & OVER)                            43\n",
       "DISRUPT SCHOOL                                                          41\n",
       "BIKE - ATTEMPTED STOLEN                                                 36\n",
       "TELEPHONE PROPERTY - DAMAGE                                             35\n",
       "DRUNK ROLL                                                              34\n",
       "BRIBERY                                                                 30\n",
       "THEFT, COIN MACHINE - ATTEMPT                                           24\n",
       "BEASTIALITY, CRIME AGAINST NATURE SEXUAL ASSLT ...                      24\n",
       "PETTY THEFT - AUTO REPAIR                                               24\n",
       "LYNCHING - ATTEMPTED                                                    23\n",
       "REPLICA FIREARMS(SALE,DISPLAY,MANUFACTURE OR DI...                      23\n",
       "PICKPOCKET, ATTEMPT                                                     21\n",
       "FAILURE TO DISPERSE                                                     20\n",
       "TILL TAP - GRAND THEFT ($950.01 & OVER)                                 18\n",
       "INCITING A RIOT                                                         14\n",
       "GRAND THEFT / AUTO REPAIR                                               14\n",
       "BIGAMY                                                                  12\n",
       "INCEST (SEXUAL ACTS BETWEEN BLOOD RELATIVES)                             9\n",
       "DISHONEST EMPLOYEE ATTEMPTED THEFT                                       8\n",
       "ABORTION/ILLEGAL                                                         6\n",
       "MANSLAUGHTER, NEGLIGENT                                                  5\n",
       "TILL TAP - ATTEMPT                                                       4\n",
       "BLOCKING DOOR INDUCTION CENTER                                           3\n",
       "TRAIN WRECKING                                                           2\n",
       "FIREARMS RESTRAINING ORDER (FIREARMS RO)                                 2\n",
       "DRUNK ROLL - ATTEMPT                                                     1\n",
       "FIREARMS TEMPORARY RESTRAINING ORDER (TEMP FIRE...                       1\n",
       "\n",
       "[140 rows x 1 columns]"
      ]
     },
     "execution_count": 244,
     "metadata": {},
     "output_type": "execute_result"
    }
   ],
   "source": [
    "pd.DataFrame(crime_df[crime_df.columns[8]].value_counts())"
   ]
  },
  {
   "cell_type": "code",
   "execution_count": 245,
   "metadata": {},
   "outputs": [
    {
     "data": {
      "text/plain": [
       "28"
      ]
     },
     "execution_count": 245,
     "metadata": {},
     "output_type": "execute_result"
    }
   ],
   "source": [
    "len(crime_df.columns)"
   ]
  },
  {
   "cell_type": "code",
   "execution_count": 246,
   "metadata": {},
   "outputs": [
    {
     "data": {
      "text/plain": [
       "'1300 E  21ST                         ST'"
      ]
     },
     "execution_count": 246,
     "metadata": {},
     "output_type": "execute_result"
    }
   ],
   "source": [
    "crime_df['Address'][1]"
   ]
  },
  {
   "cell_type": "code",
   "execution_count": 251,
   "metadata": {},
   "outputs": [
    {
     "data": {
      "text/plain": [
       "0         [SEPULVEDA, BL]\n",
       "1     [1300, E, 21ST, ST]\n",
       "2              [PICO, BL]\n",
       "3     [200, S, OLIVE, ST]\n",
       "4    [1100, S, OLIVE, ST]\n",
       "Name: Address, dtype: object"
      ]
     },
     "execution_count": 251,
     "metadata": {},
     "output_type": "execute_result"
    }
   ],
   "source": [
    "crime_df['Address'].str.split().head()"
   ]
  },
  {
   "cell_type": "code",
   "execution_count": 252,
   "metadata": {},
   "outputs": [
    {
     "data": {
      "text/plain": [
       "array(['Pacific', 'Newton', 'Central', 'Northeast', 'Hollenbeck',\n",
       "       'Southwest', '77th Street', 'Southeast', 'Van Nuys', 'Rampart',\n",
       "       'N Hollywood', 'Wilshire', 'Olympic', 'Harbor', 'Hollywood',\n",
       "       'West LA', 'Topanga', 'Mission', 'West Valley', 'Foothill',\n",
       "       'Devonshire'], dtype=object)"
      ]
     },
     "execution_count": 252,
     "metadata": {},
     "output_type": "execute_result"
    }
   ],
   "source": [
    "crime_df['Area Name'].unique()"
   ]
  },
  {
   "cell_type": "code",
   "execution_count": 253,
   "metadata": {},
   "outputs": [
    {
     "data": {
      "text/plain": [
       "str"
      ]
     },
     "execution_count": 253,
     "metadata": {},
     "output_type": "execute_result"
    }
   ],
   "source": [
    "type(crime_df['Date Reported'][0])"
   ]
  },
  {
   "cell_type": "code",
   "execution_count": 254,
   "metadata": {},
   "outputs": [
    {
     "name": "stdout",
     "output_type": "stream",
     "text": [
      "09/13/2010 <class 'str'>\n"
     ]
    }
   ],
   "source": [
    "print(crime_df['Date Reported'][0], type(crime_df['Date Reported'][0]) )"
   ]
  },
  {
   "cell_type": "code",
   "execution_count": 43,
   "metadata": {},
   "outputs": [
    {
     "data": {
      "text/plain": [
       "1963743"
      ]
     },
     "execution_count": 43,
     "metadata": {},
     "output_type": "execute_result"
    }
   ],
   "source": [
    "crime_df[crime_df.columns[0]].value_counts().count()"
   ]
  },
  {
   "cell_type": "code",
   "execution_count": 44,
   "metadata": {},
   "outputs": [
    {
     "data": {
      "text/plain": [
       "1963743"
      ]
     },
     "execution_count": 44,
     "metadata": {},
     "output_type": "execute_result"
    }
   ],
   "source": [
    "crime_df[crime_df.columns[0]].count()"
   ]
  },
  {
   "cell_type": "code",
   "execution_count": 45,
   "metadata": {},
   "outputs": [
    {
     "data": {
      "text/plain": [
       "3414"
      ]
     },
     "execution_count": 45,
     "metadata": {},
     "output_type": "execute_result"
    }
   ],
   "source": [
    "crime_df[crime_df.columns[1]].value_counts().count()"
   ]
  },
  {
   "cell_type": "code",
   "execution_count": 47,
   "metadata": {},
   "outputs": [
    {
     "data": {
      "text/plain": [
       "575.2029876977153"
      ]
     },
     "execution_count": 47,
     "metadata": {},
     "output_type": "execute_result"
    }
   ],
   "source": [
    "crime_df[crime_df.columns[1]].count()/crime_df[crime_df.columns[1]].value_counts().count()"
   ]
  },
  {
   "cell_type": "code",
   "execution_count": 49,
   "metadata": {},
   "outputs": [
    {
     "data": {
      "text/plain": [
       "H    670255\n",
       "W    472922\n",
       "B    309869\n",
       "O    187507\n",
       "X     64807\n",
       "A     46805\n",
       "K      8504\n",
       "F      2280\n",
       "I       846\n",
       "C       824\n",
       "J       322\n",
       "P       320\n",
       "U       174\n",
       "V       139\n",
       "Z        92\n",
       "G        77\n",
       "S        30\n",
       "D        20\n",
       "L        14\n",
       "-         3\n",
       "Name: Victim Descent, dtype: int64"
      ]
     },
     "execution_count": 49,
     "metadata": {},
     "output_type": "execute_result"
    }
   ],
   "source": [
    "crime_df['Victim Descent'].value_counts()"
   ]
  },
  {
   "cell_type": "code",
   "execution_count": 50,
   "metadata": {},
   "outputs": [
    {
     "data": {
      "text/plain": [
       "array(['W', 'H', 'O', 'B', 'A', 'X', nan, 'K', 'V', 'J', 'F', 'P', 'C',\n",
       "       'I', 'U', 'D', 'G', 'Z', 'L', 'S', '-'], dtype=object)"
      ]
     },
     "execution_count": 50,
     "metadata": {},
     "output_type": "execute_result"
    }
   ],
   "source": [
    "crime_df['Victim Descent'].unique()"
   ]
  },
  {
   "cell_type": "code",
   "execution_count": 52,
   "metadata": {},
   "outputs": [
    {
     "data": {
      "text/plain": [
       "['DR Number',\n",
       " 'Date Reported',\n",
       " 'Date Occurred',\n",
       " 'Time Occurred',\n",
       " 'Area ID',\n",
       " 'Area Name',\n",
       " 'Reporting District',\n",
       " 'Crime Code',\n",
       " 'Crime Code Description',\n",
       " 'MO Codes',\n",
       " 'Victim Age',\n",
       " 'Victim Sex',\n",
       " 'Victim Descent',\n",
       " 'Premise Code',\n",
       " 'Premise Description',\n",
       " 'Weapon Used Code',\n",
       " 'Weapon Description',\n",
       " 'Status Code',\n",
       " 'Status Description',\n",
       " 'Crime Code 1',\n",
       " 'Crime Code 2',\n",
       " 'Crime Code 3',\n",
       " 'Crime Code 4',\n",
       " 'Address',\n",
       " 'Cross Street',\n",
       " 'Location ']"
      ]
     },
     "execution_count": 52,
     "metadata": {},
     "output_type": "execute_result"
    }
   ],
   "source": [
    "# la_crime_df['Location'].head()\n",
    "cols = list(crime_df.columns)\n",
    "cols"
   ]
  },
  {
   "cell_type": "code",
   "execution_count": 53,
   "metadata": {},
   "outputs": [],
   "source": [
    "# print(cols)\n",
    "for i in range(len(cols)):\n",
    "    cols[i] = cols[i].strip()"
   ]
  },
  {
   "cell_type": "code",
   "execution_count": 54,
   "metadata": {},
   "outputs": [
    {
     "data": {
      "text/plain": [
       "['DR Number',\n",
       " 'Date Reported',\n",
       " 'Date Occurred',\n",
       " 'Time Occurred',\n",
       " 'Area ID',\n",
       " 'Area Name',\n",
       " 'Reporting District',\n",
       " 'Crime Code',\n",
       " 'Crime Code Description',\n",
       " 'MO Codes',\n",
       " 'Victim Age',\n",
       " 'Victim Sex',\n",
       " 'Victim Descent',\n",
       " 'Premise Code',\n",
       " 'Premise Description',\n",
       " 'Weapon Used Code',\n",
       " 'Weapon Description',\n",
       " 'Status Code',\n",
       " 'Status Description',\n",
       " 'Crime Code 1',\n",
       " 'Crime Code 2',\n",
       " 'Crime Code 3',\n",
       " 'Crime Code 4',\n",
       " 'Address',\n",
       " 'Cross Street',\n",
       " 'Location']"
      ]
     },
     "execution_count": 54,
     "metadata": {},
     "output_type": "execute_result"
    }
   ],
   "source": [
    "cols"
   ]
  },
  {
   "cell_type": "code",
   "execution_count": 57,
   "metadata": {},
   "outputs": [
    {
     "data": {
      "text/plain": [
       "0    (33.9599, -118.3962)\n",
       "1    (34.0224, -118.2524)\n",
       "2    (34.0389, -118.2643)\n",
       "3    (34.0538, -118.2488)\n",
       "4    (34.0409, -118.2609)\n",
       "5    (34.0401, -118.2668)\n",
       "6     (34.0502, -118.254)\n",
       "7    (34.0437, -118.2652)\n",
       "8     (34.048, -118.2577)\n",
       "9    (34.0389, -118.2643)\n",
       "Name: Location , dtype: object"
      ]
     },
     "execution_count": 57,
     "metadata": {},
     "output_type": "execute_result"
    }
   ],
   "source": [
    "crime_df['Location '][:10]"
   ]
  },
  {
   "cell_type": "code",
   "execution_count": 255,
   "metadata": {},
   "outputs": [
    {
     "ename": "TypeError",
     "evalue": "Index does not support mutable operations",
     "output_type": "error",
     "traceback": [
      "\u001b[0;31m---------------------------------------------------------------------------\u001b[0m",
      "\u001b[0;31mTypeError\u001b[0m                                 Traceback (most recent call last)",
      "\u001b[0;32m<ipython-input-255-ffe03ad9cab1>\u001b[0m in \u001b[0;36m<module>\u001b[0;34m\u001b[0m\n\u001b[1;32m      1\u001b[0m \u001b[0;32mfor\u001b[0m \u001b[0mi\u001b[0m \u001b[0;32min\u001b[0m \u001b[0mrange\u001b[0m\u001b[0;34m(\u001b[0m\u001b[0mlen\u001b[0m\u001b[0;34m(\u001b[0m\u001b[0mcrime_df\u001b[0m\u001b[0;34m.\u001b[0m\u001b[0mcolumns\u001b[0m\u001b[0;34m)\u001b[0m\u001b[0;34m)\u001b[0m\u001b[0;34m:\u001b[0m\u001b[0;34m\u001b[0m\u001b[0;34m\u001b[0m\u001b[0m\n\u001b[0;32m----> 2\u001b[0;31m     \u001b[0mcrime_df\u001b[0m\u001b[0;34m.\u001b[0m\u001b[0mcolumns\u001b[0m\u001b[0;34m[\u001b[0m\u001b[0mi\u001b[0m\u001b[0;34m]\u001b[0m \u001b[0;34m=\u001b[0m \u001b[0mcrime_df\u001b[0m\u001b[0;34m.\u001b[0m\u001b[0mcolumns\u001b[0m\u001b[0;34m[\u001b[0m\u001b[0mi\u001b[0m\u001b[0;34m]\u001b[0m\u001b[0;34m.\u001b[0m\u001b[0mstrip\u001b[0m\u001b[0;34m(\u001b[0m\u001b[0;34m)\u001b[0m\u001b[0;34m\u001b[0m\u001b[0;34m\u001b[0m\u001b[0m\n\u001b[0m\u001b[1;32m      3\u001b[0m \u001b[0;31m# ====> @TODO: ITERATE OVER CSV HEADERS & .strip()\u001b[0m\u001b[0;34m\u001b[0m\u001b[0;34m\u001b[0m\u001b[0;34m\u001b[0m\u001b[0m\n",
      "\u001b[0;32m/anaconda3/lib/python3.7/site-packages/pandas/core/indexes/base.py\u001b[0m in \u001b[0;36m__setitem__\u001b[0;34m(self, key, value)\u001b[0m\n\u001b[1;32m   3936\u001b[0m \u001b[0;34m\u001b[0m\u001b[0m\n\u001b[1;32m   3937\u001b[0m     \u001b[0;32mdef\u001b[0m \u001b[0m__setitem__\u001b[0m\u001b[0;34m(\u001b[0m\u001b[0mself\u001b[0m\u001b[0;34m,\u001b[0m \u001b[0mkey\u001b[0m\u001b[0;34m,\u001b[0m \u001b[0mvalue\u001b[0m\u001b[0;34m)\u001b[0m\u001b[0;34m:\u001b[0m\u001b[0;34m\u001b[0m\u001b[0;34m\u001b[0m\u001b[0m\n\u001b[0;32m-> 3938\u001b[0;31m         \u001b[0;32mraise\u001b[0m \u001b[0mTypeError\u001b[0m\u001b[0;34m(\u001b[0m\u001b[0;34m\"Index does not support mutable operations\"\u001b[0m\u001b[0;34m)\u001b[0m\u001b[0;34m\u001b[0m\u001b[0;34m\u001b[0m\u001b[0m\n\u001b[0m\u001b[1;32m   3939\u001b[0m \u001b[0;34m\u001b[0m\u001b[0m\n\u001b[1;32m   3940\u001b[0m     \u001b[0;32mdef\u001b[0m \u001b[0m__getitem__\u001b[0m\u001b[0;34m(\u001b[0m\u001b[0mself\u001b[0m\u001b[0;34m,\u001b[0m \u001b[0mkey\u001b[0m\u001b[0;34m)\u001b[0m\u001b[0;34m:\u001b[0m\u001b[0;34m\u001b[0m\u001b[0;34m\u001b[0m\u001b[0m\n",
      "\u001b[0;31mTypeError\u001b[0m: Index does not support mutable operations"
     ]
    }
   ],
   "source": [
    "for i in range(len(crime_df.columns)):\n",
    "    crime_df.columns[i] = crime_df.columns[i].strip()  \n",
    "# ====> @TODO: ITERATE OVER CSV HEADERS & .strip()"
   ]
  },
  {
   "cell_type": "code",
   "execution_count": 59,
   "metadata": {},
   "outputs": [
    {
     "data": {
      "text/html": [
       "<div>\n",
       "<style scoped>\n",
       "    .dataframe tbody tr th:only-of-type {\n",
       "        vertical-align: middle;\n",
       "    }\n",
       "\n",
       "    .dataframe tbody tr th {\n",
       "        vertical-align: top;\n",
       "    }\n",
       "\n",
       "    .dataframe thead th {\n",
       "        text-align: right;\n",
       "    }\n",
       "</style>\n",
       "<table border=\"1\" class=\"dataframe\">\n",
       "  <thead>\n",
       "    <tr style=\"text-align: right;\">\n",
       "      <th></th>\n",
       "      <th>DR Number</th>\n",
       "      <th>Time Occurred</th>\n",
       "      <th>Area ID</th>\n",
       "      <th>Reporting District</th>\n",
       "      <th>Crime Code</th>\n",
       "      <th>Victim Age</th>\n",
       "      <th>Premise Code</th>\n",
       "      <th>Weapon Used Code</th>\n",
       "      <th>Crime Code 1</th>\n",
       "      <th>Crime Code 2</th>\n",
       "      <th>Crime Code 3</th>\n",
       "      <th>Crime Code 4</th>\n",
       "    </tr>\n",
       "  </thead>\n",
       "  <tbody>\n",
       "    <tr>\n",
       "      <th>count</th>\n",
       "      <td>1.963743e+06</td>\n",
       "      <td>1.963743e+06</td>\n",
       "      <td>1.963743e+06</td>\n",
       "      <td>1.963743e+06</td>\n",
       "      <td>1.963743e+06</td>\n",
       "      <td>1.963743e+06</td>\n",
       "      <td>1.963693e+06</td>\n",
       "      <td>656863.000000</td>\n",
       "      <td>1.963734e+06</td>\n",
       "      <td>127805.000000</td>\n",
       "      <td>3148.000000</td>\n",
       "      <td>95.000000</td>\n",
       "    </tr>\n",
       "    <tr>\n",
       "      <th>mean</th>\n",
       "      <td>1.445792e+08</td>\n",
       "      <td>1.361682e+03</td>\n",
       "      <td>1.110856e+01</td>\n",
       "      <td>1.157252e+03</td>\n",
       "      <td>5.068868e+02</td>\n",
       "      <td>3.152165e+01</td>\n",
       "      <td>3.112567e+02</td>\n",
       "      <td>371.125656</td>\n",
       "      <td>5.067246e+02</td>\n",
       "      <td>951.139525</td>\n",
       "      <td>971.362135</td>\n",
       "      <td>973.968421</td>\n",
       "    </tr>\n",
       "    <tr>\n",
       "      <th>std</th>\n",
       "      <td>2.721536e+07</td>\n",
       "      <td>6.467283e+02</td>\n",
       "      <td>6.006222e+00</td>\n",
       "      <td>6.006188e+02</td>\n",
       "      <td>2.104685e+02</td>\n",
       "      <td>2.071300e+01</td>\n",
       "      <td>2.109775e+02</td>\n",
       "      <td>113.669753</td>\n",
       "      <td>2.103422e+02</td>\n",
       "      <td>125.343670</td>\n",
       "      <td>87.213436</td>\n",
       "      <td>84.453494</td>\n",
       "    </tr>\n",
       "    <tr>\n",
       "      <th>min</th>\n",
       "      <td>2.100000e+02</td>\n",
       "      <td>1.000000e+00</td>\n",
       "      <td>1.000000e+00</td>\n",
       "      <td>1.000000e+02</td>\n",
       "      <td>1.100000e+02</td>\n",
       "      <td>-9.000000e+00</td>\n",
       "      <td>1.010000e+02</td>\n",
       "      <td>101.000000</td>\n",
       "      <td>1.100000e+02</td>\n",
       "      <td>210.000000</td>\n",
       "      <td>93.000000</td>\n",
       "      <td>421.000000</td>\n",
       "    </tr>\n",
       "    <tr>\n",
       "      <th>25%</th>\n",
       "      <td>1.211085e+08</td>\n",
       "      <td>9.300000e+02</td>\n",
       "      <td>6.000000e+00</td>\n",
       "      <td>6.440000e+02</td>\n",
       "      <td>3.300000e+02</td>\n",
       "      <td>1.900000e+01</td>\n",
       "      <td>1.020000e+02</td>\n",
       "      <td>400.000000</td>\n",
       "      <td>3.300000e+02</td>\n",
       "      <td>998.000000</td>\n",
       "      <td>998.000000</td>\n",
       "      <td>998.000000</td>\n",
       "    </tr>\n",
       "    <tr>\n",
       "      <th>50%</th>\n",
       "      <td>1.421147e+08</td>\n",
       "      <td>1.430000e+03</td>\n",
       "      <td>1.200000e+01</td>\n",
       "      <td>1.203000e+03</td>\n",
       "      <td>4.410000e+02</td>\n",
       "      <td>3.100000e+01</td>\n",
       "      <td>2.100000e+02</td>\n",
       "      <td>400.000000</td>\n",
       "      <td>4.410000e+02</td>\n",
       "      <td>998.000000</td>\n",
       "      <td>998.000000</td>\n",
       "      <td>998.000000</td>\n",
       "    </tr>\n",
       "    <tr>\n",
       "      <th>75%</th>\n",
       "      <td>1.705078e+08</td>\n",
       "      <td>1.900000e+03</td>\n",
       "      <td>1.600000e+01</td>\n",
       "      <td>1.672000e+03</td>\n",
       "      <td>6.260000e+02</td>\n",
       "      <td>4.600000e+01</td>\n",
       "      <td>5.010000e+02</td>\n",
       "      <td>400.000000</td>\n",
       "      <td>6.260000e+02</td>\n",
       "      <td>998.000000</td>\n",
       "      <td>998.000000</td>\n",
       "      <td>998.000000</td>\n",
       "    </tr>\n",
       "    <tr>\n",
       "      <th>max</th>\n",
       "      <td>9.102204e+08</td>\n",
       "      <td>2.359000e+03</td>\n",
       "      <td>2.100000e+01</td>\n",
       "      <td>2.199000e+03</td>\n",
       "      <td>9.560000e+02</td>\n",
       "      <td>1.180000e+02</td>\n",
       "      <td>9.710000e+02</td>\n",
       "      <td>516.000000</td>\n",
       "      <td>9.990000e+02</td>\n",
       "      <td>999.000000</td>\n",
       "      <td>999.000000</td>\n",
       "      <td>999.000000</td>\n",
       "    </tr>\n",
       "  </tbody>\n",
       "</table>\n",
       "</div>"
      ],
      "text/plain": [
       "          DR Number  Time Occurred       Area ID  Reporting District  \\\n",
       "count  1.963743e+06   1.963743e+06  1.963743e+06        1.963743e+06   \n",
       "mean   1.445792e+08   1.361682e+03  1.110856e+01        1.157252e+03   \n",
       "std    2.721536e+07   6.467283e+02  6.006222e+00        6.006188e+02   \n",
       "min    2.100000e+02   1.000000e+00  1.000000e+00        1.000000e+02   \n",
       "25%    1.211085e+08   9.300000e+02  6.000000e+00        6.440000e+02   \n",
       "50%    1.421147e+08   1.430000e+03  1.200000e+01        1.203000e+03   \n",
       "75%    1.705078e+08   1.900000e+03  1.600000e+01        1.672000e+03   \n",
       "max    9.102204e+08   2.359000e+03  2.100000e+01        2.199000e+03   \n",
       "\n",
       "         Crime Code    Victim Age  Premise Code  Weapon Used Code  \\\n",
       "count  1.963743e+06  1.963743e+06  1.963693e+06     656863.000000   \n",
       "mean   5.068868e+02  3.152165e+01  3.112567e+02        371.125656   \n",
       "std    2.104685e+02  2.071300e+01  2.109775e+02        113.669753   \n",
       "min    1.100000e+02 -9.000000e+00  1.010000e+02        101.000000   \n",
       "25%    3.300000e+02  1.900000e+01  1.020000e+02        400.000000   \n",
       "50%    4.410000e+02  3.100000e+01  2.100000e+02        400.000000   \n",
       "75%    6.260000e+02  4.600000e+01  5.010000e+02        400.000000   \n",
       "max    9.560000e+02  1.180000e+02  9.710000e+02        516.000000   \n",
       "\n",
       "       Crime Code 1   Crime Code 2  Crime Code 3  Crime Code 4  \n",
       "count  1.963734e+06  127805.000000   3148.000000     95.000000  \n",
       "mean   5.067246e+02     951.139525    971.362135    973.968421  \n",
       "std    2.103422e+02     125.343670     87.213436     84.453494  \n",
       "min    1.100000e+02     210.000000     93.000000    421.000000  \n",
       "25%    3.300000e+02     998.000000    998.000000    998.000000  \n",
       "50%    4.410000e+02     998.000000    998.000000    998.000000  \n",
       "75%    6.260000e+02     998.000000    998.000000    998.000000  \n",
       "max    9.990000e+02     999.000000    999.000000    999.000000  "
      ]
     },
     "execution_count": 59,
     "metadata": {},
     "output_type": "execute_result"
    }
   ],
   "source": [
    "crime_df.describe()"
   ]
  },
  {
   "cell_type": "code",
   "execution_count": null,
   "metadata": {},
   "outputs": [],
   "source": []
  }
 ],
 "metadata": {
  "kernelspec": {
   "display_name": "Python 3",
   "language": "python",
   "name": "python3"
  },
  "language_info": {
   "codemirror_mode": {
    "name": "ipython",
    "version": 3
   },
   "file_extension": ".py",
   "mimetype": "text/x-python",
   "name": "python",
   "nbconvert_exporter": "python",
   "pygments_lexer": "ipython3",
   "version": "3.7.3"
  }
 },
 "nbformat": 4,
 "nbformat_minor": 2
}
