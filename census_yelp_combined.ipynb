{
 "cells": [
  {
   "cell_type": "markdown",
   "metadata": {},
   "source": [
    "# Census and Yelp API's \n",
    "### Data Sources:\n",
    "[yelp developers](https://www.yelp.com/developers/documentation/v3)\n",
    "\n",
    "[United States Census Bureau](https://www.census.gov/developers/)\n",
    "\n",
    "--------------------------------------------"
   ]
  },
  {
   "cell_type": "markdown",
   "metadata": {},
   "source": [
    "# Zip Code Data from the Census API (2017)"
   ]
  },
  {
   "cell_type": "code",
   "execution_count": 17,
   "metadata": {},
   "outputs": [],
   "source": [
    "from census import Census\n",
    "from us import states\n",
    "\n",
    "from config import census_key\n",
    "import numpy as np\n",
    "import pandas as pd\n",
    "import time\n",
    "\n",
    "import json\n"
   ]
  },
  {
   "cell_type": "code",
   "execution_count": 3,
   "metadata": {},
   "outputs": [],
   "source": [
    "c13 = Census(census_key, year=2013)"
   ]
  },
  {
   "cell_type": "code",
   "execution_count": 4,
   "metadata": {},
   "outputs": [],
   "source": [
    "c17 = Census(census_key, year=2017)"
   ]
  },
  {
   "cell_type": "markdown",
   "metadata": {},
   "source": [
    "# E: extraction"
   ]
  },
  {
   "cell_type": "code",
   "execution_count": 5,
   "metadata": {},
   "outputs": [],
   "source": [
    "#data on all zip codes for 2017\n",
    "_17census_data = c17.acs5.get((\"B01003_001E\", \"B23025_005E\"), {\n",
    "                         'for': 'zip code tabulation area:*'})"
   ]
  },
  {
   "cell_type": "code",
   "execution_count": null,
   "metadata": {},
   "outputs": [],
   "source": [
    "# Convert to DataFrame\n",
    "_17_pd = pd.DataFrame(_17census_data)"
   ]
  },
  {
   "cell_type": "code",
   "execution_count": 8,
   "metadata": {},
   "outputs": [
    {
     "data": {
      "text/html": [
       "<div>\n",
       "<style scoped>\n",
       "    .dataframe tbody tr th:only-of-type {\n",
       "        vertical-align: middle;\n",
       "    }\n",
       "\n",
       "    .dataframe tbody tr th {\n",
       "        vertical-align: top;\n",
       "    }\n",
       "\n",
       "    .dataframe thead th {\n",
       "        text-align: right;\n",
       "    }\n",
       "</style>\n",
       "<table border=\"1\" class=\"dataframe\">\n",
       "  <thead>\n",
       "    <tr style=\"text-align: right;\">\n",
       "      <th></th>\n",
       "      <th>B01003_001E</th>\n",
       "      <th>B23025_005E</th>\n",
       "      <th>zip code tabulation area</th>\n",
       "    </tr>\n",
       "  </thead>\n",
       "  <tbody>\n",
       "    <tr>\n",
       "      <th>0</th>\n",
       "      <td>17599.0</td>\n",
       "      <td>2454.0</td>\n",
       "      <td>00601</td>\n",
       "    </tr>\n",
       "    <tr>\n",
       "      <th>1</th>\n",
       "      <td>39209.0</td>\n",
       "      <td>2538.0</td>\n",
       "      <td>00602</td>\n",
       "    </tr>\n",
       "    <tr>\n",
       "      <th>2</th>\n",
       "      <td>50135.0</td>\n",
       "      <td>3588.0</td>\n",
       "      <td>00603</td>\n",
       "    </tr>\n",
       "    <tr>\n",
       "      <th>3</th>\n",
       "      <td>6304.0</td>\n",
       "      <td>204.0</td>\n",
       "      <td>00606</td>\n",
       "    </tr>\n",
       "    <tr>\n",
       "      <th>4</th>\n",
       "      <td>27590.0</td>\n",
       "      <td>1474.0</td>\n",
       "      <td>00610</td>\n",
       "    </tr>\n",
       "  </tbody>\n",
       "</table>\n",
       "</div>"
      ],
      "text/plain": [
       "   B01003_001E  B23025_005E zip code tabulation area\n",
       "0      17599.0       2454.0                    00601\n",
       "1      39209.0       2538.0                    00602\n",
       "2      50135.0       3588.0                    00603\n",
       "3       6304.0        204.0                    00606\n",
       "4      27590.0       1474.0                    00610"
      ]
     },
     "execution_count": 8,
     "metadata": {},
     "output_type": "execute_result"
    }
   ],
   "source": [
    "_17_pd.head()"
   ]
  },
  {
   "cell_type": "markdown",
   "metadata": {},
   "source": [
    "# T: transform"
   ]
  },
  {
   "cell_type": "code",
   "execution_count": 9,
   "metadata": {},
   "outputs": [],
   "source": [
    "# Column Reordering\n",
    "_17_pd = _17_pd.rename(columns={\"B01003_001E\": \"Population\",\n",
    "                                      \"B23025_005E\": \"Unemployment Count\",\n",
    "                                      \"zip code tabulation area\": \"Zipcode\"})"
   ]
  },
  {
   "cell_type": "code",
   "execution_count": 11,
   "metadata": {},
   "outputs": [
    {
     "data": {
      "text/html": [
       "<div>\n",
       "<style scoped>\n",
       "    .dataframe tbody tr th:only-of-type {\n",
       "        vertical-align: middle;\n",
       "    }\n",
       "\n",
       "    .dataframe tbody tr th {\n",
       "        vertical-align: top;\n",
       "    }\n",
       "\n",
       "    .dataframe thead th {\n",
       "        text-align: right;\n",
       "    }\n",
       "</style>\n",
       "<table border=\"1\" class=\"dataframe\">\n",
       "  <thead>\n",
       "    <tr style=\"text-align: right;\">\n",
       "      <th></th>\n",
       "      <th>Population</th>\n",
       "      <th>Unemployment Count</th>\n",
       "      <th>Zipcode</th>\n",
       "    </tr>\n",
       "  </thead>\n",
       "  <tbody>\n",
       "    <tr>\n",
       "      <th>0</th>\n",
       "      <td>17599.0</td>\n",
       "      <td>2454.0</td>\n",
       "      <td>00601</td>\n",
       "    </tr>\n",
       "    <tr>\n",
       "      <th>1</th>\n",
       "      <td>39209.0</td>\n",
       "      <td>2538.0</td>\n",
       "      <td>00602</td>\n",
       "    </tr>\n",
       "    <tr>\n",
       "      <th>2</th>\n",
       "      <td>50135.0</td>\n",
       "      <td>3588.0</td>\n",
       "      <td>00603</td>\n",
       "    </tr>\n",
       "    <tr>\n",
       "      <th>3</th>\n",
       "      <td>6304.0</td>\n",
       "      <td>204.0</td>\n",
       "      <td>00606</td>\n",
       "    </tr>\n",
       "    <tr>\n",
       "      <th>4</th>\n",
       "      <td>27590.0</td>\n",
       "      <td>1474.0</td>\n",
       "      <td>00610</td>\n",
       "    </tr>\n",
       "  </tbody>\n",
       "</table>\n",
       "</div>"
      ],
      "text/plain": [
       "   Population  Unemployment Count Zipcode\n",
       "0     17599.0              2454.0   00601\n",
       "1     39209.0              2538.0   00602\n",
       "2     50135.0              3588.0   00603\n",
       "3      6304.0               204.0   00606\n",
       "4     27590.0              1474.0   00610"
      ]
     },
     "execution_count": 11,
     "metadata": {},
     "output_type": "execute_result"
    }
   ],
   "source": [
    "_17_pd.head()"
   ]
  },
  {
   "cell_type": "code",
   "execution_count": 12,
   "metadata": {},
   "outputs": [],
   "source": [
    "# Add Employment Rate\n",
    "\n",
    "_17_pd[\"Unemployment Rate\"] = 100 * \\\n",
    "    _17_pd[\"Unemployment Count\"].astype(\n",
    "        int) / _17_pd[\"Population\"].astype(int)"
   ]
  },
  {
   "cell_type": "code",
   "execution_count": 13,
   "metadata": {},
   "outputs": [
    {
     "data": {
      "text/html": [
       "<div>\n",
       "<style scoped>\n",
       "    .dataframe tbody tr th:only-of-type {\n",
       "        vertical-align: middle;\n",
       "    }\n",
       "\n",
       "    .dataframe tbody tr th {\n",
       "        vertical-align: top;\n",
       "    }\n",
       "\n",
       "    .dataframe thead th {\n",
       "        text-align: right;\n",
       "    }\n",
       "</style>\n",
       "<table border=\"1\" class=\"dataframe\">\n",
       "  <thead>\n",
       "    <tr style=\"text-align: right;\">\n",
       "      <th></th>\n",
       "      <th>Population</th>\n",
       "      <th>Unemployment Count</th>\n",
       "      <th>Zipcode</th>\n",
       "      <th>Unemployment Rate</th>\n",
       "    </tr>\n",
       "  </thead>\n",
       "  <tbody>\n",
       "    <tr>\n",
       "      <th>0</th>\n",
       "      <td>17599.0</td>\n",
       "      <td>2454.0</td>\n",
       "      <td>00601</td>\n",
       "      <td>13.943974</td>\n",
       "    </tr>\n",
       "    <tr>\n",
       "      <th>1</th>\n",
       "      <td>39209.0</td>\n",
       "      <td>2538.0</td>\n",
       "      <td>00602</td>\n",
       "      <td>6.473004</td>\n",
       "    </tr>\n",
       "    <tr>\n",
       "      <th>2</th>\n",
       "      <td>50135.0</td>\n",
       "      <td>3588.0</td>\n",
       "      <td>00603</td>\n",
       "      <td>7.156677</td>\n",
       "    </tr>\n",
       "    <tr>\n",
       "      <th>3</th>\n",
       "      <td>6304.0</td>\n",
       "      <td>204.0</td>\n",
       "      <td>00606</td>\n",
       "      <td>3.236041</td>\n",
       "    </tr>\n",
       "    <tr>\n",
       "      <th>4</th>\n",
       "      <td>27590.0</td>\n",
       "      <td>1474.0</td>\n",
       "      <td>00610</td>\n",
       "      <td>5.342515</td>\n",
       "    </tr>\n",
       "  </tbody>\n",
       "</table>\n",
       "</div>"
      ],
      "text/plain": [
       "   Population  Unemployment Count Zipcode  Unemployment Rate\n",
       "0     17599.0              2454.0   00601          13.943974\n",
       "1     39209.0              2538.0   00602           6.473004\n",
       "2     50135.0              3588.0   00603           7.156677\n",
       "3      6304.0               204.0   00606           3.236041\n",
       "4     27590.0              1474.0   00610           5.342515"
      ]
     },
     "execution_count": 13,
     "metadata": {},
     "output_type": "execute_result"
    }
   ],
   "source": [
    "_17_pd.head()"
   ]
  },
  {
   "cell_type": "code",
   "execution_count": 14,
   "metadata": {},
   "outputs": [],
   "source": [
    "_17_pd = _17_pd[[\"Zipcode\", \"Population\",\"Unemployment Count\", \"Unemployment Rate\"]]"
   ]
  },
  {
   "cell_type": "code",
   "execution_count": 15,
   "metadata": {},
   "outputs": [
    {
     "data": {
      "text/html": [
       "<div>\n",
       "<style scoped>\n",
       "    .dataframe tbody tr th:only-of-type {\n",
       "        vertical-align: middle;\n",
       "    }\n",
       "\n",
       "    .dataframe tbody tr th {\n",
       "        vertical-align: top;\n",
       "    }\n",
       "\n",
       "    .dataframe thead th {\n",
       "        text-align: right;\n",
       "    }\n",
       "</style>\n",
       "<table border=\"1\" class=\"dataframe\">\n",
       "  <thead>\n",
       "    <tr style=\"text-align: right;\">\n",
       "      <th></th>\n",
       "      <th>Zipcode</th>\n",
       "      <th>Population</th>\n",
       "      <th>Unemployment Count</th>\n",
       "      <th>Unemployment Rate</th>\n",
       "    </tr>\n",
       "  </thead>\n",
       "  <tbody>\n",
       "    <tr>\n",
       "      <th>0</th>\n",
       "      <td>00601</td>\n",
       "      <td>17599.0</td>\n",
       "      <td>2454.0</td>\n",
       "      <td>13.943974</td>\n",
       "    </tr>\n",
       "    <tr>\n",
       "      <th>1</th>\n",
       "      <td>00602</td>\n",
       "      <td>39209.0</td>\n",
       "      <td>2538.0</td>\n",
       "      <td>6.473004</td>\n",
       "    </tr>\n",
       "    <tr>\n",
       "      <th>2</th>\n",
       "      <td>00603</td>\n",
       "      <td>50135.0</td>\n",
       "      <td>3588.0</td>\n",
       "      <td>7.156677</td>\n",
       "    </tr>\n",
       "    <tr>\n",
       "      <th>3</th>\n",
       "      <td>00606</td>\n",
       "      <td>6304.0</td>\n",
       "      <td>204.0</td>\n",
       "      <td>3.236041</td>\n",
       "    </tr>\n",
       "    <tr>\n",
       "      <th>4</th>\n",
       "      <td>00610</td>\n",
       "      <td>27590.0</td>\n",
       "      <td>1474.0</td>\n",
       "      <td>5.342515</td>\n",
       "    </tr>\n",
       "  </tbody>\n",
       "</table>\n",
       "</div>"
      ],
      "text/plain": [
       "  Zipcode  Population  Unemployment Count  Unemployment Rate\n",
       "0   00601     17599.0              2454.0          13.943974\n",
       "1   00602     39209.0              2538.0           6.473004\n",
       "2   00603     50135.0              3588.0           7.156677\n",
       "3   00606      6304.0               204.0           3.236041\n",
       "4   00610     27590.0              1474.0           5.342515"
      ]
     },
     "execution_count": 15,
     "metadata": {},
     "output_type": "execute_result"
    }
   ],
   "source": [
    "_17_pd.head()"
   ]
  },
  {
   "cell_type": "code",
   "execution_count": null,
   "metadata": {},
   "outputs": [],
   "source": [
    "_17_pd.head()"
   ]
  },
  {
   "cell_type": "markdown",
   "metadata": {},
   "source": [
    "# L:  load\n",
    "-----------------------------------------------\n",
    "* Save df to csv format"
   ]
  },
  {
   "cell_type": "code",
   "execution_count": 18,
   "metadata": {},
   "outputs": [],
   "source": [
    "_17_pd.to_csv(\"Resources/censusZips2017.csv\", index=False)\n"
   ]
  },
  {
   "cell_type": "markdown",
   "metadata": {},
   "source": [
    "### Create mongodb DATABASE \n",
    "* This DB will hold 2 tables: census and yelp"
   ]
  },
  {
   "cell_type": "code",
   "execution_count": 66,
   "metadata": {},
   "outputs": [],
   "source": [
    "import pymongo"
   ]
  },
  {
   "cell_type": "code",
   "execution_count": 67,
   "metadata": {},
   "outputs": [],
   "source": [
    "# Setup connection to mongodb\n",
    "conn = \"mongodb://localhost:27017\"\n",
    "client = pymongo.MongoClient(conn)"
   ]
  },
  {
   "cell_type": "code",
   "execution_count": 70,
   "metadata": {},
   "outputs": [],
   "source": [
    "# Create  database \n",
    "db = client.census_yelp"
   ]
  },
  {
   "cell_type": "markdown",
   "metadata": {},
   "source": [
    "### Create census collection"
   ]
  },
  {
   "cell_type": "code",
   "execution_count": 70,
   "metadata": {},
   "outputs": [],
   "source": [
    "census_collection = db.census_zips_2017"
   ]
  },
  {
   "cell_type": "code",
   "execution_count": 71,
   "metadata": {},
   "outputs": [],
   "source": [
    "censusDict = _17_pd.to_dict(orient='records')"
   ]
  },
  {
   "cell_type": "code",
   "execution_count": 72,
   "metadata": {},
   "outputs": [
    {
     "data": {
      "text/plain": [
       "<pymongo.results.InsertManyResult at 0x11a1abb48>"
      ]
     },
     "execution_count": 72,
     "metadata": {},
     "output_type": "execute_result"
    }
   ],
   "source": [
    "census_collection.insert_many(censusDict)"
   ]
  },
  {
   "cell_type": "code",
   "execution_count": 91,
   "metadata": {},
   "outputs": [
    {
     "data": {
      "text/plain": [
       "<pymongo.cursor.Cursor at 0x1185f16a0>"
      ]
     },
     "execution_count": 91,
     "metadata": {},
     "output_type": "execute_result"
    }
   ],
   "source": [
    "# test query mongo db\n",
    "census_query = census_collection.find()\n",
    "census_query"
   ]
  },
  {
   "cell_type": "code",
   "execution_count": 92,
   "metadata": {},
   "outputs": [
    {
     "name": "stdout",
     "output_type": "stream",
     "text": [
      "\n",
      "{'_id': ObjectId('5ce06ddbbe1a7737c6489894'), 'Zipcode': '00601', 'Population': 17599.0, 'Unemployment Count': 2454.0, 'Unemployment Rate': 13.9439740894369}\n",
      "\n",
      "{'_id': ObjectId('5ce06ddbbe1a7737c6489895'), 'Zipcode': '00602', 'Population': 39209.0, 'Unemployment Count': 2538.0, 'Unemployment Rate': 6.473003647121835}\n"
     ]
    }
   ],
   "source": [
    "for result in census_query[:2]:\n",
    "    print()\n",
    "    print(result)"
   ]
  },
  {
   "cell_type": "code",
   "execution_count": null,
   "metadata": {},
   "outputs": [],
   "source": []
  },
  {
   "cell_type": "markdown",
   "metadata": {},
   "source": [
    "### Create Yelp Collection"
   ]
  },
  {
   "cell_type": "code",
   "execution_count": 82,
   "metadata": {},
   "outputs": [],
   "source": [
    "#Import Yelp data from csv file into pandas\n",
    "yelp_data = pd.read_csv(\n",
    "    \"Resources/la_yelp_1000.csv\", dtype=\"object\", encoding=\"utf-8\")"
   ]
  },
  {
   "cell_type": "code",
   "execution_count": 83,
   "metadata": {},
   "outputs": [],
   "source": [
    "# Create Yelp collection to add to census_yelp mongo db\n",
    "yelp_collection = db.yelp_biz_profiles"
   ]
  },
  {
   "cell_type": "code",
   "execution_count": 84,
   "metadata": {},
   "outputs": [],
   "source": [
    "# transform/prepare  yelp_data data into a dictionary to load onto mongo\n",
    "yelpDict = yelp_data.to_dict(orient='records')"
   ]
  },
  {
   "cell_type": "code",
   "execution_count": 85,
   "metadata": {},
   "outputs": [
    {
     "data": {
      "text/plain": [
       "<pymongo.results.InsertManyResult at 0x11a5b9948>"
      ]
     },
     "execution_count": 85,
     "metadata": {},
     "output_type": "execute_result"
    }
   ],
   "source": [
    "yelp_collection.insert_many(yelpDict)"
   ]
  },
  {
   "cell_type": "code",
   "execution_count": 89,
   "metadata": {},
   "outputs": [
    {
     "data": {
      "text/plain": [
       "<pymongo.cursor.Cursor at 0x119f83d68>"
      ]
     },
     "execution_count": 89,
     "metadata": {},
     "output_type": "execute_result"
    }
   ],
   "source": [
    "# test query mongo db\n",
    "yelp_query = yelp_collection.find()\n",
    "yelp_query"
   ]
  },
  {
   "cell_type": "code",
   "execution_count": 90,
   "metadata": {},
   "outputs": [
    {
     "name": "stdout",
     "output_type": "stream",
     "text": [
      "\n",
      "{'_id': ObjectId('5ce06ffbbe1a7737c64919f4'), 'id': 'TkFEKhsCixPWlShULKvMdQ', 'alias': 'bottega-louie-los-angeles', 'name': 'Bottega Louie', 'categories': 'Italian, Bakeries, Breakfast & Brunch', 'review_count': '16243', 'rating': '4.0', 'lat': '34.0469300995766', 'long': '-118.256601457672', 'address': '700 S Grand Ave Los Angeles, CA 90017', 'city': 'Los Angeles', 'zip_code': '90017', 'country': 'US', 'state': 'CA', 'phone': '+12138021470'}\n",
      "\n",
      "{'_id': ObjectId('5ce06ffbbe1a7737c64919f5'), 'id': '7O1ORGY36A-2aIENyaJWPg', 'alias': 'howlin-rays-los-angeles-3', 'name': \"Howlin' Ray's\", 'categories': 'Southern, Chicken Shop, American (Traditional)', 'review_count': '5044', 'rating': '4.5', 'lat': '34.0614861063899', 'long': '-118.239554800093', 'address': '727 N Broadway Ste 128 Los Angeles, CA 90012', 'city': 'Los Angeles', 'zip_code': '90012', 'country': 'US', 'state': 'CA', 'phone': '+12139358399'}\n"
     ]
    }
   ],
   "source": [
    "# Test query the yelp collenction\n",
    "for result in yelp_query[:2]:\n",
    "    print()\n",
    "    print(result)"
   ]
  },
  {
   "cell_type": "code",
   "execution_count": null,
   "metadata": {},
   "outputs": [],
   "source": []
  },
  {
   "cell_type": "markdown",
   "metadata": {},
   "source": [
    "### Example Using  SQL database from  Dataframe: 1 table"
   ]
  },
  {
   "cell_type": "code",
   "execution_count": 108,
   "metadata": {},
   "outputs": [],
   "source": [
    "from sqlalchemy import create_engine"
   ]
  },
  {
   "cell_type": "code",
   "execution_count": 109,
   "metadata": {},
   "outputs": [],
   "source": [
    "database_path = \"Resources/us_census.sqlite\""
   ]
  },
  {
   "cell_type": "code",
   "execution_count": 110,
   "metadata": {},
   "outputs": [],
   "source": [
    "engine = create_engine(f\"sqlite:///{database_path}\")"
   ]
  },
  {
   "cell_type": "code",
   "execution_count": 115,
   "metadata": {},
   "outputs": [
    {
     "data": {
      "text/plain": [
       "[]"
      ]
     },
     "execution_count": 115,
     "metadata": {},
     "output_type": "execute_result"
    }
   ],
   "source": [
    "engine.table_names()"
   ]
  },
  {
   "cell_type": "code",
   "execution_count": 116,
   "metadata": {},
   "outputs": [],
   "source": [
    "_17_pd.to_sql(name='us_census_zips', con=engine, if_exists='append', index=False)"
   ]
  },
  {
   "cell_type": "code",
   "execution_count": 117,
   "metadata": {},
   "outputs": [
    {
     "data": {
      "text/plain": [
       "['us_census_zips']"
      ]
     },
     "execution_count": 117,
     "metadata": {},
     "output_type": "execute_result"
    }
   ],
   "source": [
    "engine.table_names()"
   ]
  },
  {
   "cell_type": "code",
   "execution_count": 119,
   "metadata": {},
   "outputs": [
    {
     "data": {
      "text/html": [
       "<div>\n",
       "<style scoped>\n",
       "    .dataframe tbody tr th:only-of-type {\n",
       "        vertical-align: middle;\n",
       "    }\n",
       "\n",
       "    .dataframe tbody tr th {\n",
       "        vertical-align: top;\n",
       "    }\n",
       "\n",
       "    .dataframe thead th {\n",
       "        text-align: right;\n",
       "    }\n",
       "</style>\n",
       "<table border=\"1\" class=\"dataframe\">\n",
       "  <thead>\n",
       "    <tr style=\"text-align: right;\">\n",
       "      <th></th>\n",
       "      <th>Zipcode</th>\n",
       "      <th>Population</th>\n",
       "      <th>Unemployment Count</th>\n",
       "      <th>Unemployment Rate</th>\n",
       "    </tr>\n",
       "  </thead>\n",
       "  <tbody>\n",
       "    <tr>\n",
       "      <th>0</th>\n",
       "      <td>00601</td>\n",
       "      <td>17599.0</td>\n",
       "      <td>2454.0</td>\n",
       "      <td>13.943974</td>\n",
       "    </tr>\n",
       "    <tr>\n",
       "      <th>1</th>\n",
       "      <td>00602</td>\n",
       "      <td>39209.0</td>\n",
       "      <td>2538.0</td>\n",
       "      <td>6.473004</td>\n",
       "    </tr>\n",
       "    <tr>\n",
       "      <th>2</th>\n",
       "      <td>00603</td>\n",
       "      <td>50135.0</td>\n",
       "      <td>3588.0</td>\n",
       "      <td>7.156677</td>\n",
       "    </tr>\n",
       "    <tr>\n",
       "      <th>3</th>\n",
       "      <td>00606</td>\n",
       "      <td>6304.0</td>\n",
       "      <td>204.0</td>\n",
       "      <td>3.236041</td>\n",
       "    </tr>\n",
       "    <tr>\n",
       "      <th>4</th>\n",
       "      <td>00610</td>\n",
       "      <td>27590.0</td>\n",
       "      <td>1474.0</td>\n",
       "      <td>5.342515</td>\n",
       "    </tr>\n",
       "  </tbody>\n",
       "</table>\n",
       "</div>"
      ],
      "text/plain": [
       "  Zipcode  Population  Unemployment Count  Unemployment Rate\n",
       "0   00601     17599.0              2454.0          13.943974\n",
       "1   00602     39209.0              2538.0           6.473004\n",
       "2   00603     50135.0              3588.0           7.156677\n",
       "3   00606      6304.0               204.0           3.236041\n",
       "4   00610     27590.0              1474.0           5.342515"
      ]
     },
     "execution_count": 119,
     "metadata": {},
     "output_type": "execute_result"
    }
   ],
   "source": [
    "pd.read_sql_query('select * from us_census_zips', con=engine).head()"
   ]
  },
  {
   "cell_type": "markdown",
   "metadata": {},
   "source": [
    "### Test Query the biz_profile table"
   ]
  },
  {
   "cell_type": "code",
   "execution_count": 118,
   "metadata": {},
   "outputs": [
    {
     "data": {
      "text/html": [
       "<div>\n",
       "<style scoped>\n",
       "    .dataframe tbody tr th:only-of-type {\n",
       "        vertical-align: middle;\n",
       "    }\n",
       "\n",
       "    .dataframe tbody tr th {\n",
       "        vertical-align: top;\n",
       "    }\n",
       "\n",
       "    .dataframe thead th {\n",
       "        text-align: right;\n",
       "    }\n",
       "</style>\n",
       "<table border=\"1\" class=\"dataframe\">\n",
       "  <thead>\n",
       "    <tr style=\"text-align: right;\">\n",
       "      <th></th>\n",
       "      <th>Zipcode</th>\n",
       "      <th>Population</th>\n",
       "      <th>Unemployment Count</th>\n",
       "      <th>Unemployment Rate</th>\n",
       "    </tr>\n",
       "  </thead>\n",
       "  <tbody>\n",
       "    <tr>\n",
       "      <th>0</th>\n",
       "      <td>00601</td>\n",
       "      <td>17599.0</td>\n",
       "      <td>2454.0</td>\n",
       "      <td>13.943974</td>\n",
       "    </tr>\n",
       "    <tr>\n",
       "      <th>1</th>\n",
       "      <td>00602</td>\n",
       "      <td>39209.0</td>\n",
       "      <td>2538.0</td>\n",
       "      <td>6.473004</td>\n",
       "    </tr>\n",
       "    <tr>\n",
       "      <th>2</th>\n",
       "      <td>00603</td>\n",
       "      <td>50135.0</td>\n",
       "      <td>3588.0</td>\n",
       "      <td>7.156677</td>\n",
       "    </tr>\n",
       "    <tr>\n",
       "      <th>3</th>\n",
       "      <td>00606</td>\n",
       "      <td>6304.0</td>\n",
       "      <td>204.0</td>\n",
       "      <td>3.236041</td>\n",
       "    </tr>\n",
       "    <tr>\n",
       "      <th>4</th>\n",
       "      <td>00610</td>\n",
       "      <td>27590.0</td>\n",
       "      <td>1474.0</td>\n",
       "      <td>5.342515</td>\n",
       "    </tr>\n",
       "  </tbody>\n",
       "</table>\n",
       "</div>"
      ],
      "text/plain": [
       "  Zipcode  Population  Unemployment Count  Unemployment Rate\n",
       "0   00601     17599.0              2454.0          13.943974\n",
       "1   00602     39209.0              2538.0           6.473004\n",
       "2   00603     50135.0              3588.0           7.156677\n",
       "3   00606      6304.0               204.0           3.236041\n",
       "4   00610     27590.0              1474.0           5.342515"
      ]
     },
     "execution_count": 118,
     "metadata": {},
     "output_type": "execute_result"
    }
   ],
   "source": [
    "pd.read_sql_query('select * from us_census_zips', con=engine).head()"
   ]
  },
  {
   "cell_type": "code",
   "execution_count": null,
   "metadata": {},
   "outputs": [],
   "source": []
  },
  {
   "cell_type": "markdown",
   "metadata": {},
   "source": [
    "## Combine Yelp and Census Data"
   ]
  },
  {
   "cell_type": "code",
   "execution_count": 41,
   "metadata": {},
   "outputs": [],
   "source": [
    "#Import Yelp data from csv file into pandas\n",
    "yelp_data = pd.read_csv(\n",
    "    \"Resources/la_yelp_1000.csv\", dtype=\"object\", encoding=\"utf-8\")"
   ]
  },
  {
   "cell_type": "code",
   "execution_count": null,
   "metadata": {},
   "outputs": [],
   "source": []
  },
  {
   "cell_type": "code",
   "execution_count": 63,
   "metadata": {},
   "outputs": [
    {
     "data": {
      "text/html": [
       "<div>\n",
       "<style scoped>\n",
       "    .dataframe tbody tr th:only-of-type {\n",
       "        vertical-align: middle;\n",
       "    }\n",
       "\n",
       "    .dataframe tbody tr th {\n",
       "        vertical-align: top;\n",
       "    }\n",
       "\n",
       "    .dataframe thead th {\n",
       "        text-align: right;\n",
       "    }\n",
       "</style>\n",
       "<table border=\"1\" class=\"dataframe\">\n",
       "  <thead>\n",
       "    <tr style=\"text-align: right;\">\n",
       "      <th></th>\n",
       "      <th>id</th>\n",
       "      <th>alias</th>\n",
       "      <th>name</th>\n",
       "      <th>categories</th>\n",
       "      <th>review_count</th>\n",
       "      <th>rating</th>\n",
       "      <th>lat</th>\n",
       "      <th>long</th>\n",
       "      <th>address</th>\n",
       "      <th>city</th>\n",
       "      <th>Zipcode</th>\n",
       "      <th>country</th>\n",
       "      <th>state</th>\n",
       "      <th>phone</th>\n",
       "    </tr>\n",
       "  </thead>\n",
       "  <tbody>\n",
       "    <tr>\n",
       "      <th>0</th>\n",
       "      <td>TkFEKhsCixPWlShULKvMdQ</td>\n",
       "      <td>bottega-louie-los-angeles</td>\n",
       "      <td>Bottega Louie</td>\n",
       "      <td>Italian, Bakeries, Breakfast &amp; Brunch</td>\n",
       "      <td>16243</td>\n",
       "      <td>4.0</td>\n",
       "      <td>34.0469300995766</td>\n",
       "      <td>-118.256601457672</td>\n",
       "      <td>700 S Grand Ave Los Angeles, CA 90017</td>\n",
       "      <td>Los Angeles</td>\n",
       "      <td>90017</td>\n",
       "      <td>US</td>\n",
       "      <td>CA</td>\n",
       "      <td>+12138021470</td>\n",
       "    </tr>\n",
       "    <tr>\n",
       "      <th>1</th>\n",
       "      <td>7O1ORGY36A-2aIENyaJWPg</td>\n",
       "      <td>howlin-rays-los-angeles-3</td>\n",
       "      <td>Howlin' Ray's</td>\n",
       "      <td>Southern, Chicken Shop, American (Traditional)</td>\n",
       "      <td>5037</td>\n",
       "      <td>4.5</td>\n",
       "      <td>34.0614861063899</td>\n",
       "      <td>-118.239554800093</td>\n",
       "      <td>727 N Broadway Ste 128 Los Angeles, CA 90012</td>\n",
       "      <td>Los Angeles</td>\n",
       "      <td>90012</td>\n",
       "      <td>US</td>\n",
       "      <td>CA</td>\n",
       "      <td>+12139358399</td>\n",
       "    </tr>\n",
       "    <tr>\n",
       "      <th>2</th>\n",
       "      <td>KQBGm5G8IDkE8LeNY45mbA</td>\n",
       "      <td>wurstküche-los-angeles-2</td>\n",
       "      <td>Wurstküche</td>\n",
       "      <td>Hot Dogs, German, Gastropubs</td>\n",
       "      <td>8058</td>\n",
       "      <td>4.0</td>\n",
       "      <td>34.0456047058105</td>\n",
       "      <td>-118.236061096191</td>\n",
       "      <td>800 E 3rd St Los Angeles, CA 90013</td>\n",
       "      <td>Los Angeles</td>\n",
       "      <td>90013</td>\n",
       "      <td>US</td>\n",
       "      <td>CA</td>\n",
       "      <td>+12136874444</td>\n",
       "    </tr>\n",
       "    <tr>\n",
       "      <th>3</th>\n",
       "      <td>iSZpZgVnASwEmlq0DORY2A</td>\n",
       "      <td>daikokuya-little-tokyo-los-angeles</td>\n",
       "      <td>Daikokuya Little Tokyo</td>\n",
       "      <td>Ramen, Noodles</td>\n",
       "      <td>8122</td>\n",
       "      <td>4.0</td>\n",
       "      <td>34.05008090944</td>\n",
       "      <td>-118.2401804513</td>\n",
       "      <td>327 E 1st St Los Angeles, CA 90012</td>\n",
       "      <td>Los Angeles</td>\n",
       "      <td>90012</td>\n",
       "      <td>US</td>\n",
       "      <td>CA</td>\n",
       "      <td>+12136261680</td>\n",
       "    </tr>\n",
       "    <tr>\n",
       "      <th>4</th>\n",
       "      <td>DJek3FUewBzMc0gS-Gms9w</td>\n",
       "      <td>the-morrison-los-angeles</td>\n",
       "      <td>The Morrison</td>\n",
       "      <td>Gastropubs, Burgers, Bars</td>\n",
       "      <td>4072</td>\n",
       "      <td>4.5</td>\n",
       "      <td>34.12384</td>\n",
       "      <td>-118.26868</td>\n",
       "      <td>3179 Los Feliz Blvd Los Angeles, CA 90039</td>\n",
       "      <td>Los Angeles</td>\n",
       "      <td>90039</td>\n",
       "      <td>US</td>\n",
       "      <td>CA</td>\n",
       "      <td>+13236671839</td>\n",
       "    </tr>\n",
       "  </tbody>\n",
       "</table>\n",
       "</div>"
      ],
      "text/plain": [
       "                       id                               alias  \\\n",
       "0  TkFEKhsCixPWlShULKvMdQ           bottega-louie-los-angeles   \n",
       "1  7O1ORGY36A-2aIENyaJWPg           howlin-rays-los-angeles-3   \n",
       "2  KQBGm5G8IDkE8LeNY45mbA            wurstküche-los-angeles-2   \n",
       "3  iSZpZgVnASwEmlq0DORY2A  daikokuya-little-tokyo-los-angeles   \n",
       "4  DJek3FUewBzMc0gS-Gms9w            the-morrison-los-angeles   \n",
       "\n",
       "                     name                                      categories  \\\n",
       "0           Bottega Louie           Italian, Bakeries, Breakfast & Brunch   \n",
       "1           Howlin' Ray's  Southern, Chicken Shop, American (Traditional)   \n",
       "2              Wurstküche                    Hot Dogs, German, Gastropubs   \n",
       "3  Daikokuya Little Tokyo                                  Ramen, Noodles   \n",
       "4            The Morrison                       Gastropubs, Burgers, Bars   \n",
       "\n",
       "  review_count rating               lat               long  \\\n",
       "0        16243    4.0  34.0469300995766  -118.256601457672   \n",
       "1         5037    4.5  34.0614861063899  -118.239554800093   \n",
       "2         8058    4.0  34.0456047058105  -118.236061096191   \n",
       "3         8122    4.0    34.05008090944    -118.2401804513   \n",
       "4         4072    4.5          34.12384         -118.26868   \n",
       "\n",
       "                                        address         city Zipcode country  \\\n",
       "0         700 S Grand Ave Los Angeles, CA 90017  Los Angeles   90017      US   \n",
       "1  727 N Broadway Ste 128 Los Angeles, CA 90012  Los Angeles   90012      US   \n",
       "2            800 E 3rd St Los Angeles, CA 90013  Los Angeles   90013      US   \n",
       "3            327 E 1st St Los Angeles, CA 90012  Los Angeles   90012      US   \n",
       "4     3179 Los Feliz Blvd Los Angeles, CA 90039  Los Angeles   90039      US   \n",
       "\n",
       "  state         phone  \n",
       "0    CA  +12138021470  \n",
       "1    CA  +12139358399  \n",
       "2    CA  +12136874444  \n",
       "3    CA  +12136261680  \n",
       "4    CA  +13236671839  "
      ]
     },
     "execution_count": 63,
     "metadata": {},
     "output_type": "execute_result"
    }
   ],
   "source": [
    "yelp_data.head()"
   ]
  },
  {
   "cell_type": "code",
   "execution_count": 46,
   "metadata": {},
   "outputs": [],
   "source": [
    "yelp_data.rename(columns={\"zip_code\": \"Zipcode\"}, inplace=True)"
   ]
  },
  {
   "cell_type": "code",
   "execution_count": 47,
   "metadata": {},
   "outputs": [
    {
     "data": {
      "text/html": [
       "<div>\n",
       "<style scoped>\n",
       "    .dataframe tbody tr th:only-of-type {\n",
       "        vertical-align: middle;\n",
       "    }\n",
       "\n",
       "    .dataframe tbody tr th {\n",
       "        vertical-align: top;\n",
       "    }\n",
       "\n",
       "    .dataframe thead th {\n",
       "        text-align: right;\n",
       "    }\n",
       "</style>\n",
       "<table border=\"1\" class=\"dataframe\">\n",
       "  <thead>\n",
       "    <tr style=\"text-align: right;\">\n",
       "      <th></th>\n",
       "      <th>id</th>\n",
       "      <th>alias</th>\n",
       "      <th>name</th>\n",
       "      <th>categories</th>\n",
       "      <th>review_count</th>\n",
       "      <th>rating</th>\n",
       "      <th>lat</th>\n",
       "      <th>long</th>\n",
       "      <th>address</th>\n",
       "      <th>city</th>\n",
       "      <th>Zipcode</th>\n",
       "      <th>country</th>\n",
       "      <th>state</th>\n",
       "      <th>phone</th>\n",
       "    </tr>\n",
       "  </thead>\n",
       "  <tbody>\n",
       "    <tr>\n",
       "      <th>0</th>\n",
       "      <td>TkFEKhsCixPWlShULKvMdQ</td>\n",
       "      <td>bottega-louie-los-angeles</td>\n",
       "      <td>Bottega Louie</td>\n",
       "      <td>Italian, Bakeries, Breakfast &amp; Brunch</td>\n",
       "      <td>16243</td>\n",
       "      <td>4.0</td>\n",
       "      <td>34.0469300995766</td>\n",
       "      <td>-118.256601457672</td>\n",
       "      <td>700 S Grand Ave Los Angeles, CA 90017</td>\n",
       "      <td>Los Angeles</td>\n",
       "      <td>90017</td>\n",
       "      <td>US</td>\n",
       "      <td>CA</td>\n",
       "      <td>+12138021470</td>\n",
       "    </tr>\n",
       "    <tr>\n",
       "      <th>1</th>\n",
       "      <td>7O1ORGY36A-2aIENyaJWPg</td>\n",
       "      <td>howlin-rays-los-angeles-3</td>\n",
       "      <td>Howlin' Ray's</td>\n",
       "      <td>Southern, Chicken Shop, American (Traditional)</td>\n",
       "      <td>5037</td>\n",
       "      <td>4.5</td>\n",
       "      <td>34.0614861063899</td>\n",
       "      <td>-118.239554800093</td>\n",
       "      <td>727 N Broadway Ste 128 Los Angeles, CA 90012</td>\n",
       "      <td>Los Angeles</td>\n",
       "      <td>90012</td>\n",
       "      <td>US</td>\n",
       "      <td>CA</td>\n",
       "      <td>+12139358399</td>\n",
       "    </tr>\n",
       "    <tr>\n",
       "      <th>2</th>\n",
       "      <td>KQBGm5G8IDkE8LeNY45mbA</td>\n",
       "      <td>wurstküche-los-angeles-2</td>\n",
       "      <td>Wurstküche</td>\n",
       "      <td>Hot Dogs, German, Gastropubs</td>\n",
       "      <td>8058</td>\n",
       "      <td>4.0</td>\n",
       "      <td>34.0456047058105</td>\n",
       "      <td>-118.236061096191</td>\n",
       "      <td>800 E 3rd St Los Angeles, CA 90013</td>\n",
       "      <td>Los Angeles</td>\n",
       "      <td>90013</td>\n",
       "      <td>US</td>\n",
       "      <td>CA</td>\n",
       "      <td>+12136874444</td>\n",
       "    </tr>\n",
       "    <tr>\n",
       "      <th>3</th>\n",
       "      <td>iSZpZgVnASwEmlq0DORY2A</td>\n",
       "      <td>daikokuya-little-tokyo-los-angeles</td>\n",
       "      <td>Daikokuya Little Tokyo</td>\n",
       "      <td>Ramen, Noodles</td>\n",
       "      <td>8122</td>\n",
       "      <td>4.0</td>\n",
       "      <td>34.05008090944</td>\n",
       "      <td>-118.2401804513</td>\n",
       "      <td>327 E 1st St Los Angeles, CA 90012</td>\n",
       "      <td>Los Angeles</td>\n",
       "      <td>90012</td>\n",
       "      <td>US</td>\n",
       "      <td>CA</td>\n",
       "      <td>+12136261680</td>\n",
       "    </tr>\n",
       "    <tr>\n",
       "      <th>4</th>\n",
       "      <td>DJek3FUewBzMc0gS-Gms9w</td>\n",
       "      <td>the-morrison-los-angeles</td>\n",
       "      <td>The Morrison</td>\n",
       "      <td>Gastropubs, Burgers, Bars</td>\n",
       "      <td>4072</td>\n",
       "      <td>4.5</td>\n",
       "      <td>34.12384</td>\n",
       "      <td>-118.26868</td>\n",
       "      <td>3179 Los Feliz Blvd Los Angeles, CA 90039</td>\n",
       "      <td>Los Angeles</td>\n",
       "      <td>90039</td>\n",
       "      <td>US</td>\n",
       "      <td>CA</td>\n",
       "      <td>+13236671839</td>\n",
       "    </tr>\n",
       "  </tbody>\n",
       "</table>\n",
       "</div>"
      ],
      "text/plain": [
       "                       id                               alias  \\\n",
       "0  TkFEKhsCixPWlShULKvMdQ           bottega-louie-los-angeles   \n",
       "1  7O1ORGY36A-2aIENyaJWPg           howlin-rays-los-angeles-3   \n",
       "2  KQBGm5G8IDkE8LeNY45mbA            wurstküche-los-angeles-2   \n",
       "3  iSZpZgVnASwEmlq0DORY2A  daikokuya-little-tokyo-los-angeles   \n",
       "4  DJek3FUewBzMc0gS-Gms9w            the-morrison-los-angeles   \n",
       "\n",
       "                     name                                      categories  \\\n",
       "0           Bottega Louie           Italian, Bakeries, Breakfast & Brunch   \n",
       "1           Howlin' Ray's  Southern, Chicken Shop, American (Traditional)   \n",
       "2              Wurstküche                    Hot Dogs, German, Gastropubs   \n",
       "3  Daikokuya Little Tokyo                                  Ramen, Noodles   \n",
       "4            The Morrison                       Gastropubs, Burgers, Bars   \n",
       "\n",
       "  review_count rating               lat               long  \\\n",
       "0        16243    4.0  34.0469300995766  -118.256601457672   \n",
       "1         5037    4.5  34.0614861063899  -118.239554800093   \n",
       "2         8058    4.0  34.0456047058105  -118.236061096191   \n",
       "3         8122    4.0    34.05008090944    -118.2401804513   \n",
       "4         4072    4.5          34.12384         -118.26868   \n",
       "\n",
       "                                        address         city Zipcode country  \\\n",
       "0         700 S Grand Ave Los Angeles, CA 90017  Los Angeles   90017      US   \n",
       "1  727 N Broadway Ste 128 Los Angeles, CA 90012  Los Angeles   90012      US   \n",
       "2            800 E 3rd St Los Angeles, CA 90013  Los Angeles   90013      US   \n",
       "3            327 E 1st St Los Angeles, CA 90012  Los Angeles   90012      US   \n",
       "4     3179 Los Feliz Blvd Los Angeles, CA 90039  Los Angeles   90039      US   \n",
       "\n",
       "  state         phone  \n",
       "0    CA  +12138021470  \n",
       "1    CA  +12139358399  \n",
       "2    CA  +12136874444  \n",
       "3    CA  +12136261680  \n",
       "4    CA  +13236671839  "
      ]
     },
     "execution_count": 47,
     "metadata": {},
     "output_type": "execute_result"
    }
   ],
   "source": [
    "yelp_data.head()"
   ]
  },
  {
   "cell_type": "markdown",
   "metadata": {},
   "source": [
    "## Merge the two data sets on zip code"
   ]
  },
  {
   "cell_type": "code",
   "execution_count": 48,
   "metadata": {},
   "outputs": [],
   "source": [
    "yelp_census_combined = pd.merge(\n",
    "    yelp_data, _17_pd, how=\"left\", on=[\"Zipcode\", \"Zipcode\"])"
   ]
  },
  {
   "cell_type": "code",
   "execution_count": 64,
   "metadata": {},
   "outputs": [
    {
     "data": {
      "text/html": [
       "<div>\n",
       "<style scoped>\n",
       "    .dataframe tbody tr th:only-of-type {\n",
       "        vertical-align: middle;\n",
       "    }\n",
       "\n",
       "    .dataframe tbody tr th {\n",
       "        vertical-align: top;\n",
       "    }\n",
       "\n",
       "    .dataframe thead th {\n",
       "        text-align: right;\n",
       "    }\n",
       "</style>\n",
       "<table border=\"1\" class=\"dataframe\">\n",
       "  <thead>\n",
       "    <tr style=\"text-align: right;\">\n",
       "      <th></th>\n",
       "      <th>id</th>\n",
       "      <th>alias</th>\n",
       "      <th>name</th>\n",
       "      <th>categories</th>\n",
       "      <th>review_count</th>\n",
       "      <th>rating</th>\n",
       "      <th>lat</th>\n",
       "      <th>long</th>\n",
       "      <th>address</th>\n",
       "      <th>city</th>\n",
       "      <th>Zipcode</th>\n",
       "      <th>country</th>\n",
       "      <th>state</th>\n",
       "      <th>phone</th>\n",
       "      <th>Population</th>\n",
       "      <th>Unemployment Count</th>\n",
       "      <th>Unemployment Rate</th>\n",
       "    </tr>\n",
       "  </thead>\n",
       "  <tbody>\n",
       "    <tr>\n",
       "      <th>0</th>\n",
       "      <td>TkFEKhsCixPWlShULKvMdQ</td>\n",
       "      <td>bottega-louie-los-angeles</td>\n",
       "      <td>Bottega Louie</td>\n",
       "      <td>Italian, Bakeries, Breakfast &amp; Brunch</td>\n",
       "      <td>16243</td>\n",
       "      <td>4.0</td>\n",
       "      <td>34.0469300995766</td>\n",
       "      <td>-118.256601457672</td>\n",
       "      <td>700 S Grand Ave Los Angeles, CA 90017</td>\n",
       "      <td>Los Angeles</td>\n",
       "      <td>90017</td>\n",
       "      <td>US</td>\n",
       "      <td>CA</td>\n",
       "      <td>+12138021470</td>\n",
       "      <td>26390.0</td>\n",
       "      <td>920.0</td>\n",
       "      <td>3.486169</td>\n",
       "    </tr>\n",
       "    <tr>\n",
       "      <th>1</th>\n",
       "      <td>7O1ORGY36A-2aIENyaJWPg</td>\n",
       "      <td>howlin-rays-los-angeles-3</td>\n",
       "      <td>Howlin' Ray's</td>\n",
       "      <td>Southern, Chicken Shop, American (Traditional)</td>\n",
       "      <td>5037</td>\n",
       "      <td>4.5</td>\n",
       "      <td>34.0614861063899</td>\n",
       "      <td>-118.239554800093</td>\n",
       "      <td>727 N Broadway Ste 128 Los Angeles, CA 90012</td>\n",
       "      <td>Los Angeles</td>\n",
       "      <td>90012</td>\n",
       "      <td>US</td>\n",
       "      <td>CA</td>\n",
       "      <td>+12139358399</td>\n",
       "      <td>33783.0</td>\n",
       "      <td>973.0</td>\n",
       "      <td>2.880147</td>\n",
       "    </tr>\n",
       "    <tr>\n",
       "      <th>2</th>\n",
       "      <td>KQBGm5G8IDkE8LeNY45mbA</td>\n",
       "      <td>wurstküche-los-angeles-2</td>\n",
       "      <td>Wurstküche</td>\n",
       "      <td>Hot Dogs, German, Gastropubs</td>\n",
       "      <td>8058</td>\n",
       "      <td>4.0</td>\n",
       "      <td>34.0456047058105</td>\n",
       "      <td>-118.236061096191</td>\n",
       "      <td>800 E 3rd St Los Angeles, CA 90013</td>\n",
       "      <td>Los Angeles</td>\n",
       "      <td>90013</td>\n",
       "      <td>US</td>\n",
       "      <td>CA</td>\n",
       "      <td>+12136874444</td>\n",
       "      <td>11957.0</td>\n",
       "      <td>817.0</td>\n",
       "      <td>6.832818</td>\n",
       "    </tr>\n",
       "    <tr>\n",
       "      <th>3</th>\n",
       "      <td>iSZpZgVnASwEmlq0DORY2A</td>\n",
       "      <td>daikokuya-little-tokyo-los-angeles</td>\n",
       "      <td>Daikokuya Little Tokyo</td>\n",
       "      <td>Ramen, Noodles</td>\n",
       "      <td>8122</td>\n",
       "      <td>4.0</td>\n",
       "      <td>34.05008090944</td>\n",
       "      <td>-118.2401804513</td>\n",
       "      <td>327 E 1st St Los Angeles, CA 90012</td>\n",
       "      <td>Los Angeles</td>\n",
       "      <td>90012</td>\n",
       "      <td>US</td>\n",
       "      <td>CA</td>\n",
       "      <td>+12136261680</td>\n",
       "      <td>33783.0</td>\n",
       "      <td>973.0</td>\n",
       "      <td>2.880147</td>\n",
       "    </tr>\n",
       "    <tr>\n",
       "      <th>4</th>\n",
       "      <td>DJek3FUewBzMc0gS-Gms9w</td>\n",
       "      <td>the-morrison-los-angeles</td>\n",
       "      <td>The Morrison</td>\n",
       "      <td>Gastropubs, Burgers, Bars</td>\n",
       "      <td>4072</td>\n",
       "      <td>4.5</td>\n",
       "      <td>34.12384</td>\n",
       "      <td>-118.26868</td>\n",
       "      <td>3179 Los Feliz Blvd Los Angeles, CA 90039</td>\n",
       "      <td>Los Angeles</td>\n",
       "      <td>90039</td>\n",
       "      <td>US</td>\n",
       "      <td>CA</td>\n",
       "      <td>+13236671839</td>\n",
       "      <td>29092.0</td>\n",
       "      <td>1299.0</td>\n",
       "      <td>4.465145</td>\n",
       "    </tr>\n",
       "  </tbody>\n",
       "</table>\n",
       "</div>"
      ],
      "text/plain": [
       "                       id                               alias  \\\n",
       "0  TkFEKhsCixPWlShULKvMdQ           bottega-louie-los-angeles   \n",
       "1  7O1ORGY36A-2aIENyaJWPg           howlin-rays-los-angeles-3   \n",
       "2  KQBGm5G8IDkE8LeNY45mbA            wurstküche-los-angeles-2   \n",
       "3  iSZpZgVnASwEmlq0DORY2A  daikokuya-little-tokyo-los-angeles   \n",
       "4  DJek3FUewBzMc0gS-Gms9w            the-morrison-los-angeles   \n",
       "\n",
       "                     name                                      categories  \\\n",
       "0           Bottega Louie           Italian, Bakeries, Breakfast & Brunch   \n",
       "1           Howlin' Ray's  Southern, Chicken Shop, American (Traditional)   \n",
       "2              Wurstküche                    Hot Dogs, German, Gastropubs   \n",
       "3  Daikokuya Little Tokyo                                  Ramen, Noodles   \n",
       "4            The Morrison                       Gastropubs, Burgers, Bars   \n",
       "\n",
       "  review_count rating               lat               long  \\\n",
       "0        16243    4.0  34.0469300995766  -118.256601457672   \n",
       "1         5037    4.5  34.0614861063899  -118.239554800093   \n",
       "2         8058    4.0  34.0456047058105  -118.236061096191   \n",
       "3         8122    4.0    34.05008090944    -118.2401804513   \n",
       "4         4072    4.5          34.12384         -118.26868   \n",
       "\n",
       "                                        address         city Zipcode country  \\\n",
       "0         700 S Grand Ave Los Angeles, CA 90017  Los Angeles   90017      US   \n",
       "1  727 N Broadway Ste 128 Los Angeles, CA 90012  Los Angeles   90012      US   \n",
       "2            800 E 3rd St Los Angeles, CA 90013  Los Angeles   90013      US   \n",
       "3            327 E 1st St Los Angeles, CA 90012  Los Angeles   90012      US   \n",
       "4     3179 Los Feliz Blvd Los Angeles, CA 90039  Los Angeles   90039      US   \n",
       "\n",
       "  state         phone  Population  Unemployment Count  Unemployment Rate  \n",
       "0    CA  +12138021470     26390.0               920.0           3.486169  \n",
       "1    CA  +12139358399     33783.0               973.0           2.880147  \n",
       "2    CA  +12136874444     11957.0               817.0           6.832818  \n",
       "3    CA  +12136261680     33783.0               973.0           2.880147  \n",
       "4    CA  +13236671839     29092.0              1299.0           4.465145  "
      ]
     },
     "execution_count": 64,
     "metadata": {},
     "output_type": "execute_result"
    }
   ],
   "source": [
    "yelp_census_combined.head()"
   ]
  },
  {
   "cell_type": "code",
   "execution_count": null,
   "metadata": {},
   "outputs": [],
   "source": []
  },
  {
   "cell_type": "markdown",
   "metadata": {},
   "source": [
    "# Save the Combined Data Frame as a csv"
   ]
  },
  {
   "cell_type": "code",
   "execution_count": 50,
   "metadata": {},
   "outputs": [],
   "source": [
    "yelp_census_combined.to_csv(\n",
    "    \"Resources/yelp_census_data.csv\", encoding=\"utf-8\", index=False)"
   ]
  },
  {
   "cell_type": "code",
   "execution_count": 3,
   "metadata": {},
   "outputs": [],
   "source": []
  },
  {
   "cell_type": "code",
   "execution_count": 51,
   "metadata": {},
   "outputs": [
    {
     "data": {
      "text/html": [
       "<div>\n",
       "<style scoped>\n",
       "    .dataframe tbody tr th:only-of-type {\n",
       "        vertical-align: middle;\n",
       "    }\n",
       "\n",
       "    .dataframe tbody tr th {\n",
       "        vertical-align: top;\n",
       "    }\n",
       "\n",
       "    .dataframe thead th {\n",
       "        text-align: right;\n",
       "    }\n",
       "</style>\n",
       "<table border=\"1\" class=\"dataframe\">\n",
       "  <thead>\n",
       "    <tr style=\"text-align: right;\">\n",
       "      <th></th>\n",
       "      <th>id</th>\n",
       "      <th>alias</th>\n",
       "      <th>name</th>\n",
       "      <th>categories</th>\n",
       "      <th>review_count</th>\n",
       "      <th>rating</th>\n",
       "      <th>lat</th>\n",
       "      <th>long</th>\n",
       "      <th>address</th>\n",
       "      <th>city</th>\n",
       "      <th>Zipcode</th>\n",
       "      <th>country</th>\n",
       "      <th>state</th>\n",
       "      <th>phone</th>\n",
       "      <th>Population</th>\n",
       "      <th>Unemployment Count</th>\n",
       "      <th>Unemployment Rate</th>\n",
       "    </tr>\n",
       "  </thead>\n",
       "  <tbody>\n",
       "    <tr>\n",
       "      <th>0</th>\n",
       "      <td>TkFEKhsCixPWlShULKvMdQ</td>\n",
       "      <td>bottega-louie-los-angeles</td>\n",
       "      <td>Bottega Louie</td>\n",
       "      <td>Italian, Bakeries, Breakfast &amp; Brunch</td>\n",
       "      <td>16243</td>\n",
       "      <td>4.0</td>\n",
       "      <td>34.0469300995766</td>\n",
       "      <td>-118.256601457672</td>\n",
       "      <td>700 S Grand Ave Los Angeles, CA 90017</td>\n",
       "      <td>Los Angeles</td>\n",
       "      <td>90017</td>\n",
       "      <td>US</td>\n",
       "      <td>CA</td>\n",
       "      <td>+12138021470</td>\n",
       "      <td>26390.0</td>\n",
       "      <td>920.0</td>\n",
       "      <td>3.486169</td>\n",
       "    </tr>\n",
       "    <tr>\n",
       "      <th>1</th>\n",
       "      <td>7O1ORGY36A-2aIENyaJWPg</td>\n",
       "      <td>howlin-rays-los-angeles-3</td>\n",
       "      <td>Howlin' Ray's</td>\n",
       "      <td>Southern, Chicken Shop, American (Traditional)</td>\n",
       "      <td>5037</td>\n",
       "      <td>4.5</td>\n",
       "      <td>34.0614861063899</td>\n",
       "      <td>-118.239554800093</td>\n",
       "      <td>727 N Broadway Ste 128 Los Angeles, CA 90012</td>\n",
       "      <td>Los Angeles</td>\n",
       "      <td>90012</td>\n",
       "      <td>US</td>\n",
       "      <td>CA</td>\n",
       "      <td>+12139358399</td>\n",
       "      <td>33783.0</td>\n",
       "      <td>973.0</td>\n",
       "      <td>2.880147</td>\n",
       "    </tr>\n",
       "    <tr>\n",
       "      <th>2</th>\n",
       "      <td>KQBGm5G8IDkE8LeNY45mbA</td>\n",
       "      <td>wurstküche-los-angeles-2</td>\n",
       "      <td>Wurstküche</td>\n",
       "      <td>Hot Dogs, German, Gastropubs</td>\n",
       "      <td>8058</td>\n",
       "      <td>4.0</td>\n",
       "      <td>34.0456047058105</td>\n",
       "      <td>-118.236061096191</td>\n",
       "      <td>800 E 3rd St Los Angeles, CA 90013</td>\n",
       "      <td>Los Angeles</td>\n",
       "      <td>90013</td>\n",
       "      <td>US</td>\n",
       "      <td>CA</td>\n",
       "      <td>+12136874444</td>\n",
       "      <td>11957.0</td>\n",
       "      <td>817.0</td>\n",
       "      <td>6.832818</td>\n",
       "    </tr>\n",
       "    <tr>\n",
       "      <th>3</th>\n",
       "      <td>iSZpZgVnASwEmlq0DORY2A</td>\n",
       "      <td>daikokuya-little-tokyo-los-angeles</td>\n",
       "      <td>Daikokuya Little Tokyo</td>\n",
       "      <td>Ramen, Noodles</td>\n",
       "      <td>8122</td>\n",
       "      <td>4.0</td>\n",
       "      <td>34.05008090944</td>\n",
       "      <td>-118.2401804513</td>\n",
       "      <td>327 E 1st St Los Angeles, CA 90012</td>\n",
       "      <td>Los Angeles</td>\n",
       "      <td>90012</td>\n",
       "      <td>US</td>\n",
       "      <td>CA</td>\n",
       "      <td>+12136261680</td>\n",
       "      <td>33783.0</td>\n",
       "      <td>973.0</td>\n",
       "      <td>2.880147</td>\n",
       "    </tr>\n",
       "    <tr>\n",
       "      <th>4</th>\n",
       "      <td>DJek3FUewBzMc0gS-Gms9w</td>\n",
       "      <td>the-morrison-los-angeles</td>\n",
       "      <td>The Morrison</td>\n",
       "      <td>Gastropubs, Burgers, Bars</td>\n",
       "      <td>4072</td>\n",
       "      <td>4.5</td>\n",
       "      <td>34.12384</td>\n",
       "      <td>-118.26868</td>\n",
       "      <td>3179 Los Feliz Blvd Los Angeles, CA 90039</td>\n",
       "      <td>Los Angeles</td>\n",
       "      <td>90039</td>\n",
       "      <td>US</td>\n",
       "      <td>CA</td>\n",
       "      <td>+13236671839</td>\n",
       "      <td>29092.0</td>\n",
       "      <td>1299.0</td>\n",
       "      <td>4.465145</td>\n",
       "    </tr>\n",
       "  </tbody>\n",
       "</table>\n",
       "</div>"
      ],
      "text/plain": [
       "                       id                               alias  \\\n",
       "0  TkFEKhsCixPWlShULKvMdQ           bottega-louie-los-angeles   \n",
       "1  7O1ORGY36A-2aIENyaJWPg           howlin-rays-los-angeles-3   \n",
       "2  KQBGm5G8IDkE8LeNY45mbA            wurstküche-los-angeles-2   \n",
       "3  iSZpZgVnASwEmlq0DORY2A  daikokuya-little-tokyo-los-angeles   \n",
       "4  DJek3FUewBzMc0gS-Gms9w            the-morrison-los-angeles   \n",
       "\n",
       "                     name                                      categories  \\\n",
       "0           Bottega Louie           Italian, Bakeries, Breakfast & Brunch   \n",
       "1           Howlin' Ray's  Southern, Chicken Shop, American (Traditional)   \n",
       "2              Wurstküche                    Hot Dogs, German, Gastropubs   \n",
       "3  Daikokuya Little Tokyo                                  Ramen, Noodles   \n",
       "4            The Morrison                       Gastropubs, Burgers, Bars   \n",
       "\n",
       "  review_count rating               lat               long  \\\n",
       "0        16243    4.0  34.0469300995766  -118.256601457672   \n",
       "1         5037    4.5  34.0614861063899  -118.239554800093   \n",
       "2         8058    4.0  34.0456047058105  -118.236061096191   \n",
       "3         8122    4.0    34.05008090944    -118.2401804513   \n",
       "4         4072    4.5          34.12384         -118.26868   \n",
       "\n",
       "                                        address         city Zipcode country  \\\n",
       "0         700 S Grand Ave Los Angeles, CA 90017  Los Angeles   90017      US   \n",
       "1  727 N Broadway Ste 128 Los Angeles, CA 90012  Los Angeles   90012      US   \n",
       "2            800 E 3rd St Los Angeles, CA 90013  Los Angeles   90013      US   \n",
       "3            327 E 1st St Los Angeles, CA 90012  Los Angeles   90012      US   \n",
       "4     3179 Los Feliz Blvd Los Angeles, CA 90039  Los Angeles   90039      US   \n",
       "\n",
       "  state         phone  Population  Unemployment Count  Unemployment Rate  \n",
       "0    CA  +12138021470     26390.0               920.0           3.486169  \n",
       "1    CA  +12139358399     33783.0               973.0           2.880147  \n",
       "2    CA  +12136874444     11957.0               817.0           6.832818  \n",
       "3    CA  +12136261680     33783.0               973.0           2.880147  \n",
       "4    CA  +13236671839     29092.0              1299.0           4.465145  "
      ]
     },
     "execution_count": 51,
     "metadata": {},
     "output_type": "execute_result"
    }
   ],
   "source": [
    "yelp_census_combined.head()"
   ]
  },
  {
   "cell_type": "code",
   "execution_count": null,
   "metadata": {},
   "outputs": [],
   "source": []
  }
 ],
 "metadata": {
  "kernelspec": {
   "display_name": "Python 3",
   "language": "python",
   "name": "python3"
  },
  "language_info": {
   "codemirror_mode": {
    "name": "ipython",
    "version": 3
   },
   "file_extension": ".py",
   "mimetype": "text/x-python",
   "name": "python",
   "nbconvert_exporter": "python",
   "pygments_lexer": "ipython3",
   "version": "3.7.3"
  }
 },
 "nbformat": 4,
 "nbformat_minor": 2
}
